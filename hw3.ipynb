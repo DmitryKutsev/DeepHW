{
  "nbformat": 4,
  "nbformat_minor": 0,
  "metadata": {
    "colab": {
      "name": "Untitled44.ipynb",
      "provenance": [],
      "authorship_tag": "ABX9TyOUgrQs47Y6n6lvpq5xJ/LL",
      "include_colab_link": true
    },
    "kernelspec": {
      "name": "python3",
      "display_name": "Python 3"
    },
    "accelerator": "GPU"
  },
  "cells": [
    {
      "cell_type": "markdown",
      "metadata": {
        "id": "view-in-github",
        "colab_type": "text"
      },
      "source": [
        "<a href=\"https://colab.research.google.com/github/DmitryKutsev/DeepHW/blob/master/hw3.ipynb\" target=\"_parent\"><img src=\"https://colab.research.google.com/assets/colab-badge.svg\" alt=\"Open In Colab\"/></a>"
      ]
    },
    {
      "cell_type": "code",
      "metadata": {
        "id": "V2CFSkzkOu4D",
        "outputId": "462d87a8-0aa9-4d0f-e928-89ed2e398f9f",
        "colab": {
          "base_uri": "https://localhost:8080/",
          "height": 146
        }
      },
      "source": [
        "!pip install youtokentome"
      ],
      "execution_count": 1,
      "outputs": [
        {
          "output_type": "stream",
          "text": [
            "Collecting youtokentome\n",
            "\u001b[?25l  Downloading https://files.pythonhosted.org/packages/a3/65/4a86cf99da3f680497ae132329025b291e2fda22327e8da6a9476e51acb1/youtokentome-1.0.6-cp36-cp36m-manylinux2010_x86_64.whl (1.7MB)\n",
            "\r\u001b[K     |▏                               | 10kB 22.1MB/s eta 0:00:01\r\u001b[K     |▍                               | 20kB 28.1MB/s eta 0:00:01\r\u001b[K     |▋                               | 30kB 21.6MB/s eta 0:00:01\r\u001b[K     |▊                               | 40kB 19.0MB/s eta 0:00:01\r\u001b[K     |█                               | 51kB 14.7MB/s eta 0:00:01\r\u001b[K     |█▏                              | 61kB 13.4MB/s eta 0:00:01\r\u001b[K     |█▍                              | 71kB 12.3MB/s eta 0:00:01\r\u001b[K     |█▌                              | 81kB 12.2MB/s eta 0:00:01\r\u001b[K     |█▊                              | 92kB 12.4MB/s eta 0:00:01\r\u001b[K     |██                              | 102kB 12.2MB/s eta 0:00:01\r\u001b[K     |██                              | 112kB 12.2MB/s eta 0:00:01\r\u001b[K     |██▎                             | 122kB 12.2MB/s eta 0:00:01\r\u001b[K     |██▌                             | 133kB 12.2MB/s eta 0:00:01\r\u001b[K     |██▊                             | 143kB 12.2MB/s eta 0:00:01\r\u001b[K     |██▉                             | 153kB 12.2MB/s eta 0:00:01\r\u001b[K     |███                             | 163kB 12.2MB/s eta 0:00:01\r\u001b[K     |███▎                            | 174kB 12.2MB/s eta 0:00:01\r\u001b[K     |███▌                            | 184kB 12.2MB/s eta 0:00:01\r\u001b[K     |███▋                            | 194kB 12.2MB/s eta 0:00:01\r\u001b[K     |███▉                            | 204kB 12.2MB/s eta 0:00:01\r\u001b[K     |████                            | 215kB 12.2MB/s eta 0:00:01\r\u001b[K     |████▏                           | 225kB 12.2MB/s eta 0:00:01\r\u001b[K     |████▍                           | 235kB 12.2MB/s eta 0:00:01\r\u001b[K     |████▋                           | 245kB 12.2MB/s eta 0:00:01\r\u001b[K     |████▉                           | 256kB 12.2MB/s eta 0:00:01\r\u001b[K     |█████                           | 266kB 12.2MB/s eta 0:00:01\r\u001b[K     |█████▏                          | 276kB 12.2MB/s eta 0:00:01\r\u001b[K     |█████▍                          | 286kB 12.2MB/s eta 0:00:01\r\u001b[K     |█████▋                          | 296kB 12.2MB/s eta 0:00:01\r\u001b[K     |█████▊                          | 307kB 12.2MB/s eta 0:00:01\r\u001b[K     |██████                          | 317kB 12.2MB/s eta 0:00:01\r\u001b[K     |██████▏                         | 327kB 12.2MB/s eta 0:00:01\r\u001b[K     |██████▎                         | 337kB 12.2MB/s eta 0:00:01\r\u001b[K     |██████▌                         | 348kB 12.2MB/s eta 0:00:01\r\u001b[K     |██████▊                         | 358kB 12.2MB/s eta 0:00:01\r\u001b[K     |███████                         | 368kB 12.2MB/s eta 0:00:01\r\u001b[K     |███████                         | 378kB 12.2MB/s eta 0:00:01\r\u001b[K     |███████▎                        | 389kB 12.2MB/s eta 0:00:01\r\u001b[K     |███████▌                        | 399kB 12.2MB/s eta 0:00:01\r\u001b[K     |███████▋                        | 409kB 12.2MB/s eta 0:00:01\r\u001b[K     |███████▉                        | 419kB 12.2MB/s eta 0:00:01\r\u001b[K     |████████                        | 430kB 12.2MB/s eta 0:00:01\r\u001b[K     |████████▎                       | 440kB 12.2MB/s eta 0:00:01\r\u001b[K     |████████▍                       | 450kB 12.2MB/s eta 0:00:01\r\u001b[K     |████████▋                       | 460kB 12.2MB/s eta 0:00:01\r\u001b[K     |████████▉                       | 471kB 12.2MB/s eta 0:00:01\r\u001b[K     |█████████                       | 481kB 12.2MB/s eta 0:00:01\r\u001b[K     |█████████▏                      | 491kB 12.2MB/s eta 0:00:01\r\u001b[K     |█████████▍                      | 501kB 12.2MB/s eta 0:00:01\r\u001b[K     |█████████▋                      | 512kB 12.2MB/s eta 0:00:01\r\u001b[K     |█████████▊                      | 522kB 12.2MB/s eta 0:00:01\r\u001b[K     |██████████                      | 532kB 12.2MB/s eta 0:00:01\r\u001b[K     |██████████▏                     | 542kB 12.2MB/s eta 0:00:01\r\u001b[K     |██████████▍                     | 552kB 12.2MB/s eta 0:00:01\r\u001b[K     |██████████▌                     | 563kB 12.2MB/s eta 0:00:01\r\u001b[K     |██████████▊                     | 573kB 12.2MB/s eta 0:00:01\r\u001b[K     |███████████                     | 583kB 12.2MB/s eta 0:00:01\r\u001b[K     |███████████▏                    | 593kB 12.2MB/s eta 0:00:01\r\u001b[K     |███████████▎                    | 604kB 12.2MB/s eta 0:00:01\r\u001b[K     |███████████▌                    | 614kB 12.2MB/s eta 0:00:01\r\u001b[K     |███████████▊                    | 624kB 12.2MB/s eta 0:00:01\r\u001b[K     |███████████▉                    | 634kB 12.2MB/s eta 0:00:01\r\u001b[K     |████████████                    | 645kB 12.2MB/s eta 0:00:01\r\u001b[K     |████████████▎                   | 655kB 12.2MB/s eta 0:00:01\r\u001b[K     |████████████▌                   | 665kB 12.2MB/s eta 0:00:01\r\u001b[K     |████████████▋                   | 675kB 12.2MB/s eta 0:00:01\r\u001b[K     |████████████▉                   | 686kB 12.2MB/s eta 0:00:01\r\u001b[K     |█████████████                   | 696kB 12.2MB/s eta 0:00:01\r\u001b[K     |█████████████▏                  | 706kB 12.2MB/s eta 0:00:01\r\u001b[K     |█████████████▍                  | 716kB 12.2MB/s eta 0:00:01\r\u001b[K     |█████████████▋                  | 727kB 12.2MB/s eta 0:00:01\r\u001b[K     |█████████████▉                  | 737kB 12.2MB/s eta 0:00:01\r\u001b[K     |██████████████                  | 747kB 12.2MB/s eta 0:00:01\r\u001b[K     |██████████████▏                 | 757kB 12.2MB/s eta 0:00:01\r\u001b[K     |██████████████▍                 | 768kB 12.2MB/s eta 0:00:01\r\u001b[K     |██████████████▋                 | 778kB 12.2MB/s eta 0:00:01\r\u001b[K     |██████████████▊                 | 788kB 12.2MB/s eta 0:00:01\r\u001b[K     |███████████████                 | 798kB 12.2MB/s eta 0:00:01\r\u001b[K     |███████████████▏                | 808kB 12.2MB/s eta 0:00:01\r\u001b[K     |███████████████▎                | 819kB 12.2MB/s eta 0:00:01\r\u001b[K     |███████████████▌                | 829kB 12.2MB/s eta 0:00:01\r\u001b[K     |███████████████▊                | 839kB 12.2MB/s eta 0:00:01\r\u001b[K     |████████████████                | 849kB 12.2MB/s eta 0:00:01\r\u001b[K     |████████████████                | 860kB 12.2MB/s eta 0:00:01\r\u001b[K     |████████████████▎               | 870kB 12.2MB/s eta 0:00:01\r\u001b[K     |████████████████▌               | 880kB 12.2MB/s eta 0:00:01\r\u001b[K     |████████████████▊               | 890kB 12.2MB/s eta 0:00:01\r\u001b[K     |████████████████▉               | 901kB 12.2MB/s eta 0:00:01\r\u001b[K     |█████████████████               | 911kB 12.2MB/s eta 0:00:01\r\u001b[K     |█████████████████▎              | 921kB 12.2MB/s eta 0:00:01\r\u001b[K     |█████████████████▍              | 931kB 12.2MB/s eta 0:00:01\r\u001b[K     |█████████████████▋              | 942kB 12.2MB/s eta 0:00:01\r\u001b[K     |█████████████████▉              | 952kB 12.2MB/s eta 0:00:01\r\u001b[K     |██████████████████              | 962kB 12.2MB/s eta 0:00:01\r\u001b[K     |██████████████████▏             | 972kB 12.2MB/s eta 0:00:01\r\u001b[K     |██████████████████▍             | 983kB 12.2MB/s eta 0:00:01\r\u001b[K     |██████████████████▋             | 993kB 12.2MB/s eta 0:00:01\r\u001b[K     |██████████████████▉             | 1.0MB 12.2MB/s eta 0:00:01\r\u001b[K     |███████████████████             | 1.0MB 12.2MB/s eta 0:00:01\r\u001b[K     |███████████████████▏            | 1.0MB 12.2MB/s eta 0:00:01\r\u001b[K     |███████████████████▍            | 1.0MB 12.2MB/s eta 0:00:01\r\u001b[K     |███████████████████▌            | 1.0MB 12.2MB/s eta 0:00:01\r\u001b[K     |███████████████████▊            | 1.1MB 12.2MB/s eta 0:00:01\r\u001b[K     |████████████████████            | 1.1MB 12.2MB/s eta 0:00:01\r\u001b[K     |████████████████████▏           | 1.1MB 12.2MB/s eta 0:00:01\r\u001b[K     |████████████████████▎           | 1.1MB 12.2MB/s eta 0:00:01\r\u001b[K     |████████████████████▌           | 1.1MB 12.2MB/s eta 0:00:01\r\u001b[K     |████████████████████▊           | 1.1MB 12.2MB/s eta 0:00:01\r\u001b[K     |████████████████████▉           | 1.1MB 12.2MB/s eta 0:00:01\r\u001b[K     |█████████████████████           | 1.1MB 12.2MB/s eta 0:00:01\r\u001b[K     |█████████████████████▎          | 1.1MB 12.2MB/s eta 0:00:01\r\u001b[K     |█████████████████████▌          | 1.1MB 12.2MB/s eta 0:00:01\r\u001b[K     |█████████████████████▋          | 1.2MB 12.2MB/s eta 0:00:01\r\u001b[K     |█████████████████████▉          | 1.2MB 12.2MB/s eta 0:00:01\r\u001b[K     |██████████████████████          | 1.2MB 12.2MB/s eta 0:00:01\r\u001b[K     |██████████████████████▎         | 1.2MB 12.2MB/s eta 0:00:01\r\u001b[K     |██████████████████████▍         | 1.2MB 12.2MB/s eta 0:00:01\r\u001b[K     |██████████████████████▋         | 1.2MB 12.2MB/s eta 0:00:01\r\u001b[K     |██████████████████████▉         | 1.2MB 12.2MB/s eta 0:00:01\r\u001b[K     |███████████████████████         | 1.2MB 12.2MB/s eta 0:00:01\r\u001b[K     |███████████████████████▏        | 1.2MB 12.2MB/s eta 0:00:01\r\u001b[K     |███████████████████████▍        | 1.2MB 12.2MB/s eta 0:00:01\r\u001b[K     |███████████████████████▋        | 1.3MB 12.2MB/s eta 0:00:01\r\u001b[K     |███████████████████████▊        | 1.3MB 12.2MB/s eta 0:00:01\r\u001b[K     |████████████████████████        | 1.3MB 12.2MB/s eta 0:00:01\r\u001b[K     |████████████████████████▏       | 1.3MB 12.2MB/s eta 0:00:01\r\u001b[K     |████████████████████████▍       | 1.3MB 12.2MB/s eta 0:00:01\r\u001b[K     |████████████████████████▌       | 1.3MB 12.2MB/s eta 0:00:01\r\u001b[K     |████████████████████████▊       | 1.3MB 12.2MB/s eta 0:00:01\r\u001b[K     |█████████████████████████       | 1.3MB 12.2MB/s eta 0:00:01\r\u001b[K     |█████████████████████████       | 1.3MB 12.2MB/s eta 0:00:01\r\u001b[K     |█████████████████████████▎      | 1.4MB 12.2MB/s eta 0:00:01\r\u001b[K     |█████████████████████████▌      | 1.4MB 12.2MB/s eta 0:00:01\r\u001b[K     |█████████████████████████▊      | 1.4MB 12.2MB/s eta 0:00:01\r\u001b[K     |█████████████████████████▉      | 1.4MB 12.2MB/s eta 0:00:01\r\u001b[K     |██████████████████████████      | 1.4MB 12.2MB/s eta 0:00:01\r\u001b[K     |██████████████████████████▎     | 1.4MB 12.2MB/s eta 0:00:01\r\u001b[K     |██████████████████████████▍     | 1.4MB 12.2MB/s eta 0:00:01\r\u001b[K     |██████████████████████████▋     | 1.4MB 12.2MB/s eta 0:00:01\r\u001b[K     |██████████████████████████▉     | 1.4MB 12.2MB/s eta 0:00:01\r\u001b[K     |███████████████████████████     | 1.4MB 12.2MB/s eta 0:00:01\r\u001b[K     |███████████████████████████▏    | 1.5MB 12.2MB/s eta 0:00:01\r\u001b[K     |███████████████████████████▍    | 1.5MB 12.2MB/s eta 0:00:01\r\u001b[K     |███████████████████████████▋    | 1.5MB 12.2MB/s eta 0:00:01\r\u001b[K     |███████████████████████████▉    | 1.5MB 12.2MB/s eta 0:00:01\r\u001b[K     |████████████████████████████    | 1.5MB 12.2MB/s eta 0:00:01\r\u001b[K     |████████████████████████████▏   | 1.5MB 12.2MB/s eta 0:00:01\r\u001b[K     |████████████████████████████▍   | 1.5MB 12.2MB/s eta 0:00:01\r\u001b[K     |████████████████████████████▌   | 1.5MB 12.2MB/s eta 0:00:01\r\u001b[K     |████████████████████████████▊   | 1.5MB 12.2MB/s eta 0:00:01\r\u001b[K     |█████████████████████████████   | 1.5MB 12.2MB/s eta 0:00:01\r\u001b[K     |█████████████████████████████▏  | 1.6MB 12.2MB/s eta 0:00:01\r\u001b[K     |█████████████████████████████▎  | 1.6MB 12.2MB/s eta 0:00:01\r\u001b[K     |█████████████████████████████▌  | 1.6MB 12.2MB/s eta 0:00:01\r\u001b[K     |█████████████████████████████▊  | 1.6MB 12.2MB/s eta 0:00:01\r\u001b[K     |██████████████████████████████  | 1.6MB 12.2MB/s eta 0:00:01\r\u001b[K     |██████████████████████████████  | 1.6MB 12.2MB/s eta 0:00:01\r\u001b[K     |██████████████████████████████▎ | 1.6MB 12.2MB/s eta 0:00:01\r\u001b[K     |██████████████████████████████▌ | 1.6MB 12.2MB/s eta 0:00:01\r\u001b[K     |██████████████████████████████▋ | 1.6MB 12.2MB/s eta 0:00:01\r\u001b[K     |██████████████████████████████▉ | 1.6MB 12.2MB/s eta 0:00:01\r\u001b[K     |███████████████████████████████ | 1.7MB 12.2MB/s eta 0:00:01\r\u001b[K     |███████████████████████████████▎| 1.7MB 12.2MB/s eta 0:00:01\r\u001b[K     |███████████████████████████████▍| 1.7MB 12.2MB/s eta 0:00:01\r\u001b[K     |███████████████████████████████▋| 1.7MB 12.2MB/s eta 0:00:01\r\u001b[K     |███████████████████████████████▉| 1.7MB 12.2MB/s eta 0:00:01\r\u001b[K     |████████████████████████████████| 1.7MB 12.2MB/s eta 0:00:01\r\u001b[K     |████████████████████████████████| 1.7MB 12.2MB/s \n",
            "\u001b[?25hRequirement already satisfied: Click>=7.0 in /usr/local/lib/python3.6/dist-packages (from youtokentome) (7.1.2)\n",
            "Installing collected packages: youtokentome\n",
            "Successfully installed youtokentome-1.0.6\n"
          ],
          "name": "stdout"
        }
      ]
    },
    {
      "cell_type": "code",
      "metadata": {
        "id": "5rg43AAFBh7e",
        "outputId": "c193fa22-af77-4a99-b35c-5c9be9ded7fb",
        "colab": {
          "base_uri": "https://localhost:8080/",
          "height": 1000
        }
      },
      "source": [
        "!wget https://developer.nvidia.com/compute/cuda/9.2/Prod/local_installers/cuda-repo-ubuntu1604-9-2-local_9.2.88-1_amd64 -O cuda-repo-ubuntu1604-9-2-local_9.2.88-1_amd64.deb\n",
        "!dpkg -i cuda-repo-ubuntu1604-9-2-local_9.2.88-1_amd64.deb\n",
        "!apt-key add /var/cuda-repo-9-2-local/7fa2af80.pub\n",
        "!apt-get update\n",
        "!apt-get install cuda"
      ],
      "execution_count": 4,
      "outputs": [
        {
          "output_type": "stream",
          "text": [
            "--2020-10-28 21:09:13--  https://developer.nvidia.com/compute/cuda/9.2/Prod/local_installers/cuda-repo-ubuntu1604-9-2-local_9.2.88-1_amd64\n",
            "Resolving developer.nvidia.com (developer.nvidia.com)... 152.199.0.24\n",
            "Connecting to developer.nvidia.com (developer.nvidia.com)|152.199.0.24|:443... connected.\n",
            "HTTP request sent, awaiting response... 302 Found\n",
            "Location: https://developer.download.nvidia.com/compute/cuda/9.2/secure/Prod/local_installers/cuda-repo-ubuntu1604-9-2-local_9.2.88-1_amd64.deb?vjM2U8NalSQ-6LMguIt1vob3YTdtBNhFAl8B8qnHCgZc5PYVRsYMV-0lhsMxhwtJR2qYlyFtYtGPSL7bkLzlK4gwA8LRB5rNRHcIfjLLbzITo_jtjgJdq-Z5Hc2W7U7XGFGB9pQHkIRi1Z_RwgPPLfzb_xUXYbdpGIBdda2_3t_TXAmdoM1WLHOKapuq2R7_UgMXlEoXRTL8UKprWuU [following]\n",
            "--2020-10-28 21:09:13--  https://developer.download.nvidia.com/compute/cuda/9.2/secure/Prod/local_installers/cuda-repo-ubuntu1604-9-2-local_9.2.88-1_amd64.deb?vjM2U8NalSQ-6LMguIt1vob3YTdtBNhFAl8B8qnHCgZc5PYVRsYMV-0lhsMxhwtJR2qYlyFtYtGPSL7bkLzlK4gwA8LRB5rNRHcIfjLLbzITo_jtjgJdq-Z5Hc2W7U7XGFGB9pQHkIRi1Z_RwgPPLfzb_xUXYbdpGIBdda2_3t_TXAmdoM1WLHOKapuq2R7_UgMXlEoXRTL8UKprWuU\n",
            "Resolving developer.download.nvidia.com (developer.download.nvidia.com)... 152.195.19.142\n",
            "Connecting to developer.download.nvidia.com (developer.download.nvidia.com)|152.195.19.142|:443... connected.\n",
            "HTTP request sent, awaiting response... 200 OK\n",
            "Length: 1267391958 (1.2G) [application/x-deb]\n",
            "Saving to: ‘cuda-repo-ubuntu1604-9-2-local_9.2.88-1_amd64.deb’\n",
            "\n",
            "cuda-repo-ubuntu160 100%[===================>]   1.18G   249MB/s    in 5.0s    \n",
            "\n",
            "2020-10-28 21:09:18 (240 MB/s) - ‘cuda-repo-ubuntu1604-9-2-local_9.2.88-1_amd64.deb’ saved [1267391958/1267391958]\n",
            "\n",
            "Selecting previously unselected package cuda-repo-ubuntu1604-9-2-local.\n",
            "(Reading database ... 144611 files and directories currently installed.)\n",
            "Preparing to unpack cuda-repo-ubuntu1604-9-2-local_9.2.88-1_amd64.deb ...\n",
            "Unpacking cuda-repo-ubuntu1604-9-2-local (9.2.88-1) ...\n",
            "Setting up cuda-repo-ubuntu1604-9-2-local (9.2.88-1) ...\n",
            "OK\n",
            "Get:1 file:/var/cuda-repo-9-2-local  InRelease\n",
            "Ign:1 file:/var/cuda-repo-9-2-local  InRelease\n",
            "Get:2 file:/var/cuda-repo-9-2-local  Release [574 B]\n",
            "Get:2 file:/var/cuda-repo-9-2-local  Release [574 B]\n",
            "Get:3 file:/var/cuda-repo-9-2-local  Release.gpg [819 B]\n",
            "Get:3 file:/var/cuda-repo-9-2-local  Release.gpg [819 B]\n",
            "Get:4 https://cloud.r-project.org/bin/linux/ubuntu bionic-cran40/ InRelease [3,626 B]\n",
            "Ign:5 https://developer.download.nvidia.com/compute/cuda/repos/ubuntu1804/x86_64  InRelease\n",
            "Get:6 http://ppa.launchpad.net/c2d4u.team/c2d4u4.0+/ubuntu bionic InRelease [15.9 kB]\n",
            "Get:7 http://security.ubuntu.com/ubuntu bionic-security InRelease [88.7 kB]\n",
            "Hit:8 http://archive.ubuntu.com/ubuntu bionic InRelease\n",
            "Get:9 file:/var/cuda-repo-9-2-local  Packages [18.7 kB]\n",
            "Ign:10 https://developer.download.nvidia.com/compute/machine-learning/repos/ubuntu1804/x86_64  InRelease\n",
            "Get:11 https://developer.download.nvidia.com/compute/cuda/repos/ubuntu1804/x86_64  Release [697 B]\n",
            "Get:12 https://developer.download.nvidia.com/compute/machine-learning/repos/ubuntu1804/x86_64  Release [564 B]\n",
            "Get:13 https://developer.download.nvidia.com/compute/cuda/repos/ubuntu1804/x86_64  Release.gpg [836 B]\n",
            "Get:14 http://archive.ubuntu.com/ubuntu bionic-updates InRelease [88.7 kB]\n",
            "Get:15 https://developer.download.nvidia.com/compute/machine-learning/repos/ubuntu1804/x86_64  Release.gpg [833 B]\n",
            "Get:16 https://cloud.r-project.org/bin/linux/ubuntu bionic-cran40/ Packages [39.3 kB]\n",
            "Hit:17 http://ppa.launchpad.net/graphics-drivers/ppa/ubuntu bionic InRelease\n",
            "Get:18 http://archive.ubuntu.com/ubuntu bionic-backports InRelease [74.6 kB]\n",
            "Get:19 http://ppa.launchpad.net/c2d4u.team/c2d4u4.0+/ubuntu bionic/main Sources [1,685 kB]\n",
            "Ign:20 https://developer.download.nvidia.com/compute/cuda/repos/ubuntu1804/x86_64  Packages\n",
            "Get:20 https://developer.download.nvidia.com/compute/cuda/repos/ubuntu1804/x86_64  Packages [370 kB]\n",
            "Get:21 https://developer.download.nvidia.com/compute/machine-learning/repos/ubuntu1804/x86_64  Packages [57.0 kB]\n",
            "Get:22 http://security.ubuntu.com/ubuntu bionic-security/restricted amd64 Packages [213 kB]\n",
            "Get:23 http://security.ubuntu.com/ubuntu bionic-security/universe amd64 Packages [1,353 kB]\n",
            "Get:24 http://ppa.launchpad.net/c2d4u.team/c2d4u4.0+/ubuntu bionic/main amd64 Packages [863 kB]\n",
            "Get:25 http://archive.ubuntu.com/ubuntu bionic-updates/multiverse amd64 Packages [45.9 kB]\n",
            "Get:26 http://security.ubuntu.com/ubuntu bionic-security/multiverse amd64 Packages [15.4 kB]\n",
            "Get:27 http://security.ubuntu.com/ubuntu bionic-security/main amd64 Packages [1,748 kB]\n",
            "Get:28 http://archive.ubuntu.com/ubuntu bionic-updates/universe amd64 Packages [2,115 kB]\n",
            "Get:29 http://archive.ubuntu.com/ubuntu bionic-updates/restricted amd64 Packages [239 kB]\n",
            "Get:30 http://archive.ubuntu.com/ubuntu bionic-updates/main amd64 Packages [2,165 kB]\n",
            "Fetched 11.2 MB in 2s (4,500 kB/s)\n",
            "Reading package lists... Done\n",
            "Reading package lists... Done\n",
            "Building dependency tree       \n",
            "Reading state information... Done\n",
            "The following additional packages will be installed:\n",
            "  cuda-11-1 cuda-command-line-tools-11-1 cuda-compiler-11-1 cuda-cudart-11-1\n",
            "  cuda-cudart-dev-11-1 cuda-cuobjdump-11-1 cuda-cupti-11-1 cuda-cupti-dev-11-1\n",
            "  cuda-demo-suite-11-1 cuda-documentation-11-1 cuda-driver-dev-11-1\n",
            "  cuda-gdb-11-1 cuda-libraries-11-1 cuda-libraries-dev-11-1 cuda-memcheck-11-1\n",
            "  cuda-nsight-11-1 cuda-nsight-compute-11-1 cuda-nsight-systems-11-1\n",
            "  cuda-nvcc-11-1 cuda-nvdisasm-11-1 cuda-nvml-dev-11-1 cuda-nvprof-11-1\n",
            "  cuda-nvprune-11-1 cuda-nvrtc-11-1 cuda-nvrtc-dev-11-1 cuda-nvtx-11-1\n",
            "  cuda-nvvp-11-1 cuda-runtime-11-1 cuda-samples-11-1 cuda-sanitizer-11-1\n",
            "  cuda-toolkit-11-1 cuda-tools-11-1 cuda-visual-tools-11-1 libcublas-11-1\n",
            "  libcublas-dev-11-1 libcufft-11-1 libcufft-dev-11-1 libcurand-11-1\n",
            "  libcurand-dev-11-1 libcusolver-11-1 libcusolver-dev-11-1 libcusparse-11-1\n",
            "  libcusparse-dev-11-1 libnpp-11-1 libnpp-dev-11-1 libnvjpeg-11-1\n",
            "  libnvjpeg-dev-11-1\n",
            "The following NEW packages will be installed:\n",
            "  cuda cuda-11-1 cuda-command-line-tools-11-1 cuda-compiler-11-1\n",
            "  cuda-cudart-11-1 cuda-cudart-dev-11-1 cuda-cuobjdump-11-1 cuda-cupti-11-1\n",
            "  cuda-cupti-dev-11-1 cuda-demo-suite-11-1 cuda-documentation-11-1\n",
            "  cuda-driver-dev-11-1 cuda-gdb-11-1 cuda-libraries-11-1\n",
            "  cuda-libraries-dev-11-1 cuda-memcheck-11-1 cuda-nsight-11-1\n",
            "  cuda-nsight-compute-11-1 cuda-nsight-systems-11-1 cuda-nvcc-11-1\n",
            "  cuda-nvdisasm-11-1 cuda-nvml-dev-11-1 cuda-nvprof-11-1 cuda-nvprune-11-1\n",
            "  cuda-nvrtc-11-1 cuda-nvrtc-dev-11-1 cuda-nvtx-11-1 cuda-nvvp-11-1\n",
            "  cuda-runtime-11-1 cuda-samples-11-1 cuda-sanitizer-11-1 cuda-toolkit-11-1\n",
            "  cuda-tools-11-1 cuda-visual-tools-11-1 libcublas-11-1 libcublas-dev-11-1\n",
            "  libcufft-11-1 libcufft-dev-11-1 libcurand-11-1 libcurand-dev-11-1\n",
            "  libcusolver-11-1 libcusolver-dev-11-1 libcusparse-11-1 libcusparse-dev-11-1\n",
            "  libnpp-11-1 libnpp-dev-11-1 libnvjpeg-11-1 libnvjpeg-dev-11-1\n",
            "0 upgraded, 48 newly installed, 0 to remove and 63 not upgraded.\n",
            "Need to get 1,929 MB of archives.\n",
            "After this operation, 4,590 MB of additional disk space will be used.\n",
            "Get:1 https://developer.download.nvidia.com/compute/cuda/repos/ubuntu1804/x86_64  cuda-cudart-11-1 11.1.74-1 [133 kB]\n",
            "Get:2 https://developer.download.nvidia.com/compute/cuda/repos/ubuntu1804/x86_64  cuda-nvrtc-11-1 11.1.74-1 [11.1 MB]\n",
            "Get:3 https://developer.download.nvidia.com/compute/cuda/repos/ubuntu1804/x86_64  libcublas-11-1 11.2.1.74-1 [154 MB]\n",
            "Get:4 https://developer.download.nvidia.com/compute/cuda/repos/ubuntu1804/x86_64  libcufft-11-1 10.3.0.74-1 [128 MB]\n",
            "Get:5 https://developer.download.nvidia.com/compute/cuda/repos/ubuntu1804/x86_64  libcurand-11-1 10.2.2.74-1 [39.6 MB]\n",
            "Get:6 https://developer.download.nvidia.com/compute/cuda/repos/ubuntu1804/x86_64  libcusolver-11-1 11.0.0.74-1 [388 MB]\n",
            "Get:7 https://developer.download.nvidia.com/compute/cuda/repos/ubuntu1804/x86_64  libcusparse-11-1 11.2.0.275-1 [103 MB]\n",
            "Get:8 https://developer.download.nvidia.com/compute/cuda/repos/ubuntu1804/x86_64  libnpp-11-1 11.1.1.269-1 [84.9 MB]\n",
            "Get:9 https://developer.download.nvidia.com/compute/cuda/repos/ubuntu1804/x86_64  libnvjpeg-11-1 11.2.0.74-1 [1,651 kB]\n",
            "Get:10 https://developer.download.nvidia.com/compute/cuda/repos/ubuntu1804/x86_64  cuda-libraries-11-1 11.1.0-1 [2,498 B]\n",
            "Get:11 https://developer.download.nvidia.com/compute/cuda/repos/ubuntu1804/x86_64  cuda-runtime-11-1 11.1.0-1 [2,420 B]\n",
            "Get:12 https://developer.download.nvidia.com/compute/cuda/repos/ubuntu1804/x86_64  cuda-cuobjdump-11-1 11.1.74-1 [110 kB]\n",
            "Get:13 https://developer.download.nvidia.com/compute/cuda/repos/ubuntu1804/x86_64  cuda-driver-dev-11-1 11.1.74-1 [25.4 kB]\n",
            "Get:14 https://developer.download.nvidia.com/compute/cuda/repos/ubuntu1804/x86_64  cuda-cudart-dev-11-1 11.1.74-1 [1,734 kB]\n",
            "Get:15 https://developer.download.nvidia.com/compute/cuda/repos/ubuntu1804/x86_64  cuda-nvcc-11-1 11.1.74-1 [27.0 MB]\n",
            "Get:16 https://developer.download.nvidia.com/compute/cuda/repos/ubuntu1804/x86_64  cuda-nvprune-11-1 11.1.74-1 [54.4 kB]\n",
            "Get:17 https://developer.download.nvidia.com/compute/cuda/repos/ubuntu1804/x86_64  cuda-compiler-11-1 11.1.0-1 [2,414 B]\n",
            "Get:18 https://developer.download.nvidia.com/compute/cuda/repos/ubuntu1804/x86_64  cuda-nvrtc-dev-11-1 11.1.74-1 [22.6 kB]\n",
            "Get:19 https://developer.download.nvidia.com/compute/cuda/repos/ubuntu1804/x86_64  libcublas-dev-11-1 11.2.1.74-1 [156 MB]\n",
            "Get:20 https://developer.download.nvidia.com/compute/cuda/repos/ubuntu1804/x86_64  libcufft-dev-11-1 10.3.0.74-1 [219 MB]\n",
            "59% [20 libcufft-dev-11-1 148 MB/219 MB 68%]                      57.5 MB/s 11s^C\n"
          ],
          "name": "stdout"
        }
      ]
    },
    {
      "cell_type": "code",
      "metadata": {
        "id": "QIA1x7RzBq9D",
        "outputId": "a7e7747d-708f-495c-cc18-c582f744ba29",
        "colab": {
          "base_uri": "https://localhost:8080/",
          "height": 103
        }
      },
      "source": [
        "!pip install mxnet-cu92"
      ],
      "execution_count": null,
      "outputs": [
        {
          "output_type": "stream",
          "text": [
            "Collecting mxnet-cu92\n",
            "\u001b[?25l  Downloading https://files.pythonhosted.org/packages/06/f2/ea1cf284d97bb5f6d21087c7ae8d5ce05fb2952c2f508eecac8c915c2699/mxnet_cu92-1.7.0-py2.py3-none-manylinux2014_x86_64.whl (789.8MB)\n",
            "\u001b[K     |█████████████████████████▌      | 628.2MB 1.3MB/s eta 0:02:01"
          ],
          "name": "stdout"
        }
      ]
    },
    {
      "cell_type": "code",
      "metadata": {
        "id": "9WsCrjTDDG0-"
      },
      "source": [
        "print(torch.cuda.device_count())"
      ],
      "execution_count": null,
      "outputs": []
    },
    {
      "cell_type": "code",
      "metadata": {
        "id": "AB1OFN7RB-8w"
      },
      "source": [
        "!pip install --upgrade --force-reinstall -q http://download.pytorch.org/whl/{accelerator}/torch-0.4.0-{platform}-linux_x86_64.whl torchvision"
      ],
      "execution_count": null,
      "outputs": []
    },
    {
      "cell_type": "code",
      "metadata": {
        "id": "FmrVqnzMMxMr"
      },
      "source": [
        "import math\n",
        "import numpy as np\n",
        "import pandas as pd\n",
        "\n",
        "import random\n",
        "import json\n",
        "import torch\n",
        "from torch.utils.data import Dataset, DataLoader\n",
        "\n",
        "from tqdm import tqdm\n",
        "\n",
        "from matplotlib import pyplot as plt\n",
        "\n",
        "import youtokentome as yttm"
      ],
      "execution_count": 2,
      "outputs": []
    },
    {
      "cell_type": "code",
      "metadata": {
        "id": "kQsaa759SujQ",
        "outputId": "aa9d5f4b-8d64-4963-99ae-2a080db99def",
        "colab": {
          "base_uri": "https://localhost:8080/",
          "height": 35
        }
      },
      "source": [
        "from google.colab import drive\n",
        "drive.mount('/content/drive')"
      ],
      "execution_count": 3,
      "outputs": [
        {
          "output_type": "stream",
          "text": [
            "Mounted at /content/drive\n"
          ],
          "name": "stdout"
        }
      ]
    },
    {
      "cell_type": "code",
      "metadata": {
        "id": "fsUhzBGgT8R-",
        "outputId": "e53413d4-c85b-464f-fe65-a63d8dcc8e05",
        "colab": {
          "base_uri": "https://localhost:8080/",
          "height": 54
        }
      },
      "source": [
        "!unzip '/content/drive/My Drive/unsupervised.csv.zip'"
      ],
      "execution_count": 4,
      "outputs": [
        {
          "output_type": "stream",
          "text": [
            "Archive:  /content/drive/My Drive/unsupervised.csv.zip\n",
            "  inflating: unsupervised.csv        \n"
          ],
          "name": "stdout"
        }
      ]
    },
    {
      "cell_type": "code",
      "metadata": {
        "id": "0IBgtVkfUNRe",
        "outputId": "1db32636-4961-4718-cacd-8b70ca57df14",
        "colab": {
          "base_uri": "https://localhost:8080/",
          "height": 35
        }
      },
      "source": [
        "!ls"
      ],
      "execution_count": 5,
      "outputs": [
        {
          "output_type": "stream",
          "text": [
            "drive  sample_data  unsupervised.csv\n"
          ],
          "name": "stdout"
        }
      ]
    },
    {
      "cell_type": "code",
      "metadata": {
        "id": "hpw5KDsGOrTT"
      },
      "source": [
        "questions = pd.read_csv('unsupervised.csv')\n",
        "questions.question = questions.question.map(lambda x: x.lower())"
      ],
      "execution_count": 6,
      "outputs": []
    },
    {
      "cell_type": "code",
      "metadata": {
        "id": "MqTL9ZfvPBGY"
      },
      "source": [
        "# для \"обучения\" bpe модели нам нужно сохранить данные для обучения в отдельный файл\n",
        "# где будут построчно храниться тексты\n",
        "# раскомментируйте этот код, чтобы собрать такой файл\n",
        "with open('for_bpe.txt', 'w', encoding='utf-8') as f:\n",
        "    for que in questions.question:\n",
        "        f.write(que + '\\n')\n",
        "        \n",
        "# параметры\n",
        "vocab_size = 30_000\n",
        "model_path = 'pretrained_bpe_lm.model'"
      ],
      "execution_count": 7,
      "outputs": []
    },
    {
      "cell_type": "code",
      "metadata": {
        "id": "Fy6lmKpjW8ed",
        "outputId": "2731af3f-a299-4232-b88c-2f0a1fd963c1",
        "colab": {
          "base_uri": "https://localhost:8080/",
          "height": 72
        }
      },
      "source": [
        "%%time\n",
        "# обучаем\n",
        "# раскомментируйте этот код, чтобы обучить bpe\n",
        "yttm.BPE.train(data='for_bpe.txt', vocab_size=vocab_size, model=model_path)"
      ],
      "execution_count": 8,
      "outputs": [
        {
          "output_type": "stream",
          "text": [
            "CPU times: user 25.3 s, sys: 2.54 s, total: 27.8 s\n",
            "Wall time: 16.8 s\n"
          ],
          "name": "stdout"
        },
        {
          "output_type": "execute_result",
          "data": {
            "text/plain": [
              "<youtokentome.youtokentome.BPE at 0x7f0f1a6ce278>"
            ]
          },
          "metadata": {
            "tags": []
          },
          "execution_count": 8
        }
      ]
    },
    {
      "cell_type": "code",
      "metadata": {
        "id": "I6Pyz-GbXmEQ"
      },
      "source": [
        "# загружаем токенизатор\n",
        "tokenizer = yttm.BPE(model=model_path)"
      ],
      "execution_count": 9,
      "outputs": []
    },
    {
      "cell_type": "code",
      "metadata": {
        "id": "EcBTp0sCXtS_",
        "outputId": "07e37869-870f-4742-8df6-c0a38dd02ab2",
        "colab": {
          "base_uri": "https://localhost:8080/",
          "height": 35
        }
      },
      "source": [
        "tokenized = []\n",
        "\n",
        "batch_size = 256\n",
        "\n",
        "for i_batch in tqdm(range(math.ceil(len(questions.question) / batch_size))):\n",
        "    \n",
        "    tokenized.extend(tokenizer.encode(\n",
        "        list(questions.question[i_batch*batch_size:(i_batch+1)*batch_size]), bos=True, eos=True))"
      ],
      "execution_count": 10,
      "outputs": [
        {
          "output_type": "stream",
          "text": [
            "100%|██████████| 9905/9905 [00:33<00:00, 291.61it/s]\n"
          ],
          "name": "stderr"
        }
      ]
    },
    {
      "cell_type": "code",
      "metadata": {
        "id": "3WHKA9OeYBpt"
      },
      "source": [
        "class LanguageModelData(torch.utils.data.Dataset):\n",
        "    \n",
        "    def __init__(self, data, max_len, pad_index, eos_index):\n",
        "        \n",
        "        self.data = data\n",
        "        \n",
        "        self.max_len = max_len\n",
        "        \n",
        "        self.pad_index = pad_index\n",
        "        self.eos_index = eos_index\n",
        "        \n",
        "    def __len__(self):\n",
        "        return len(self.data)\n",
        "    \n",
        "    def __getitem__(self, index):\n",
        "        \n",
        "        sequence = self.data[index][:self.max_len]\n",
        "        \n",
        "        # исходная последовательность\n",
        "        x = sequence[:]\n",
        "        # нужно предсказать смещенную последовательность\n",
        "        y = sequence[1:] + [self.eos_index]\n",
        "        \n",
        "        assert len(x) == len(y)\n",
        "        \n",
        "        pads = [self.pad_index] * (self.max_len - len(x))\n",
        "        \n",
        "        x = torch.tensor(x + pads).long()\n",
        "        y = torch.tensor(y + pads).long()\n",
        "        \n",
        "        return x, y"
      ],
      "execution_count": 11,
      "outputs": []
    },
    {
      "cell_type": "code",
      "metadata": {
        "id": "jWHQcAF29fJK"
      },
      "source": [
        "batch_size = 64\n",
        "\n",
        "max_len = 32\n",
        "\n",
        "pad_index = 0\n",
        "eos_index = 3"
      ],
      "execution_count": 15,
      "outputs": []
    },
    {
      "cell_type": "code",
      "metadata": {
        "id": "A9cfUH6F9Qi2",
        "outputId": "779b86f4-82e1-45ce-abe5-8a522a3bd61a",
        "colab": {
          "base_uri": "https://localhost:8080/",
          "height": 35
        }
      },
      "source": [
        "# надо выбрать максимальную длину\n",
        "lengths = np.array([len(x) for x in tokenized])\n",
        "np.percentile(lengths, q=95)"
      ],
      "execution_count": 16,
      "outputs": [
        {
          "output_type": "execute_result",
          "data": {
            "text/plain": [
              "28.0"
            ]
          },
          "metadata": {
            "tags": []
          },
          "execution_count": 16
        }
      ]
    },
    {
      "cell_type": "code",
      "metadata": {
        "id": "EyMs7buj9Ud8"
      },
      "source": [
        "random.shuffle(tokenized)\n",
        "\n",
        "validation_start_index = int(len(tokenized) * 0.05)"
      ],
      "execution_count": 17,
      "outputs": []
    },
    {
      "cell_type": "code",
      "metadata": {
        "id": "osUPySza9X5c",
        "outputId": "9976d17a-914f-485e-a2b1-ffc6ebe8d98e",
        "colab": {
          "base_uri": "https://localhost:8080/",
          "height": 35
        }
      },
      "source": [
        "train_dataset = LanguageModelData(data=tokenized[:-validation_start_index], max_len=max_len, \n",
        "                                  pad_index=pad_index, eos_index=eos_index)\n",
        "validation_dataset = LanguageModelData(data=tokenized[-validation_start_index:], max_len=max_len,\n",
        "                                       pad_index=pad_index, eos_index=eos_index)\n",
        "\n",
        "len(train_dataset), len(validation_dataset)"
      ],
      "execution_count": 18,
      "outputs": [
        {
          "output_type": "execute_result",
          "data": {
            "text/plain": [
              "(2408671, 126772)"
            ]
          },
          "metadata": {
            "tags": []
          },
          "execution_count": 18
        }
      ]
    },
    {
      "cell_type": "code",
      "metadata": {
        "id": "ZLtzyPeD9aby"
      },
      "source": [
        "train_loader = torch.utils.data.DataLoader(train_dataset, batch_size=batch_size)\n",
        "validation_loader = torch.utils.data.DataLoader(validation_dataset, batch_size=batch_size)"
      ],
      "execution_count": 19,
      "outputs": []
    },
    {
      "cell_type": "code",
      "metadata": {
        "id": "Q2lU_aMj9koG"
      },
      "source": [
        "\n",
        "for x, y in train_loader:\n",
        "    break"
      ],
      "execution_count": 20,
      "outputs": []
    },
    {
      "cell_type": "code",
      "metadata": {
        "id": "xDSIeu_u9nge",
        "outputId": "2884995c-5593-4642-949c-054455a01ac0",
        "colab": {
          "base_uri": "https://localhost:8080/",
          "height": 145
        }
      },
      "source": [
        "x"
      ],
      "execution_count": 21,
      "outputs": [
        {
          "output_type": "execute_result",
          "data": {
            "text/plain": [
              "tensor([[   2, 2009, 1833,  ...,    0,    0,    0],\n",
              "        [   2, 2664, 2324,  ...,    0,    0,    0],\n",
              "        [   2, 1991, 2193,  ...,    0,    0,    0],\n",
              "        ...,\n",
              "        [   2, 1904, 2008,  ...,    0,    0,    0],\n",
              "        [   2, 3109, 1827,  ...,    0,    0,    0],\n",
              "        [   2, 1991, 1966,  ...,    0,    0,    0]])"
            ]
          },
          "metadata": {
            "tags": []
          },
          "execution_count": 21
        }
      ]
    },
    {
      "cell_type": "code",
      "metadata": {
        "id": "12l472vA9o4n",
        "outputId": "22f4943c-e293-4721-c42f-b0bdda24233d",
        "colab": {
          "base_uri": "https://localhost:8080/",
          "height": 35
        }
      },
      "source": [
        "progress_bar = tqdm(total=len(validation_loader.dataset), desc='Testing')\n",
        "\n",
        "for x, y in validation_loader:\n",
        "    progress_bar.update(x.size(0))\n",
        "    \n",
        "progress_bar.close()"
      ],
      "execution_count": 22,
      "outputs": [
        {
          "output_type": "stream",
          "text": [
            "Testing: 100%|██████████| 126772/126772 [00:02<00:00, 59732.16it/s]\n"
          ],
          "name": "stderr"
        }
      ]
    },
    {
      "cell_type": "code",
      "metadata": {
        "id": "pUI8gTZy9wy5"
      },
      "source": [
        "class LanguageModel(torch.nn.Module):\n",
        "    \n",
        "    def __init__(self, vocab_size, embedding_dim, model_dim, num_layers, dropout, padding_idx):\n",
        "        \n",
        "        super().__init__()\n",
        "        \n",
        "        # просто эмбеддинги\n",
        "        self.embedding_layer = torch.nn.Embedding(num_embeddings=vocab_size, \n",
        "                                                  embedding_dim=embedding_dim,\n",
        "                                                  padding_idx=padding_idx)\n",
        "        \n",
        "        # просто lstm\n",
        "        self.lstm = torch.nn.LSTM(input_size=embedding_dim, \n",
        "                                  hidden_size=model_dim,\n",
        "                                  num_layers=num_layers, \n",
        "                                  dropout=0.3,\n",
        "                                  batch_first=True)\n",
        "        \n",
        "        # выходная матрица эмбеддингов\n",
        "        # количество выходных фичей равно размеру словаря\n",
        "        # то есть это задача мультиклассовой классификации, но только классов очень много\n",
        "        self.language_model_head = torch.nn.Linear(in_features=model_dim,\n",
        "                                                   out_features=vocab_size,\n",
        "                                                   bias=False)\n",
        "        \n",
        "    def forward(self, x):\n",
        "        \n",
        "        x = self.embedding_layer(x)\n",
        "        \n",
        "        x, _ = self.lstm(x)\n",
        "        \n",
        "        # к каждому элементу последовательности применяется выходная матрица эмбеддингов, \n",
        "        # которая переводит вектор lstm в предсказание конкретного слова\n",
        "        x = self.language_model_head(x)\n",
        "        \n",
        "        return x"
      ],
      "execution_count": 23,
      "outputs": []
    },
    {
      "cell_type": "code",
      "metadata": {
        "id": "m6abA7ol-BUC",
        "outputId": "b0d162b4-8ddd-46e1-f950-2e7a9a0d3418",
        "colab": {
          "base_uri": "https://localhost:8080/",
          "height": 35
        }
      },
      "source": [
        "torch.cuda.is_available(), 'у вас не находится гпу'"
      ],
      "execution_count": 3,
      "outputs": [
        {
          "output_type": "execute_result",
          "data": {
            "text/plain": [
              "(True, 'у вас не находится гпу')"
            ]
          },
          "metadata": {
            "tags": []
          },
          "execution_count": 3
        }
      ]
    },
    {
      "cell_type": "code",
      "metadata": {
        "id": "YCxd-P_i-kqZ"
      },
      "source": [
        "device = torch.device('cuda:1')"
      ],
      "execution_count": 31,
      "outputs": []
    },
    {
      "cell_type": "code",
      "metadata": {
        "id": "PsjBWrqC-MwM"
      },
      "source": [
        "embedding_dim = 128\n",
        "model_dim = 128\n",
        "num_layers = 2\n",
        "dropout = 0.35"
      ],
      "execution_count": null,
      "outputs": []
    },
    {
      "cell_type": "code",
      "metadata": {
        "id": "LN4GypSM_8wx"
      },
      "source": [
        "model = LanguageModel(vocab_size=vocab_size, embedding_dim=embedding_dim,\n",
        "                      model_dim=model_dim, num_layers=num_layers,\n",
        "                      dropout=dropout, padding_idx=pad_index)\n",
        "model.to(device)"
      ],
      "execution_count": null,
      "outputs": []
    },
    {
      "cell_type": "code",
      "metadata": {
        "id": "8v16DQt3_-rm"
      },
      "source": [
        "def count_parameters(model):\n",
        "    return sum(p.numel() for p in model.parameters() if p.requires_grad)"
      ],
      "execution_count": null,
      "outputs": []
    },
    {
      "cell_type": "code",
      "metadata": {
        "id": "dqxX2dNXABjE"
      },
      "source": [
        "print(f'Количество обучаемых параметров в сети: {count_parameters(model):,}')"
      ],
      "execution_count": null,
      "outputs": []
    },
    {
      "cell_type": "code",
      "metadata": {
        "id": "WCBc-dWmAEss"
      },
      "source": [
        "x = x.to(device)\n",
        "y = y.to(device)"
      ],
      "execution_count": null,
      "outputs": []
    },
    {
      "cell_type": "code",
      "metadata": {
        "id": "T1IiCd25AH6y"
      },
      "source": [
        ""
      ],
      "execution_count": null,
      "outputs": []
    }
  ]
}