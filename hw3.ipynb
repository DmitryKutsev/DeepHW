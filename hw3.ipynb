{
  "nbformat": 4,
  "nbformat_minor": 0,
  "metadata": {
    "colab": {
      "name": "Untitled44.ipynb",
      "provenance": [],
      "authorship_tag": "ABX9TyPw95SNxGubryGRLfHY4joE",
      "include_colab_link": true
    },
    "kernelspec": {
      "name": "python3",
      "display_name": "Python 3"
    },
    "accelerator": "GPU"
  },
  "cells": [
    {
      "cell_type": "markdown",
      "metadata": {
        "id": "view-in-github",
        "colab_type": "text"
      },
      "source": [
        "<a href=\"https://colab.research.google.com/github/DmitryKutsev/DeepHW/blob/master/hw3.ipynb\" target=\"_parent\"><img src=\"https://colab.research.google.com/assets/colab-badge.svg\" alt=\"Open In Colab\"/></a>"
      ]
    },
    {
      "cell_type": "code",
      "metadata": {
        "id": "V2CFSkzkOu4D",
        "outputId": "bb8caf92-8fc9-4e5e-d758-e8ce7c32481a",
        "colab": {
          "base_uri": "https://localhost:8080/"
        }
      },
      "source": [
        "!pip install youtokentome"
      ],
      "execution_count": 1,
      "outputs": [
        {
          "output_type": "stream",
          "text": [
            "Collecting youtokentome\n",
            "\u001b[?25l  Downloading https://files.pythonhosted.org/packages/a3/65/4a86cf99da3f680497ae132329025b291e2fda22327e8da6a9476e51acb1/youtokentome-1.0.6-cp36-cp36m-manylinux2010_x86_64.whl (1.7MB)\n",
            "\r\u001b[K     |▏                               | 10kB 19.0MB/s eta 0:00:01\r\u001b[K     |▍                               | 20kB 26.3MB/s eta 0:00:01\r\u001b[K     |▋                               | 30kB 20.3MB/s eta 0:00:01\r\u001b[K     |▊                               | 40kB 16.2MB/s eta 0:00:01\r\u001b[K     |█                               | 51kB 12.1MB/s eta 0:00:01\r\u001b[K     |█▏                              | 61kB 11.6MB/s eta 0:00:01\r\u001b[K     |█▍                              | 71kB 11.4MB/s eta 0:00:01\r\u001b[K     |█▌                              | 81kB 11.2MB/s eta 0:00:01\r\u001b[K     |█▊                              | 92kB 10.4MB/s eta 0:00:01\r\u001b[K     |██                              | 102kB 10.5MB/s eta 0:00:01\r\u001b[K     |██                              | 112kB 10.5MB/s eta 0:00:01\r\u001b[K     |██▎                             | 122kB 10.5MB/s eta 0:00:01\r\u001b[K     |██▌                             | 133kB 10.5MB/s eta 0:00:01\r\u001b[K     |██▊                             | 143kB 10.5MB/s eta 0:00:01\r\u001b[K     |██▉                             | 153kB 10.5MB/s eta 0:00:01\r\u001b[K     |███                             | 163kB 10.5MB/s eta 0:00:01\r\u001b[K     |███▎                            | 174kB 10.5MB/s eta 0:00:01\r\u001b[K     |███▌                            | 184kB 10.5MB/s eta 0:00:01\r\u001b[K     |███▋                            | 194kB 10.5MB/s eta 0:00:01\r\u001b[K     |███▉                            | 204kB 10.5MB/s eta 0:00:01\r\u001b[K     |████                            | 215kB 10.5MB/s eta 0:00:01\r\u001b[K     |████▏                           | 225kB 10.5MB/s eta 0:00:01\r\u001b[K     |████▍                           | 235kB 10.5MB/s eta 0:00:01\r\u001b[K     |████▋                           | 245kB 10.5MB/s eta 0:00:01\r\u001b[K     |████▉                           | 256kB 10.5MB/s eta 0:00:01\r\u001b[K     |█████                           | 266kB 10.5MB/s eta 0:00:01\r\u001b[K     |█████▏                          | 276kB 10.5MB/s eta 0:00:01\r\u001b[K     |█████▍                          | 286kB 10.5MB/s eta 0:00:01\r\u001b[K     |█████▋                          | 296kB 10.5MB/s eta 0:00:01\r\u001b[K     |█████▊                          | 307kB 10.5MB/s eta 0:00:01\r\u001b[K     |██████                          | 317kB 10.5MB/s eta 0:00:01\r\u001b[K     |██████▏                         | 327kB 10.5MB/s eta 0:00:01\r\u001b[K     |██████▎                         | 337kB 10.5MB/s eta 0:00:01\r\u001b[K     |██████▌                         | 348kB 10.5MB/s eta 0:00:01\r\u001b[K     |██████▊                         | 358kB 10.5MB/s eta 0:00:01\r\u001b[K     |███████                         | 368kB 10.5MB/s eta 0:00:01\r\u001b[K     |███████                         | 378kB 10.5MB/s eta 0:00:01\r\u001b[K     |███████▎                        | 389kB 10.5MB/s eta 0:00:01\r\u001b[K     |███████▌                        | 399kB 10.5MB/s eta 0:00:01\r\u001b[K     |███████▋                        | 409kB 10.5MB/s eta 0:00:01\r\u001b[K     |███████▉                        | 419kB 10.5MB/s eta 0:00:01\r\u001b[K     |████████                        | 430kB 10.5MB/s eta 0:00:01\r\u001b[K     |████████▎                       | 440kB 10.5MB/s eta 0:00:01\r\u001b[K     |████████▍                       | 450kB 10.5MB/s eta 0:00:01\r\u001b[K     |████████▋                       | 460kB 10.5MB/s eta 0:00:01\r\u001b[K     |████████▉                       | 471kB 10.5MB/s eta 0:00:01\r\u001b[K     |█████████                       | 481kB 10.5MB/s eta 0:00:01\r\u001b[K     |█████████▏                      | 491kB 10.5MB/s eta 0:00:01\r\u001b[K     |█████████▍                      | 501kB 10.5MB/s eta 0:00:01\r\u001b[K     |█████████▋                      | 512kB 10.5MB/s eta 0:00:01\r\u001b[K     |█████████▊                      | 522kB 10.5MB/s eta 0:00:01\r\u001b[K     |██████████                      | 532kB 10.5MB/s eta 0:00:01\r\u001b[K     |██████████▏                     | 542kB 10.5MB/s eta 0:00:01\r\u001b[K     |██████████▍                     | 552kB 10.5MB/s eta 0:00:01\r\u001b[K     |██████████▌                     | 563kB 10.5MB/s eta 0:00:01\r\u001b[K     |██████████▊                     | 573kB 10.5MB/s eta 0:00:01\r\u001b[K     |███████████                     | 583kB 10.5MB/s eta 0:00:01\r\u001b[K     |███████████▏                    | 593kB 10.5MB/s eta 0:00:01\r\u001b[K     |███████████▎                    | 604kB 10.5MB/s eta 0:00:01\r\u001b[K     |███████████▌                    | 614kB 10.5MB/s eta 0:00:01\r\u001b[K     |███████████▊                    | 624kB 10.5MB/s eta 0:00:01\r\u001b[K     |███████████▉                    | 634kB 10.5MB/s eta 0:00:01\r\u001b[K     |████████████                    | 645kB 10.5MB/s eta 0:00:01\r\u001b[K     |████████████▎                   | 655kB 10.5MB/s eta 0:00:01\r\u001b[K     |████████████▌                   | 665kB 10.5MB/s eta 0:00:01\r\u001b[K     |████████████▋                   | 675kB 10.5MB/s eta 0:00:01\r\u001b[K     |████████████▉                   | 686kB 10.5MB/s eta 0:00:01\r\u001b[K     |█████████████                   | 696kB 10.5MB/s eta 0:00:01\r\u001b[K     |█████████████▏                  | 706kB 10.5MB/s eta 0:00:01\r\u001b[K     |█████████████▍                  | 716kB 10.5MB/s eta 0:00:01\r\u001b[K     |█████████████▋                  | 727kB 10.5MB/s eta 0:00:01\r\u001b[K     |█████████████▉                  | 737kB 10.5MB/s eta 0:00:01\r\u001b[K     |██████████████                  | 747kB 10.5MB/s eta 0:00:01\r\u001b[K     |██████████████▏                 | 757kB 10.5MB/s eta 0:00:01\r\u001b[K     |██████████████▍                 | 768kB 10.5MB/s eta 0:00:01\r\u001b[K     |██████████████▋                 | 778kB 10.5MB/s eta 0:00:01\r\u001b[K     |██████████████▊                 | 788kB 10.5MB/s eta 0:00:01\r\u001b[K     |███████████████                 | 798kB 10.5MB/s eta 0:00:01\r\u001b[K     |███████████████▏                | 808kB 10.5MB/s eta 0:00:01\r\u001b[K     |███████████████▎                | 819kB 10.5MB/s eta 0:00:01\r\u001b[K     |███████████████▌                | 829kB 10.5MB/s eta 0:00:01\r\u001b[K     |███████████████▊                | 839kB 10.5MB/s eta 0:00:01\r\u001b[K     |████████████████                | 849kB 10.5MB/s eta 0:00:01\r\u001b[K     |████████████████                | 860kB 10.5MB/s eta 0:00:01\r\u001b[K     |████████████████▎               | 870kB 10.5MB/s eta 0:00:01\r\u001b[K     |████████████████▌               | 880kB 10.5MB/s eta 0:00:01\r\u001b[K     |████████████████▊               | 890kB 10.5MB/s eta 0:00:01\r\u001b[K     |████████████████▉               | 901kB 10.5MB/s eta 0:00:01\r\u001b[K     |█████████████████               | 911kB 10.5MB/s eta 0:00:01\r\u001b[K     |█████████████████▎              | 921kB 10.5MB/s eta 0:00:01\r\u001b[K     |█████████████████▍              | 931kB 10.5MB/s eta 0:00:01\r\u001b[K     |█████████████████▋              | 942kB 10.5MB/s eta 0:00:01\r\u001b[K     |█████████████████▉              | 952kB 10.5MB/s eta 0:00:01\r\u001b[K     |██████████████████              | 962kB 10.5MB/s eta 0:00:01\r\u001b[K     |██████████████████▏             | 972kB 10.5MB/s eta 0:00:01\r\u001b[K     |██████████████████▍             | 983kB 10.5MB/s eta 0:00:01\r\u001b[K     |██████████████████▋             | 993kB 10.5MB/s eta 0:00:01\r\u001b[K     |██████████████████▉             | 1.0MB 10.5MB/s eta 0:00:01\r\u001b[K     |███████████████████             | 1.0MB 10.5MB/s eta 0:00:01\r\u001b[K     |███████████████████▏            | 1.0MB 10.5MB/s eta 0:00:01\r\u001b[K     |███████████████████▍            | 1.0MB 10.5MB/s eta 0:00:01\r\u001b[K     |███████████████████▌            | 1.0MB 10.5MB/s eta 0:00:01\r\u001b[K     |███████████████████▊            | 1.1MB 10.5MB/s eta 0:00:01\r\u001b[K     |████████████████████            | 1.1MB 10.5MB/s eta 0:00:01\r\u001b[K     |████████████████████▏           | 1.1MB 10.5MB/s eta 0:00:01\r\u001b[K     |████████████████████▎           | 1.1MB 10.5MB/s eta 0:00:01\r\u001b[K     |████████████████████▌           | 1.1MB 10.5MB/s eta 0:00:01\r\u001b[K     |████████████████████▊           | 1.1MB 10.5MB/s eta 0:00:01\r\u001b[K     |████████████████████▉           | 1.1MB 10.5MB/s eta 0:00:01\r\u001b[K     |█████████████████████           | 1.1MB 10.5MB/s eta 0:00:01\r\u001b[K     |█████████████████████▎          | 1.1MB 10.5MB/s eta 0:00:01\r\u001b[K     |█████████████████████▌          | 1.1MB 10.5MB/s eta 0:00:01\r\u001b[K     |█████████████████████▋          | 1.2MB 10.5MB/s eta 0:00:01\r\u001b[K     |█████████████████████▉          | 1.2MB 10.5MB/s eta 0:00:01\r\u001b[K     |██████████████████████          | 1.2MB 10.5MB/s eta 0:00:01\r\u001b[K     |██████████████████████▎         | 1.2MB 10.5MB/s eta 0:00:01\r\u001b[K     |██████████████████████▍         | 1.2MB 10.5MB/s eta 0:00:01\r\u001b[K     |██████████████████████▋         | 1.2MB 10.5MB/s eta 0:00:01\r\u001b[K     |██████████████████████▉         | 1.2MB 10.5MB/s eta 0:00:01\r\u001b[K     |███████████████████████         | 1.2MB 10.5MB/s eta 0:00:01\r\u001b[K     |███████████████████████▏        | 1.2MB 10.5MB/s eta 0:00:01\r\u001b[K     |███████████████████████▍        | 1.2MB 10.5MB/s eta 0:00:01\r\u001b[K     |███████████████████████▋        | 1.3MB 10.5MB/s eta 0:00:01\r\u001b[K     |███████████████████████▊        | 1.3MB 10.5MB/s eta 0:00:01\r\u001b[K     |████████████████████████        | 1.3MB 10.5MB/s eta 0:00:01\r\u001b[K     |████████████████████████▏       | 1.3MB 10.5MB/s eta 0:00:01\r\u001b[K     |████████████████████████▍       | 1.3MB 10.5MB/s eta 0:00:01\r\u001b[K     |████████████████████████▌       | 1.3MB 10.5MB/s eta 0:00:01\r\u001b[K     |████████████████████████▊       | 1.3MB 10.5MB/s eta 0:00:01\r\u001b[K     |█████████████████████████       | 1.3MB 10.5MB/s eta 0:00:01\r\u001b[K     |█████████████████████████       | 1.3MB 10.5MB/s eta 0:00:01\r\u001b[K     |█████████████████████████▎      | 1.4MB 10.5MB/s eta 0:00:01\r\u001b[K     |█████████████████████████▌      | 1.4MB 10.5MB/s eta 0:00:01\r\u001b[K     |█████████████████████████▊      | 1.4MB 10.5MB/s eta 0:00:01\r\u001b[K     |█████████████████████████▉      | 1.4MB 10.5MB/s eta 0:00:01\r\u001b[K     |██████████████████████████      | 1.4MB 10.5MB/s eta 0:00:01\r\u001b[K     |██████████████████████████▎     | 1.4MB 10.5MB/s eta 0:00:01\r\u001b[K     |██████████████████████████▍     | 1.4MB 10.5MB/s eta 0:00:01\r\u001b[K     |██████████████████████████▋     | 1.4MB 10.5MB/s eta 0:00:01\r\u001b[K     |██████████████████████████▉     | 1.4MB 10.5MB/s eta 0:00:01\r\u001b[K     |███████████████████████████     | 1.4MB 10.5MB/s eta 0:00:01\r\u001b[K     |███████████████████████████▏    | 1.5MB 10.5MB/s eta 0:00:01\r\u001b[K     |███████████████████████████▍    | 1.5MB 10.5MB/s eta 0:00:01\r\u001b[K     |███████████████████████████▋    | 1.5MB 10.5MB/s eta 0:00:01\r\u001b[K     |███████████████████████████▉    | 1.5MB 10.5MB/s eta 0:00:01\r\u001b[K     |████████████████████████████    | 1.5MB 10.5MB/s eta 0:00:01\r\u001b[K     |████████████████████████████▏   | 1.5MB 10.5MB/s eta 0:00:01\r\u001b[K     |████████████████████████████▍   | 1.5MB 10.5MB/s eta 0:00:01\r\u001b[K     |████████████████████████████▌   | 1.5MB 10.5MB/s eta 0:00:01\r\u001b[K     |████████████████████████████▊   | 1.5MB 10.5MB/s eta 0:00:01\r\u001b[K     |█████████████████████████████   | 1.5MB 10.5MB/s eta 0:00:01\r\u001b[K     |█████████████████████████████▏  | 1.6MB 10.5MB/s eta 0:00:01\r\u001b[K     |█████████████████████████████▎  | 1.6MB 10.5MB/s eta 0:00:01\r\u001b[K     |█████████████████████████████▌  | 1.6MB 10.5MB/s eta 0:00:01\r\u001b[K     |█████████████████████████████▊  | 1.6MB 10.5MB/s eta 0:00:01\r\u001b[K     |██████████████████████████████  | 1.6MB 10.5MB/s eta 0:00:01\r\u001b[K     |██████████████████████████████  | 1.6MB 10.5MB/s eta 0:00:01\r\u001b[K     |██████████████████████████████▎ | 1.6MB 10.5MB/s eta 0:00:01\r\u001b[K     |██████████████████████████████▌ | 1.6MB 10.5MB/s eta 0:00:01\r\u001b[K     |██████████████████████████████▋ | 1.6MB 10.5MB/s eta 0:00:01\r\u001b[K     |██████████████████████████████▉ | 1.6MB 10.5MB/s eta 0:00:01\r\u001b[K     |███████████████████████████████ | 1.7MB 10.5MB/s eta 0:00:01\r\u001b[K     |███████████████████████████████▎| 1.7MB 10.5MB/s eta 0:00:01\r\u001b[K     |███████████████████████████████▍| 1.7MB 10.5MB/s eta 0:00:01\r\u001b[K     |███████████████████████████████▋| 1.7MB 10.5MB/s eta 0:00:01\r\u001b[K     |███████████████████████████████▉| 1.7MB 10.5MB/s eta 0:00:01\r\u001b[K     |████████████████████████████████| 1.7MB 10.5MB/s eta 0:00:01\r\u001b[K     |████████████████████████████████| 1.7MB 10.5MB/s \n",
            "\u001b[?25hRequirement already satisfied: Click>=7.0 in /usr/local/lib/python3.6/dist-packages (from youtokentome) (7.1.2)\n",
            "Installing collected packages: youtokentome\n",
            "Successfully installed youtokentome-1.0.6\n"
          ],
          "name": "stdout"
        }
      ]
    },
    {
      "cell_type": "code",
      "metadata": {
        "id": "5rg43AAFBh7e"
      },
      "source": [
        "# !wget https://developer.nvidia.com/compute/cuda/9.2/Prod/local_installers/cuda-repo-ubuntu1604-9-2-local_9.2.88-1_amd64 -O cuda-repo-ubuntu1604-9-2-local_9.2.88-1_amd64.deb\n",
        "# !dpkg -i cuda-repo-ubuntu1604-9-2-local_9.2.88-1_amd64.deb\n",
        "# !apt-key add /var/cuda-repo-9-2-local/7fa2af80.pub\n",
        "# !apt-get update\n",
        "# !apt-get install cuda"
      ],
      "execution_count": 2,
      "outputs": []
    },
    {
      "cell_type": "code",
      "metadata": {
        "id": "QIA1x7RzBq9D"
      },
      "source": [
        "# !pip install mxnet-cu92"
      ],
      "execution_count": 3,
      "outputs": []
    },
    {
      "cell_type": "code",
      "metadata": {
        "id": "FmrVqnzMMxMr"
      },
      "source": [
        "import math\n",
        "import numpy as np\n",
        "import pandas as pd\n",
        "\n",
        "import random\n",
        "import json\n",
        "import torch\n",
        "from torch.utils.data import Dataset, DataLoader\n",
        "\n",
        "from tqdm import tqdm\n",
        "\n",
        "from matplotlib import pyplot as plt\n",
        "\n",
        "import youtokentome as yttm"
      ],
      "execution_count": 2,
      "outputs": []
    },
    {
      "cell_type": "code",
      "metadata": {
        "id": "9WsCrjTDDG0-",
        "outputId": "d27356d4-60d1-40f7-831a-6e2458301866",
        "colab": {
          "base_uri": "https://localhost:8080/"
        }
      },
      "source": [
        "print(torch.cuda.device_count())"
      ],
      "execution_count": 3,
      "outputs": [
        {
          "output_type": "stream",
          "text": [
            "1\n"
          ],
          "name": "stdout"
        }
      ]
    },
    {
      "cell_type": "code",
      "metadata": {
        "id": "CQkrv7tBDa1g",
        "outputId": "4e6ec82e-981b-45b9-94fd-a897ba36fff1",
        "colab": {
          "base_uri": "https://localhost:8080/"
        }
      },
      "source": [
        "print(torch.cuda.get_device_name(0))"
      ],
      "execution_count": 4,
      "outputs": [
        {
          "output_type": "stream",
          "text": [
            "Tesla T4\n"
          ],
          "name": "stdout"
        }
      ]
    },
    {
      "cell_type": "code",
      "metadata": {
        "id": "xbq8KBUcDsMc"
      },
      "source": [
        "device = torch.device('cuda:0')"
      ],
      "execution_count": 5,
      "outputs": []
    },
    {
      "cell_type": "code",
      "metadata": {
        "id": "AB1OFN7RB-8w"
      },
      "source": [
        "# !pip install --upgrade --force-reinstall -q http://download.pytorch.org/whl/{accelerator}/torch-0.4.0-{platform}-linux_x86_64.whl torchvision"
      ],
      "execution_count": 8,
      "outputs": []
    },
    {
      "cell_type": "code",
      "metadata": {
        "id": "kQsaa759SujQ",
        "outputId": "ff7f91b8-cb10-4774-e9c2-d19704507f64",
        "colab": {
          "base_uri": "https://localhost:8080/"
        }
      },
      "source": [
        "from google.colab import drive\n",
        "drive.mount('/content/drive')"
      ],
      "execution_count": 9,
      "outputs": [
        {
          "output_type": "stream",
          "text": [
            "Mounted at /content/drive\n"
          ],
          "name": "stdout"
        }
      ]
    },
    {
      "cell_type": "code",
      "metadata": {
        "id": "fsUhzBGgT8R-"
      },
      "source": [
        "# !unzip '/content/drive/My Drive/unsupervised.csv.zip'"
      ],
      "execution_count": 11,
      "outputs": []
    },
    {
      "cell_type": "code",
      "metadata": {
        "id": "Xqzqdz21Vh39",
        "outputId": "bf6acb16-29e9-42fe-c67b-7e1f1dcf0c23",
        "colab": {
          "base_uri": "https://localhost:8080/"
        }
      },
      "source": [
        "!unzip '/content/drive/My Drive/qa_data.jsonl.zip'"
      ],
      "execution_count": 12,
      "outputs": [
        {
          "output_type": "stream",
          "text": [
            "Archive:  /content/drive/My Drive/qa_data.jsonl.zip\n",
            "  inflating: qa_data.jsonl           \n",
            "  inflating: __MACOSX/._qa_data.jsonl  \n"
          ],
          "name": "stdout"
        }
      ]
    },
    {
      "cell_type": "code",
      "metadata": {
        "id": "hpw5KDsGOrTT"
      },
      "source": [
        "# questions = pd.read_csv('unsupervised.csv')\n",
        "# questions.question = questions.question.map(lambda x: x.lower())\n",
        "\n",
        "qa_data = list()\n",
        "\n",
        "with open('qa_data.jsonl') as file_object:\n",
        "    for line in file_object:\n",
        "        qa_data.append(json.loads(line.strip()))\n",
        "file_object.close()\n",
        "qa_data = qa_data[:math.ceil(len(qa_data)*0.4)]#!!!!"
      ],
      "execution_count": 13,
      "outputs": []
    },
    {
      "cell_type": "code",
      "metadata": {
        "id": "J-VwC9f4gIpr",
        "outputId": "22c81bb7-cc52-4763-8fbf-d23726c2c6e4",
        "colab": {
          "base_uri": "https://localhost:8080/"
        }
      },
      "source": [
        "qa_data[0]"
      ],
      "execution_count": 14,
      "outputs": [
        {
          "output_type": "execute_result",
          "data": {
            "text/plain": [
              "{'category': 'Бизнес, Финансы',\n",
              " 'question': 'долго ли идут деньги с яндексденег на карту visa?',\n",
              " 'responses': ['нет. прорыв 35 ;)']}"
            ]
          },
          "metadata": {
            "tags": []
          },
          "execution_count": 14
        }
      ]
    },
    {
      "cell_type": "code",
      "metadata": {
        "id": "ns8YADUtVxQT"
      },
      "source": [
        "with open('for_bpe.txt', 'w', encoding='utf-8') as f:\n",
        "    for que in qa_data:\n",
        "        f.write(que['question'] + '\\n')\n",
        "f.close()\n",
        "\n",
        "vocab_size = 30_000\n",
        "model_path = 'pretrained_bpe_lm.model'"
      ],
      "execution_count": 15,
      "outputs": []
    },
    {
      "cell_type": "code",
      "metadata": {
        "id": "Fy6lmKpjW8ed",
        "outputId": "f5fe645a-3053-4fed-b285-e6b32e7bb531",
        "colab": {
          "base_uri": "https://localhost:8080/"
        }
      },
      "source": [
        "%%time\n",
        "# обучаем\n",
        "# раскомментируйте этот код, чтобы обучить bpe\n",
        "yttm.BPE.train(data='for_bpe.txt', vocab_size=vocab_size, model=model_path)"
      ],
      "execution_count": 16,
      "outputs": [
        {
          "output_type": "stream",
          "text": [
            "CPU times: user 10.4 s, sys: 1.21 s, total: 11.6 s\n",
            "Wall time: 7.18 s\n"
          ],
          "name": "stdout"
        },
        {
          "output_type": "execute_result",
          "data": {
            "text/plain": [
              "<youtokentome.youtokentome.BPE at 0x7fd458802f60>"
            ]
          },
          "metadata": {
            "tags": []
          },
          "execution_count": 16
        }
      ]
    },
    {
      "cell_type": "code",
      "metadata": {
        "id": "I6Pyz-GbXmEQ"
      },
      "source": [
        "# загружаем токенизатор\n",
        "tokenizer = yttm.BPE(model=model_path)"
      ],
      "execution_count": 17,
      "outputs": []
    },
    {
      "cell_type": "code",
      "metadata": {
        "id": "HBIho8jAixIJ"
      },
      "source": [
        "for i in qa_data:\n",
        "  i['tok_quest'] = tokenizer.encode(i['question'], bos=True, eos=True)\n",
        "  if i['responses']:\n",
        "    i['tok_answ'] = tokenizer.encode(i['responses'][0], bos=True, eos=True)\n",
        "  else:\n",
        "    i['tok_answ'] = tokenizer.encode(i['responses'], bos=True, eos=True)"
      ],
      "execution_count": 18,
      "outputs": []
    },
    {
      "cell_type": "code",
      "metadata": {
        "id": "lT2ykmymVttb"
      },
      "source": [
        "train_border = math.ceil(len(qa_data)*0.6)\n",
        "test_border = math.ceil(len(qa_data)*0.8)"
      ],
      "execution_count": 19,
      "outputs": []
    },
    {
      "cell_type": "code",
      "metadata": {
        "id": "LaB8jxb-VtwO"
      },
      "source": [
        "train_df = pd.DataFrame(qa_data[:train_border])\n",
        "test_df = pd.DataFrame(qa_data[train_border:test_border])\n",
        "validation_df = pd.DataFrame(qa_data[test_border: ])"
      ],
      "execution_count": 20,
      "outputs": []
    },
    {
      "cell_type": "code",
      "metadata": {
        "id": "5QbWVA64VxTD",
        "outputId": "04490fd3-bb5b-414f-901c-421a130640b2",
        "colab": {
          "base_uri": "https://localhost:8080/",
          "height": 597
        }
      },
      "source": [
        "train_df\n"
      ],
      "execution_count": 21,
      "outputs": [
        {
          "output_type": "execute_result",
          "data": {
            "text/html": [
              "<div>\n",
              "<style scoped>\n",
              "    .dataframe tbody tr th:only-of-type {\n",
              "        vertical-align: middle;\n",
              "    }\n",
              "\n",
              "    .dataframe tbody tr th {\n",
              "        vertical-align: top;\n",
              "    }\n",
              "\n",
              "    .dataframe thead th {\n",
              "        text-align: right;\n",
              "    }\n",
              "</style>\n",
              "<table border=\"1\" class=\"dataframe\">\n",
              "  <thead>\n",
              "    <tr style=\"text-align: right;\">\n",
              "      <th></th>\n",
              "      <th>question</th>\n",
              "      <th>category</th>\n",
              "      <th>responses</th>\n",
              "      <th>tok_quest</th>\n",
              "      <th>tok_answ</th>\n",
              "    </tr>\n",
              "  </thead>\n",
              "  <tbody>\n",
              "    <tr>\n",
              "      <th>0</th>\n",
              "      <td>долго ли идут деньги с яндексденег на карту visa?</td>\n",
              "      <td>Бизнес, Финансы</td>\n",
              "      <td>[нет. прорыв 35 ;)]</td>\n",
              "      <td>[2, 1678, 389, 5459, 1030, 325, 8439, 23525, 2...</td>\n",
              "      <td>[2, 3499, 392, 441, 14, 5232, 7788, 3]</td>\n",
              "    </tr>\n",
              "    <tr>\n",
              "      <th>1</th>\n",
              "      <td>можно ли зарегистрировать авто в другом регионе</td>\n",
              "      <td>Авто, Мото</td>\n",
              "      <td>[можно на родственника из того региона.. .  а ...</td>\n",
              "      <td>[2, 424, 389, 16450, 665, 323, 4305, 17770, 3]</td>\n",
              "      <td>[2, 424, 342, 4823, 1005, 451, 1492, 13784, 38...</td>\n",
              "    </tr>\n",
              "    <tr>\n",
              "      <th>2</th>\n",
              "      <td>что делать если у меня очень тонкие ногти а хо...</td>\n",
              "      <td>Красота и Здоровье</td>\n",
              "      <td>[витамины и умная эмаль (каждый день), ванночк...</td>\n",
              "      <td>[2, 361, 584, 464, 358, 586, 683, 16767, 4629,...</td>\n",
              "      <td>[2, 7534, 336, 19442, 15298, 349, 10310, 25519...</td>\n",
              "    </tr>\n",
              "    <tr>\n",
              "      <th>3</th>\n",
              "      <td>в чем отличие медитации от йоги?</td>\n",
              "      <td>Спорт</td>\n",
              "      <td>[букв в йоге меньше, в медитации ты просто сид...</td>\n",
              "      <td>[2, 323, 539, 7025, 3421, 7701, 388, 3012, 408...</td>\n",
              "      <td>[2, 6709, 323, 3012, 1094, 2991, 3]</td>\n",
              "    </tr>\n",
              "    <tr>\n",
              "      <th>4</th>\n",
              "      <td>когда начнут линейку фильмов про лигу чемпионов?</td>\n",
              "      <td>Спорт</td>\n",
              "      <td>[а не фильм? жалко... а я то думал - хорошая к...</td>\n",
              "      <td>[2, 572, 13653, 14803, 402, 3978, 392, 10868, ...</td>\n",
              "      <td>[2, 364, 363, 2368, 4915, 434, 364, 438, 425, ...</td>\n",
              "    </tr>\n",
              "    <tr>\n",
              "      <th>...</th>\n",
              "      <td>...</td>\n",
              "      <td>...</td>\n",
              "      <td>...</td>\n",
              "      <td>...</td>\n",
              "      <td>...</td>\n",
              "    </tr>\n",
              "    <tr>\n",
              "      <th>674110</th>\n",
              "      <td>могут ли в 15 лет взять работать санитаркой в ...</td>\n",
              "      <td>Красота и Здоровье</td>\n",
              "      <td>[могут на неполный рабочий день., да . с работ...</td>\n",
              "      <td>[2, 1376, 389, 323, 1355, 624, 1223, 1483, 248...</td>\n",
              "      <td>[2, 1376, 342, 14369, 498, 7818, 6806, 3]</td>\n",
              "    </tr>\n",
              "    <tr>\n",
              "      <th>674111</th>\n",
              "      <td>можно сократить беременость симки?</td>\n",
              "      <td>Семья, Дом, Дети</td>\n",
              "      <td>[никак. там она и так короткая. 3дня, ахахахах...</td>\n",
              "      <td>[2, 424, 6793, 1568, 17416, 955, 1931, 792, 3]</td>\n",
              "      <td>[2, 2845, 29, 924, 809, 336, 447, 18891, 29, 6...</td>\n",
              "    </tr>\n",
              "    <tr>\n",
              "      <th>674112</th>\n",
              "      <td>в каком случае нужно обязательно менять работу?</td>\n",
              "      <td>Работа, Карьера</td>\n",
              "      <td>[когда деваться некуда..., кода босс сильно да...</td>\n",
              "      <td>[2, 323, 1017, 4750, 681, 2299, 4106, 3332, 3]</td>\n",
              "      <td>[2, 572, 400, 1186, 18423, 434, 3]</td>\n",
              "    </tr>\n",
              "    <tr>\n",
              "      <th>674113</th>\n",
              "      <td>вы часто сами себя накручиваете на ровном мест...</td>\n",
              "      <td>Знакомства, Любовь, Отношения</td>\n",
              "      <td>[если меня нет рядом, значит мыссленно и душой...</td>\n",
              "      <td>[2, 376, 1129, 2298, 869, 17747, 405, 2074, 34...</td>\n",
              "      <td>[2, 464, 586, 680, 25026, 1555, 769, 1849, 122...</td>\n",
              "    </tr>\n",
              "    <tr>\n",
              "      <th>674114</th>\n",
              "      <td>друзья! подскажите какой-нибудь фильмец интере...</td>\n",
              "      <td>Искусство и Культура</td>\n",
              "      <td>[звёздная пыль  фокус-покус, ученик чародея, в...</td>\n",
              "      <td>[2, 12917, 483, 3987, 15076, 3582, 36, 1140, 1...</td>\n",
              "      <td>[2, 11266, 616, 17145, 9961, 5078, 996, 3]</td>\n",
              "    </tr>\n",
              "  </tbody>\n",
              "</table>\n",
              "<p>674115 rows × 5 columns</p>\n",
              "</div>"
            ],
            "text/plain": [
              "                                                 question  ...                                           tok_answ\n",
              "0       долго ли идут деньги с яндексденег на карту visa?  ...             [2, 3499, 392, 441, 14, 5232, 7788, 3]\n",
              "1         можно ли зарегистрировать авто в другом регионе  ...  [2, 424, 342, 4823, 1005, 451, 1492, 13784, 38...\n",
              "2       что делать если у меня очень тонкие ногти а хо...  ...  [2, 7534, 336, 19442, 15298, 349, 10310, 25519...\n",
              "3                        в чем отличие медитации от йоги?  ...                [2, 6709, 323, 3012, 1094, 2991, 3]\n",
              "4        когда начнут линейку фильмов про лигу чемпионов?  ...  [2, 364, 363, 2368, 4915, 434, 364, 438, 425, ...\n",
              "...                                                   ...  ...                                                ...\n",
              "674110  могут ли в 15 лет взять работать санитаркой в ...  ...          [2, 1376, 342, 14369, 498, 7818, 6806, 3]\n",
              "674111                 можно сократить беременость симки?  ...  [2, 2845, 29, 924, 809, 336, 447, 18891, 29, 6...\n",
              "674112    в каком случае нужно обязательно менять работу?  ...                 [2, 572, 400, 1186, 18423, 434, 3]\n",
              "674113  вы часто сами себя накручиваете на ровном мест...  ...  [2, 464, 586, 680, 25026, 1555, 769, 1849, 122...\n",
              "674114  друзья! подскажите какой-нибудь фильмец интере...  ...         [2, 11266, 616, 17145, 9961, 5078, 996, 3]\n",
              "\n",
              "[674115 rows x 5 columns]"
            ]
          },
          "metadata": {
            "tags": []
          },
          "execution_count": 21
        }
      ]
    },
    {
      "cell_type": "code",
      "metadata": {
        "id": "HcHhlLMVVxVv"
      },
      "source": [
        ""
      ],
      "execution_count": 21,
      "outputs": []
    },
    {
      "cell_type": "code",
      "metadata": {
        "id": "ki2PI2AhV-qF",
        "outputId": "5e5ac1c5-0cbf-4209-d256-33d42b6da188",
        "colab": {
          "base_uri": "https://localhost:8080/"
        }
      },
      "source": [
        "tokenizer.encode('аа памагити пожалст', bos=True, eos=True, output_type=yttm.OutputType.SUBWORD)"
      ],
      "execution_count": 22,
      "outputs": [
        {
          "output_type": "execute_result",
          "data": {
            "text/plain": [
              "['<BOS>', '▁аа', '▁па', 'ма', 'ги', 'ти', '▁пожал', 'ст', '<EOS>']"
            ]
          },
          "metadata": {
            "tags": []
          },
          "execution_count": 22
        }
      ]
    },
    {
      "cell_type": "code",
      "metadata": {
        "id": "9xX_P_oKV-3r"
      },
      "source": [
        "\n",
        "batch_size = 64\n",
        "\n",
        "max_len = 32 # это типа с запасом?\n",
        "\n",
        "pad_index = 0\n",
        "eos_index = 3"
      ],
      "execution_count": 23,
      "outputs": []
    },
    {
      "cell_type": "code",
      "metadata": {
        "id": "15UJnunpV-tE"
      },
      "source": [
        "class LanguageModelData(torch.utils.data.Dataset):\n",
        "    \n",
        "    def __init__(self, data, max_len, pad_index, eos_index):\n",
        "        \n",
        "        self.data = data\n",
        "        \n",
        "        self.max_len = max_len\n",
        "        \n",
        "        self.pad_index = pad_index\n",
        "        self.eos_index = eos_index\n",
        "        \n",
        "    def __len__(self):\n",
        "        return len(self.data)\n",
        "    \n",
        "    def __getitem__(self, index):\n",
        "        \n",
        "        x = self.data['tok_quest'][index][:self.max_len]\n",
        "        y = self.data['tok_answ'][index][:self.max_len]        \n",
        "        \n",
        "        pads_x = [self.pad_index] * (self.max_len - len(x))\n",
        "        pads_y = [self.pad_index] * (self.max_len - len(y))\n",
        "\n",
        "        x = torch.tensor(x + pads_x).long()\n",
        "        y = torch.tensor(y + pads_y).long()\n",
        "        \n",
        "        return x, y"
      ],
      "execution_count": 24,
      "outputs": []
    },
    {
      "cell_type": "code",
      "metadata": {
        "id": "0Xt1uMx2rCN6",
        "outputId": "f3ec06f9-2ec0-4d4c-c72f-d904ea993029",
        "colab": {
          "base_uri": "https://localhost:8080/"
        }
      },
      "source": [
        "\n",
        "torch.tensor([2] + [2, 3499, 392, 441, 14, 5232, 7788, 3]).long()"
      ],
      "execution_count": 25,
      "outputs": [
        {
          "output_type": "execute_result",
          "data": {
            "text/plain": [
              "tensor([   2,    2, 3499,  392,  441,   14, 5232, 7788,    3])"
            ]
          },
          "metadata": {
            "tags": []
          },
          "execution_count": 25
        }
      ]
    },
    {
      "cell_type": "code",
      "metadata": {
        "id": "LaR12H6ge9Je",
        "outputId": "92dd685a-d51d-4a1c-de6c-3ddb6383f958",
        "colab": {
          "base_uri": "https://localhost:8080/"
        }
      },
      "source": [
        "train_df['tok_answ'][0]"
      ],
      "execution_count": 26,
      "outputs": [
        {
          "output_type": "execute_result",
          "data": {
            "text/plain": [
              "[2, 3499, 392, 441, 14, 5232, 7788, 3]"
            ]
          },
          "metadata": {
            "tags": []
          },
          "execution_count": 26
        }
      ]
    },
    {
      "cell_type": "code",
      "metadata": {
        "id": "7bux4HtWe9G7",
        "outputId": "17add1d4-bb01-41fd-8e22-d721113d0ed2",
        "colab": {
          "base_uri": "https://localhost:8080/"
        }
      },
      "source": [
        "train_df['tok_quest'][0]"
      ],
      "execution_count": 27,
      "outputs": [
        {
          "output_type": "execute_result",
          "data": {
            "text/plain": [
              "[2, 1678, 389, 5459, 1030, 325, 8439, 23525, 26, 342, 3111, 7417, 5752, 3]"
            ]
          },
          "metadata": {
            "tags": []
          },
          "execution_count": 27
        }
      ]
    },
    {
      "cell_type": "code",
      "metadata": {
        "id": "rBdxi6f-wsGT"
      },
      "source": [
        "# sent = tokenizer.encode('аа памагити пожалст', bos=True, eos=True)\n",
        "# x = sent[:max_len]\n",
        "\n",
        "# pads_x = [pad_index] * (max_len - len(x))\n",
        "# x = torch.tensor([x + pads_x]).long()\n",
        "# x = x.to(device)\n",
        "# x\n",
        "# with torch.no_grad():\n",
        "#   pred = model(x)\n",
        "# pred"
      ],
      "execution_count": 28,
      "outputs": []
    },
    {
      "cell_type": "code",
      "metadata": {
        "id": "aPq0PyOIV-yT",
        "outputId": "abfbf282-61d5-41a2-8806-a67eada4f25b",
        "colab": {
          "base_uri": "https://localhost:8080/"
        }
      },
      "source": [
        "\n",
        "# надо выбрать максимальную длину\n",
        "lengths = np.array([len(x) for x in train_df['tok_quest']])\n",
        "np.percentile(lengths, q=95)"
      ],
      "execution_count": 29,
      "outputs": [
        {
          "output_type": "execute_result",
          "data": {
            "text/plain": [
              "28.0"
            ]
          },
          "metadata": {
            "tags": []
          },
          "execution_count": 29
        }
      ]
    },
    {
      "cell_type": "code",
      "metadata": {
        "id": "YjOOOtBAV-9b",
        "outputId": "f93d51a6-116c-4d79-bae4-ad850e01ff50",
        "colab": {
          "base_uri": "https://localhost:8080/"
        }
      },
      "source": [
        "train_dataset = LanguageModelData(data=train_df, max_len=max_len, \n",
        "                                  pad_index=pad_index, eos_index=eos_index)\n",
        "validation_dataset = LanguageModelData(data=validation_df, max_len=max_len,\n",
        "                                       pad_index=pad_index, eos_index=eos_index)\n",
        "\n",
        "len(train_dataset), len(validation_dataset)"
      ],
      "execution_count": 30,
      "outputs": [
        {
          "output_type": "execute_result",
          "data": {
            "text/plain": [
              "(674115, 224705)"
            ]
          },
          "metadata": {
            "tags": []
          },
          "execution_count": 30
        }
      ]
    },
    {
      "cell_type": "code",
      "metadata": {
        "id": "zswVvXWZV_Fq"
      },
      "source": [
        "train_loader = torch.utils.data.DataLoader(train_dataset, batch_size=batch_size)\n",
        "validation_loader = torch.utils.data.DataLoader(validation_dataset, batch_size=batch_size)"
      ],
      "execution_count": 31,
      "outputs": []
    },
    {
      "cell_type": "code",
      "metadata": {
        "id": "JgM0ck_nV_DU"
      },
      "source": [
        "for x, y in train_loader:\n",
        "    break"
      ],
      "execution_count": 32,
      "outputs": []
    },
    {
      "cell_type": "code",
      "metadata": {
        "id": "F3XOPsByV-wF",
        "outputId": "67fac07b-a50b-46e9-c1db-3d6a5ba3ff99",
        "colab": {
          "base_uri": "https://localhost:8080/"
        }
      },
      "source": [
        "# пробежимся по итератору, чтобы убедиться что ничего не падает и он работает достаточно быстро\n",
        "\n",
        "progress_bar = tqdm(total=len(validation_loader.dataset), desc='Testing')\n",
        "\n",
        "for x, y in validation_loader:\n",
        "    progress_bar.update(x.size(0))\n",
        "    \n",
        "progress_bar.close()"
      ],
      "execution_count": 33,
      "outputs": [
        {
          "output_type": "stream",
          "text": [
            "Testing: 100%|██████████| 224705/224705 [00:06<00:00, 33795.21it/s]\n"
          ],
          "name": "stderr"
        }
      ]
    },
    {
      "cell_type": "code",
      "metadata": {
        "id": "r4zX-hPQrZGM"
      },
      "source": [
        "class LanguageModel(torch.nn.Module):\n",
        "    \n",
        "    def __init__(self, vocab_size, embedding_dim, model_dim, num_layers, dropout, padding_idx):\n",
        "        \n",
        "        super().__init__()\n",
        "        \n",
        "        # просто эмбеддинги\n",
        "        self.embedding_layer = torch.nn.Embedding(num_embeddings=vocab_size, \n",
        "                                                  embedding_dim=embedding_dim,\n",
        "                                                  padding_idx=padding_idx)\n",
        "        \n",
        "        # просто lstm\n",
        "        self.lstm = torch.nn.LSTM(input_size=embedding_dim, \n",
        "                                  hidden_size=model_dim,\n",
        "                                  num_layers=num_layers, \n",
        "                                  dropout=0.3,\n",
        "                                  batch_first=True)\n",
        "        \n",
        "        # выходная матрица эмбеддингов\n",
        "        # количество выходных фичей равно размеру словаря\n",
        "        # то есть это задача мультиклассовой классификации, но только классов очень много\n",
        "        self.language_model_head = torch.nn.Linear(in_features=model_dim,\n",
        "                                                   out_features=vocab_size,\n",
        "                                                   bias=False)\n",
        "        \n",
        "    def forward(self, x):\n",
        "        \n",
        "        x = self.embedding_layer(x)\n",
        "        \n",
        "        x, _ = self.lstm(x)\n",
        "        \n",
        "        # к каждому элементу последовательности применяется выходная матрица эмбеддингов, \n",
        "        # которая переводит вектор lstm в предсказание конкретного слова\n",
        "        x = self.language_model_head(x)\n",
        "        \n",
        "        return x"
      ],
      "execution_count": 34,
      "outputs": []
    },
    {
      "cell_type": "code",
      "metadata": {
        "id": "tLGCx38QrZRz"
      },
      "source": [
        "embedding_dim = 128\n",
        "model_dim = 128\n",
        "num_layers = 2\n",
        "dropout = 0.35"
      ],
      "execution_count": 35,
      "outputs": []
    },
    {
      "cell_type": "code",
      "metadata": {
        "id": "SNOUA4RirZgp",
        "outputId": "b2c33122-fa86-4de6-b176-1dc3581cfa55",
        "colab": {
          "base_uri": "https://localhost:8080/"
        }
      },
      "source": [
        "model = LanguageModel(vocab_size=vocab_size, embedding_dim=embedding_dim,\n",
        "                      model_dim=model_dim, num_layers=num_layers,\n",
        "                      dropout=dropout, padding_idx=pad_index)\n",
        "model.to(device)"
      ],
      "execution_count": 36,
      "outputs": [
        {
          "output_type": "execute_result",
          "data": {
            "text/plain": [
              "LanguageModel(\n",
              "  (embedding_layer): Embedding(30000, 128, padding_idx=0)\n",
              "  (lstm): LSTM(128, 128, num_layers=2, batch_first=True, dropout=0.3)\n",
              "  (language_model_head): Linear(in_features=128, out_features=30000, bias=False)\n",
              ")"
            ]
          },
          "metadata": {
            "tags": []
          },
          "execution_count": 36
        }
      ]
    },
    {
      "cell_type": "code",
      "metadata": {
        "id": "dKlwwNMOrZmQ"
      },
      "source": [
        "\n",
        "# у нас есть тег eos (end of sentence), который есть в каждом тренировочном примере\n",
        "# мы не будем считать лосс для падов\n",
        "# вместо этого будем останавливать генерирование моделью в момент, когда она сгенерирует тег eos\n",
        "# \n",
        "criterion = torch.nn.CrossEntropyLoss(ignore_index=pad_index)\n",
        "optimizer = torch.optim.Adam(params=model.parameters())"
      ],
      "execution_count": 37,
      "outputs": []
    },
    {
      "cell_type": "code",
      "metadata": {
        "id": "0fK2mmj-rZjy"
      },
      "source": [
        "\n",
        "# функция для обучения одной эпохи\n",
        "# почти все как всегда\n",
        "\n",
        "def train(model, loader, criterion, optimizer, last_n_losses=500, verbose=True):\n",
        "    \n",
        "    losses = []\n",
        "\n",
        "    progress_bar = tqdm(total=len(loader), disable=not verbose, desc='Train')\n",
        "\n",
        "    model.train()\n",
        "\n",
        "    for x, y in loader:\n",
        "\n",
        "        x = x.to(device)\n",
        "        y = y.to(device)\n",
        "\n",
        "        pred = model(x)\n",
        "\n",
        "        loss = criterion(pred.view(-1, pred.size(-1)), y.view(-1))\n",
        "\n",
        "        optimizer.zero_grad()\n",
        "        loss.backward()\n",
        "        optimizer.step()\n",
        "\n",
        "        losses.append(loss.item())\n",
        "\n",
        "        progress_bar.set_postfix(loss=np.mean(losses[-last_n_losses:]),\n",
        "                                 perplexity=np.exp(np.mean(losses[-last_n_losses:])))\n",
        "\n",
        "        progress_bar.update()\n",
        "\n",
        "    progress_bar.close()\n",
        "    \n",
        "    return losses"
      ],
      "execution_count": 38,
      "outputs": []
    },
    {
      "cell_type": "code",
      "metadata": {
        "id": "2MciaRQurZPF",
        "outputId": "9a171aed-3778-419e-ff50-dc70453b9a36",
        "colab": {
          "base_uri": "https://localhost:8080/"
        }
      },
      "source": [
        "epoch_losses = train(model, validation_loader, criterion, optimizer)"
      ],
      "execution_count": 39,
      "outputs": [
        {
          "output_type": "stream",
          "text": [
            "Train: 100%|██████████| 3512/3512 [01:49<00:00, 32.10it/s, loss=7.28, perplexity=1.44e+3]\n"
          ],
          "name": "stderr"
        }
      ]
    },
    {
      "cell_type": "code",
      "metadata": {
        "id": "D1VxuH5VrZMc",
        "outputId": "54706b89-e1bb-4cb4-d286-67f167196bca",
        "colab": {
          "base_uri": "https://localhost:8080/",
          "height": 857
        }
      },
      "source": [
        "\n",
        "plt.figure(figsize=(14, 14))\n",
        "plt.xlabel('Номер батча')\n",
        "plt.ylabel('Значение функции потерь')\n",
        "plt.title('Процесс обучения')\n",
        "plt.plot(epoch_losses)"
      ],
      "execution_count": 40,
      "outputs": [
        {
          "output_type": "execute_result",
          "data": {
            "text/plain": [
              "[<matplotlib.lines.Line2D at 0x7fd3917df198>]"
            ]
          },
          "metadata": {
            "tags": []
          },
          "execution_count": 40
        },
        {
          "output_type": "display_data",
          "data": {
            "image/png": "[encoded data removed]",
            "text/plain": [
              "<Figure size 1008x1008 with 1 Axes>"
            ]
          },
          "metadata": {
            "tags": [],
            "needs_background": "light"
          }
        }
      ]
    },
    {
      "cell_type": "code",
      "metadata": {
        "id": "nti29PFSrZKq"
      },
      "source": [
        "def evaluate(model, loader, criterion, last_n_losses=500, verbose=True):\n",
        "    \n",
        "    losses = []\n",
        "\n",
        "    progress_bar = tqdm(total=len(loader), disable=not verbose, desc='Evaluate')\n",
        "\n",
        "    model.eval()\n",
        "\n",
        "    for x, y in loader:\n",
        "\n",
        "        x = x.to(device)\n",
        "        y = y.to(device)\n",
        "\n",
        "        with torch.no_grad():\n",
        "            pred = model(x)\n",
        "\n",
        "        loss = criterion(pred.view(-1, pred.size(-1)), y.view(-1))\n",
        "\n",
        "        losses.append(loss.item())\n",
        "\n",
        "        progress_bar.set_postfix(loss=np.mean(losses[-last_n_losses:]),\n",
        "                                 perplexity=np.exp(np.mean(losses[-last_n_losses:])))\n",
        "\n",
        "        progress_bar.update()\n",
        "\n",
        "    progress_bar.close()\n",
        "    \n",
        "    return losses"
      ],
      "execution_count": 41,
      "outputs": []
    },
    {
      "cell_type": "code",
      "metadata": {
        "id": "y2Z9xyRirZDe",
        "outputId": "c2750134-2e09-4516-8087-89aabd5134b3",
        "colab": {
          "base_uri": "https://localhost:8080/",
          "height": 54
        }
      },
      "source": [
        "\n",
        "val_losses = evaluate(model, validation_loader, criterion)\n",
        "f'Val loss - {np.mean(val_losses):.3f} perplexity - {np.exp(np.mean(val_losses)):.3f}'"
      ],
      "execution_count": 42,
      "outputs": [
        {
          "output_type": "stream",
          "text": [
            "Evaluate: 100%|██████████| 3512/3512 [00:50<00:00, 70.23it/s, loss=7.19, perplexity=1.32e+3]\n"
          ],
          "name": "stderr"
        },
        {
          "output_type": "execute_result",
          "data": {
            "application/vnd.google.colaboratory.intrinsic+json": {
              "type": "string"
            },
            "text/plain": [
              "'Val loss - 7.235 perplexity - 1387.445'"
            ]
          },
          "metadata": {
            "tags": []
          },
          "execution_count": 42
        }
      ]
    },
    {
      "cell_type": "code",
      "metadata": {
        "id": "j2w0Hr2CwibG"
      },
      "source": [
        ""
      ],
      "execution_count": 42,
      "outputs": []
    },
    {
      "cell_type": "code",
      "metadata": {
        "id": "Mc4K9RB9wiYo"
      },
      "source": [
        ""
      ],
      "execution_count": 42,
      "outputs": []
    },
    {
      "cell_type": "code",
      "metadata": {
        "id": "Q-7-ZJAErZAl"
      },
      "source": [
        "class SpatialDropout(torch.nn.Dropout2d):\n",
        "    \n",
        "    def __init__(self, p=0.5):\n",
        "        super().__init__()\n",
        "        self.p = p\n",
        "    \n",
        "    def forward(self, x):\n",
        "        x = x.to(device)\n",
        "        x = x.unsqueeze(2)    # (N, T, 1, K)\n",
        "        x = x.permute(0, 3, 2, 1)  # (N, K, 1, T)\n",
        "        x = super(SpatialDropout, self).forward(x)  # (N, K, 1, T)\n",
        "        x = x.permute(0, 3, 2, 1)  # (N, T, 1, K)\n",
        "        x = x.squeeze(2)  # (N, T, K)\n",
        "        return x"
      ],
      "execution_count": 43,
      "outputs": []
    },
    {
      "cell_type": "code",
      "metadata": {
        "id": "nr84KChawgaU"
      },
      "source": [
        "spatial_dropout = SpatialDropout()\n",
        "common_dropout = torch.nn.Dropout()"
      ],
      "execution_count": 44,
      "outputs": []
    },
    {
      "cell_type": "code",
      "metadata": {
        "id": "RFNZo_dQwggD"
      },
      "source": [
        "class LanguageModel(torch.nn.Module):\n",
        "    \n",
        "    def __init__(self, vocab_size, embedding_dim, model_dim, num_layers,\n",
        "                 padding_idx, dropout=0.35, weight_tying=True):\n",
        "        \n",
        "        super().__init__()\n",
        "        \n",
        "        self.embedding_layer = torch.nn.Embedding(num_embeddings=vocab_size,\n",
        "                                                  embedding_dim=embedding_dim, padding_idx=padding_idx)\n",
        "        \n",
        "        self.embedding_dropout = SpatialDropout(p=dropout)\n",
        "        \n",
        "        self.lstm = torch.nn.LSTM(input_size=embedding_dim, hidden_size=model_dim, \n",
        "                                  num_layers=num_layers, dropout=dropout, batch_first=True)\n",
        "        \n",
        "        self.language_model_head = torch.nn.Linear(in_features=model_dim, out_features=vocab_size, bias=False)\n",
        "        \n",
        "        # как раз здесь задаем, чтобы веса входящего и выходящего слоя эмбеддингов шарились\n",
        "        if weight_tying and embedding_dim == model_dim:\n",
        "            self.language_model_head.weight = self.embedding_layer.weight\n",
        "        \n",
        "    def forward(self, x):\n",
        "\n",
        "        x = self.embedding_layer(x)\n",
        "        \n",
        "        x = self.embedding_dropout(x)\n",
        "        \n",
        "        x, _ = self.lstm(x)\n",
        "        \n",
        "        x = self.language_model_head(x)\n",
        "        \n",
        "        return x"
      ],
      "execution_count": 45,
      "outputs": []
    },
    {
      "cell_type": "code",
      "metadata": {
        "id": "7ZENU87kwgmW"
      },
      "source": [
        "model = LanguageModel(vocab_size=vocab_size, embedding_dim=embedding_dim, model_dim=model_dim, \n",
        "                      num_layers=num_layers, dropout=dropout, padding_idx=pad_index, weight_tying=True)"
      ],
      "execution_count": 46,
      "outputs": []
    },
    {
      "cell_type": "code",
      "metadata": {
        "id": "S3Qw-UZgwgkP"
      },
      "source": [
        "model.to(device)\n",
        "optimizer = torch.optim.Adam(params=model.parameters())"
      ],
      "execution_count": 47,
      "outputs": []
    },
    {
      "cell_type": "code",
      "metadata": {
        "id": "QV8IlkjXwgd_",
        "outputId": "16a0eb9d-7c0e-4a1b-86ce-ed97749431fd",
        "colab": {
          "base_uri": "https://localhost:8080/"
        }
      },
      "source": [
        "epoch_losses = train(model, validation_loader, criterion, optimizer)"
      ],
      "execution_count": 48,
      "outputs": [
        {
          "output_type": "stream",
          "text": [
            "Train: 100%|██████████| 3512/3512 [01:46<00:00, 32.99it/s, loss=7.32, perplexity=1.52e+3]\n"
          ],
          "name": "stderr"
        }
      ]
    },
    {
      "cell_type": "code",
      "metadata": {
        "id": "VmsRCeWLwgXl"
      },
      "source": [
        "\n",
        "model.eval()\n",
        "\n",
        "with torch.no_grad():\n",
        "\n",
        "    x = x.to(device)\n",
        "    \n",
        "    pred = []\n",
        "    \n",
        "    zeros = torch.zeros(num_layers, x.size(0), model_dim, dtype=torch.float32, device=x.device)\n",
        "    hx = (zeros, zeros)\n",
        "    \n",
        "    # семплируем начальный токен bos для каждого предложения\n",
        "    current_token = x[:, 0].unsqueeze(1)\n",
        "    \n",
        "    for timestamp in range(x.size(1)):\n",
        "        \n",
        "        # пока все то же самое\n",
        "        emb = model.embedding_layer(current_token)\n",
        "        \n",
        "\n",
        "        emb = model.embedding_dropout(emb)\n",
        "\n",
        "        lstm_out, hx = model.lstm(emb, hx)\n",
        "\n",
        "        next_token_prediction = model.language_model_head(lstm_out)\n",
        "        \n",
        "        pred.append(next_token_prediction)\n",
        "        \n",
        "        # но вот здесь мы семплируем предсказания сети и передадим это как текущий токен для следующего таймстемпа\n",
        "        current_token = next_token_prediction.argmax(dim=2)\n",
        "        \n",
        "    pred = torch.cat(pred, dim=1)\n",
        "    \n",
        "model.train()\n",
        "    \n",
        "tokens = pred.argmax(dim=-1).detach().cpu().numpy()"
      ],
      "execution_count": 49,
      "outputs": []
    },
    {
      "cell_type": "code",
      "metadata": {
        "id": "Nu3cRjnZ5cG1",
        "outputId": "19044c40-368e-4b7c-de67-114377e18b9b",
        "colab": {
          "base_uri": "https://localhost:8080/"
        }
      },
      "source": [
        "tokens"
      ],
      "execution_count": 50,
      "outputs": [
        {
          "output_type": "execute_result",
          "data": {
            "text/plain": [
              "array([[2, 2, 2, 2, 2, 2, 2, 2, 2, 2, 2, 2, 2, 2, 2, 2, 2, 2, 2, 2, 2, 2,\n",
              "        2, 2, 2, 2, 2, 2, 2, 2, 2, 2]])"
            ]
          },
          "metadata": {
            "tags": []
          },
          "execution_count": 50
        }
      ]
    },
    {
      "cell_type": "code",
      "metadata": {
        "id": "a6yWP7ie5cK0",
        "outputId": "0c208c43-0df1-49ee-c2a9-54c133a2c16a",
        "colab": {
          "base_uri": "https://localhost:8080/"
        }
      },
      "source": [
        "predicted_texts = tokenizer.decode(tokens.tolist())\n",
        "predicted_texts"
      ],
      "execution_count": 51,
      "outputs": [
        {
          "output_type": "execute_result",
          "data": {
            "text/plain": [
              "['<BOS><BOS><BOS><BOS><BOS><BOS><BOS><BOS><BOS><BOS><BOS><BOS><BOS><BOS><BOS><BOS><BOS><BOS><BOS><BOS><BOS><BOS><BOS><BOS><BOS><BOS><BOS><BOS><BOS><BOS><BOS><BOS>']"
            ]
          },
          "metadata": {
            "tags": []
          },
          "execution_count": 51
        }
      ]
    },
    {
      "cell_type": "code",
      "metadata": {
        "id": "yDvguo_y5cBB",
        "outputId": "3899d5a9-bbf3-4699-ae0e-324a962b44b6",
        "colab": {
          "base_uri": "https://localhost:8080/",
          "height": 35
        }
      },
      "source": [
        "'SequenceBucketingData'"
      ],
      "execution_count": 52,
      "outputs": [
        {
          "output_type": "execute_result",
          "data": {
            "application/vnd.google.colaboratory.intrinsic+json": {
              "type": "string"
            },
            "text/plain": [
              "'SequenceBucketingData'"
            ]
          },
          "metadata": {
            "tags": []
          },
          "execution_count": 52
        }
      ]
    },
    {
      "cell_type": "code",
      "metadata": {
        "id": "VLvmiKRbAFd-"
      },
      "source": [
        "# сделаем батч побольше\n",
        "batch_size = 256\n",
        "\n",
        "batches = []\n",
        "\n",
        "for i_batch in range(math.ceil(len(qa_data) / batch_size)):\n",
        "    \n",
        "    batches.append(qa_data[i_batch*batch_size:(i_batch+1)*batch_size])"
      ],
      "execution_count": 99,
      "outputs": []
    },
    {
      "cell_type": "code",
      "metadata": {
        "id": "8M6tFqoGU8td",
        "outputId": "c2af9fb3-b571-4779-ed76-d612434ef15d",
        "colab": {
          "base_uri": "https://localhost:8080/"
        }
      },
      "source": [
        "qa_data[0]"
      ],
      "execution_count": 101,
      "outputs": [
        {
          "output_type": "execute_result",
          "data": {
            "text/plain": [
              "{'category': 'Бизнес, Финансы',\n",
              " 'question': 'долго ли идут деньги с яндексденег на карту visa?',\n",
              " 'responses': ['нет. прорыв 35 ;)'],\n",
              " 'tok_answ': [2, 3499, 392, 441, 14, 5232, 7788, 3],\n",
              " 'tok_quest': [2,\n",
              "  1678,\n",
              "  389,\n",
              "  5459,\n",
              "  1030,\n",
              "  325,\n",
              "  8439,\n",
              "  23525,\n",
              "  26,\n",
              "  342,\n",
              "  3111,\n",
              "  7417,\n",
              "  5752,\n",
              "  3]}"
            ]
          },
          "metadata": {
            "tags": []
          },
          "execution_count": 101
        }
      ]
    },
    {
      "cell_type": "code",
      "metadata": {
        "id": "Rse1RLtBU8zB"
      },
      "source": [
        "class SequenceBucketingData(torch.utils.data.Dataset):\n",
        "    \n",
        "    def __init__(self,  data, max_len, pad_index, eos_index):\n",
        "        \n",
        "        self.data = data\n",
        "        self.max_len = max_len\n",
        "        \n",
        "        self.pad_index = pad_index\n",
        "        self.eos_index = eos_index\n",
        "        \n",
        "    def __len__(self):\n",
        "        return len(self.data)\n",
        "    \n",
        "    def prepare_sample(self, sequence, max_len):\n",
        "           \n",
        "      x = sequence[:max_len]\n",
        "      pads = [self.pad_index] * (self.max_len - len(x))\n",
        "      # x = torch.tensor(x + pads_x).long()  \n",
        "      # pads = [self.pad_index] * (max_len - len(x))      \n",
        "      x += pads        \n",
        "      return x\n",
        "\n",
        "    def prepare_target(self, sequence, max_len):\n",
        "      \n",
        "      y = sequence[:max_len]        \n",
        "      pads  = [self.pad_index] * (self.max_len - len(y))\n",
        "      # y = torch.tensor(y + pads_y).long()  \n",
        "      # pads = [self.pad_index] * (max_len - len(y))      \n",
        "      y += pads        \n",
        "      return y\n",
        "    \n",
        "    def __getitem__(self, index):\n",
        "\n",
        "      batch = self.data[index]\n",
        "      \n",
        "      max_len = min([self.max_len, max([len(sample['tok_quest']) for sample in batch])])\n",
        "      \n",
        "      batch_x = []\n",
        "      batch_y = []\n",
        "      \n",
        "      for sample in batch:\n",
        "\n",
        "          x = self.prepare_sample(sample['tok_quest'], max_len)\n",
        "          batch_x.append(x)\n",
        "\n",
        "          y = self.prepare_target(sample['tok_answ'], max_len)\n",
        "          batch_y.append(y)\n",
        "          \n",
        "      \n",
        "      batch_x = torch.tensor(batch_x).long()\n",
        "      batch_y = torch.tensor(batch_y).long()\n",
        "      \n",
        "      return batch_x, batch_y"
      ],
      "execution_count": 144,
      "outputs": []
    },
    {
      "cell_type": "code",
      "metadata": {
        "id": "5MHXV2wVU8wp"
      },
      "source": [
        "validation_start_index = int(len(batches) * 0.05)"
      ],
      "execution_count": 145,
      "outputs": []
    },
    {
      "cell_type": "code",
      "metadata": {
        "id": "tw6YZbDOEucl",
        "outputId": "3d34a12b-76e4-4954-e474-d00433356a3b",
        "colab": {
          "base_uri": "https://localhost:8080/"
        }
      },
      "source": [
        "print(len(batches))\n",
        "batch_train_border = math.ceil(len(batches)*0.9)\n",
        "batch_valid_border = math.ceil(len(batches)*0.2)\n",
        "print(batch_valid_border)\n",
        "batch_train_border\n",
        "# train_df = pd.DataFrame(qa_data[:train_border])\n",
        "# test_df = pd.DataFrame(qa_data[train_border:test_border])\n",
        "# validation_df = pd.DataFrame(qa_data[test_border: ])"
      ],
      "execution_count": 146,
      "outputs": [
        {
          "output_type": "stream",
          "text": [
            "4389\n",
            "878\n"
          ],
          "name": "stdout"
        },
        {
          "output_type": "execute_result",
          "data": {
            "text/plain": [
              "3951"
            ]
          },
          "metadata": {
            "tags": []
          },
          "execution_count": 146
        }
      ]
    },
    {
      "cell_type": "code",
      "metadata": {
        "id": "T1IiCd25AH6y"
      },
      "source": [
        "train_dataset = SequenceBucketingData(batches[:batch_train_border], max_len, pad_index, eos_index)\n",
        "validation_dataset = SequenceBucketingData(batches[batch_train_border:], max_len, pad_index, eos_index)"
      ],
      "execution_count": 147,
      "outputs": []
    },
    {
      "cell_type": "code",
      "metadata": {
        "id": "aKxE6-zSugsj"
      },
      "source": [
        "def collate_fn(x):\n",
        "    \n",
        "    x, y = x[0]\n",
        "\n",
        "    return x, y"
      ],
      "execution_count": 148,
      "outputs": []
    },
    {
      "cell_type": "code",
      "metadata": {
        "id": "ACGK5eW1uj_w"
      },
      "source": [
        "# ставим batch_size=1 потому что датасет уже отдает батч\n",
        "# добавим shuffle=True\n",
        "# за счет этого флага каждую эпоху датасет перемешивается\n",
        "\n",
        "# collate_fn это функция, с помощью которой можно задать свою логику сборки батча\n",
        "\n",
        "train_loader = torch.utils.data.DataLoader(train_dataset, \n",
        "                                           batch_size=1,\n",
        "                                           collate_fn=collate_fn,\n",
        "                                           shuffle=True)\n",
        "\n",
        "validation_loader = torch.utils.data.DataLoader(validation_dataset,\n",
        "                                                batch_size=1,\n",
        "                                                collate_fn=collate_fn, \n",
        "                                                shuffle=True)"
      ],
      "execution_count": 149,
      "outputs": []
    },
    {
      "cell_type": "code",
      "metadata": {
        "id": "tauSL9DWuocv"
      },
      "source": [
        "\n",
        "# пробежимся по итератору, чтобы убедиться что ничего не падает и он работает достаточно быстро\n",
        "\n",
        "# progress_bar = tqdm(total=len(validation_loader))\n",
        "\n",
        "# for x, y in validation_loader:\n",
        "#   progress_bar.update()\n",
        "    \n",
        "# progress_bar.close()"
      ],
      "execution_count": 153,
      "outputs": []
    },
    {
      "cell_type": "code",
      "metadata": {
        "id": "zdq3WixrurGI"
      },
      "source": [
        "# n=0\n",
        "# for x, y in validation_loader:\n",
        "\n",
        "#   while n<10:\n",
        "#     print(x)\n",
        "#     n+=1"
      ],
      "execution_count": 154,
      "outputs": []
    },
    {
      "cell_type": "code",
      "metadata": {
        "id": "OwDQn_odIetF"
      },
      "source": [
        "def train(model, loader, criterion, optimizer, clip=3., last_n_losses=500, verbose=True):\n",
        "    \n",
        "    losses = []\n",
        "\n",
        "    # progress_bar = tqdm(total=len(loader.dataset), disable=not verbose, desc='Train')\n",
        "\n",
        "    model.train()\n",
        "\n",
        "    for x, y in loader:\n",
        "        \n",
        "        x = x.to(device)\n",
        "        y = y.to(device)\n",
        "        \n",
        "        pred = model(x)\n",
        "\n",
        "        loss = criterion(pred.view(-1, pred.size(-1)), y.view(-1))\n",
        "\n",
        "        optimizer.zero_grad()\n",
        "        loss.backward()\n",
        "        # рассчитали градиенты и клипаем их\n",
        "        torch.nn.utils.clip_grad_norm_(model.parameters(), clip)\n",
        "        optimizer.step()\n",
        "\n",
        "        losses.append(loss.item())\n",
        "\n",
        "        # progress_bar.set_postfix(loss=np.mean(losses[-last_n_losses:]),\n",
        "                                 # perplexity=np.exp(np.mean(losses[-last_n_losses:])))\n",
        "\n",
        "        # progress_bar.update()\n",
        "\n",
        "    # progress_bar.close()\n",
        "    \n",
        "    return losses"
      ],
      "execution_count": 160,
      "outputs": []
    },
    {
      "cell_type": "code",
      "metadata": {
        "id": "k_xqjSFIIywS"
      },
      "source": [
        "model = LanguageModel(vocab_size=vocab_size, embedding_dim=embedding_dim, model_dim=model_dim, \n",
        "                      num_layers=num_layers, padding_idx=pad_index, weight_tying=True)\n",
        "\n",
        "model.to(device)\n",
        "optimizer = torch.optim.Adam(params=model.parameters())"
      ],
      "execution_count": 161,
      "outputs": []
    },
    {
      "cell_type": "code",
      "metadata": {
        "id": "IZRjLFHjI0rp"
      },
      "source": [
        "epoch_losses = train(model, validation_loader, criterion, optimizer)"
      ],
      "execution_count": 162,
      "outputs": []
    },
    {
      "cell_type": "markdown",
      "metadata": {
        "id": "VqQsa2wkJ8K0"
      },
      "source": [
        "## Сильно ускорились\n",
        "**Все готово для того, чтобы начать обучение =)))**\n"
      ]
    },
    {
      "cell_type": "code",
      "metadata": {
        "id": "C8fA5-xvI2j2"
      },
      "source": [
        ""
      ],
      "execution_count": null,
      "outputs": []
    }
  ]
}