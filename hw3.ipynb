{
  "nbformat": 4,
  "nbformat_minor": 0,
  "metadata": {
    "colab": {
      "name": "Untitled44.ipynb",
      "provenance": [],
      "authorship_tag": "ABX9TyOlZDawdUBGDzMx1//kFuTa",
      "include_colab_link": true
    },
    "kernelspec": {
      "name": "python3",
      "display_name": "Python 3"
    },
    "accelerator": "GPU"
  },
  "cells": [
    {
      "cell_type": "markdown",
      "metadata": {
        "id": "view-in-github",
        "colab_type": "text"
      },
      "source": [
        "<a href=\"https://colab.research.google.com/github/DmitryKutsev/DeepHW/blob/master/hw3.ipynb\" target=\"_parent\"><img src=\"https://colab.research.google.com/assets/colab-badge.svg\" alt=\"Open In Colab\"/></a>"
      ]
    },
    {
      "cell_type": "code",
      "metadata": {
        "id": "V2CFSkzkOu4D",
        "outputId": "462d87a8-0aa9-4d0f-e928-89ed2e398f9f",
        "colab": {
          "base_uri": "https://localhost:8080/",
          "height": 146
        }
      },
      "source": [
        "!pip install youtokentome"
      ],
      "execution_count": null,
      "outputs": [
        {
          "output_type": "stream",
          "text": [
            "Collecting youtokentome\n",
            "\u001b[?25l  Downloading https://files.pythonhosted.org/packages/a3/65/4a86cf99da3f680497ae132329025b291e2fda22327e8da6a9476e51acb1/youtokentome-1.0.6-cp36-cp36m-manylinux2010_x86_64.whl (1.7MB)\n",
            "\r\u001b[K     |▏                               | 10kB 22.1MB/s eta 0:00:01\r\u001b[K     |▍                               | 20kB 28.1MB/s eta 0:00:01\r\u001b[K     |▋                               | 30kB 21.6MB/s eta 0:00:01\r\u001b[K     |▊                               | 40kB 19.0MB/s eta 0:00:01\r\u001b[K     |█                               | 51kB 14.7MB/s eta 0:00:01\r\u001b[K     |█▏                              | 61kB 13.4MB/s eta 0:00:01\r\u001b[K     |█▍                              | 71kB 12.3MB/s eta 0:00:01\r\u001b[K     |█▌                              | 81kB 12.2MB/s eta 0:00:01\r\u001b[K     |█▊                              | 92kB 12.4MB/s eta 0:00:01\r\u001b[K     |██                              | 102kB 12.2MB/s eta 0:00:01\r\u001b[K     |██                              | 112kB 12.2MB/s eta 0:00:01\r\u001b[K     |██▎                             | 122kB 12.2MB/s eta 0:00:01\r\u001b[K     |██▌                             | 133kB 12.2MB/s eta 0:00:01\r\u001b[K     |██▊                             | 143kB 12.2MB/s eta 0:00:01\r\u001b[K     |██▉                             | 153kB 12.2MB/s eta 0:00:01\r\u001b[K     |███                             | 163kB 12.2MB/s eta 0:00:01\r\u001b[K     |███▎                            | 174kB 12.2MB/s eta 0:00:01\r\u001b[K     |███▌                            | 184kB 12.2MB/s eta 0:00:01\r\u001b[K     |███▋                            | 194kB 12.2MB/s eta 0:00:01\r\u001b[K     |███▉                            | 204kB 12.2MB/s eta 0:00:01\r\u001b[K     |████                            | 215kB 12.2MB/s eta 0:00:01\r\u001b[K     |████▏                           | 225kB 12.2MB/s eta 0:00:01\r\u001b[K     |████▍                           | 235kB 12.2MB/s eta 0:00:01\r\u001b[K     |████▋                           | 245kB 12.2MB/s eta 0:00:01\r\u001b[K     |████▉                           | 256kB 12.2MB/s eta 0:00:01\r\u001b[K     |█████                           | 266kB 12.2MB/s eta 0:00:01\r\u001b[K     |█████▏                          | 276kB 12.2MB/s eta 0:00:01\r\u001b[K     |█████▍                          | 286kB 12.2MB/s eta 0:00:01\r\u001b[K     |█████▋                          | 296kB 12.2MB/s eta 0:00:01\r\u001b[K     |█████▊                          | 307kB 12.2MB/s eta 0:00:01\r\u001b[K     |██████                          | 317kB 12.2MB/s eta 0:00:01\r\u001b[K     |██████▏                         | 327kB 12.2MB/s eta 0:00:01\r\u001b[K     |██████▎                         | 337kB 12.2MB/s eta 0:00:01\r\u001b[K     |██████▌                         | 348kB 12.2MB/s eta 0:00:01\r\u001b[K     |██████▊                         | 358kB 12.2MB/s eta 0:00:01\r\u001b[K     |███████                         | 368kB 12.2MB/s eta 0:00:01\r\u001b[K     |███████                         | 378kB 12.2MB/s eta 0:00:01\r\u001b[K     |███████▎                        | 389kB 12.2MB/s eta 0:00:01\r\u001b[K     |███████▌                        | 399kB 12.2MB/s eta 0:00:01\r\u001b[K     |███████▋                        | 409kB 12.2MB/s eta 0:00:01\r\u001b[K     |███████▉                        | 419kB 12.2MB/s eta 0:00:01\r\u001b[K     |████████                        | 430kB 12.2MB/s eta 0:00:01\r\u001b[K     |████████▎                       | 440kB 12.2MB/s eta 0:00:01\r\u001b[K     |████████▍                       | 450kB 12.2MB/s eta 0:00:01\r\u001b[K     |████████▋                       | 460kB 12.2MB/s eta 0:00:01\r\u001b[K     |████████▉                       | 471kB 12.2MB/s eta 0:00:01\r\u001b[K     |█████████                       | 481kB 12.2MB/s eta 0:00:01\r\u001b[K     |█████████▏                      | 491kB 12.2MB/s eta 0:00:01\r\u001b[K     |█████████▍                      | 501kB 12.2MB/s eta 0:00:01\r\u001b[K     |█████████▋                      | 512kB 12.2MB/s eta 0:00:01\r\u001b[K     |█████████▊                      | 522kB 12.2MB/s eta 0:00:01\r\u001b[K     |██████████                      | 532kB 12.2MB/s eta 0:00:01\r\u001b[K     |██████████▏                     | 542kB 12.2MB/s eta 0:00:01\r\u001b[K     |██████████▍                     | 552kB 12.2MB/s eta 0:00:01\r\u001b[K     |██████████▌                     | 563kB 12.2MB/s eta 0:00:01\r\u001b[K     |██████████▊                     | 573kB 12.2MB/s eta 0:00:01\r\u001b[K     |███████████                     | 583kB 12.2MB/s eta 0:00:01\r\u001b[K     |███████████▏                    | 593kB 12.2MB/s eta 0:00:01\r\u001b[K     |███████████▎                    | 604kB 12.2MB/s eta 0:00:01\r\u001b[K     |███████████▌                    | 614kB 12.2MB/s eta 0:00:01\r\u001b[K     |███████████▊                    | 624kB 12.2MB/s eta 0:00:01\r\u001b[K     |███████████▉                    | 634kB 12.2MB/s eta 0:00:01\r\u001b[K     |████████████                    | 645kB 12.2MB/s eta 0:00:01\r\u001b[K     |████████████▎                   | 655kB 12.2MB/s eta 0:00:01\r\u001b[K     |████████████▌                   | 665kB 12.2MB/s eta 0:00:01\r\u001b[K     |████████████▋                   | 675kB 12.2MB/s eta 0:00:01\r\u001b[K     |████████████▉                   | 686kB 12.2MB/s eta 0:00:01\r\u001b[K     |█████████████                   | 696kB 12.2MB/s eta 0:00:01\r\u001b[K     |█████████████▏                  | 706kB 12.2MB/s eta 0:00:01\r\u001b[K     |█████████████▍                  | 716kB 12.2MB/s eta 0:00:01\r\u001b[K     |█████████████▋                  | 727kB 12.2MB/s eta 0:00:01\r\u001b[K     |█████████████▉                  | 737kB 12.2MB/s eta 0:00:01\r\u001b[K     |██████████████                  | 747kB 12.2MB/s eta 0:00:01\r\u001b[K     |██████████████▏                 | 757kB 12.2MB/s eta 0:00:01\r\u001b[K     |██████████████▍                 | 768kB 12.2MB/s eta 0:00:01\r\u001b[K     |██████████████▋                 | 778kB 12.2MB/s eta 0:00:01\r\u001b[K     |██████████████▊                 | 788kB 12.2MB/s eta 0:00:01\r\u001b[K     |███████████████                 | 798kB 12.2MB/s eta 0:00:01\r\u001b[K     |███████████████▏                | 808kB 12.2MB/s eta 0:00:01\r\u001b[K     |███████████████▎                | 819kB 12.2MB/s eta 0:00:01\r\u001b[K     |███████████████▌                | 829kB 12.2MB/s eta 0:00:01\r\u001b[K     |███████████████▊                | 839kB 12.2MB/s eta 0:00:01\r\u001b[K     |████████████████                | 849kB 12.2MB/s eta 0:00:01\r\u001b[K     |████████████████                | 860kB 12.2MB/s eta 0:00:01\r\u001b[K     |████████████████▎               | 870kB 12.2MB/s eta 0:00:01\r\u001b[K     |████████████████▌               | 880kB 12.2MB/s eta 0:00:01\r\u001b[K     |████████████████▊               | 890kB 12.2MB/s eta 0:00:01\r\u001b[K     |████████████████▉               | 901kB 12.2MB/s eta 0:00:01\r\u001b[K     |█████████████████               | 911kB 12.2MB/s eta 0:00:01\r\u001b[K     |█████████████████▎              | 921kB 12.2MB/s eta 0:00:01\r\u001b[K     |█████████████████▍              | 931kB 12.2MB/s eta 0:00:01\r\u001b[K     |█████████████████▋              | 942kB 12.2MB/s eta 0:00:01\r\u001b[K     |█████████████████▉              | 952kB 12.2MB/s eta 0:00:01\r\u001b[K     |██████████████████              | 962kB 12.2MB/s eta 0:00:01\r\u001b[K     |██████████████████▏             | 972kB 12.2MB/s eta 0:00:01\r\u001b[K     |██████████████████▍             | 983kB 12.2MB/s eta 0:00:01\r\u001b[K     |██████████████████▋             | 993kB 12.2MB/s eta 0:00:01\r\u001b[K     |██████████████████▉             | 1.0MB 12.2MB/s eta 0:00:01\r\u001b[K     |███████████████████             | 1.0MB 12.2MB/s eta 0:00:01\r\u001b[K     |███████████████████▏            | 1.0MB 12.2MB/s eta 0:00:01\r\u001b[K     |███████████████████▍            | 1.0MB 12.2MB/s eta 0:00:01\r\u001b[K     |███████████████████▌            | 1.0MB 12.2MB/s eta 0:00:01\r\u001b[K     |███████████████████▊            | 1.1MB 12.2MB/s eta 0:00:01\r\u001b[K     |████████████████████            | 1.1MB 12.2MB/s eta 0:00:01\r\u001b[K     |████████████████████▏           | 1.1MB 12.2MB/s eta 0:00:01\r\u001b[K     |████████████████████▎           | 1.1MB 12.2MB/s eta 0:00:01\r\u001b[K     |████████████████████▌           | 1.1MB 12.2MB/s eta 0:00:01\r\u001b[K     |████████████████████▊           | 1.1MB 12.2MB/s eta 0:00:01\r\u001b[K     |████████████████████▉           | 1.1MB 12.2MB/s eta 0:00:01\r\u001b[K     |█████████████████████           | 1.1MB 12.2MB/s eta 0:00:01\r\u001b[K     |█████████████████████▎          | 1.1MB 12.2MB/s eta 0:00:01\r\u001b[K     |█████████████████████▌          | 1.1MB 12.2MB/s eta 0:00:01\r\u001b[K     |█████████████████████▋          | 1.2MB 12.2MB/s eta 0:00:01\r\u001b[K     |█████████████████████▉          | 1.2MB 12.2MB/s eta 0:00:01\r\u001b[K     |██████████████████████          | 1.2MB 12.2MB/s eta 0:00:01\r\u001b[K     |██████████████████████▎         | 1.2MB 12.2MB/s eta 0:00:01\r\u001b[K     |██████████████████████▍         | 1.2MB 12.2MB/s eta 0:00:01\r\u001b[K     |██████████████████████▋         | 1.2MB 12.2MB/s eta 0:00:01\r\u001b[K     |██████████████████████▉         | 1.2MB 12.2MB/s eta 0:00:01\r\u001b[K     |███████████████████████         | 1.2MB 12.2MB/s eta 0:00:01\r\u001b[K     |███████████████████████▏        | 1.2MB 12.2MB/s eta 0:00:01\r\u001b[K     |███████████████████████▍        | 1.2MB 12.2MB/s eta 0:00:01\r\u001b[K     |███████████████████████▋        | 1.3MB 12.2MB/s eta 0:00:01\r\u001b[K     |███████████████████████▊        | 1.3MB 12.2MB/s eta 0:00:01\r\u001b[K     |████████████████████████        | 1.3MB 12.2MB/s eta 0:00:01\r\u001b[K     |████████████████████████▏       | 1.3MB 12.2MB/s eta 0:00:01\r\u001b[K     |████████████████████████▍       | 1.3MB 12.2MB/s eta 0:00:01\r\u001b[K     |████████████████████████▌       | 1.3MB 12.2MB/s eta 0:00:01\r\u001b[K     |████████████████████████▊       | 1.3MB 12.2MB/s eta 0:00:01\r\u001b[K     |█████████████████████████       | 1.3MB 12.2MB/s eta 0:00:01\r\u001b[K     |█████████████████████████       | 1.3MB 12.2MB/s eta 0:00:01\r\u001b[K     |█████████████████████████▎      | 1.4MB 12.2MB/s eta 0:00:01\r\u001b[K     |█████████████████████████▌      | 1.4MB 12.2MB/s eta 0:00:01\r\u001b[K     |█████████████████████████▊      | 1.4MB 12.2MB/s eta 0:00:01\r\u001b[K     |█████████████████████████▉      | 1.4MB 12.2MB/s eta 0:00:01\r\u001b[K     |██████████████████████████      | 1.4MB 12.2MB/s eta 0:00:01\r\u001b[K     |██████████████████████████▎     | 1.4MB 12.2MB/s eta 0:00:01\r\u001b[K     |██████████████████████████▍     | 1.4MB 12.2MB/s eta 0:00:01\r\u001b[K     |██████████████████████████▋     | 1.4MB 12.2MB/s eta 0:00:01\r\u001b[K     |██████████████████████████▉     | 1.4MB 12.2MB/s eta 0:00:01\r\u001b[K     |███████████████████████████     | 1.4MB 12.2MB/s eta 0:00:01\r\u001b[K     |███████████████████████████▏    | 1.5MB 12.2MB/s eta 0:00:01\r\u001b[K     |███████████████████████████▍    | 1.5MB 12.2MB/s eta 0:00:01\r\u001b[K     |███████████████████████████▋    | 1.5MB 12.2MB/s eta 0:00:01\r\u001b[K     |███████████████████████████▉    | 1.5MB 12.2MB/s eta 0:00:01\r\u001b[K     |████████████████████████████    | 1.5MB 12.2MB/s eta 0:00:01\r\u001b[K     |████████████████████████████▏   | 1.5MB 12.2MB/s eta 0:00:01\r\u001b[K     |████████████████████████████▍   | 1.5MB 12.2MB/s eta 0:00:01\r\u001b[K     |████████████████████████████▌   | 1.5MB 12.2MB/s eta 0:00:01\r\u001b[K     |████████████████████████████▊   | 1.5MB 12.2MB/s eta 0:00:01\r\u001b[K     |█████████████████████████████   | 1.5MB 12.2MB/s eta 0:00:01\r\u001b[K     |█████████████████████████████▏  | 1.6MB 12.2MB/s eta 0:00:01\r\u001b[K     |█████████████████████████████▎  | 1.6MB 12.2MB/s eta 0:00:01\r\u001b[K     |█████████████████████████████▌  | 1.6MB 12.2MB/s eta 0:00:01\r\u001b[K     |█████████████████████████████▊  | 1.6MB 12.2MB/s eta 0:00:01\r\u001b[K     |██████████████████████████████  | 1.6MB 12.2MB/s eta 0:00:01\r\u001b[K     |██████████████████████████████  | 1.6MB 12.2MB/s eta 0:00:01\r\u001b[K     |██████████████████████████████▎ | 1.6MB 12.2MB/s eta 0:00:01\r\u001b[K     |██████████████████████████████▌ | 1.6MB 12.2MB/s eta 0:00:01\r\u001b[K     |██████████████████████████████▋ | 1.6MB 12.2MB/s eta 0:00:01\r\u001b[K     |██████████████████████████████▉ | 1.6MB 12.2MB/s eta 0:00:01\r\u001b[K     |███████████████████████████████ | 1.7MB 12.2MB/s eta 0:00:01\r\u001b[K     |███████████████████████████████▎| 1.7MB 12.2MB/s eta 0:00:01\r\u001b[K     |███████████████████████████████▍| 1.7MB 12.2MB/s eta 0:00:01\r\u001b[K     |███████████████████████████████▋| 1.7MB 12.2MB/s eta 0:00:01\r\u001b[K     |███████████████████████████████▉| 1.7MB 12.2MB/s eta 0:00:01\r\u001b[K     |████████████████████████████████| 1.7MB 12.2MB/s eta 0:00:01\r\u001b[K     |████████████████████████████████| 1.7MB 12.2MB/s \n",
            "\u001b[?25hRequirement already satisfied: Click>=7.0 in /usr/local/lib/python3.6/dist-packages (from youtokentome) (7.1.2)\n",
            "Installing collected packages: youtokentome\n",
            "Successfully installed youtokentome-1.0.6\n"
          ],
          "name": "stdout"
        }
      ]
    },
    {
      "cell_type": "code",
      "metadata": {
        "id": "5rg43AAFBh7e"
      },
      "source": [
        "# !wget https://developer.nvidia.com/compute/cuda/9.2/Prod/local_installers/cuda-repo-ubuntu1604-9-2-local_9.2.88-1_amd64 -O cuda-repo-ubuntu1604-9-2-local_9.2.88-1_amd64.deb\n",
        "# !dpkg -i cuda-repo-ubuntu1604-9-2-local_9.2.88-1_amd64.deb\n",
        "# !apt-key add /var/cuda-repo-9-2-local/7fa2af80.pub\n",
        "# !apt-get update\n",
        "# !apt-get install cuda"
      ],
      "execution_count": 5,
      "outputs": []
    },
    {
      "cell_type": "code",
      "metadata": {
        "id": "QIA1x7RzBq9D"
      },
      "source": [
        "# !pip install mxnet-cu92"
      ],
      "execution_count": 6,
      "outputs": []
    },
    {
      "cell_type": "code",
      "metadata": {
        "id": "9WsCrjTDDG0-",
        "outputId": "e858e083-edda-498e-ec24-97f5d148d7e8",
        "colab": {
          "base_uri": "https://localhost:8080/"
        }
      },
      "source": [
        "print(torch.cuda.device_count())"
      ],
      "execution_count": 2,
      "outputs": [
        {
          "output_type": "stream",
          "text": [
            "1\n"
          ],
          "name": "stdout"
        }
      ]
    },
    {
      "cell_type": "code",
      "metadata": {
        "id": "CQkrv7tBDa1g",
        "outputId": "6aea43be-c931-41fb-eaf9-0a56537fc003",
        "colab": {
          "base_uri": "https://localhost:8080/"
        }
      },
      "source": [
        "print(torch.cuda.get_device_name(0))"
      ],
      "execution_count": 3,
      "outputs": [
        {
          "output_type": "stream",
          "text": [
            "Tesla T4\n"
          ],
          "name": "stdout"
        }
      ]
    },
    {
      "cell_type": "code",
      "metadata": {
        "id": "xbq8KBUcDsMc"
      },
      "source": [
        "device = torch.device('cuda:0')"
      ],
      "execution_count": 9,
      "outputs": []
    },
    {
      "cell_type": "code",
      "metadata": {
        "id": "AB1OFN7RB-8w"
      },
      "source": [
        "# !pip install --upgrade --force-reinstall -q http://download.pytorch.org/whl/{accelerator}/torch-0.4.0-{platform}-linux_x86_64.whl torchvision"
      ],
      "execution_count": null,
      "outputs": []
    },
    {
      "cell_type": "code",
      "metadata": {
        "id": "FmrVqnzMMxMr"
      },
      "source": [
        "import math\n",
        "import numpy as np\n",
        "import pandas as pd\n",
        "\n",
        "import random\n",
        "import json\n",
        "import torch\n",
        "from torch.utils.data import Dataset, DataLoader\n",
        "\n",
        "from tqdm import tqdm\n",
        "\n",
        "from matplotlib import pyplot as plt\n",
        "\n",
        "import youtokentome as yttm"
      ],
      "execution_count": 1,
      "outputs": []
    },
    {
      "cell_type": "code",
      "metadata": {
        "id": "kQsaa759SujQ",
        "outputId": "093e4b57-f1d6-4133-a7c0-b42e2f8b598d",
        "colab": {
          "base_uri": "https://localhost:8080/"
        }
      },
      "source": [
        "from google.colab import drive\n",
        "drive.mount('/content/drive')"
      ],
      "execution_count": 18,
      "outputs": [
        {
          "output_type": "stream",
          "text": [
            "Mounted at /content/drive\n"
          ],
          "name": "stdout"
        }
      ]
    },
    {
      "cell_type": "code",
      "metadata": {
        "id": "fsUhzBGgT8R-",
        "outputId": "5a241aea-4cbd-4a99-aaad-d0b33cff154b",
        "colab": {
          "base_uri": "https://localhost:8080/"
        }
      },
      "source": [
        "!unzip '/content/drive/My Drive/unsupervised.csv.zip'"
      ],
      "execution_count": 19,
      "outputs": [
        {
          "output_type": "stream",
          "text": [
            "Archive:  /content/drive/My Drive/unsupervised.csv.zip\n",
            "  inflating: unsupervised.csv        \n"
          ],
          "name": "stdout"
        }
      ]
    },
    {
      "cell_type": "code",
      "metadata": {
        "id": "hpw5KDsGOrTT"
      },
      "source": [
        "questions = pd.read_csv('unsupervised.csv')\n",
        "questions.question = questions.question.map(lambda x: x.lower())"
      ],
      "execution_count": 20,
      "outputs": []
    },
    {
      "cell_type": "code",
      "metadata": {
        "id": "MqTL9ZfvPBGY"
      },
      "source": [
        "# для \"обучения\" bpe модели нам нужно сохранить данные для обучения в отдельный файл\n",
        "# где будут построчно храниться тексты\n",
        "# раскомментируйте этот код, чтобы собрать такой файл\n",
        "with open('for_bpe.txt', 'w', encoding='utf-8') as f:\n",
        "    for que in questions.question:\n",
        "        f.write(que + '\\n')\n",
        "        \n",
        "# параметры\n",
        "vocab_size = 30_000\n",
        "model_path = 'pretrained_bpe_lm.model'"
      ],
      "execution_count": 21,
      "outputs": []
    },
    {
      "cell_type": "code",
      "metadata": {
        "id": "Fy6lmKpjW8ed",
        "outputId": "4160b7bc-1fdc-4a60-df10-42b34368fa07",
        "colab": {
          "base_uri": "https://localhost:8080/"
        }
      },
      "source": [
        "%%time\n",
        "# обучаем\n",
        "# раскомментируйте этот код, чтобы обучить bpe\n",
        "yttm.BPE.train(data='for_bpe.txt', vocab_size=vocab_size, model=model_path)"
      ],
      "execution_count": 22,
      "outputs": [
        {
          "output_type": "stream",
          "text": [
            "CPU times: user 23.1 s, sys: 1.84 s, total: 25 s\n",
            "Wall time: 15.2 s\n"
          ],
          "name": "stdout"
        },
        {
          "output_type": "execute_result",
          "data": {
            "text/plain": [
              "<youtokentome.youtokentome.BPE at 0x7f779d39de48>"
            ]
          },
          "metadata": {
            "tags": []
          },
          "execution_count": 22
        }
      ]
    },
    {
      "cell_type": "code",
      "metadata": {
        "id": "I6Pyz-GbXmEQ"
      },
      "source": [
        "# загружаем токенизатор\n",
        "tokenizer = yttm.BPE(model=model_path)"
      ],
      "execution_count": 23,
      "outputs": []
    },
    {
      "cell_type": "code",
      "metadata": {
        "id": "EcBTp0sCXtS_",
        "outputId": "a5047732-6d75-49ce-c99a-72e687632b02",
        "colab": {
          "base_uri": "https://localhost:8080/"
        }
      },
      "source": [
        "tokenized = []\n",
        "\n",
        "batch_size = 256\n",
        "\n",
        "for i_batch in tqdm(range(math.ceil(len(questions.question) / batch_size))):\n",
        "    \n",
        "    tokenized.extend(tokenizer.encode(\n",
        "        list(questions.question[i_batch*batch_size:(i_batch+1)*batch_size]), bos=True, eos=True))"
      ],
      "execution_count": 24,
      "outputs": [
        {
          "output_type": "stream",
          "text": [
            "100%|██████████| 9905/9905 [00:29<00:00, 341.25it/s]\n"
          ],
          "name": "stderr"
        }
      ]
    },
    {
      "cell_type": "code",
      "metadata": {
        "id": "3WHKA9OeYBpt"
      },
      "source": [
        "class LanguageModelData(torch.utils.data.Dataset):\n",
        "    \n",
        "    def __init__(self, data, max_len, pad_index, eos_index):\n",
        "        \n",
        "        self.data = data\n",
        "        \n",
        "        self.max_len = max_len\n",
        "        \n",
        "        self.pad_index = pad_index\n",
        "        self.eos_index = eos_index\n",
        "        \n",
        "    def __len__(self):\n",
        "        return len(self.data)\n",
        "    \n",
        "    def __getitem__(self, index):\n",
        "        \n",
        "        sequence = self.data[index][:self.max_len]\n",
        "        \n",
        "        # исходная последовательность\n",
        "        x = sequence[:]\n",
        "        # нужно предсказать смещенную последовательность\n",
        "        y = sequence[1:] + [self.eos_index]\n",
        "        \n",
        "        assert len(x) == len(y)\n",
        "        \n",
        "        pads = [self.pad_index] * (self.max_len - len(x))\n",
        "        \n",
        "        x = torch.tensor(x + pads).long()\n",
        "        y = torch.tensor(y + pads).long()\n",
        "        \n",
        "        return x, y"
      ],
      "execution_count": 25,
      "outputs": []
    },
    {
      "cell_type": "code",
      "metadata": {
        "id": "jWHQcAF29fJK"
      },
      "source": [
        "batch_size = 64\n",
        "\n",
        "max_len = 32\n",
        "\n",
        "pad_index = 0\n",
        "eos_index = 3"
      ],
      "execution_count": 26,
      "outputs": []
    },
    {
      "cell_type": "code",
      "metadata": {
        "id": "A9cfUH6F9Qi2",
        "outputId": "de324b61-9ab4-45cb-c715-15a097a80b39",
        "colab": {
          "base_uri": "https://localhost:8080/"
        }
      },
      "source": [
        "# надо выбрать максимальную длину\n",
        "lengths = np.array([len(x) for x in tokenized])\n",
        "np.percentile(lengths, q=95)"
      ],
      "execution_count": 27,
      "outputs": [
        {
          "output_type": "execute_result",
          "data": {
            "text/plain": [
              "28.0"
            ]
          },
          "metadata": {
            "tags": []
          },
          "execution_count": 27
        }
      ]
    },
    {
      "cell_type": "code",
      "metadata": {
        "id": "EyMs7buj9Ud8"
      },
      "source": [
        "random.shuffle(tokenized)\n",
        "\n",
        "validation_start_index = int(len(tokenized) * 0.05)"
      ],
      "execution_count": 28,
      "outputs": []
    },
    {
      "cell_type": "code",
      "metadata": {
        "id": "osUPySza9X5c",
        "outputId": "f1937435-04d1-4dbf-8376-bb92c3984ef0",
        "colab": {
          "base_uri": "https://localhost:8080/"
        }
      },
      "source": [
        "train_dataset = LanguageModelData(data=tokenized[:-validation_start_index], max_len=max_len, \n",
        "                                  pad_index=pad_index, eos_index=eos_index)\n",
        "validation_dataset = LanguageModelData(data=tokenized[-validation_start_index:], max_len=max_len,\n",
        "                                       pad_index=pad_index, eos_index=eos_index)\n",
        "\n",
        "len(train_dataset), len(validation_dataset)"
      ],
      "execution_count": 29,
      "outputs": [
        {
          "output_type": "execute_result",
          "data": {
            "text/plain": [
              "(2408671, 126772)"
            ]
          },
          "metadata": {
            "tags": []
          },
          "execution_count": 29
        }
      ]
    },
    {
      "cell_type": "code",
      "metadata": {
        "id": "ZLtzyPeD9aby"
      },
      "source": [
        "train_loader = torch.utils.data.DataLoader(train_dataset, batch_size=batch_size)\n",
        "validation_loader = torch.utils.data.DataLoader(validation_dataset, batch_size=batch_size)"
      ],
      "execution_count": 30,
      "outputs": []
    },
    {
      "cell_type": "code",
      "metadata": {
        "id": "Q2lU_aMj9koG"
      },
      "source": [
        "\n",
        "for x, y in train_loader:\n",
        "    break"
      ],
      "execution_count": 31,
      "outputs": []
    },
    {
      "cell_type": "code",
      "metadata": {
        "id": "xDSIeu_u9nge",
        "outputId": "79ed19be-2f1d-4d18-ed72-35182a826b26",
        "colab": {
          "base_uri": "https://localhost:8080/"
        }
      },
      "source": [
        "x"
      ],
      "execution_count": 32,
      "outputs": [
        {
          "output_type": "execute_result",
          "data": {
            "text/plain": [
              "tensor([[    2,  1917,  1775,  ...,     0,     0,     0],\n",
              "        [    2,  2254, 25690,  ...,     0,     0,     0],\n",
              "        [    2,  2930, 11900,  ...,     0,     0,     0],\n",
              "        ...,\n",
              "        [    2,  1960, 13584,  ...,     0,     0,     0],\n",
              "        [    2,  1864,  6695,  ...,     0,     0,     0],\n",
              "        [    2,  1816,  2018,  ...,     0,     0,     0]])"
            ]
          },
          "metadata": {
            "tags": []
          },
          "execution_count": 32
        }
      ]
    },
    {
      "cell_type": "code",
      "metadata": {
        "id": "12l472vA9o4n",
        "outputId": "462e15cb-4d95-4133-a280-93e7d27e4183",
        "colab": {
          "base_uri": "https://localhost:8080/"
        }
      },
      "source": [
        "progress_bar = tqdm(total=len(validation_loader.dataset), desc='Testing')\n",
        "\n",
        "for x, y in validation_loader:\n",
        "    progress_bar.update(x.size(0))\n",
        "    \n",
        "progress_bar.close()"
      ],
      "execution_count": 33,
      "outputs": [
        {
          "output_type": "stream",
          "text": [
            "Testing: 100%|██████████| 126772/126772 [00:01<00:00, 69456.03it/s]\n"
          ],
          "name": "stderr"
        }
      ]
    },
    {
      "cell_type": "code",
      "metadata": {
        "id": "pUI8gTZy9wy5"
      },
      "source": [
        "class LanguageModel(torch.nn.Module):\n",
        "    \n",
        "    def __init__(self, vocab_size, embedding_dim, model_dim, num_layers, dropout, padding_idx):\n",
        "        \n",
        "        super().__init__()\n",
        "        \n",
        "        # просто эмбеддинги\n",
        "        self.embedding_layer = torch.nn.Embedding(num_embeddings=vocab_size, \n",
        "                                                  embedding_dim=embedding_dim,\n",
        "                                                  padding_idx=padding_idx)\n",
        "        \n",
        "        # просто lstm\n",
        "        self.lstm = torch.nn.LSTM(input_size=embedding_dim, \n",
        "                                  hidden_size=model_dim,\n",
        "                                  num_layers=num_layers, \n",
        "                                  dropout=0.3,\n",
        "                                  batch_first=True)\n",
        "        \n",
        "        # выходная матрица эмбеддингов\n",
        "        # количество выходных фичей равно размеру словаря\n",
        "        # то есть это задача мультиклассовой классификации, но только классов очень много\n",
        "        self.language_model_head = torch.nn.Linear(in_features=model_dim,\n",
        "                                                   out_features=vocab_size,\n",
        "                                                   bias=False)\n",
        "        \n",
        "    def forward(self, x):\n",
        "        \n",
        "        x = self.embedding_layer(x)\n",
        "        \n",
        "        x, _ = self.lstm(x)\n",
        "        \n",
        "        # к каждому элементу последовательности применяется выходная матрица эмбеддингов, \n",
        "        # которая переводит вектор lstm в предсказание конкретного слова\n",
        "        x = self.language_model_head(x)\n",
        "        \n",
        "        return x"
      ],
      "execution_count": 34,
      "outputs": []
    },
    {
      "cell_type": "code",
      "metadata": {
        "id": "m6abA7ol-BUC",
        "outputId": "925cc74f-758b-49cb-903f-c81e14853cb4",
        "colab": {
          "base_uri": "https://localhost:8080/"
        }
      },
      "source": [
        "torch.cuda.is_available(), 'у вас не находится гпу'"
      ],
      "execution_count": 35,
      "outputs": [
        {
          "output_type": "execute_result",
          "data": {
            "text/plain": [
              "(True, 'у вас не находится гпу')"
            ]
          },
          "metadata": {
            "tags": []
          },
          "execution_count": 35
        }
      ]
    },
    {
      "cell_type": "code",
      "metadata": {
        "id": "YCxd-P_i-kqZ"
      },
      "source": [
        "device = torch.device('cuda:0')"
      ],
      "execution_count": 39,
      "outputs": []
    },
    {
      "cell_type": "code",
      "metadata": {
        "id": "PsjBWrqC-MwM"
      },
      "source": [
        "embedding_dim = 128\n",
        "model_dim = 128\n",
        "num_layers = 2\n",
        "dropout = 0.35"
      ],
      "execution_count": 40,
      "outputs": []
    },
    {
      "cell_type": "code",
      "metadata": {
        "id": "LN4GypSM_8wx",
        "outputId": "6ed78bcf-bdb4-41a7-babd-c6fce3c94ec1",
        "colab": {
          "base_uri": "https://localhost:8080/"
        }
      },
      "source": [
        "model = LanguageModel(vocab_size=vocab_size, embedding_dim=embedding_dim,\n",
        "                      model_dim=model_dim, num_layers=num_layers,\n",
        "                      dropout=dropout, padding_idx=pad_index)\n",
        "model.to(device)"
      ],
      "execution_count": 41,
      "outputs": [
        {
          "output_type": "execute_result",
          "data": {
            "text/plain": [
              "LanguageModel(\n",
              "  (embedding_layer): Embedding(30000, 128, padding_idx=0)\n",
              "  (lstm): LSTM(128, 128, num_layers=2, batch_first=True, dropout=0.3)\n",
              "  (language_model_head): Linear(in_features=128, out_features=30000, bias=False)\n",
              ")"
            ]
          },
          "metadata": {
            "tags": []
          },
          "execution_count": 41
        }
      ]
    },
    {
      "cell_type": "code",
      "metadata": {
        "id": "8v16DQt3_-rm"
      },
      "source": [
        "def count_parameters(model):\n",
        "    return sum(p.numel() for p in model.parameters() if p.requires_grad)"
      ],
      "execution_count": 42,
      "outputs": []
    },
    {
      "cell_type": "code",
      "metadata": {
        "id": "dqxX2dNXABjE",
        "outputId": "c690c655-34d6-478a-f62f-21d5520b7df0",
        "colab": {
          "base_uri": "https://localhost:8080/"
        }
      },
      "source": [
        "print(f'Количество обучаемых параметров в сети: {count_parameters(model):,}')"
      ],
      "execution_count": 43,
      "outputs": [
        {
          "output_type": "stream",
          "text": [
            "Количество обучаемых параметров в сети: 7,944,192\n"
          ],
          "name": "stdout"
        }
      ]
    },
    {
      "cell_type": "code",
      "metadata": {
        "id": "WCBc-dWmAEss"
      },
      "source": [
        "x = x.to(device)\n",
        "y = y.to(device)"
      ],
      "execution_count": 44,
      "outputs": []
    },
    {
      "cell_type": "code",
      "metadata": {
        "id": "T1IiCd25AH6y"
      },
      "source": [
        ""
      ],
      "execution_count": null,
      "outputs": []
    }
  ]
}