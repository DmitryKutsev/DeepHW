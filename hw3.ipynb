{
  "nbformat": 4,
  "nbformat_minor": 0,
  "metadata": {
    "colab": {
      "name": "Untitled44.ipynb",
      "provenance": [],
      "authorship_tag": "ABX9TyMLLkju/PcbDZ3csEk9W7Nu",
      "include_colab_link": true
    },
    "kernelspec": {
      "name": "python3",
      "display_name": "Python 3"
    },
    "accelerator": "GPU"
  },
  "cells": [
    {
      "cell_type": "markdown",
      "metadata": {
        "id": "view-in-github",
        "colab_type": "text"
      },
      "source": [
        "<a href=\"https://colab.research.google.com/github/DmitryKutsev/DeepHW/blob/master/hw3.ipynb\" target=\"_parent\"><img src=\"https://colab.research.google.com/assets/colab-badge.svg\" alt=\"Open In Colab\"/></a>"
      ]
    },
    {
      "cell_type": "code",
      "metadata": {
        "id": "V2CFSkzkOu4D",
        "outputId": "9a5e5da5-813e-4164-a0dc-27f06d6c03aa",
        "colab": {
          "base_uri": "https://localhost:8080/"
        }
      },
      "source": [
        "!pip install youtokentome"
      ],
      "execution_count": 1,
      "outputs": [
        {
          "output_type": "stream",
          "text": [
            "Collecting youtokentome\n",
            "\u001b[?25l  Downloading https://files.pythonhosted.org/packages/a3/65/4a86cf99da3f680497ae132329025b291e2fda22327e8da6a9476e51acb1/youtokentome-1.0.6-cp36-cp36m-manylinux2010_x86_64.whl (1.7MB)\n",
            "\r\u001b[K     |▏                               | 10kB 26.0MB/s eta 0:00:01\r\u001b[K     |▍                               | 20kB 20.2MB/s eta 0:00:01\r\u001b[K     |▋                               | 30kB 16.1MB/s eta 0:00:01\r\u001b[K     |▊                               | 40kB 12.3MB/s eta 0:00:01\r\u001b[K     |█                               | 51kB 11.3MB/s eta 0:00:01\r\u001b[K     |█▏                              | 61kB 10.9MB/s eta 0:00:01\r\u001b[K     |█▍                              | 71kB 10.9MB/s eta 0:00:01\r\u001b[K     |█▌                              | 81kB 9.9MB/s eta 0:00:01\r\u001b[K     |█▊                              | 92kB 9.7MB/s eta 0:00:01\r\u001b[K     |██                              | 102kB 9.9MB/s eta 0:00:01\r\u001b[K     |██                              | 112kB 9.9MB/s eta 0:00:01\r\u001b[K     |██▎                             | 122kB 9.9MB/s eta 0:00:01\r\u001b[K     |██▌                             | 133kB 9.9MB/s eta 0:00:01\r\u001b[K     |██▊                             | 143kB 9.9MB/s eta 0:00:01\r\u001b[K     |██▉                             | 153kB 9.9MB/s eta 0:00:01\r\u001b[K     |███                             | 163kB 9.9MB/s eta 0:00:01\r\u001b[K     |███▎                            | 174kB 9.9MB/s eta 0:00:01\r\u001b[K     |███▌                            | 184kB 9.9MB/s eta 0:00:01\r\u001b[K     |███▋                            | 194kB 9.9MB/s eta 0:00:01\r\u001b[K     |███▉                            | 204kB 9.9MB/s eta 0:00:01\r\u001b[K     |████                            | 215kB 9.9MB/s eta 0:00:01\r\u001b[K     |████▏                           | 225kB 9.9MB/s eta 0:00:01\r\u001b[K     |████▍                           | 235kB 9.9MB/s eta 0:00:01\r\u001b[K     |████▋                           | 245kB 9.9MB/s eta 0:00:01\r\u001b[K     |████▉                           | 256kB 9.9MB/s eta 0:00:01\r\u001b[K     |█████                           | 266kB 9.9MB/s eta 0:00:01\r\u001b[K     |█████▏                          | 276kB 9.9MB/s eta 0:00:01\r\u001b[K     |█████▍                          | 286kB 9.9MB/s eta 0:00:01\r\u001b[K     |█████▋                          | 296kB 9.9MB/s eta 0:00:01\r\u001b[K     |█████▊                          | 307kB 9.9MB/s eta 0:00:01\r\u001b[K     |██████                          | 317kB 9.9MB/s eta 0:00:01\r\u001b[K     |██████▏                         | 327kB 9.9MB/s eta 0:00:01\r\u001b[K     |██████▎                         | 337kB 9.9MB/s eta 0:00:01\r\u001b[K     |██████▌                         | 348kB 9.9MB/s eta 0:00:01\r\u001b[K     |██████▊                         | 358kB 9.9MB/s eta 0:00:01\r\u001b[K     |███████                         | 368kB 9.9MB/s eta 0:00:01\r\u001b[K     |███████                         | 378kB 9.9MB/s eta 0:00:01\r\u001b[K     |███████▎                        | 389kB 9.9MB/s eta 0:00:01\r\u001b[K     |███████▌                        | 399kB 9.9MB/s eta 0:00:01\r\u001b[K     |███████▋                        | 409kB 9.9MB/s eta 0:00:01\r\u001b[K     |███████▉                        | 419kB 9.9MB/s eta 0:00:01\r\u001b[K     |████████                        | 430kB 9.9MB/s eta 0:00:01\r\u001b[K     |████████▎                       | 440kB 9.9MB/s eta 0:00:01\r\u001b[K     |████████▍                       | 450kB 9.9MB/s eta 0:00:01\r\u001b[K     |████████▋                       | 460kB 9.9MB/s eta 0:00:01\r\u001b[K     |████████▉                       | 471kB 9.9MB/s eta 0:00:01\r\u001b[K     |█████████                       | 481kB 9.9MB/s eta 0:00:01\r\u001b[K     |█████████▏                      | 491kB 9.9MB/s eta 0:00:01\r\u001b[K     |█████████▍                      | 501kB 9.9MB/s eta 0:00:01\r\u001b[K     |█████████▋                      | 512kB 9.9MB/s eta 0:00:01\r\u001b[K     |█████████▊                      | 522kB 9.9MB/s eta 0:00:01\r\u001b[K     |██████████                      | 532kB 9.9MB/s eta 0:00:01\r\u001b[K     |██████████▏                     | 542kB 9.9MB/s eta 0:00:01\r\u001b[K     |██████████▍                     | 552kB 9.9MB/s eta 0:00:01\r\u001b[K     |██████████▌                     | 563kB 9.9MB/s eta 0:00:01\r\u001b[K     |██████████▊                     | 573kB 9.9MB/s eta 0:00:01\r\u001b[K     |███████████                     | 583kB 9.9MB/s eta 0:00:01\r\u001b[K     |███████████▏                    | 593kB 9.9MB/s eta 0:00:01\r\u001b[K     |███████████▎                    | 604kB 9.9MB/s eta 0:00:01\r\u001b[K     |███████████▌                    | 614kB 9.9MB/s eta 0:00:01\r\u001b[K     |███████████▊                    | 624kB 9.9MB/s eta 0:00:01\r\u001b[K     |███████████▉                    | 634kB 9.9MB/s eta 0:00:01\r\u001b[K     |████████████                    | 645kB 9.9MB/s eta 0:00:01\r\u001b[K     |████████████▎                   | 655kB 9.9MB/s eta 0:00:01\r\u001b[K     |████████████▌                   | 665kB 9.9MB/s eta 0:00:01\r\u001b[K     |████████████▋                   | 675kB 9.9MB/s eta 0:00:01\r\u001b[K     |████████████▉                   | 686kB 9.9MB/s eta 0:00:01\r\u001b[K     |█████████████                   | 696kB 9.9MB/s eta 0:00:01\r\u001b[K     |█████████████▏                  | 706kB 9.9MB/s eta 0:00:01\r\u001b[K     |█████████████▍                  | 716kB 9.9MB/s eta 0:00:01\r\u001b[K     |█████████████▋                  | 727kB 9.9MB/s eta 0:00:01\r\u001b[K     |█████████████▉                  | 737kB 9.9MB/s eta 0:00:01\r\u001b[K     |██████████████                  | 747kB 9.9MB/s eta 0:00:01\r\u001b[K     |██████████████▏                 | 757kB 9.9MB/s eta 0:00:01\r\u001b[K     |██████████████▍                 | 768kB 9.9MB/s eta 0:00:01\r\u001b[K     |██████████████▋                 | 778kB 9.9MB/s eta 0:00:01\r\u001b[K     |██████████████▊                 | 788kB 9.9MB/s eta 0:00:01\r\u001b[K     |███████████████                 | 798kB 9.9MB/s eta 0:00:01\r\u001b[K     |███████████████▏                | 808kB 9.9MB/s eta 0:00:01\r\u001b[K     |███████████████▎                | 819kB 9.9MB/s eta 0:00:01\r\u001b[K     |███████████████▌                | 829kB 9.9MB/s eta 0:00:01\r\u001b[K     |███████████████▊                | 839kB 9.9MB/s eta 0:00:01\r\u001b[K     |████████████████                | 849kB 9.9MB/s eta 0:00:01\r\u001b[K     |████████████████                | 860kB 9.9MB/s eta 0:00:01\r\u001b[K     |████████████████▎               | 870kB 9.9MB/s eta 0:00:01\r\u001b[K     |████████████████▌               | 880kB 9.9MB/s eta 0:00:01\r\u001b[K     |████████████████▊               | 890kB 9.9MB/s eta 0:00:01\r\u001b[K     |████████████████▉               | 901kB 9.9MB/s eta 0:00:01\r\u001b[K     |█████████████████               | 911kB 9.9MB/s eta 0:00:01\r\u001b[K     |█████████████████▎              | 921kB 9.9MB/s eta 0:00:01\r\u001b[K     |█████████████████▍              | 931kB 9.9MB/s eta 0:00:01\r\u001b[K     |█████████████████▋              | 942kB 9.9MB/s eta 0:00:01\r\u001b[K     |█████████████████▉              | 952kB 9.9MB/s eta 0:00:01\r\u001b[K     |██████████████████              | 962kB 9.9MB/s eta 0:00:01\r\u001b[K     |██████████████████▏             | 972kB 9.9MB/s eta 0:00:01\r\u001b[K     |██████████████████▍             | 983kB 9.9MB/s eta 0:00:01\r\u001b[K     |██████████████████▋             | 993kB 9.9MB/s eta 0:00:01\r\u001b[K     |██████████████████▉             | 1.0MB 9.9MB/s eta 0:00:01\r\u001b[K     |███████████████████             | 1.0MB 9.9MB/s eta 0:00:01\r\u001b[K     |███████████████████▏            | 1.0MB 9.9MB/s eta 0:00:01\r\u001b[K     |███████████████████▍            | 1.0MB 9.9MB/s eta 0:00:01\r\u001b[K     |███████████████████▌            | 1.0MB 9.9MB/s eta 0:00:01\r\u001b[K     |███████████████████▊            | 1.1MB 9.9MB/s eta 0:00:01\r\u001b[K     |████████████████████            | 1.1MB 9.9MB/s eta 0:00:01\r\u001b[K     |████████████████████▏           | 1.1MB 9.9MB/s eta 0:00:01\r\u001b[K     |████████████████████▎           | 1.1MB 9.9MB/s eta 0:00:01\r\u001b[K     |████████████████████▌           | 1.1MB 9.9MB/s eta 0:00:01\r\u001b[K     |████████████████████▊           | 1.1MB 9.9MB/s eta 0:00:01\r\u001b[K     |████████████████████▉           | 1.1MB 9.9MB/s eta 0:00:01\r\u001b[K     |█████████████████████           | 1.1MB 9.9MB/s eta 0:00:01\r\u001b[K     |█████████████████████▎          | 1.1MB 9.9MB/s eta 0:00:01\r\u001b[K     |█████████████████████▌          | 1.1MB 9.9MB/s eta 0:00:01\r\u001b[K     |█████████████████████▋          | 1.2MB 9.9MB/s eta 0:00:01\r\u001b[K     |█████████████████████▉          | 1.2MB 9.9MB/s eta 0:00:01\r\u001b[K     |██████████████████████          | 1.2MB 9.9MB/s eta 0:00:01\r\u001b[K     |██████████████████████▎         | 1.2MB 9.9MB/s eta 0:00:01\r\u001b[K     |██████████████████████▍         | 1.2MB 9.9MB/s eta 0:00:01\r\u001b[K     |██████████████████████▋         | 1.2MB 9.9MB/s eta 0:00:01\r\u001b[K     |██████████████████████▉         | 1.2MB 9.9MB/s eta 0:00:01\r\u001b[K     |███████████████████████         | 1.2MB 9.9MB/s eta 0:00:01\r\u001b[K     |███████████████████████▏        | 1.2MB 9.9MB/s eta 0:00:01\r\u001b[K     |███████████████████████▍        | 1.2MB 9.9MB/s eta 0:00:01\r\u001b[K     |███████████████████████▋        | 1.3MB 9.9MB/s eta 0:00:01\r\u001b[K     |███████████████████████▊        | 1.3MB 9.9MB/s eta 0:00:01\r\u001b[K     |████████████████████████        | 1.3MB 9.9MB/s eta 0:00:01\r\u001b[K     |████████████████████████▏       | 1.3MB 9.9MB/s eta 0:00:01\r\u001b[K     |████████████████████████▍       | 1.3MB 9.9MB/s eta 0:00:01\r\u001b[K     |████████████████████████▌       | 1.3MB 9.9MB/s eta 0:00:01\r\u001b[K     |████████████████████████▊       | 1.3MB 9.9MB/s eta 0:00:01\r\u001b[K     |█████████████████████████       | 1.3MB 9.9MB/s eta 0:00:01\r\u001b[K     |█████████████████████████       | 1.3MB 9.9MB/s eta 0:00:01\r\u001b[K     |█████████████████████████▎      | 1.4MB 9.9MB/s eta 0:00:01\r\u001b[K     |█████████████████████████▌      | 1.4MB 9.9MB/s eta 0:00:01\r\u001b[K     |█████████████████████████▊      | 1.4MB 9.9MB/s eta 0:00:01\r\u001b[K     |█████████████████████████▉      | 1.4MB 9.9MB/s eta 0:00:01\r\u001b[K     |██████████████████████████      | 1.4MB 9.9MB/s eta 0:00:01\r\u001b[K     |██████████████████████████▎     | 1.4MB 9.9MB/s eta 0:00:01\r\u001b[K     |██████████████████████████▍     | 1.4MB 9.9MB/s eta 0:00:01\r\u001b[K     |██████████████████████████▋     | 1.4MB 9.9MB/s eta 0:00:01\r\u001b[K     |██████████████████████████▉     | 1.4MB 9.9MB/s eta 0:00:01\r\u001b[K     |███████████████████████████     | 1.4MB 9.9MB/s eta 0:00:01\r\u001b[K     |███████████████████████████▏    | 1.5MB 9.9MB/s eta 0:00:01\r\u001b[K     |███████████████████████████▍    | 1.5MB 9.9MB/s eta 0:00:01\r\u001b[K     |███████████████████████████▋    | 1.5MB 9.9MB/s eta 0:00:01\r\u001b[K     |███████████████████████████▉    | 1.5MB 9.9MB/s eta 0:00:01\r\u001b[K     |████████████████████████████    | 1.5MB 9.9MB/s eta 0:00:01\r\u001b[K     |████████████████████████████▏   | 1.5MB 9.9MB/s eta 0:00:01\r\u001b[K     |████████████████████████████▍   | 1.5MB 9.9MB/s eta 0:00:01\r\u001b[K     |████████████████████████████▌   | 1.5MB 9.9MB/s eta 0:00:01\r\u001b[K     |████████████████████████████▊   | 1.5MB 9.9MB/s eta 0:00:01\r\u001b[K     |█████████████████████████████   | 1.5MB 9.9MB/s eta 0:00:01\r\u001b[K     |█████████████████████████████▏  | 1.6MB 9.9MB/s eta 0:00:01\r\u001b[K     |█████████████████████████████▎  | 1.6MB 9.9MB/s eta 0:00:01\r\u001b[K     |█████████████████████████████▌  | 1.6MB 9.9MB/s eta 0:00:01\r\u001b[K     |█████████████████████████████▊  | 1.6MB 9.9MB/s eta 0:00:01\r\u001b[K     |██████████████████████████████  | 1.6MB 9.9MB/s eta 0:00:01\r\u001b[K     |██████████████████████████████  | 1.6MB 9.9MB/s eta 0:00:01\r\u001b[K     |██████████████████████████████▎ | 1.6MB 9.9MB/s eta 0:00:01\r\u001b[K     |██████████████████████████████▌ | 1.6MB 9.9MB/s eta 0:00:01\r\u001b[K     |██████████████████████████████▋ | 1.6MB 9.9MB/s eta 0:00:01\r\u001b[K     |██████████████████████████████▉ | 1.6MB 9.9MB/s eta 0:00:01\r\u001b[K     |███████████████████████████████ | 1.7MB 9.9MB/s eta 0:00:01\r\u001b[K     |███████████████████████████████▎| 1.7MB 9.9MB/s eta 0:00:01\r\u001b[K     |███████████████████████████████▍| 1.7MB 9.9MB/s eta 0:00:01\r\u001b[K     |███████████████████████████████▋| 1.7MB 9.9MB/s eta 0:00:01\r\u001b[K     |███████████████████████████████▉| 1.7MB 9.9MB/s eta 0:00:01\r\u001b[K     |████████████████████████████████| 1.7MB 9.9MB/s eta 0:00:01\r\u001b[K     |████████████████████████████████| 1.7MB 9.9MB/s \n",
            "\u001b[?25hRequirement already satisfied: Click>=7.0 in /usr/local/lib/python3.6/dist-packages (from youtokentome) (7.1.2)\n",
            "Installing collected packages: youtokentome\n",
            "Successfully installed youtokentome-1.0.6\n"
          ],
          "name": "stdout"
        }
      ]
    },
    {
      "cell_type": "code",
      "metadata": {
        "id": "5rg43AAFBh7e"
      },
      "source": [
        "# !wget https://developer.nvidia.com/compute/cuda/9.2/Prod/local_installers/cuda-repo-ubuntu1604-9-2-local_9.2.88-1_amd64 -O cuda-repo-ubuntu1604-9-2-local_9.2.88-1_amd64.deb\n",
        "# !dpkg -i cuda-repo-ubuntu1604-9-2-local_9.2.88-1_amd64.deb\n",
        "# !apt-key add /var/cuda-repo-9-2-local/7fa2af80.pub\n",
        "# !apt-get update\n",
        "# !apt-get install cuda"
      ],
      "execution_count": 2,
      "outputs": []
    },
    {
      "cell_type": "code",
      "metadata": {
        "id": "QIA1x7RzBq9D"
      },
      "source": [
        "# !pip install mxnet-cu92"
      ],
      "execution_count": 3,
      "outputs": []
    },
    {
      "cell_type": "code",
      "metadata": {
        "id": "FmrVqnzMMxMr"
      },
      "source": [
        "import math\n",
        "import numpy as np\n",
        "import pandas as pd\n",
        "\n",
        "import random\n",
        "import json\n",
        "import torch\n",
        "from torch.utils.data import Dataset, DataLoader\n",
        "\n",
        "from tqdm import tqdm\n",
        "\n",
        "from matplotlib import pyplot as plt\n",
        "\n",
        "import youtokentome as yttm"
      ],
      "execution_count": 4,
      "outputs": []
    },
    {
      "cell_type": "code",
      "metadata": {
        "id": "9WsCrjTDDG0-",
        "outputId": "5acc1386-416d-43c0-ea6a-666d02437ef0",
        "colab": {
          "base_uri": "https://localhost:8080/"
        }
      },
      "source": [
        "print(torch.cuda.device_count())"
      ],
      "execution_count": 5,
      "outputs": [
        {
          "output_type": "stream",
          "text": [
            "1\n"
          ],
          "name": "stdout"
        }
      ]
    },
    {
      "cell_type": "code",
      "metadata": {
        "id": "CQkrv7tBDa1g",
        "outputId": "6f140d8d-eefe-42fa-98c7-14854aa6d4a7",
        "colab": {
          "base_uri": "https://localhost:8080/"
        }
      },
      "source": [
        "print(torch.cuda.get_device_name(0))"
      ],
      "execution_count": 6,
      "outputs": [
        {
          "output_type": "stream",
          "text": [
            "Tesla T4\n"
          ],
          "name": "stdout"
        }
      ]
    },
    {
      "cell_type": "code",
      "metadata": {
        "id": "xbq8KBUcDsMc"
      },
      "source": [
        "device = torch.device('cuda:0')"
      ],
      "execution_count": 7,
      "outputs": []
    },
    {
      "cell_type": "code",
      "metadata": {
        "id": "AB1OFN7RB-8w"
      },
      "source": [
        "# !pip install --upgrade --force-reinstall -q http://download.pytorch.org/whl/{accelerator}/torch-0.4.0-{platform}-linux_x86_64.whl torchvision"
      ],
      "execution_count": 8,
      "outputs": []
    },
    {
      "cell_type": "code",
      "metadata": {
        "id": "kQsaa759SujQ",
        "outputId": "088f8719-4b82-4f89-aa40-af15e31b3f98",
        "colab": {
          "base_uri": "https://localhost:8080/"
        }
      },
      "source": [
        "from google.colab import drive\n",
        "drive.mount('/content/drive')"
      ],
      "execution_count": 20,
      "outputs": [
        {
          "output_type": "stream",
          "text": [
            "Mounted at /content/drive\n"
          ],
          "name": "stdout"
        }
      ]
    },
    {
      "cell_type": "code",
      "metadata": {
        "id": "fsUhzBGgT8R-"
      },
      "source": [
        "# !unzip '/content/drive/My Drive/unsupervised.csv.zip'"
      ],
      "execution_count": null,
      "outputs": []
    },
    {
      "cell_type": "code",
      "metadata": {
        "id": "Xqzqdz21Vh39",
        "outputId": "f84945de-0bd7-4e23-bc6c-7faae8f3468b",
        "colab": {
          "base_uri": "https://localhost:8080/"
        }
      },
      "source": [
        "!unzip '/content/drive/My Drive/qa_data.jsonl.zip'"
      ],
      "execution_count": 21,
      "outputs": [
        {
          "output_type": "stream",
          "text": [
            "Archive:  /content/drive/My Drive/qa_data.jsonl.zip\n",
            "  inflating: qa_data.jsonl           \n",
            "  inflating: __MACOSX/._qa_data.jsonl  \n"
          ],
          "name": "stdout"
        }
      ]
    },
    {
      "cell_type": "code",
      "metadata": {
        "id": "hpw5KDsGOrTT"
      },
      "source": [
        "# questions = pd.read_csv('unsupervised.csv')\n",
        "# questions.question = questions.question.map(lambda x: x.lower())\n",
        "\n",
        "qa_data = list()\n",
        "\n",
        "with open('qa_data.jsonl') as file_object:\n",
        "    for line in file_object:\n",
        "        qa_data.append(json.loads(line.strip()))\n",
        "file_object.close()\n",
        "qa_data = qa_data[:math.ceil(len(qa_data)*0.4)]#!!!!"
      ],
      "execution_count": 22,
      "outputs": []
    },
    {
      "cell_type": "code",
      "metadata": {
        "id": "J-VwC9f4gIpr",
        "outputId": "19eba8b3-b9ac-4060-eb48-dae7d489b5aa",
        "colab": {
          "base_uri": "https://localhost:8080/"
        }
      },
      "source": [
        "qa_data[0]"
      ],
      "execution_count": 23,
      "outputs": [
        {
          "output_type": "execute_result",
          "data": {
            "text/plain": [
              "{'category': 'Бизнес, Финансы',\n",
              " 'question': 'долго ли идут деньги с яндексденег на карту visa?',\n",
              " 'responses': ['нет. прорыв 35 ;)']}"
            ]
          },
          "metadata": {
            "tags": []
          },
          "execution_count": 23
        }
      ]
    },
    {
      "cell_type": "code",
      "metadata": {
        "id": "ns8YADUtVxQT"
      },
      "source": [
        "with open('for_bpe.txt', 'w', encoding='utf-8') as f:\n",
        "    for que in qa_data:\n",
        "        f.write(que['question'] + '\\n')\n",
        "f.close()\n",
        "\n",
        "vocab_size = 30_000\n",
        "model_path = 'pretrained_bpe_lm.model'"
      ],
      "execution_count": 24,
      "outputs": []
    },
    {
      "cell_type": "code",
      "metadata": {
        "id": "Fy6lmKpjW8ed",
        "outputId": "841a29c5-c7f0-4494-cd61-5806e39ae0f1",
        "colab": {
          "base_uri": "https://localhost:8080/"
        }
      },
      "source": [
        "%%time\n",
        "# обучаем\n",
        "# раскомментируйте этот код, чтобы обучить bpe\n",
        "yttm.BPE.train(data='for_bpe.txt', vocab_size=vocab_size, model=model_path)"
      ],
      "execution_count": 25,
      "outputs": [
        {
          "output_type": "stream",
          "text": [
            "CPU times: user 10.5 s, sys: 1.21 s, total: 11.7 s\n",
            "Wall time: 7.19 s\n"
          ],
          "name": "stdout"
        },
        {
          "output_type": "execute_result",
          "data": {
            "text/plain": [
              "<youtokentome.youtokentome.BPE at 0x7f8f68e080f0>"
            ]
          },
          "metadata": {
            "tags": []
          },
          "execution_count": 25
        }
      ]
    },
    {
      "cell_type": "code",
      "metadata": {
        "id": "I6Pyz-GbXmEQ"
      },
      "source": [
        "# загружаем токенизатор\n",
        "tokenizer = yttm.BPE(model=model_path)"
      ],
      "execution_count": 26,
      "outputs": []
    },
    {
      "cell_type": "code",
      "metadata": {
        "id": "HBIho8jAixIJ"
      },
      "source": [
        "for i in qa_data:\n",
        "  i['tok_quest'] = tokenizer.encode(i['question'], bos=True, eos=True)\n",
        "  if i['responses']:\n",
        "    i['tok_answ'] = tokenizer.encode(i['responses'][0], bos=True, eos=True)\n",
        "  else:\n",
        "    i['tok_answ'] = tokenizer.encode(i['responses'], bos=True, eos=True)"
      ],
      "execution_count": 27,
      "outputs": []
    },
    {
      "cell_type": "code",
      "metadata": {
        "id": "lT2ykmymVttb"
      },
      "source": [
        "train_border = math.ceil(len(qa_data)*0.6)\n",
        "test_border = math.ceil(len(qa_data)*0.8)"
      ],
      "execution_count": 29,
      "outputs": []
    },
    {
      "cell_type": "code",
      "metadata": {
        "id": "LaB8jxb-VtwO"
      },
      "source": [
        "train_df = pd.DataFrame(qa_data[:train_border])\n",
        "test_df = pd.DataFrame(qa_data[train_border:test_border])\n",
        "validation_df = pd.DataFrame(qa_data[test_border: ])"
      ],
      "execution_count": 30,
      "outputs": []
    },
    {
      "cell_type": "code",
      "metadata": {
        "id": "5QbWVA64VxTD",
        "outputId": "f4cc01d7-962d-4d23-bd52-10973551ff23",
        "colab": {
          "base_uri": "https://localhost:8080/",
          "height": 597
        }
      },
      "source": [
        "train_df\n"
      ],
      "execution_count": 31,
      "outputs": [
        {
          "output_type": "execute_result",
          "data": {
            "text/html": [
              "<div>\n",
              "<style scoped>\n",
              "    .dataframe tbody tr th:only-of-type {\n",
              "        vertical-align: middle;\n",
              "    }\n",
              "\n",
              "    .dataframe tbody tr th {\n",
              "        vertical-align: top;\n",
              "    }\n",
              "\n",
              "    .dataframe thead th {\n",
              "        text-align: right;\n",
              "    }\n",
              "</style>\n",
              "<table border=\"1\" class=\"dataframe\">\n",
              "  <thead>\n",
              "    <tr style=\"text-align: right;\">\n",
              "      <th></th>\n",
              "      <th>question</th>\n",
              "      <th>category</th>\n",
              "      <th>responses</th>\n",
              "      <th>tok_quest</th>\n",
              "      <th>tok_answ</th>\n",
              "    </tr>\n",
              "  </thead>\n",
              "  <tbody>\n",
              "    <tr>\n",
              "      <th>0</th>\n",
              "      <td>долго ли идут деньги с яндексденег на карту visa?</td>\n",
              "      <td>Бизнес, Финансы</td>\n",
              "      <td>[нет. прорыв 35 ;)]</td>\n",
              "      <td>[2, 1678, 389, 5459, 1030, 325, 8439, 23525, 2...</td>\n",
              "      <td>[2, 3499, 392, 441, 14, 5232, 7788, 3]</td>\n",
              "    </tr>\n",
              "    <tr>\n",
              "      <th>1</th>\n",
              "      <td>можно ли зарегистрировать авто в другом регионе</td>\n",
              "      <td>Авто, Мото</td>\n",
              "      <td>[можно на родственника из того региона.. .  а ...</td>\n",
              "      <td>[2, 424, 389, 16450, 665, 323, 4305, 17770, 3]</td>\n",
              "      <td>[2, 424, 342, 4823, 1005, 451, 1492, 13784, 38...</td>\n",
              "    </tr>\n",
              "    <tr>\n",
              "      <th>2</th>\n",
              "      <td>что делать если у меня очень тонкие ногти а хо...</td>\n",
              "      <td>Красота и Здоровье</td>\n",
              "      <td>[витамины и умная эмаль (каждый день), ванночк...</td>\n",
              "      <td>[2, 361, 584, 464, 358, 586, 683, 16767, 4629,...</td>\n",
              "      <td>[2, 7534, 336, 19442, 15298, 349, 10310, 25519...</td>\n",
              "    </tr>\n",
              "    <tr>\n",
              "      <th>3</th>\n",
              "      <td>в чем отличие медитации от йоги?</td>\n",
              "      <td>Спорт</td>\n",
              "      <td>[букв в йоге меньше, в медитации ты просто сид...</td>\n",
              "      <td>[2, 323, 539, 7025, 3421, 7701, 388, 3012, 408...</td>\n",
              "      <td>[2, 6709, 323, 3012, 1094, 2991, 3]</td>\n",
              "    </tr>\n",
              "    <tr>\n",
              "      <th>4</th>\n",
              "      <td>когда начнут линейку фильмов про лигу чемпионов?</td>\n",
              "      <td>Спорт</td>\n",
              "      <td>[а не фильм? жалко... а я то думал - хорошая к...</td>\n",
              "      <td>[2, 572, 13653, 14803, 402, 3978, 392, 10868, ...</td>\n",
              "      <td>[2, 364, 363, 2368, 4915, 434, 364, 438, 425, ...</td>\n",
              "    </tr>\n",
              "    <tr>\n",
              "      <th>...</th>\n",
              "      <td>...</td>\n",
              "      <td>...</td>\n",
              "      <td>...</td>\n",
              "      <td>...</td>\n",
              "      <td>...</td>\n",
              "    </tr>\n",
              "    <tr>\n",
              "      <th>674110</th>\n",
              "      <td>могут ли в 15 лет взять работать санитаркой в ...</td>\n",
              "      <td>Красота и Здоровье</td>\n",
              "      <td>[могут на неполный рабочий день., да . с работ...</td>\n",
              "      <td>[2, 1376, 389, 323, 1355, 624, 1223, 1483, 248...</td>\n",
              "      <td>[2, 1376, 342, 14369, 498, 7818, 6806, 3]</td>\n",
              "    </tr>\n",
              "    <tr>\n",
              "      <th>674111</th>\n",
              "      <td>можно сократить беременость симки?</td>\n",
              "      <td>Семья, Дом, Дети</td>\n",
              "      <td>[никак. там она и так короткая. 3дня, ахахахах...</td>\n",
              "      <td>[2, 424, 6793, 1568, 17416, 955, 1931, 792, 3]</td>\n",
              "      <td>[2, 2845, 29, 924, 809, 336, 447, 18891, 29, 6...</td>\n",
              "    </tr>\n",
              "    <tr>\n",
              "      <th>674112</th>\n",
              "      <td>в каком случае нужно обязательно менять работу?</td>\n",
              "      <td>Работа, Карьера</td>\n",
              "      <td>[когда деваться некуда..., кода босс сильно да...</td>\n",
              "      <td>[2, 323, 1017, 4750, 681, 2299, 4106, 3332, 3]</td>\n",
              "      <td>[2, 572, 400, 1186, 18423, 434, 3]</td>\n",
              "    </tr>\n",
              "    <tr>\n",
              "      <th>674113</th>\n",
              "      <td>вы часто сами себя накручиваете на ровном мест...</td>\n",
              "      <td>Знакомства, Любовь, Отношения</td>\n",
              "      <td>[если меня нет рядом, значит мыссленно и душой...</td>\n",
              "      <td>[2, 376, 1129, 2298, 869, 17747, 405, 2074, 34...</td>\n",
              "      <td>[2, 464, 586, 680, 25026, 1555, 769, 1849, 122...</td>\n",
              "    </tr>\n",
              "    <tr>\n",
              "      <th>674114</th>\n",
              "      <td>друзья! подскажите какой-нибудь фильмец интере...</td>\n",
              "      <td>Искусство и Культура</td>\n",
              "      <td>[звёздная пыль  фокус-покус, ученик чародея, в...</td>\n",
              "      <td>[2, 12917, 483, 3987, 15076, 3582, 36, 1140, 1...</td>\n",
              "      <td>[2, 11266, 616, 17145, 9961, 5078, 996, 3]</td>\n",
              "    </tr>\n",
              "  </tbody>\n",
              "</table>\n",
              "<p>674115 rows × 5 columns</p>\n",
              "</div>"
            ],
            "text/plain": [
              "                                                 question  ...                                           tok_answ\n",
              "0       долго ли идут деньги с яндексденег на карту visa?  ...             [2, 3499, 392, 441, 14, 5232, 7788, 3]\n",
              "1         можно ли зарегистрировать авто в другом регионе  ...  [2, 424, 342, 4823, 1005, 451, 1492, 13784, 38...\n",
              "2       что делать если у меня очень тонкие ногти а хо...  ...  [2, 7534, 336, 19442, 15298, 349, 10310, 25519...\n",
              "3                        в чем отличие медитации от йоги?  ...                [2, 6709, 323, 3012, 1094, 2991, 3]\n",
              "4        когда начнут линейку фильмов про лигу чемпионов?  ...  [2, 364, 363, 2368, 4915, 434, 364, 438, 425, ...\n",
              "...                                                   ...  ...                                                ...\n",
              "674110  могут ли в 15 лет взять работать санитаркой в ...  ...          [2, 1376, 342, 14369, 498, 7818, 6806, 3]\n",
              "674111                 можно сократить беременость симки?  ...  [2, 2845, 29, 924, 809, 336, 447, 18891, 29, 6...\n",
              "674112    в каком случае нужно обязательно менять работу?  ...                 [2, 572, 400, 1186, 18423, 434, 3]\n",
              "674113  вы часто сами себя накручиваете на ровном мест...  ...  [2, 464, 586, 680, 25026, 1555, 769, 1849, 122...\n",
              "674114  друзья! подскажите какой-нибудь фильмец интере...  ...         [2, 11266, 616, 17145, 9961, 5078, 996, 3]\n",
              "\n",
              "[674115 rows x 5 columns]"
            ]
          },
          "metadata": {
            "tags": []
          },
          "execution_count": 31
        }
      ]
    },
    {
      "cell_type": "code",
      "metadata": {
        "id": "HcHhlLMVVxVv"
      },
      "source": [
        ""
      ],
      "execution_count": 31,
      "outputs": []
    },
    {
      "cell_type": "code",
      "metadata": {
        "id": "ki2PI2AhV-qF",
        "outputId": "679e87e1-6aa4-46d0-aed5-50cc9edb1ddc",
        "colab": {
          "base_uri": "https://localhost:8080/"
        }
      },
      "source": [
        "tokenizer.encode('аа памагити пожалст', bos=True, eos=True, output_type=yttm.OutputType.SUBWORD)"
      ],
      "execution_count": 32,
      "outputs": [
        {
          "output_type": "execute_result",
          "data": {
            "text/plain": [
              "['<BOS>', '▁аа', '▁па', 'ма', 'ги', 'ти', '▁пожал', 'ст', '<EOS>']"
            ]
          },
          "metadata": {
            "tags": []
          },
          "execution_count": 32
        }
      ]
    },
    {
      "cell_type": "code",
      "metadata": {
        "id": "9xX_P_oKV-3r"
      },
      "source": [
        "\n",
        "batch_size = 64\n",
        "\n",
        "max_len = 32 # это типа с запасом?\n",
        "\n",
        "pad_index = 0\n",
        "eos_index = 3"
      ],
      "execution_count": 33,
      "outputs": []
    },
    {
      "cell_type": "code",
      "metadata": {
        "id": "15UJnunpV-tE"
      },
      "source": [
        "class LanguageModelData(torch.utils.data.Dataset):\n",
        "    \n",
        "    def __init__(self, data, max_len, pad_index, eos_index):\n",
        "        \n",
        "        self.data = data\n",
        "        \n",
        "        self.max_len = max_len\n",
        "        \n",
        "        self.pad_index = pad_index\n",
        "        self.eos_index = eos_index\n",
        "        \n",
        "    def __len__(self):\n",
        "        return len(self.data)\n",
        "    \n",
        "    def __getitem__(self, index):\n",
        "        \n",
        "        x = self.data['tok_quest'][index][:self.max_len]\n",
        "        y = self.data['tok_answ'][index][:self.max_len]        \n",
        "        \n",
        "        pads_x = [self.pad_index] * (self.max_len - len(x))\n",
        "        pads_y = [self.pad_index] * (self.max_len - len(y))\n",
        "\n",
        "        x = torch.tensor(x + pads_x).long()\n",
        "        y = torch.tensor(y + pads_y).long()\n",
        "        \n",
        "        return x, y"
      ],
      "execution_count": 34,
      "outputs": []
    },
    {
      "cell_type": "code",
      "metadata": {
        "id": "LaR12H6ge9Je",
        "outputId": "ce5251d6-ceb3-4f56-f381-0d7cf19f9eb9",
        "colab": {
          "base_uri": "https://localhost:8080/"
        }
      },
      "source": [
        "train_df['tok_answ'][0]"
      ],
      "execution_count": 35,
      "outputs": [
        {
          "output_type": "execute_result",
          "data": {
            "text/plain": [
              "[2, 3499, 392, 441, 14, 5232, 7788, 3]"
            ]
          },
          "metadata": {
            "tags": []
          },
          "execution_count": 35
        }
      ]
    },
    {
      "cell_type": "code",
      "metadata": {
        "id": "7bux4HtWe9G7",
        "outputId": "c43cbb3a-7269-4a87-e15d-1b8876a9db9e",
        "colab": {
          "base_uri": "https://localhost:8080/"
        }
      },
      "source": [
        "train_df['tok_quest'][0]"
      ],
      "execution_count": 36,
      "outputs": [
        {
          "output_type": "execute_result",
          "data": {
            "text/plain": [
              "[2, 1678, 389, 5459, 1030, 325, 8439, 23525, 26, 342, 3111, 7417, 5752, 3]"
            ]
          },
          "metadata": {
            "tags": []
          },
          "execution_count": 36
        }
      ]
    },
    {
      "cell_type": "code",
      "metadata": {
        "id": "rBdxi6f-wsGT"
      },
      "source": [
        "# sent = tokenizer.encode('аа памагити пожалст', bos=True, eos=True)\n",
        "# x = sent[:max_len]\n",
        "\n",
        "# pads_x = [pad_index] * (max_len - len(x))\n",
        "# x = torch.tensor([x + pads_x]).long()\n",
        "# x = x.to(device)\n",
        "# x\n",
        "# with torch.no_grad():\n",
        "#   pred = model(x)\n",
        "# pred"
      ],
      "execution_count": 39,
      "outputs": []
    },
    {
      "cell_type": "code",
      "metadata": {
        "id": "aPq0PyOIV-yT",
        "outputId": "03721fbe-7867-4f82-ed71-33843a60b867",
        "colab": {
          "base_uri": "https://localhost:8080/"
        }
      },
      "source": [
        "\n",
        "# надо выбрать максимальную длину\n",
        "lengths = np.array([len(x) for x in train_df['tok_quest']])\n",
        "np.percentile(lengths, q=95)"
      ],
      "execution_count": 40,
      "outputs": [
        {
          "output_type": "execute_result",
          "data": {
            "text/plain": [
              "28.0"
            ]
          },
          "metadata": {
            "tags": []
          },
          "execution_count": 40
        }
      ]
    },
    {
      "cell_type": "code",
      "metadata": {
        "id": "YjOOOtBAV-9b",
        "outputId": "da5d487b-e586-4b18-bbcc-5ac7f26e3a3b",
        "colab": {
          "base_uri": "https://localhost:8080/"
        }
      },
      "source": [
        "train_dataset = LanguageModelData(data=train_df, max_len=max_len, \n",
        "                                  pad_index=pad_index, eos_index=eos_index)\n",
        "validation_dataset = LanguageModelData(data=validation_df, max_len=max_len,\n",
        "                                       pad_index=pad_index, eos_index=eos_index)\n",
        "\n",
        "len(train_dataset), len(validation_dataset)"
      ],
      "execution_count": 41,
      "outputs": [
        {
          "output_type": "execute_result",
          "data": {
            "text/plain": [
              "(674115, 224705)"
            ]
          },
          "metadata": {
            "tags": []
          },
          "execution_count": 41
        }
      ]
    },
    {
      "cell_type": "code",
      "metadata": {
        "id": "zswVvXWZV_Fq"
      },
      "source": [
        "train_loader = torch.utils.data.DataLoader(train_dataset, batch_size=batch_size)\n",
        "validation_loader = torch.utils.data.DataLoader(validation_dataset, batch_size=batch_size)"
      ],
      "execution_count": 42,
      "outputs": []
    },
    {
      "cell_type": "code",
      "metadata": {
        "id": "JgM0ck_nV_DU"
      },
      "source": [
        "for x, y in train_loader:\n",
        "    break"
      ],
      "execution_count": 43,
      "outputs": []
    },
    {
      "cell_type": "code",
      "metadata": {
        "id": "F3XOPsByV-wF",
        "outputId": "2ccdec18-e04b-4536-ef97-ee26c9b5fd3d",
        "colab": {
          "base_uri": "https://localhost:8080/"
        }
      },
      "source": [
        "# пробежимся по итератору, чтобы убедиться что ничего не падает и он работает достаточно быстро\n",
        "\n",
        "progress_bar = tqdm(total=len(validation_loader.dataset), desc='Testing')\n",
        "\n",
        "for x, y in validation_loader:\n",
        "    progress_bar.update(x.size(0))\n",
        "    \n",
        "progress_bar.close()"
      ],
      "execution_count": 44,
      "outputs": [
        {
          "output_type": "stream",
          "text": [
            "Testing: 100%|██████████| 224705/224705 [00:05<00:00, 37778.22it/s]\n"
          ],
          "name": "stderr"
        }
      ]
    },
    {
      "cell_type": "code",
      "metadata": {
        "id": "r4zX-hPQrZGM"
      },
      "source": [
        "class LanguageModel(torch.nn.Module):\n",
        "    \n",
        "    def __init__(self, vocab_size, embedding_dim, model_dim, num_layers, dropout, padding_idx):\n",
        "        \n",
        "        super().__init__()\n",
        "        \n",
        "        # просто эмбеддинги\n",
        "        self.embedding_layer = torch.nn.Embedding(num_embeddings=vocab_size, \n",
        "                                                  embedding_dim=embedding_dim,\n",
        "                                                  padding_idx=padding_idx)\n",
        "        \n",
        "        # просто lstm\n",
        "        self.lstm = torch.nn.LSTM(input_size=embedding_dim, \n",
        "                                  hidden_size=model_dim,\n",
        "                                  num_layers=num_layers, \n",
        "                                  dropout=0.3,\n",
        "                                  batch_first=True)\n",
        "        \n",
        "        # выходная матрица эмбеддингов\n",
        "        # количество выходных фичей равно размеру словаря\n",
        "        # то есть это задача мультиклассовой классификации, но только классов очень много\n",
        "        self.language_model_head = torch.nn.Linear(in_features=model_dim,\n",
        "                                                   out_features=vocab_size,\n",
        "                                                   bias=False)\n",
        "        \n",
        "    def forward(self, x):\n",
        "        \n",
        "        x = self.embedding_layer(x)\n",
        "        \n",
        "        x, _ = self.lstm(x)\n",
        "        \n",
        "        # к каждому элементу последовательности применяется выходная матрица эмбеддингов, \n",
        "        # которая переводит вектор lstm в предсказание конкретного слова\n",
        "        x = self.language_model_head(x)\n",
        "        \n",
        "        return x"
      ],
      "execution_count": 45,
      "outputs": []
    },
    {
      "cell_type": "code",
      "metadata": {
        "id": "tLGCx38QrZRz"
      },
      "source": [
        "embedding_dim = 128\n",
        "model_dim = 128\n",
        "num_layers = 2\n",
        "dropout = 0.35"
      ],
      "execution_count": 46,
      "outputs": []
    },
    {
      "cell_type": "code",
      "metadata": {
        "id": "SNOUA4RirZgp",
        "outputId": "bb20a5b4-9376-4295-99da-bd075395d07d",
        "colab": {
          "base_uri": "https://localhost:8080/"
        }
      },
      "source": [
        "model = LanguageModel(vocab_size=vocab_size, embedding_dim=embedding_dim,\n",
        "                      model_dim=model_dim, num_layers=num_layers,\n",
        "                      dropout=dropout, padding_idx=pad_index)\n",
        "model.to(device)"
      ],
      "execution_count": 47,
      "outputs": [
        {
          "output_type": "execute_result",
          "data": {
            "text/plain": [
              "LanguageModel(\n",
              "  (embedding_layer): Embedding(30000, 128, padding_idx=0)\n",
              "  (lstm): LSTM(128, 128, num_layers=2, batch_first=True, dropout=0.3)\n",
              "  (language_model_head): Linear(in_features=128, out_features=30000, bias=False)\n",
              ")"
            ]
          },
          "metadata": {
            "tags": []
          },
          "execution_count": 47
        }
      ]
    },
    {
      "cell_type": "code",
      "metadata": {
        "id": "dKlwwNMOrZmQ"
      },
      "source": [
        "\n",
        "# у нас есть тег eos (end of sentence), который есть в каждом тренировочном примере\n",
        "# мы не будем считать лосс для падов\n",
        "# вместо этого будем останавливать генерирование моделью в момент, когда она сгенерирует тег eos\n",
        "# \n",
        "criterion = torch.nn.CrossEntropyLoss(ignore_index=pad_index)\n",
        "optimizer = torch.optim.Adam(params=model.parameters())"
      ],
      "execution_count": 48,
      "outputs": []
    },
    {
      "cell_type": "code",
      "metadata": {
        "id": "0fK2mmj-rZjy"
      },
      "source": [
        "\n",
        "# функция для обучения одной эпохи\n",
        "# почти все как всегда\n",
        "\n",
        "def train(model, loader, criterion, optimizer, last_n_losses=500, verbose=True):\n",
        "    \n",
        "    losses = []\n",
        "\n",
        "    progress_bar = tqdm(total=len(loader), disable=not verbose, desc='Train')\n",
        "\n",
        "    model.train()\n",
        "\n",
        "    for x, y in loader:\n",
        "\n",
        "        x = x.to(device)\n",
        "        y = y.to(device)\n",
        "\n",
        "        pred = model(x)\n",
        "\n",
        "        loss = criterion(pred.view(-1, pred.size(-1)), y.view(-1))\n",
        "\n",
        "        optimizer.zero_grad()\n",
        "        loss.backward()\n",
        "        optimizer.step()\n",
        "\n",
        "        losses.append(loss.item())\n",
        "\n",
        "        progress_bar.set_postfix(loss=np.mean(losses[-last_n_losses:]),\n",
        "                                 perplexity=np.exp(np.mean(losses[-last_n_losses:])))\n",
        "\n",
        "        progress_bar.update()\n",
        "\n",
        "    progress_bar.close()\n",
        "    \n",
        "    return losses"
      ],
      "execution_count": 49,
      "outputs": []
    },
    {
      "cell_type": "code",
      "metadata": {
        "id": "2MciaRQurZPF",
        "outputId": "9f319089-ff23-4257-c934-af18b3c852c1",
        "colab": {
          "base_uri": "https://localhost:8080/"
        }
      },
      "source": [
        "epoch_losses = train(model, validation_loader, criterion, optimizer)"
      ],
      "execution_count": 50,
      "outputs": [
        {
          "output_type": "stream",
          "text": [
            "Train: 100%|██████████| 3512/3512 [01:49<00:00, 32.08it/s, loss=7.28, perplexity=1.45e+3]\n"
          ],
          "name": "stderr"
        }
      ]
    },
    {
      "cell_type": "code",
      "metadata": {
        "id": "D1VxuH5VrZMc",
        "outputId": "357f2b74-739f-4a51-f19b-d87fac55c68d",
        "colab": {
          "base_uri": "https://localhost:8080/",
          "height": 857
        }
      },
      "source": [
        "\n",
        "plt.figure(figsize=(14, 14))\n",
        "plt.xlabel('Номер батча')\n",
        "plt.ylabel('Значение функции потерь')\n",
        "plt.title('Процесс обучения')\n",
        "plt.plot(epoch_losses)"
      ],
      "execution_count": 51,
      "outputs": [
        {
          "output_type": "execute_result",
          "data": {
            "text/plain": [
              "[<matplotlib.lines.Line2D at 0x7f8ea21385f8>]"
            ]
          },
          "metadata": {
            "tags": []
          },
          "execution_count": 51
        },
        {
          "output_type": "display_data",
          "data": {
            "image/png": "[encoded data removed]",
            "text/plain": [
              "<Figure size 1008x1008 with 1 Axes>"
            ]
          },
          "metadata": {
            "tags": [],
            "needs_background": "light"
          }
        }
      ]
    },
    {
      "cell_type": "code",
      "metadata": {
        "id": "nti29PFSrZKq"
      },
      "source": [
        "def evaluate(model, loader, criterion, last_n_losses=500, verbose=True):\n",
        "    \n",
        "    losses = []\n",
        "\n",
        "    progress_bar = tqdm(total=len(loader), disable=not verbose, desc='Evaluate')\n",
        "\n",
        "    model.eval()\n",
        "\n",
        "    for x, y in loader:\n",
        "\n",
        "        x = x.to(device)\n",
        "        y = y.to(device)\n",
        "\n",
        "        with torch.no_grad():\n",
        "            pred = model(x)\n",
        "\n",
        "        loss = criterion(pred.view(-1, pred.size(-1)), y.view(-1))\n",
        "\n",
        "        losses.append(loss.item())\n",
        "\n",
        "        progress_bar.set_postfix(loss=np.mean(losses[-last_n_losses:]),\n",
        "                                 perplexity=np.exp(np.mean(losses[-last_n_losses:])))\n",
        "\n",
        "        progress_bar.update()\n",
        "\n",
        "    progress_bar.close()\n",
        "    \n",
        "    return losses"
      ],
      "execution_count": 52,
      "outputs": []
    },
    {
      "cell_type": "code",
      "metadata": {
        "id": "y2Z9xyRirZDe",
        "outputId": "5c8e39ee-66b5-4371-d4ac-709062f25ec7",
        "colab": {
          "base_uri": "https://localhost:8080/",
          "height": 54
        }
      },
      "source": [
        "\n",
        "val_losses = evaluate(model, validation_loader, criterion)\n",
        "f'Val loss - {np.mean(val_losses):.3f} perplexity - {np.exp(np.mean(val_losses)):.3f}'"
      ],
      "execution_count": 53,
      "outputs": [
        {
          "output_type": "stream",
          "text": [
            "Evaluate: 100%|██████████| 3512/3512 [00:49<00:00, 71.58it/s, loss=7.19, perplexity=1.33e+3]\n"
          ],
          "name": "stderr"
        },
        {
          "output_type": "execute_result",
          "data": {
            "application/vnd.google.colaboratory.intrinsic+json": {
              "type": "string"
            },
            "text/plain": [
              "'Val loss - 7.238 perplexity - 1391.603'"
            ]
          },
          "metadata": {
            "tags": []
          },
          "execution_count": 53
        }
      ]
    },
    {
      "cell_type": "code",
      "metadata": {
        "id": "j2w0Hr2CwibG"
      },
      "source": [
        ""
      ],
      "execution_count": 53,
      "outputs": []
    },
    {
      "cell_type": "code",
      "metadata": {
        "id": "Mc4K9RB9wiYo"
      },
      "source": [
        ""
      ],
      "execution_count": 53,
      "outputs": []
    },
    {
      "cell_type": "code",
      "metadata": {
        "id": "Q-7-ZJAErZAl"
      },
      "source": [
        "class SpatialDropout(torch.nn.Dropout2d):\n",
        "    \n",
        "    def __init__(self, p=0.5):\n",
        "        super().__init__()\n",
        "        self.p = p\n",
        "    \n",
        "    def forward(self, x):\n",
        "        x = x.unsqueeze(2)    # (N, T, 1, K)\n",
        "        x = x.permute(0, 3, 2, 1)  # (N, K, 1, T)\n",
        "        x = super(SpatialDropout, self).forward(x)  # (N, K, 1, T)\n",
        "        x = x.permute(0, 3, 2, 1)  # (N, T, 1, K)\n",
        "        x = x.squeeze(2)  # (N, T, K)\n",
        "        return x"
      ],
      "execution_count": 54,
      "outputs": []
    },
    {
      "cell_type": "code",
      "metadata": {
        "id": "nr84KChawgaU"
      },
      "source": [
        "spatial_dropout = SpatialDropout()\n",
        "common_dropout = torch.nn.Dropout()"
      ],
      "execution_count": 55,
      "outputs": []
    },
    {
      "cell_type": "code",
      "metadata": {
        "id": "RFNZo_dQwggD"
      },
      "source": [
        "class LanguageModel(torch.nn.Module):\n",
        "    \n",
        "    def __init__(self, vocab_size, embedding_dim, model_dim, num_layers,\n",
        "                 padding_idx, dropout=0.35, weight_tying=True):\n",
        "        \n",
        "        super().__init__()\n",
        "        \n",
        "        self.embedding_layer = torch.nn.Embedding(num_embeddings=vocab_size,\n",
        "                                                  embedding_dim=embedding_dim, padding_idx=padding_idx)\n",
        "        \n",
        "        self.embedding_dropout = SpatialDropout(p=dropout)\n",
        "        \n",
        "        self.lstm = torch.nn.LSTM(input_size=embedding_dim, hidden_size=model_dim, \n",
        "                                  num_layers=num_layers, dropout=dropout, batch_first=True)\n",
        "        \n",
        "        self.language_model_head = torch.nn.Linear(in_features=model_dim, out_features=vocab_size, bias=False)\n",
        "        \n",
        "        # как раз здесь задаем, чтобы веса входящего и выходящего слоя эмбеддингов шарились\n",
        "        if weight_tying and embedding_dim == model_dim:\n",
        "            self.language_model_head.weight = self.embedding_layer.weight\n",
        "        \n",
        "    def forward(self, x):\n",
        "        x = x.to(device)\n",
        "        \n",
        "        x = self.embedding_layer(x)\n",
        "        \n",
        "        x = self.embedding_dropout(x)\n",
        "        \n",
        "        x, _ = self.lstm(x)\n",
        "        \n",
        "        x = self.language_model_head(x)\n",
        "        \n",
        "        return x"
      ],
      "execution_count": 61,
      "outputs": []
    },
    {
      "cell_type": "code",
      "metadata": {
        "id": "7ZENU87kwgmW"
      },
      "source": [
        "model = LanguageModel(vocab_size=vocab_size, embedding_dim=embedding_dim, model_dim=model_dim, \n",
        "                      num_layers=num_layers, dropout=dropout, padding_idx=pad_index, weight_tying=True)"
      ],
      "execution_count": 62,
      "outputs": []
    },
    {
      "cell_type": "code",
      "metadata": {
        "id": "S3Qw-UZgwgkP"
      },
      "source": [
        "model.to(device)\n",
        "optimizer = torch.optim.Adam(params=model.parameters())"
      ],
      "execution_count": 63,
      "outputs": []
    },
    {
      "cell_type": "code",
      "metadata": {
        "id": "QV8IlkjXwgd_",
        "outputId": "a539da7a-28f2-4160-9cc2-c62166d75893",
        "colab": {
          "base_uri": "https://localhost:8080/"
        }
      },
      "source": [
        "epoch_losses = train(model, validation_loader, criterion, optimizer)"
      ],
      "execution_count": null,
      "outputs": [
        {
          "output_type": "stream",
          "text": [
            "Train:  17%|█▋        | 590/3512 [00:18<01:31, 32.06it/s, loss=7.66, perplexity=2.13e+3]"
          ],
          "name": "stderr"
        }
      ]
    },
    {
      "cell_type": "code",
      "metadata": {
        "id": "VmsRCeWLwgXl"
      },
      "source": [
        "\n",
        "model.eval()\n",
        "\n",
        "with torch.no_grad():\n",
        "    \n",
        "    pred = []\n",
        "    \n",
        "    zeros = torch.zeros(num_layers, x.size(0), model_dim, dtype=torch.float32, device=x.device)\n",
        "    hx = (zeros, zeros)\n",
        "    \n",
        "    # семплируем начальный токен bos для каждого предложения\n",
        "    current_token = x[:, 0].unsqueeze(1)\n",
        "    \n",
        "    for timestamp in range(x.size(1)):\n",
        "        \n",
        "        # пока все то же самое\n",
        "        emb = model.embedding_layer(current_token)\n",
        "\n",
        "        emb = model.embedding_dropout(emb)\n",
        "\n",
        "        lstm_out, hx = model.lstm(emb, hx)\n",
        "\n",
        "        next_token_prediction = model.language_model_head(lstm_out)\n",
        "        \n",
        "        pred.append(next_token_prediction)\n",
        "        \n",
        "        # но вот здесь мы семплируем предсказания сети и передадим это как текущий токен для следующего таймстемпа\n",
        "        current_token = next_token_prediction.argmax(dim=2)\n",
        "        \n",
        "    pred = torch.cat(pred, dim=1)\n",
        "    \n",
        "model.train()\n",
        "    \n",
        "tokens = pred.argmax(dim=-1).detach().cpu().numpy()"
      ],
      "execution_count": null,
      "outputs": []
    },
    {
      "cell_type": "code",
      "metadata": {
        "id": "Nu3cRjnZ5cG1"
      },
      "source": [
        "tokens"
      ],
      "execution_count": null,
      "outputs": []
    },
    {
      "cell_type": "code",
      "metadata": {
        "id": "a6yWP7ie5cK0"
      },
      "source": [
        "predicted_texts = tokenizer.decode(tokens.tolist())"
      ],
      "execution_count": null,
      "outputs": []
    },
    {
      "cell_type": "code",
      "metadata": {
        "id": "QbLx9YXp5cDp"
      },
      "source": [
        "\n",
        "for n in range(1):\n",
        "    print(predicted_texts[n][:predicted_texts[n].index('<EOS>')])"
      ],
      "execution_count": null,
      "outputs": []
    },
    {
      "cell_type": "code",
      "metadata": {
        "id": "yDvguo_y5cBB"
      },
      "source": [
        "'SequenceBucketingData'"
      ],
      "execution_count": null,
      "outputs": []
    },
    {
      "cell_type": "code",
      "metadata": {
        "id": "bNpzOY_c5b-F"
      },
      "source": [
        ""
      ],
      "execution_count": null,
      "outputs": []
    },
    {
      "cell_type": "code",
      "metadata": {
        "id": "Hesr6AcuwgVE"
      },
      "source": [
        ""
      ],
      "execution_count": null,
      "outputs": []
    },
    {
      "cell_type": "code",
      "metadata": {
        "id": "6IGwYZo5wgSn"
      },
      "source": [
        ""
      ],
      "execution_count": null,
      "outputs": []
    },
    {
      "cell_type": "code",
      "metadata": {
        "id": "oEqyPmT7rY91"
      },
      "source": [
        ""
      ],
      "execution_count": null,
      "outputs": []
    },
    {
      "cell_type": "code",
      "metadata": {
        "id": "8M6tFqoGU8td"
      },
      "source": [
        ""
      ],
      "execution_count": null,
      "outputs": []
    },
    {
      "cell_type": "code",
      "metadata": {
        "id": "Rse1RLtBU8zB"
      },
      "source": [
        ""
      ],
      "execution_count": null,
      "outputs": []
    },
    {
      "cell_type": "code",
      "metadata": {
        "id": "5MHXV2wVU8wp"
      },
      "source": [
        ""
      ],
      "execution_count": null,
      "outputs": []
    },
    {
      "cell_type": "code",
      "metadata": {
        "id": "T1IiCd25AH6y"
      },
      "source": [
        ""
      ],
      "execution_count": null,
      "outputs": []
    }
  ]
}