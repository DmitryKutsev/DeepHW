{
  "nbformat": 4,
  "nbformat_minor": 0,
  "metadata": {
    "colab": {
      "name": "Untitled43.ipynb",
      "provenance": [],
      "authorship_tag": "ABX9TyMynGFZHmAIxyX7WzSu8Euc",
      "include_colab_link": true
    },
    "kernelspec": {
      "name": "python3",
      "display_name": "Python 3"
    }
  },
  "cells": [
    {
      "cell_type": "markdown",
      "metadata": {
        "id": "view-in-github",
        "colab_type": "text"
      },
      "source": [
        "<a href=\"https://colab.research.google.com/github/DmitryKutsev/DeepHW/blob/master/my_hw2.ipynb\" target=\"_parent\"><img src=\"https://colab.research.google.com/assets/colab-badge.svg\" alt=\"Open In Colab\"/></a>"
      ]
    },
    {
      "cell_type": "code",
      "metadata": {
        "id": "hkCUQ7QX3CF5",
        "outputId": "f7377a32-8493-44bf-93fd-f68559ceb04d",
        "colab": {
          "base_uri": "https://localhost:8080/",
          "height": 204
        }
      },
      "source": [
        "!wget https://dl.fbaipublicfiles.com/fasttext/vectors-english/wiki-news-300d-1M.vec.zip"
      ],
      "execution_count": 3,
      "outputs": [
        {
          "output_type": "stream",
          "text": [
            "--2020-10-15 15:19:29--  https://dl.fbaipublicfiles.com/fasttext/vectors-english/wiki-news-300d-1M.vec.zip\n",
            "Resolving dl.fbaipublicfiles.com (dl.fbaipublicfiles.com)... 104.22.74.142, 172.67.9.4, 104.22.75.142, ...\n",
            "Connecting to dl.fbaipublicfiles.com (dl.fbaipublicfiles.com)|104.22.74.142|:443... connected.\n",
            "HTTP request sent, awaiting response... 200 OK\n",
            "Length: 681808098 (650M) [application/zip]\n",
            "Saving to: ‘wiki-news-300d-1M.vec.zip’\n",
            "\n",
            "wiki-news-300d-1M.v 100%[===================>] 650.22M  11.4MB/s    in 59s     \n",
            "\n",
            "2020-10-15 15:20:29 (11.1 MB/s) - ‘wiki-news-300d-1M.vec.zip’ saved [681808098/681808098]\n",
            "\n"
          ],
          "name": "stdout"
        }
      ]
    },
    {
      "cell_type": "code",
      "metadata": {
        "id": "38TD-0q43J7G",
        "outputId": "163a7c8b-b005-4206-f43e-f91f74b658f4",
        "colab": {
          "base_uri": "https://localhost:8080/",
          "height": 204
        }
      },
      "source": [
        "!wget https://raw.githubusercontent.com/BobaZooba/HSE-Deep-Learning-in-NLP-Course/master/Week%203/data.py"
      ],
      "execution_count": 1,
      "outputs": [
        {
          "output_type": "stream",
          "text": [
            "--2020-10-15 15:19:28--  https://raw.githubusercontent.com/BobaZooba/HSE-Deep-Learning-in-NLP-Course/master/Week%203/data.py\n",
            "Resolving raw.githubusercontent.com (raw.githubusercontent.com)... 151.101.0.133, 151.101.64.133, 151.101.128.133, ...\n",
            "Connecting to raw.githubusercontent.com (raw.githubusercontent.com)|151.101.0.133|:443... connected.\n",
            "HTTP request sent, awaiting response... 200 OK\n",
            "Length: 10563 (10K) [text/plain]\n",
            "Saving to: ‘data.py’\n",
            "\n",
            "\rdata.py               0%[                    ]       0  --.-KB/s               \rdata.py             100%[===================>]  10.32K  --.-KB/s    in 0s      \n",
            "\n",
            "2020-10-15 15:19:28 (92.4 MB/s) - ‘data.py’ saved [10563/10563]\n",
            "\n"
          ],
          "name": "stdout"
        }
      ]
    },
    {
      "cell_type": "code",
      "metadata": {
        "id": "tJ4O-_ZN3QZo"
      },
      "source": [
        "!mv data.py mydata.py"
      ],
      "execution_count": 2,
      "outputs": []
    },
    {
      "cell_type": "code",
      "metadata": {
        "id": "_jr1Wb2V3L9u"
      },
      "source": [
        "import math\n",
        "import numpy as np\n",
        "from nltk.tokenize import word_tokenize, wordpunct_tokenize\n",
        "from tqdm import tqdm\n",
        "from torch import nn\n",
        "import torch\n",
        "from torch.utils.data import Dataset, DataLoader\n",
        "import zipfile\n",
        "from torch import nn\n",
        "import seaborn as sns\n",
        "from mydata import Downloader, Parser\n",
        "import matplotlib.pyplot as plt"
      ],
      "execution_count": 4,
      "outputs": []
    },
    {
      "cell_type": "code",
      "metadata": {
        "id": "qVlAsNjhxJxL",
        "outputId": "0b8686b4-a871-4d9a-d08d-489c56bf1ecc",
        "colab": {
          "base_uri": "https://localhost:8080/",
          "height": 35
        }
      },
      "source": [
        "torch.__version__"
      ],
      "execution_count": 5,
      "outputs": [
        {
          "output_type": "execute_result",
          "data": {
            "application/vnd.google.colaboratory.intrinsic+json": {
              "type": "string"
            },
            "text/plain": [
              "'1.6.0+cu101'"
            ]
          },
          "metadata": {
            "tags": []
          },
          "execution_count": 5
        }
      ]
    },
    {
      "cell_type": "markdown",
      "metadata": {
        "id": "01Lso6k7NV3Z"
      },
      "source": [
        "### **DATA**\n"
      ]
    },
    {
      "cell_type": "code",
      "metadata": {
        "id": "pwtFMLs23WBV"
      },
      "source": [
        "data_path = './my_data/'"
      ],
      "execution_count": 5,
      "outputs": []
    },
    {
      "cell_type": "code",
      "metadata": {
        "id": "MODAu4I73Wbn"
      },
      "source": [
        "downloader = Downloader(data_path=data_path)"
      ],
      "execution_count": 6,
      "outputs": []
    },
    {
      "cell_type": "code",
      "metadata": {
        "id": "UMpwL6T-3ZYR",
        "outputId": "05a56243-77ad-4955-858b-45023d0aaca2",
        "colab": {
          "base_uri": "https://localhost:8080/",
          "height": 51
        }
      },
      "source": [
        "downloader.run()"
      ],
      "execution_count": 7,
      "outputs": [
        {
          "output_type": "stream",
          "text": [
            "single: 100%|██████████| 21/21 [00:01<00:00, 19.69it/s]\n",
            "multiple: 100%|██████████| 17/17 [00:00<00:00, 19.67it/s]\n"
          ],
          "name": "stderr"
        }
      ]
    },
    {
      "cell_type": "code",
      "metadata": {
        "id": "HlY-Ks5C3cE1"
      },
      "source": [
        "parser = Parser(data_path=data_path)"
      ],
      "execution_count": 8,
      "outputs": []
    },
    {
      "cell_type": "code",
      "metadata": {
        "id": "ghoO5tyo3gSg",
        "outputId": "5098a008-4ad5-41e9-c109-6fd37a019b9b",
        "colab": {
          "base_uri": "https://localhost:8080/",
          "height": 34
        }
      },
      "source": [
        "\n",
        "unlabeled, train, valid = parser.run()"
      ],
      "execution_count": 9,
      "outputs": [
        {
          "output_type": "stream",
          "text": [
            "Reading: 100%|██████████| 38/38 [02:38<00:00,  4.16s/it]\n"
          ],
          "name": "stderr"
        }
      ]
    },
    {
      "cell_type": "code",
      "metadata": {
        "id": "p0HM1qwMGLsg",
        "outputId": "68302315-2ace-46eb-b97f-8ad7a9179d15",
        "colab": {
          "base_uri": "https://localhost:8080/",
          "height": 34
        }
      },
      "source": [
        "s = 'ривет привет как дела? ха, дерьмо.'\n",
        "wordpunct_tokenize(s)"
      ],
      "execution_count": 10,
      "outputs": [
        {
          "output_type": "execute_result",
          "data": {
            "text/plain": [
              "['ривет', 'привет', 'как', 'дела', '?', 'ха', ',', 'дерьмо', '.']"
            ]
          },
          "metadata": {
            "tags": []
          },
          "execution_count": 10
        }
      ]
    },
    {
      "cell_type": "code",
      "metadata": {
        "id": "VGWYk_aZOmTN"
      },
      "source": [
        "unique_categories = set(train.category.unique().tolist() + valid.category.unique().tolist())\n",
        "\n",
        "category2index = {category: index for index, category in enumerate(unique_categories)}"
      ],
      "execution_count": 11,
      "outputs": []
    },
    {
      "cell_type": "code",
      "metadata": {
        "id": "eEf1B96XOcYN"
      },
      "source": [
        "train['target'] = train.category.map(category2index)\n",
        "valid['target'] = valid.category.map(category2index)"
      ],
      "execution_count": 12,
      "outputs": []
    },
    {
      "cell_type": "code",
      "metadata": {
        "id": "TVmXIIhiOlmw",
        "outputId": "eb71ec59-400e-40fb-e743-ce6526f8af80",
        "colab": {
          "base_uri": "https://localhost:8080/",
          "height": 85
        }
      },
      "source": [
        "valid['target'][:3]"
      ],
      "execution_count": 13,
      "outputs": [
        {
          "output_type": "execute_result",
          "data": {
            "text/plain": [
              "0    3\n",
              "1    6\n",
              "2    2\n",
              "Name: target, dtype: int64"
            ]
          },
          "metadata": {
            "tags": []
          },
          "execution_count": 13
        }
      ]
    },
    {
      "cell_type": "code",
      "metadata": {
        "id": "VhxrwsA83ilr"
      },
      "source": [
        "class TextClassificationDataset(Dataset):\n",
        "    \n",
        "    def __init__(self, texts, targets, vocab, pad_index=0, max_length=32):\n",
        "        super().__init__()\n",
        "        \n",
        "        self.texts = texts\n",
        "        self.targets = targets\n",
        "        self.vocab = vocab\n",
        "        \n",
        "        self.pad_index = pad_index\n",
        "        self.max_length = max_length\n",
        "        \n",
        "    def __len__(self):\n",
        "        return len(self.texts)\n",
        "    \n",
        "    def tokenization(self, text):\n",
        "        \n",
        "        tokens = wordpunct_tokenize(text)\n",
        "        \n",
        "        token_indices = [self.vocab[tok] for tok in tokens if tok in self.vocab]\n",
        "        \n",
        "        return token_indices\n",
        "    \n",
        "    def padding(self, tokenized_text):\n",
        "        \n",
        "        tokenized_text = tokenized_text[:self.max_length]\n",
        "        \n",
        "        tokenized_text += [self.pad_index] * (self.max_length - len(tokenized_text))\n",
        "        \n",
        "        return tokenized_text\n",
        "    \n",
        "    def __getitem__(self, index):\n",
        "        \n",
        "        text = self.texts[index]        \n",
        "        target = self.targets[index]\n",
        "        \n",
        "        tokenized_text = self.tokenization(text)\n",
        "        tokenized_text = self.padding(tokenized_text)\n",
        "        \n",
        "        tokenized_text = torch.tensor(tokenized_text)\n",
        "        \n",
        "        return tokenized_text, target"
      ],
      "execution_count": 39,
      "outputs": []
    },
    {
      "cell_type": "code",
      "metadata": {
        "id": "IGbmX9-UNZuB"
      },
      "source": [
        "train_x = list(train.question)\n",
        "train_y = list(train.target)\n",
        "\n",
        "valid_x = list(valid.question)\n",
        "valid_y = list(valid.target)"
      ],
      "execution_count": 40,
      "outputs": []
    },
    {
      "cell_type": "code",
      "metadata": {
        "id": "Blf5KOf9NZy5"
      },
      "source": [
        ""
      ],
      "execution_count": 40,
      "outputs": []
    },
    {
      "cell_type": "code",
      "metadata": {
        "id": "0mFhzvvtPI7q"
      },
      "source": [
        ""
      ],
      "execution_count": 40,
      "outputs": []
    },
    {
      "cell_type": "code",
      "metadata": {
        "id": "Hnw0RV3jPI-l"
      },
      "source": [
        ""
      ],
      "execution_count": 40,
      "outputs": []
    },
    {
      "cell_type": "code",
      "metadata": {
        "id": "4zbcfOHjPJBy"
      },
      "source": [
        ""
      ],
      "execution_count": 40,
      "outputs": []
    },
    {
      "cell_type": "markdown",
      "metadata": {
        "id": "pP49pfe2PbWY"
      },
      "source": [
        "### **Embeddings**"
      ]
    },
    {
      "cell_type": "code",
      "metadata": {
        "id": "mno04x_ALDGE"
      },
      "source": [
        "def load_embeddings(zip_path, filename, pad_token='PAD', max_words=100_000, verbose=True):\n",
        "    \n",
        "    vocab = dict()\n",
        "    embeddings = list()\n",
        "\n",
        "    with zipfile.ZipFile(zip_path) as zipped_file:\n",
        "        with zipped_file.open(filename) as file_object:\n",
        "\n",
        "            vocab_size, embedding_dim = file_object.readline().decode('utf-8').strip().split()\n",
        "\n",
        "            vocab_size = int(vocab_size)\n",
        "            embedding_dim = int(embedding_dim)\n",
        "            \n",
        "            # в файле 1 000 000 слов с векторами, давайте ограничим для простоты этот словарь\n",
        "            max_words = vocab_size if max_words <= 0 else max_words\n",
        "            \n",
        "            # добавим пад токен и эмбеддинг в нашу матрицу эмбеддингов и словарь\n",
        "            vocab[pad_token] = len(vocab)\n",
        "            embeddings.append(np.zeros(embedding_dim))\n",
        "\n",
        "            progress_bar = tqdm(total=max_words, disable=not verbose)\n",
        "\n",
        "            for line in file_object:\n",
        "                parts = line.decode('utf-8').strip().split()\n",
        "\n",
        "                token = ' '.join(parts[:-embedding_dim]).lower()\n",
        "                \n",
        "                if token in vocab:\n",
        "                    continue\n",
        "                \n",
        "                word_vector = np.array(list(map(float, parts[-embedding_dim:])))\n",
        "\n",
        "                vocab[token] = len(vocab)\n",
        "                embeddings.append(word_vector)\n",
        "\n",
        "                progress_bar.update()\n",
        "                \n",
        "                if len(vocab) == max_words:\n",
        "                    break\n",
        "\n",
        "            progress_bar.close()\n",
        "\n",
        "    embeddings = np.stack(embeddings)\n",
        "    \n",
        "    return vocab, embeddings"
      ],
      "execution_count": 41,
      "outputs": []
    },
    {
      "cell_type": "code",
      "metadata": {
        "id": "kMmmebKSLDIz",
        "outputId": "52d12413-d447-4da8-b525-28f1d65057c8",
        "colab": {
          "base_uri": "https://localhost:8080/",
          "height": 34
        }
      },
      "source": [
        "vocab, embeddings = load_embeddings('./wiki-news-300d-1M.vec.zip', 'wiki-news-300d-1M.vec', max_words=100_000)"
      ],
      "execution_count": 42,
      "outputs": [
        {
          "output_type": "stream",
          "text": [
            "100%|█████████▉| 99999/100000 [00:12<00:00, 8251.67it/s]\n"
          ],
          "name": "stderr"
        }
      ]
    },
    {
      "cell_type": "code",
      "metadata": {
        "id": "L-eAlPDLLfhv"
      },
      "source": [
        "index2token = {index: token for token, index in vocab.items()}"
      ],
      "execution_count": 43,
      "outputs": []
    },
    {
      "cell_type": "code",
      "metadata": {
        "id": "pTWCVaU7Lfko"
      },
      "source": [
        "emb_norms = np.linalg.norm(embeddings, axis=1)"
      ],
      "execution_count": 44,
      "outputs": []
    },
    {
      "cell_type": "code",
      "metadata": {
        "id": "6zIuu33dQgjq"
      },
      "source": [
        "#print(len(train_loader))"
      ],
      "execution_count": 45,
      "outputs": []
    },
    {
      "cell_type": "code",
      "metadata": {
        "id": "_oqA8o9-NZw7"
      },
      "source": [
        "train_dataset = TextClassificationDataset(texts=train_x, targets=train_y, vocab=vocab)\n",
        "x, y = train_dataset[0]"
      ],
      "execution_count": 46,
      "outputs": []
    },
    {
      "cell_type": "code",
      "metadata": {
        "id": "aPPEdPKuLfvm"
      },
      "source": [
        "embeddings = torch.tensor(embeddings).float()\n",
        "embedding_layer = nn.Embedding.from_pretrained(embeddings, padding_idx=0)\n",
        "x_embed = embedding_layer(x)"
      ],
      "execution_count": 47,
      "outputs": []
    },
    {
      "cell_type": "code",
      "metadata": {
        "id": "-R-El2RNLDDC"
      },
      "source": [
        "train_dataset = TextClassificationDataset(texts=train_x, targets=train_y, vocab=vocab)\n",
        "valid_dataset = TextClassificationDataset(texts=valid_x, targets=valid_y, vocab=vocab)\n",
        "\n",
        "train_loader = DataLoader(train_dataset, batch_size=128)\n",
        "valid_loader = DataLoader(valid_dataset, batch_size=128)"
      ],
      "execution_count": 48,
      "outputs": []
    },
    {
      "cell_type": "code",
      "metadata": {
        "id": "I3vHSMvFQgo4",
        "outputId": "fff28c56-a350-4b0a-e42c-74a631b0f486",
        "colab": {
          "base_uri": "https://localhost:8080/",
          "height": 51
        }
      },
      "source": [
        "for x, y in train_loader:\n",
        "  print(x.size())\n",
        "  print(y.size())\n",
        "  break"
      ],
      "execution_count": 49,
      "outputs": [
        {
          "output_type": "stream",
          "text": [
            "torch.Size([128, 32])\n",
            "torch.Size([128])\n"
          ],
          "name": "stdout"
        }
      ]
    },
    {
      "cell_type": "code",
      "metadata": {
        "id": "1hD7D0jhQgml",
        "outputId": "65cfceac-f4c8-4bdb-bf26-48abe6e91785",
        "colab": {
          "base_uri": "https://localhost:8080/",
          "height": 52
        }
      },
      "source": [
        ""
      ],
      "execution_count": 51,
      "outputs": [
        {
          "output_type": "execute_result",
          "data": {
            "application/vnd.google.colaboratory.intrinsic+json": {
              "type": "string"
            },
            "text/plain": [
              "'is it possible to wear eye protection and these ear muffs at same time? we need something for our son to wear which will not interfere with his safety'"
            ]
          },
          "metadata": {
            "tags": []
          },
          "execution_count": 51
        }
      ]
    },
    {
      "cell_type": "code",
      "metadata": {
        "id": "fLmg8VjKLfyh"
      },
      "source": [
        ""
      ],
      "execution_count": 24,
      "outputs": []
    },
    {
      "cell_type": "markdown",
      "metadata": {
        "id": "rREyIpOlQhQP"
      },
      "source": [
        "### **AVERAGE MODEL**"
      ]
    },
    {
      "cell_type": "code",
      "metadata": {
        "id": "hKg6xfn_GkLg"
      },
      "source": [
        "class DeepAverageNetwork(nn.Module):\n",
        "    \n",
        "    def __init__(self, embeddings, linear_1_size, linear_2_size, n_classes):\n",
        "        super().__init__()\n",
        "        \n",
        "        self.embedding_layer = nn.Embedding.from_pretrained(embeddings, padding_idx=0)\n",
        "        \n",
        "        self.batch_norm = nn.BatchNorm1d(num_features=embeddings.shape[-1])\n",
        "        \n",
        "        self.linear_1 = nn.Linear(in_features=embeddings.shape[-1], out_features=linear_1_size)\n",
        "        self.linear_2 = nn.Linear(in_features=linear_1_size, out_features=linear_2_size)\n",
        "        self.linear_3 = nn.Linear(in_features=linear_2_size, out_features=n_classes)\n",
        "        \n",
        "    def forward(self, x):\n",
        "        \n",
        "        # переводим индексы слов в эмбеддинги этих слов\n",
        "        # (batch_size, sequence_length) -> (batch_size, sequence_length, embedding_dim)\n",
        "        x = self.embedding_layer(x)\n",
        "        \n",
        "        # агрегируем наши эмбеддинги по размерности время\n",
        "        # (batch_size, sequence_length, embedding_dim) -> (batch_size, embedding_dim)\n",
        "        x = x.sum(dim=1)\n",
        "        \n",
        "        # делаем нормирование\n",
        "        # (batch_size, embedding_dim) -> (batch_size, embedding_dim)\n",
        "        x = self.batch_norm(x)\n",
        "        \n",
        "        # прогоняем через первый линейный слой\n",
        "        # (batch_size, embedding_dim) -> (batch_size, linear_1_size)\n",
        "        x = self.linear_1(x)\n",
        "        \n",
        "        # применяем нелинейность\n",
        "        # (batch_size, linear_1_size) -> (batch_size, linear_1_size)\n",
        "        x = torch.relu(x)\n",
        "        \n",
        "        # прогоняем через второй линейный слой\n",
        "        # (batch_size, linear_1_size) -> (batch_size, linear_2_size)\n",
        "        x = self.linear_2(x)\n",
        "        \n",
        "        # применяем нелинейность\n",
        "        # (batch_size, linear_2_size) -> (batch_size, linear_2_size)\n",
        "        x = torch.relu(x)\n",
        "        \n",
        "        # переводим с помощью линейного преобразования в количество классов\n",
        "        # (batch_size, linear_2_size) -> (batch_size, n_classes)\n",
        "        x = self.linear_3(x)\n",
        "        \n",
        "        ## по идеи здесь должен был быть софтмакс\n",
        "        ## но мы будем использовать лосс nn.CrossEntropyLoss()\n",
        "        ## в его документации написано\n",
        "        ## This criterion combines :func:`nn.LogSoftmax` and :func:`nn.NLLLoss` in one single class.\n",
        "        ## это некоторая оптимизация, которая включает в себя сразу и софтмакс и сам negative log likelihood лосс\n",
        "        ## так как у нас в лоссе есть софтмакс, то мы не будем применять его в сетке\n",
        "        ## на этапе предсказания (а не обучения) мы будем отдельно делать софтмакс для получения распределения классов\n",
        "        ## \n",
        "        ## (batch_size, n_classes) -> (batch_size, n_classes)\n",
        "        # x = torch.softmax(x, dim=-1)\n",
        "        \n",
        "        return x"
      ],
      "execution_count": 52,
      "outputs": []
    },
    {
      "cell_type": "code",
      "metadata": {
        "id": "xf8Lbe_AHOML"
      },
      "source": [
        "\n",
        "model = DeepAverageNetwork(embeddings=embeddings,\n",
        "                           linear_1_size=256, \n",
        "                           linear_2_size=128, \n",
        "                           n_classes=len(category2index))"
      ],
      "execution_count": 53,
      "outputs": []
    },
    {
      "cell_type": "code",
      "metadata": {
        "id": "UVBeT2CpHTZg"
      },
      "source": [
        "criterion = nn.CrossEntropyLoss()\n",
        "optimizer = torch.optim.Adam(params=model.parameters(), lr=0.0001)"
      ],
      "execution_count": 54,
      "outputs": []
    },
    {
      "cell_type": "code",
      "metadata": {
        "id": "kiOeGl71YxH6",
        "outputId": "8c52f748-ec99-4834-b964-ae0e76a2805c",
        "colab": {
          "base_uri": "https://localhost:8080/",
          "height": 68
        }
      },
      "source": [
        "\n",
        "epochs = 3\n",
        "losses = []\n",
        "for i in range(epochs):\n",
        "  for x, y in train_loader:\n",
        "    y_pred = model.forward(x)\n",
        "    loss = criterion(y_pred, y)\n",
        "    \n",
        "     \n",
        "\n",
        "    optimizer.zero_grad()\n",
        "    loss.backward()\n",
        "    optimizer.step()\n",
        "  losses.append(loss)\n",
        "  print(f\"epoch {i}, loss {loss}\")\n"
      ],
      "execution_count": 55,
      "outputs": [
        {
          "output_type": "stream",
          "text": [
            "epoch 0, loss 0.8249971866607666\n",
            "epoch 1, loss 0.6914821863174438\n",
            "epoch 2, loss 0.601625382900238\n"
          ],
          "name": "stdout"
        }
      ]
    },
    {
      "cell_type": "code",
      "metadata": {
        "id": "M0vTnAp4nZyd",
        "outputId": "3711ed80-c843-4a82-ba99-e9aa5222d42b",
        "colab": {
          "base_uri": "https://localhost:8080/",
          "height": 700
        }
      },
      "source": [
        "plt.figure(figsize=(14, 12))\n",
        "plt.plot(range(epochs), losses)\n",
        "plt.grid()"
      ],
      "execution_count": 29,
      "outputs": [
        {
          "output_type": "display_data",
          "data": {
            "image/png": "[encoded data removed]",
            "text/plain": [
              "<Figure size 1008x864 with 1 Axes>"
            ]
          },
          "metadata": {
            "tags": [],
            "needs_background": "light"
          }
        }
      ]
    },
    {
      "cell_type": "code",
      "metadata": {
        "id": "unUr8bTanZwO"
      },
      "source": [
        ""
      ],
      "execution_count": 29,
      "outputs": []
    },
    {
      "cell_type": "code",
      "metadata": {
        "id": "8vOB22n9cE_n",
        "outputId": "45da8469-1882-460a-8e94-614858add23a",
        "colab": {
          "base_uri": "https://localhost:8080/",
          "height": 119
        }
      },
      "source": [
        "losses = list()\n",
        "preds = list()\n",
        "acc_list = list()\n",
        "# это переводит модель в режим предсказания\n",
        "# то есть фиксируются статистики батч норма, дропаут не выкидывает фичи\n",
        "# model.eval()\n",
        "\n",
        "# заметьте, что мы поменяли наш лоадер на валидационный\n",
        "losses = []\n",
        "\n",
        "for i in range(epochs):\n",
        "  count = 0\n",
        "  for x, y in valid_loader:\n",
        "      \n",
        "      with torch.no_grad():\n",
        "          \n",
        "          x_forw = model.forward(x)\n",
        "          y_pred = torch.softmax(x_forw, dim=-1)\n",
        "          # if count == 3:\n",
        "          #   print(y_pred.argmax())\n",
        "          #   print(y)\n",
        "          # count += 1\n",
        "\n",
        "          #loss = criterion(y_pred, y)\n",
        "          ## (batch_size, n_classes) -> (batch_size, n_classes)\n",
        "          # x = torch.softmax(x, dim=-1)\n",
        "          \n",
        "\n",
        "          optimizer.zero_grad()\n",
        "          # loss.backward()\n",
        "          optimizer.step()\n",
        "          losses.append(loss)\n",
        "\n",
        "          optimizer.zero_grad()\n",
        "          # loss.backward()\n",
        "          optimizer.step()\n",
        "          losses.append(loss)\n",
        "  print(f\"epoch {i}, loss {loss}\")"
      ],
      "execution_count": 38,
      "outputs": [
        {
          "output_type": "stream",
          "text": [
            "epoch 0, loss 0.8494126200675964\n",
            "epoch 1, loss 0.8494126200675964\n",
            "epoch 2, loss 0.8494126200675964\n",
            "epoch 3, loss 0.8494126200675964\n",
            "epoch 4, loss 0.8494126200675964\n",
            "epoch 5, loss 0.8494126200675964\n"
          ],
          "name": "stdout"
        }
      ]
    },
    {
      "cell_type": "code",
      "metadata": {
        "id": "GqW_rVmw-W2s",
        "outputId": "892b3659-f710-4e18-fe25-43529e691351",
        "colab": {
          "base_uri": "https://localhost:8080/",
          "height": 34
        }
      },
      "source": [
        " preds[:3]"
      ],
      "execution_count": 39,
      "outputs": [
        {
          "output_type": "execute_result",
          "data": {
            "text/plain": [
              "[]"
            ]
          },
          "metadata": {
            "tags": []
          },
          "execution_count": 39
        }
      ]
    },
    {
      "cell_type": "code",
      "metadata": {
        "id": "aeJ3ZmJC-W53"
      },
      "source": [
        ""
      ],
      "execution_count": 39,
      "outputs": []
    },
    {
      "cell_type": "code",
      "metadata": {
        "id": "C2QPejpG-W0J"
      },
      "source": [
        ""
      ],
      "execution_count": 39,
      "outputs": []
    },
    {
      "cell_type": "code",
      "metadata": {
        "id": "xiGi1RrldsHu"
      },
      "source": [
        "losses = list()\n",
        "\n",
        "# это переводит модель в режим предсказания\n",
        "# то есть фиксируются статистики батч норма, дропаут не выкидывает фичи\n",
        "model.eval()\n",
        "\n",
        "# заметьте, что мы поменяли наш лоадер на валидационный\n",
        "for x, y in valid_loader:\n",
        "    \n",
        "    with torch.no_grad():\n",
        "        # получение предсказаний модели\n",
        "        # расчет лосса\n",
        "          y_pred = model.forward(x)\n",
        "          loss = criterion(y_pred, y)\n",
        "          losses.append(loss)\n",
        "    "
      ],
      "execution_count": 40,
      "outputs": []
    },
    {
      "cell_type": "markdown",
      "metadata": {
        "id": "oNW__KzuwlTo"
      },
      "source": [
        "### **CNN**"
      ]
    },
    {
      "cell_type": "code",
      "metadata": {
        "id": "a_nxX02Q5UEa"
      },
      "source": [
        "class MyCNN(nn.Module):\n",
        "# c1_in=32, c2_in=64, c2_out=101, l1_out=16384, l2_out=64\n",
        "  def __init__(self, embeddings, c1_in, c2_in, c2_out, l1_out, l2_out, n_classes):\n",
        "\n",
        "    super().__init__()\n",
        "\n",
        "    self.embedding_layer = nn.Embedding.from_pretrained(embeddings, padding_idx=0)\n",
        "\n",
        "    self.batch_norm = nn.BatchNorm1d(num_features=embeddings.shape[-1])\n",
        "    self.conv1 = nn.Conv1d(in_channels=32, out_channels=64, kernel_size=2, stride=1, padding=1)\n",
        "    self.relu = nn.ReLU()\n",
        "    self.conv2 = nn.Conv1d(in_channels=64, out_channels=32, kernel_size=2, stride=1, padding=1)\n",
        "\n",
        "    self.batch_norm = nn.BatchNorm1d(num_features=embeddings.shape[-1])\n",
        "    self.dropout = nn.Dropout(p=0.5)\n",
        "    \n",
        "    self.linear_1 = nn.Linear(in_features=101, out_features=32)\n",
        "    self.linear_2 = nn.Linear(in_features=32, out_features=16)\n",
        "    self.linear_3 = nn.Linear(in_features=16, out_features=n_classes)\n",
        "\n",
        "\n",
        "  def forward(self, x):\n",
        "\n",
        "    x = self.embedding_layer(x)\n",
        "    x = self.conv1(x)\n",
        "    # print(x.size())\n",
        "    x = torch.max_pool1d(x, kernel_size=3)\n",
        "    # print(x.size())\n",
        "    x = self.relu(x)\n",
        "    # print(x.size())\n",
        "    x = self.conv2(x)\n",
        "    # print(x.size())\n",
        "    x = x.sum(dim=1)\n",
        "    # print(x.size())\n",
        "\n",
        "    x = self.linear_1(x)\n",
        "    # print(x.size())\n",
        "\n",
        "\n",
        "    x = torch.relu(x)\n",
        "    # print(x.size())\n",
        "\n",
        "\n",
        "    x = self.linear_2(x)\n",
        "    # print(x.size())\n",
        "    x = self.dropout(x)\n",
        "\n",
        "    x = torch.relu(x)\n",
        "    # print(x.size())\n",
        "    # print(y.size())\n",
        "    # переводим с помощью линейного преобразования в количество классов\n",
        "    # (batch_size, linear_2_size) -> (batch_size, n_classes)\n",
        "    x = self.linear_3(x)\n",
        " \n",
        "\n",
        "    return x\n"
      ],
      "execution_count": 69,
      "outputs": []
    },
    {
      "cell_type": "code",
      "metadata": {
        "id": "BU8d3M6VGrur"
      },
      "source": [
        "model = MyCNN(embeddings=embeddings,\n",
        "                          c1_in=32, \n",
        "                          c2_in=64, \n",
        "                          c2_out=101,\n",
        "                          l1_out=32, \n",
        "                          l2_out=16,\n",
        "                           n_classes=len(category2index))\n"
      ],
      "execution_count": 73,
      "outputs": []
    },
    {
      "cell_type": "code",
      "metadata": {
        "id": "5Okd04VYM8qV"
      },
      "source": [
        "CUDA = torch.cuda.is_available()\n",
        "if CUDA:\n",
        "  model = model.CUDA()"
      ],
      "execution_count": 74,
      "outputs": []
    },
    {
      "cell_type": "code",
      "metadata": {
        "id": "3GwluIIQGXL7",
        "outputId": "ef8bbfd0-e135-443c-f557-a7abe13eadd1",
        "colab": {
          "base_uri": "https://localhost:8080/",
          "height": 68
        }
      },
      "source": [
        "criterion = nn.CrossEntropyLoss()\n",
        "optimizer = torch.optim.Adam(params=model.parameters(), lr=0.0001)\n",
        "\n",
        "epochs = 3\n",
        "losses = []\n",
        "for i in range(epochs):\n",
        "  for x, y in train_loader:\n",
        "    if CUDA:\n",
        "      x = x.CUDA()\n",
        "      y = y.CUDA()\n",
        "\n",
        "    y_pred = model.forward(x)\n",
        "    loss = criterion(y_pred, y)\n",
        "    \n",
        "     \n",
        "\n",
        "    optimizer.zero_grad()\n",
        "    loss.backward()\n",
        "    optimizer.step()\n",
        "  losses.append(loss)\n",
        "  print(f\"epoch {i}, loss {loss}\")"
      ],
      "execution_count": 75,
      "outputs": [
        {
          "output_type": "stream",
          "text": [
            "epoch 0, loss 1.8375054597854614\n",
            "epoch 1, loss 1.494188904762268\n",
            "epoch 2, loss 1.4907337427139282\n"
          ],
          "name": "stdout"
        }
      ]
    },
    {
      "cell_type": "code",
      "metadata": {
        "id": "4iT-k56eY9UI",
        "outputId": "827ea3bf-ebd4-48c6-c0ce-07be81ffba2a",
        "colab": {
          "base_uri": "https://localhost:8080/",
          "height": 700
        }
      },
      "source": [
        "plt.figure(figsize=(14, 12))\n",
        "plt.plot(range(epochs), losses)\n",
        "plt.grid()"
      ],
      "execution_count": 76,
      "outputs": [
        {
          "output_type": "display_data",
          "data": {
            "image/png": "[encoded data removed]",
            "text/plain": [
              "<Figure size 1008x864 with 1 Axes>"
            ]
          },
          "metadata": {
            "tags": [],
            "needs_background": "light"
          }
        }
      ]
    },
    {
      "cell_type": "code",
      "metadata": {
        "id": "rArZE9cR8UG3",
        "outputId": "7478501f-3841-4dc2-d84c-c0eff76ac652",
        "colab": {
          "base_uri": "https://localhost:8080/",
          "height": 68
        }
      },
      "source": [
        "losses = list()\n",
        "preds = list()\n",
        "acc_list = list()\n",
        "\n",
        "# заметьте, что мы поменяли наш лоадер на валидационный\n",
        "losses = []\n",
        "\n",
        "for i in range(epochs):\n",
        "  count = 0\n",
        "  for x, y in valid_loader:\n",
        "      \n",
        "      with torch.no_grad():\n",
        "          \n",
        "          x_forw = model.forward(x)\n",
        "          y_pred = torch.softmax(x_forw, dim=-1)\n",
        "          optimizer.zero_grad()\n",
        "\n",
        "          optimizer.step()\n",
        "          losses.append(loss)\n",
        "          optimizer.zero_grad()\n",
        "          optimizer.step()\n",
        "          losses.append(loss)\n",
        "  print(f\"epoch {i}, loss {loss}\")"
      ],
      "execution_count": 77,
      "outputs": [
        {
          "output_type": "stream",
          "text": [
            "epoch 0, loss 1.4907337427139282\n",
            "epoch 1, loss 1.4907337427139282\n",
            "epoch 2, loss 1.4907337427139282\n"
          ],
          "name": "stdout"
        }
      ]
    },
    {
      "cell_type": "code",
      "metadata": {
        "id": "FFWMVmYZZXIy"
      },
      "source": [
        ""
      ],
      "execution_count": null,
      "outputs": []
    }
  ]
}