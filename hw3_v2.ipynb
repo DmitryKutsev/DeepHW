{
  "nbformat": 4,
  "nbformat_minor": 0,
  "metadata": {
    "colab": {
      "name": "Untitled44.ipynb",
      "provenance": [],
      "authorship_tag": "ABX9TyOqGhy34DNY7znZmd11671q",
      "include_colab_link": true
    },
    "kernelspec": {
      "name": "python3",
      "display_name": "Python 3"
    },
    "accelerator": "GPU"
  },
  "cells": [
    {
      "cell_type": "markdown",
      "metadata": {
        "id": "view-in-github",
        "colab_type": "text"
      },
      "source": [
        "<a href=\"https://colab.research.google.com/github/DmitryKutsev/DeepHW/blob/master/hw3_v2.ipynb\" target=\"_parent\"><img src=\"https://colab.research.google.com/assets/colab-badge.svg\" alt=\"Open In Colab\"/></a>"
      ]
    },
    {
      "cell_type": "code",
      "metadata": {
        "id": "V2CFSkzkOu4D",
        "colab": {
          "base_uri": "https://localhost:8080/"
        },
        "outputId": "232f4e24-4661-4bff-9156-19eb26f33c26"
      },
      "source": [
        "!pip install youtokentome"
      ],
      "execution_count": 1,
      "outputs": [
        {
          "output_type": "stream",
          "text": [
            "Collecting youtokentome\n",
            "\u001b[?25l  Downloading https://files.pythonhosted.org/packages/a3/65/4a86cf99da3f680497ae132329025b291e2fda22327e8da6a9476e51acb1/youtokentome-1.0.6-cp36-cp36m-manylinux2010_x86_64.whl (1.7MB)\n",
            "\r\u001b[K     |▏                               | 10kB 24.4MB/s eta 0:00:01\r\u001b[K     |▍                               | 20kB 32.8MB/s eta 0:00:01\r\u001b[K     |▋                               | 30kB 28.9MB/s eta 0:00:01\r\u001b[K     |▊                               | 40kB 32.8MB/s eta 0:00:01\r\u001b[K     |█                               | 51kB 28.4MB/s eta 0:00:01\r\u001b[K     |█▏                              | 61kB 31.4MB/s eta 0:00:01\r\u001b[K     |█▍                              | 71kB 22.5MB/s eta 0:00:01\r\u001b[K     |█▌                              | 81kB 23.5MB/s eta 0:00:01\r\u001b[K     |█▊                              | 92kB 21.1MB/s eta 0:00:01\r\u001b[K     |██                              | 102kB 20.6MB/s eta 0:00:01\r\u001b[K     |██                              | 112kB 20.6MB/s eta 0:00:01\r\u001b[K     |██▎                             | 122kB 20.6MB/s eta 0:00:01\r\u001b[K     |██▌                             | 133kB 20.6MB/s eta 0:00:01\r\u001b[K     |██▊                             | 143kB 20.6MB/s eta 0:00:01\r\u001b[K     |██▉                             | 153kB 20.6MB/s eta 0:00:01\r\u001b[K     |███                             | 163kB 20.6MB/s eta 0:00:01\r\u001b[K     |███▎                            | 174kB 20.6MB/s eta 0:00:01\r\u001b[K     |███▌                            | 184kB 20.6MB/s eta 0:00:01\r\u001b[K     |███▋                            | 194kB 20.6MB/s eta 0:00:01\r\u001b[K     |███▉                            | 204kB 20.6MB/s eta 0:00:01\r\u001b[K     |████                            | 215kB 20.6MB/s eta 0:00:01\r\u001b[K     |████▏                           | 225kB 20.6MB/s eta 0:00:01\r\u001b[K     |████▍                           | 235kB 20.6MB/s eta 0:00:01\r\u001b[K     |████▋                           | 245kB 20.6MB/s eta 0:00:01\r\u001b[K     |████▉                           | 256kB 20.6MB/s eta 0:00:01\r\u001b[K     |█████                           | 266kB 20.6MB/s eta 0:00:01\r\u001b[K     |█████▏                          | 276kB 20.6MB/s eta 0:00:01\r\u001b[K     |█████▍                          | 286kB 20.6MB/s eta 0:00:01\r\u001b[K     |█████▋                          | 296kB 20.6MB/s eta 0:00:01\r\u001b[K     |█████▊                          | 307kB 20.6MB/s eta 0:00:01\r\u001b[K     |██████                          | 317kB 20.6MB/s eta 0:00:01\r\u001b[K     |██████▏                         | 327kB 20.6MB/s eta 0:00:01\r\u001b[K     |██████▎                         | 337kB 20.6MB/s eta 0:00:01\r\u001b[K     |██████▌                         | 348kB 20.6MB/s eta 0:00:01\r\u001b[K     |██████▊                         | 358kB 20.6MB/s eta 0:00:01\r\u001b[K     |███████                         | 368kB 20.6MB/s eta 0:00:01\r\u001b[K     |███████                         | 378kB 20.6MB/s eta 0:00:01\r\u001b[K     |███████▎                        | 389kB 20.6MB/s eta 0:00:01\r\u001b[K     |███████▌                        | 399kB 20.6MB/s eta 0:00:01\r\u001b[K     |███████▋                        | 409kB 20.6MB/s eta 0:00:01\r\u001b[K     |███████▉                        | 419kB 20.6MB/s eta 0:00:01\r\u001b[K     |████████                        | 430kB 20.6MB/s eta 0:00:01\r\u001b[K     |████████▎                       | 440kB 20.6MB/s eta 0:00:01\r\u001b[K     |████████▍                       | 450kB 20.6MB/s eta 0:00:01\r\u001b[K     |████████▋                       | 460kB 20.6MB/s eta 0:00:01\r\u001b[K     |████████▉                       | 471kB 20.6MB/s eta 0:00:01\r\u001b[K     |█████████                       | 481kB 20.6MB/s eta 0:00:01\r\u001b[K     |█████████▏                      | 491kB 20.6MB/s eta 0:00:01\r\u001b[K     |█████████▍                      | 501kB 20.6MB/s eta 0:00:01\r\u001b[K     |█████████▋                      | 512kB 20.6MB/s eta 0:00:01\r\u001b[K     |█████████▊                      | 522kB 20.6MB/s eta 0:00:01\r\u001b[K     |██████████                      | 532kB 20.6MB/s eta 0:00:01\r\u001b[K     |██████████▏                     | 542kB 20.6MB/s eta 0:00:01\r\u001b[K     |██████████▍                     | 552kB 20.6MB/s eta 0:00:01\r\u001b[K     |██████████▌                     | 563kB 20.6MB/s eta 0:00:01\r\u001b[K     |██████████▊                     | 573kB 20.6MB/s eta 0:00:01\r\u001b[K     |███████████                     | 583kB 20.6MB/s eta 0:00:01\r\u001b[K     |███████████▏                    | 593kB 20.6MB/s eta 0:00:01\r\u001b[K     |███████████▎                    | 604kB 20.6MB/s eta 0:00:01\r\u001b[K     |███████████▌                    | 614kB 20.6MB/s eta 0:00:01\r\u001b[K     |███████████▊                    | 624kB 20.6MB/s eta 0:00:01\r\u001b[K     |███████████▉                    | 634kB 20.6MB/s eta 0:00:01\r\u001b[K     |████████████                    | 645kB 20.6MB/s eta 0:00:01\r\u001b[K     |████████████▎                   | 655kB 20.6MB/s eta 0:00:01\r\u001b[K     |████████████▌                   | 665kB 20.6MB/s eta 0:00:01\r\u001b[K     |████████████▋                   | 675kB 20.6MB/s eta 0:00:01\r\u001b[K     |████████████▉                   | 686kB 20.6MB/s eta 0:00:01\r\u001b[K     |█████████████                   | 696kB 20.6MB/s eta 0:00:01\r\u001b[K     |█████████████▏                  | 706kB 20.6MB/s eta 0:00:01\r\u001b[K     |█████████████▍                  | 716kB 20.6MB/s eta 0:00:01\r\u001b[K     |█████████████▋                  | 727kB 20.6MB/s eta 0:00:01\r\u001b[K     |█████████████▉                  | 737kB 20.6MB/s eta 0:00:01\r\u001b[K     |██████████████                  | 747kB 20.6MB/s eta 0:00:01\r\u001b[K     |██████████████▏                 | 757kB 20.6MB/s eta 0:00:01\r\u001b[K     |██████████████▍                 | 768kB 20.6MB/s eta 0:00:01\r\u001b[K     |██████████████▋                 | 778kB 20.6MB/s eta 0:00:01\r\u001b[K     |██████████████▊                 | 788kB 20.6MB/s eta 0:00:01\r\u001b[K     |███████████████                 | 798kB 20.6MB/s eta 0:00:01\r\u001b[K     |███████████████▏                | 808kB 20.6MB/s eta 0:00:01\r\u001b[K     |███████████████▎                | 819kB 20.6MB/s eta 0:00:01\r\u001b[K     |███████████████▌                | 829kB 20.6MB/s eta 0:00:01\r\u001b[K     |███████████████▊                | 839kB 20.6MB/s eta 0:00:01\r\u001b[K     |████████████████                | 849kB 20.6MB/s eta 0:00:01\r\u001b[K     |████████████████                | 860kB 20.6MB/s eta 0:00:01\r\u001b[K     |████████████████▎               | 870kB 20.6MB/s eta 0:00:01\r\u001b[K     |████████████████▌               | 880kB 20.6MB/s eta 0:00:01\r\u001b[K     |████████████████▊               | 890kB 20.6MB/s eta 0:00:01\r\u001b[K     |████████████████▉               | 901kB 20.6MB/s eta 0:00:01\r\u001b[K     |█████████████████               | 911kB 20.6MB/s eta 0:00:01\r\u001b[K     |█████████████████▎              | 921kB 20.6MB/s eta 0:00:01\r\u001b[K     |█████████████████▍              | 931kB 20.6MB/s eta 0:00:01\r\u001b[K     |█████████████████▋              | 942kB 20.6MB/s eta 0:00:01\r\u001b[K     |█████████████████▉              | 952kB 20.6MB/s eta 0:00:01\r\u001b[K     |██████████████████              | 962kB 20.6MB/s eta 0:00:01\r\u001b[K     |██████████████████▏             | 972kB 20.6MB/s eta 0:00:01\r\u001b[K     |██████████████████▍             | 983kB 20.6MB/s eta 0:00:01\r\u001b[K     |██████████████████▋             | 993kB 20.6MB/s eta 0:00:01\r\u001b[K     |██████████████████▉             | 1.0MB 20.6MB/s eta 0:00:01\r\u001b[K     |███████████████████             | 1.0MB 20.6MB/s eta 0:00:01\r\u001b[K     |███████████████████▏            | 1.0MB 20.6MB/s eta 0:00:01\r\u001b[K     |███████████████████▍            | 1.0MB 20.6MB/s eta 0:00:01\r\u001b[K     |███████████████████▌            | 1.0MB 20.6MB/s eta 0:00:01\r\u001b[K     |███████████████████▊            | 1.1MB 20.6MB/s eta 0:00:01\r\u001b[K     |████████████████████            | 1.1MB 20.6MB/s eta 0:00:01\r\u001b[K     |████████████████████▏           | 1.1MB 20.6MB/s eta 0:00:01\r\u001b[K     |████████████████████▎           | 1.1MB 20.6MB/s eta 0:00:01\r\u001b[K     |████████████████████▌           | 1.1MB 20.6MB/s eta 0:00:01\r\u001b[K     |████████████████████▊           | 1.1MB 20.6MB/s eta 0:00:01\r\u001b[K     |████████████████████▉           | 1.1MB 20.6MB/s eta 0:00:01\r\u001b[K     |█████████████████████           | 1.1MB 20.6MB/s eta 0:00:01\r\u001b[K     |█████████████████████▎          | 1.1MB 20.6MB/s eta 0:00:01\r\u001b[K     |█████████████████████▌          | 1.1MB 20.6MB/s eta 0:00:01\r\u001b[K     |█████████████████████▋          | 1.2MB 20.6MB/s eta 0:00:01\r\u001b[K     |█████████████████████▉          | 1.2MB 20.6MB/s eta 0:00:01\r\u001b[K     |██████████████████████          | 1.2MB 20.6MB/s eta 0:00:01\r\u001b[K     |██████████████████████▎         | 1.2MB 20.6MB/s eta 0:00:01\r\u001b[K     |██████████████████████▍         | 1.2MB 20.6MB/s eta 0:00:01\r\u001b[K     |██████████████████████▋         | 1.2MB 20.6MB/s eta 0:00:01\r\u001b[K     |██████████████████████▉         | 1.2MB 20.6MB/s eta 0:00:01\r\u001b[K     |███████████████████████         | 1.2MB 20.6MB/s eta 0:00:01\r\u001b[K     |███████████████████████▏        | 1.2MB 20.6MB/s eta 0:00:01\r\u001b[K     |███████████████████████▍        | 1.2MB 20.6MB/s eta 0:00:01\r\u001b[K     |███████████████████████▋        | 1.3MB 20.6MB/s eta 0:00:01\r\u001b[K     |███████████████████████▊        | 1.3MB 20.6MB/s eta 0:00:01\r\u001b[K     |████████████████████████        | 1.3MB 20.6MB/s eta 0:00:01\r\u001b[K     |████████████████████████▏       | 1.3MB 20.6MB/s eta 0:00:01\r\u001b[K     |████████████████████████▍       | 1.3MB 20.6MB/s eta 0:00:01\r\u001b[K     |████████████████████████▌       | 1.3MB 20.6MB/s eta 0:00:01\r\u001b[K     |████████████████████████▊       | 1.3MB 20.6MB/s eta 0:00:01\r\u001b[K     |█████████████████████████       | 1.3MB 20.6MB/s eta 0:00:01\r\u001b[K     |█████████████████████████       | 1.3MB 20.6MB/s eta 0:00:01\r\u001b[K     |█████████████████████████▎      | 1.4MB 20.6MB/s eta 0:00:01\r\u001b[K     |█████████████████████████▌      | 1.4MB 20.6MB/s eta 0:00:01\r\u001b[K     |█████████████████████████▊      | 1.4MB 20.6MB/s eta 0:00:01\r\u001b[K     |█████████████████████████▉      | 1.4MB 20.6MB/s eta 0:00:01\r\u001b[K     |██████████████████████████      | 1.4MB 20.6MB/s eta 0:00:01\r\u001b[K     |██████████████████████████▎     | 1.4MB 20.6MB/s eta 0:00:01\r\u001b[K     |██████████████████████████▍     | 1.4MB 20.6MB/s eta 0:00:01\r\u001b[K     |██████████████████████████▋     | 1.4MB 20.6MB/s eta 0:00:01\r\u001b[K     |██████████████████████████▉     | 1.4MB 20.6MB/s eta 0:00:01\r\u001b[K     |███████████████████████████     | 1.4MB 20.6MB/s eta 0:00:01\r\u001b[K     |███████████████████████████▏    | 1.5MB 20.6MB/s eta 0:00:01\r\u001b[K     |███████████████████████████▍    | 1.5MB 20.6MB/s eta 0:00:01\r\u001b[K     |███████████████████████████▋    | 1.5MB 20.6MB/s eta 0:00:01\r\u001b[K     |███████████████████████████▉    | 1.5MB 20.6MB/s eta 0:00:01\r\u001b[K     |████████████████████████████    | 1.5MB 20.6MB/s eta 0:00:01\r\u001b[K     |████████████████████████████▏   | 1.5MB 20.6MB/s eta 0:00:01\r\u001b[K     |████████████████████████████▍   | 1.5MB 20.6MB/s eta 0:00:01\r\u001b[K     |████████████████████████████▌   | 1.5MB 20.6MB/s eta 0:00:01\r\u001b[K     |████████████████████████████▊   | 1.5MB 20.6MB/s eta 0:00:01\r\u001b[K     |█████████████████████████████   | 1.5MB 20.6MB/s eta 0:00:01\r\u001b[K     |█████████████████████████████▏  | 1.6MB 20.6MB/s eta 0:00:01\r\u001b[K     |█████████████████████████████▎  | 1.6MB 20.6MB/s eta 0:00:01\r\u001b[K     |█████████████████████████████▌  | 1.6MB 20.6MB/s eta 0:00:01\r\u001b[K     |█████████████████████████████▊  | 1.6MB 20.6MB/s eta 0:00:01\r\u001b[K     |██████████████████████████████  | 1.6MB 20.6MB/s eta 0:00:01\r\u001b[K     |██████████████████████████████  | 1.6MB 20.6MB/s eta 0:00:01\r\u001b[K     |██████████████████████████████▎ | 1.6MB 20.6MB/s eta 0:00:01\r\u001b[K     |██████████████████████████████▌ | 1.6MB 20.6MB/s eta 0:00:01\r\u001b[K     |██████████████████████████████▋ | 1.6MB 20.6MB/s eta 0:00:01\r\u001b[K     |██████████████████████████████▉ | 1.6MB 20.6MB/s eta 0:00:01\r\u001b[K     |███████████████████████████████ | 1.7MB 20.6MB/s eta 0:00:01\r\u001b[K     |███████████████████████████████▎| 1.7MB 20.6MB/s eta 0:00:01\r\u001b[K     |███████████████████████████████▍| 1.7MB 20.6MB/s eta 0:00:01\r\u001b[K     |███████████████████████████████▋| 1.7MB 20.6MB/s eta 0:00:01\r\u001b[K     |███████████████████████████████▉| 1.7MB 20.6MB/s eta 0:00:01\r\u001b[K     |████████████████████████████████| 1.7MB 20.6MB/s eta 0:00:01\r\u001b[K     |████████████████████████████████| 1.7MB 20.6MB/s \n",
            "\u001b[?25hRequirement already satisfied: Click>=7.0 in /usr/local/lib/python3.6/dist-packages (from youtokentome) (7.1.2)\n",
            "Installing collected packages: youtokentome\n",
            "Successfully installed youtokentome-1.0.6\n"
          ],
          "name": "stdout"
        }
      ]
    },
    {
      "cell_type": "code",
      "metadata": {
        "id": "gwqHJV1-Epko",
        "colab": {
          "base_uri": "https://localhost:8080/"
        },
        "outputId": "fecbe8a8-bb57-41d8-e4a1-bf581786e479"
      },
      "source": [
        "!pip install alive-progress"
      ],
      "execution_count": 2,
      "outputs": [
        {
          "output_type": "stream",
          "text": [
            "Collecting alive-progress\n",
            "  Downloading https://files.pythonhosted.org/packages/7a/46/25535783b6d88f7b85a71a4393f658baee5c5df5064c410e14058296a042/alive_progress-1.6.1-py3-none-any.whl\n",
            "Installing collected packages: alive-progress\n",
            "Successfully installed alive-progress-1.6.1\n"
          ],
          "name": "stdout"
        }
      ]
    },
    {
      "cell_type": "code",
      "metadata": {
        "id": "5rg43AAFBh7e"
      },
      "source": [
        "# !wget https://developer.nvidia.com/compute/cuda/9.2/Prod/local_installers/cuda-repo-ubuntu1604-9-2-local_9.2.88-1_amd64 -O cuda-repo-ubuntu1604-9-2-local_9.2.88-1_amd64.deb\n",
        "# !dpkg -i cuda-repo-ubuntu1604-9-2-local_9.2.88-1_amd64.deb\n",
        "# !apt-key add /var/cuda-repo-9-2-local/7fa2af80.pub\n",
        "# !apt-get update\n",
        "# !apt-get install cuda"
      ],
      "execution_count": 3,
      "outputs": []
    },
    {
      "cell_type": "code",
      "metadata": {
        "id": "QIA1x7RzBq9D"
      },
      "source": [
        "# !pip install mxnet-cu92"
      ],
      "execution_count": 4,
      "outputs": []
    },
    {
      "cell_type": "code",
      "metadata": {
        "id": "FmrVqnzMMxMr"
      },
      "source": [
        "import math\n",
        "import numpy as np\n",
        "import pandas as pd\n",
        "\n",
        "import random\n",
        "import json\n",
        "import torch\n",
        "from torch.utils.data import Dataset, DataLoader\n",
        "\n",
        "from tqdm import tqdm\n",
        "\n",
        "from matplotlib import pyplot as plt\n",
        "\n",
        "import youtokentome as yttm"
      ],
      "execution_count": 5,
      "outputs": []
    },
    {
      "cell_type": "code",
      "metadata": {
        "id": "9WsCrjTDDG0-",
        "colab": {
          "base_uri": "https://localhost:8080/"
        },
        "outputId": "3f5c60db-4aee-411c-afa1-400ea3b3205f"
      },
      "source": [
        "print(torch.cuda.device_count())"
      ],
      "execution_count": 6,
      "outputs": [
        {
          "output_type": "stream",
          "text": [
            "1\n"
          ],
          "name": "stdout"
        }
      ]
    },
    {
      "cell_type": "code",
      "metadata": {
        "id": "CQkrv7tBDa1g",
        "colab": {
          "base_uri": "https://localhost:8080/"
        },
        "outputId": "e8cb47ad-481f-4c5e-ae2d-d1d2481a33c4"
      },
      "source": [
        "print(torch.cuda.get_device_name(0))"
      ],
      "execution_count": 7,
      "outputs": [
        {
          "output_type": "stream",
          "text": [
            "Tesla T4\n"
          ],
          "name": "stdout"
        }
      ]
    },
    {
      "cell_type": "code",
      "metadata": {
        "id": "xbq8KBUcDsMc"
      },
      "source": [
        "device = torch.device('cuda:0')"
      ],
      "execution_count": 8,
      "outputs": []
    },
    {
      "cell_type": "code",
      "metadata": {
        "id": "AB1OFN7RB-8w"
      },
      "source": [
        "# !pip install --upgrade --force-reinstall -q http://download.pytorch.org/whl/{accelerator}/torch-0.4.0-{platform}-linux_x86_64.whl torchvision"
      ],
      "execution_count": 9,
      "outputs": []
    },
    {
      "cell_type": "code",
      "metadata": {
        "id": "kQsaa759SujQ",
        "colab": {
          "base_uri": "https://localhost:8080/"
        },
        "outputId": "ab385c3b-d8ea-4867-cf0c-63633e1abf94"
      },
      "source": [
        "from google.colab import drive\n",
        "drive.mount('/content/drive')"
      ],
      "execution_count": 10,
      "outputs": [
        {
          "output_type": "stream",
          "text": [
            "Mounted at /content/drive\n"
          ],
          "name": "stdout"
        }
      ]
    },
    {
      "cell_type": "code",
      "metadata": {
        "id": "fsUhzBGgT8R-"
      },
      "source": [
        "# !unzip '/content/drive/My Drive/unsupervised.csv.zip'"
      ],
      "execution_count": 11,
      "outputs": []
    },
    {
      "cell_type": "code",
      "metadata": {
        "id": "Xqzqdz21Vh39",
        "colab": {
          "base_uri": "https://localhost:8080/"
        },
        "outputId": "86aa2813-d284-497f-ad51-27efc1a1bf13"
      },
      "source": [
        "!unzip '/content/drive/My Drive/qa_data.jsonl.zip'"
      ],
      "execution_count": 12,
      "outputs": [
        {
          "output_type": "stream",
          "text": [
            "Archive:  /content/drive/My Drive/qa_data.jsonl.zip\n",
            "  inflating: qa_data.jsonl           \n",
            "  inflating: __MACOSX/._qa_data.jsonl  \n"
          ],
          "name": "stdout"
        }
      ]
    },
    {
      "cell_type": "code",
      "metadata": {
        "id": "hpw5KDsGOrTT"
      },
      "source": [
        "# questions = pd.read_csv('unsupervised.csv')\n",
        "# questions.question = questions.question.map(lambda x: x.lower())\n",
        "\n",
        "qa_data = list()\n",
        "\n",
        "with open('qa_data.jsonl') as file_object:\n",
        "    for line in file_object:\n",
        "        qa_data.append(json.loads(line.strip()))\n",
        "file_object.close()\n",
        "qa_data = qa_data[:math.ceil(len(qa_data)*0.4)]#!!!!"
      ],
      "execution_count": 13,
      "outputs": []
    },
    {
      "cell_type": "code",
      "metadata": {
        "id": "ns8YADUtVxQT"
      },
      "source": [
        "with open('for_bpe.txt', 'w', encoding='utf-8') as f:\n",
        "    for que in qa_data:\n",
        "        f.write(que['question'] + '\\n')\n",
        "f.close()\n",
        "\n",
        "vocab_size = 30_000\n",
        "model_path = 'pretrained_bpe_lm.model'"
      ],
      "execution_count": 14,
      "outputs": []
    },
    {
      "cell_type": "code",
      "metadata": {
        "id": "Fy6lmKpjW8ed",
        "colab": {
          "base_uri": "https://localhost:8080/"
        },
        "outputId": "22aa4e9c-5f84-4dab-dbb1-2802578e8e38"
      },
      "source": [
        "%%time\n",
        "# обучаем\n",
        "# раскомментируйте этот код, чтобы обучить bpe\n",
        "yttm.BPE.train(data='for_bpe.txt', vocab_size=vocab_size, model=model_path)"
      ],
      "execution_count": 15,
      "outputs": [
        {
          "output_type": "stream",
          "text": [
            "CPU times: user 9.45 s, sys: 1.06 s, total: 10.5 s\n",
            "Wall time: 6.42 s\n"
          ],
          "name": "stdout"
        },
        {
          "output_type": "execute_result",
          "data": {
            "text/plain": [
              "<youtokentome.youtokentome.BPE at 0x7fb7a9ab1d30>"
            ]
          },
          "metadata": {
            "tags": []
          },
          "execution_count": 15
        }
      ]
    },
    {
      "cell_type": "code",
      "metadata": {
        "id": "I6Pyz-GbXmEQ"
      },
      "source": [
        "# загружаем токенизатор\n",
        "tokenizer = yttm.BPE(model=model_path)"
      ],
      "execution_count": 16,
      "outputs": []
    },
    {
      "cell_type": "code",
      "metadata": {
        "id": "TQPHpsjkSXEW"
      },
      "source": [
        "qa_data = qa_data[:math.ceil(len(qa_data)*0.6)]"
      ],
      "execution_count": 17,
      "outputs": []
    },
    {
      "cell_type": "code",
      "metadata": {
        "id": "HBIho8jAixIJ"
      },
      "source": [
        "tok_pairs = []\n",
        "max_length = 32\n",
        "for i in qa_data:\n",
        "  \n",
        "  tok_quest = tokenizer.encode(i['question'], eos=True)\n",
        "  for resp in i['responses']:\n",
        "    pair = (tok_quest, tokenizer.encode(resp, eos=True))\n",
        "    # pair.append(tok_quest, tokenizer.encode(resp, bos=True, eos=True))\n",
        "    tok_pairs.append(pair)\n"
      ],
      "execution_count": 31,
      "outputs": []
    },
    {
      "cell_type": "code",
      "metadata": {
        "id": "IwfAQQGao5jK",
        "colab": {
          "base_uri": "https://localhost:8080/"
        },
        "outputId": "39384771-9750-44cb-e7c7-b2c239fc60fe"
      },
      "source": [
        "tok_pairs[9]"
      ],
      "execution_count": 32,
      "outputs": [
        {
          "output_type": "execute_result",
          "data": {
            "text/plain": [
              "([572, 13653, 14803, 402, 3978, 392, 10868, 13775, 3],\n",
              " [364, 363, 2368, 4915, 434, 364, 438, 425, 15921, 506, 4118, 11565, 3])"
            ]
          },
          "metadata": {
            "tags": []
          },
          "execution_count": 32
        }
      ]
    },
    {
      "cell_type": "code",
      "metadata": {
        "id": "Mfb2Vx3-S1-y",
        "colab": {
          "base_uri": "https://localhost:8080/"
        },
        "outputId": "ab7c88a9-aaae-4f08-83be-7d4444db88b2"
      },
      "source": [
        "qa_data[9]"
      ],
      "execution_count": 33,
      "outputs": [
        {
          "output_type": "execute_result",
          "data": {
            "text/plain": [
              "{'category': 'Стиль, Мода, Звезды',\n",
              " 'question': 'ну что за мода? не успел глотнуть кофе, уже потянулся за сигаретой!',\n",
              " 'responses': ['не знаю милый, что за кайф! я сама мало курю, но когда напиюся тогда держись!;)))',\n",
              "  'переходи на чай.',\n",
              "  'я такой моды не знаю, потому что не курю',\n",
              "  'а я вообще не курю и никогда не курила, но все равно не терплю, когда курят во время еды и в помещениях! фу!!!!',\n",
              "  'скажу одно: курень вред. да и коффе неочень полезно']}"
            ]
          },
          "metadata": {
            "tags": []
          },
          "execution_count": 33
        }
      ]
    },
    {
      "cell_type": "code",
      "metadata": {
        "id": "lT2ykmymVttb"
      },
      "source": [
        "train_border = math.ceil(len(tok_pairs)*0.6)\n",
        "test_border = math.ceil(len(qa_data)*0.8)"
      ],
      "execution_count": 34,
      "outputs": []
    },
    {
      "cell_type": "code",
      "metadata": {
        "id": "cSwG260UB8Rl"
      },
      "source": [
        "my_train = tok_pairs[:train_border]\n",
        "my_test = tok_pairs[train_border:]"
      ],
      "execution_count": 35,
      "outputs": []
    },
    {
      "cell_type": "code",
      "metadata": {
        "id": "LaB8jxb-VtwO"
      },
      "source": [
        "# train_df = pd.DataFrame(qa_data[:train_border])\n",
        "# test_df = pd.DataFrame(qa_data[train_border:test_border])\n",
        "# validation_df = pd.DataFrame(qa_data[test_border: ])"
      ],
      "execution_count": 36,
      "outputs": []
    },
    {
      "cell_type": "code",
      "metadata": {
        "id": "HcHhlLMVVxVv"
      },
      "source": [
        ""
      ],
      "execution_count": 36,
      "outputs": []
    },
    {
      "cell_type": "code",
      "metadata": {
        "id": "ki2PI2AhV-qF",
        "colab": {
          "base_uri": "https://localhost:8080/"
        },
        "outputId": "1b6de614-199d-4c3e-bf7f-5a46ab2f404d"
      },
      "source": [
        "tokenizer.encode('аа памагити пожалст', bos=True, eos=True, output_type=yttm.OutputType.SUBWORD)"
      ],
      "execution_count": 37,
      "outputs": [
        {
          "output_type": "execute_result",
          "data": {
            "text/plain": [
              "['<BOS>', '▁аа', '▁па', 'ма', 'ги', 'ти', '▁пожал', 'ст', '<EOS>']"
            ]
          },
          "metadata": {
            "tags": []
          },
          "execution_count": 37
        }
      ]
    },
    {
      "cell_type": "code",
      "metadata": {
        "id": "9xX_P_oKV-3r"
      },
      "source": [
        "\n",
        "batch_size = 64\n",
        "\n",
        "max_len = 32 # это типа с запасом?\n",
        "\n",
        "pad_index = 0\n",
        "eos_index = 3"
      ],
      "execution_count": 38,
      "outputs": []
    },
    {
      "cell_type": "code",
      "metadata": {
        "id": "15UJnunpV-tE"
      },
      "source": [
        "class LanguageModelData(torch.utils.data.Dataset):\n",
        "    \n",
        "    def __init__(self, data, max_len, pad_index, eos_index):\n",
        "        \n",
        "        self.data = data\n",
        "        \n",
        "        self.max_len = max_len\n",
        "        \n",
        "        self.pad_index = pad_index\n",
        "        self.eos_index = eos_index\n",
        "        \n",
        "    def __len__(self):\n",
        "        return len(self.data)\n",
        "    \n",
        "    def __getitem__(self, index):\n",
        "        \n",
        "        x = self.data[index][0][:self.max_len]\n",
        "        y = self.data[index][1][:self.max_len]\n",
        "        \n",
        "        pads_x = [self.pad_index] * (self.max_len - len(x))\n",
        "        pads_y = [self.pad_index] * (self.max_len - len(y))\n",
        "\n",
        "        x = torch.tensor(x + pads_x).long()\n",
        "        y = torch.tensor(y + pads_y).long()\n",
        "        \n",
        "        return x, y"
      ],
      "execution_count": 39,
      "outputs": []
    },
    {
      "cell_type": "code",
      "metadata": {
        "id": "0Xt1uMx2rCN6",
        "colab": {
          "base_uri": "https://localhost:8080/"
        },
        "outputId": "c5e1a4e5-1490-499d-eb59-44374c135ac9"
      },
      "source": [
        "\n",
        "torch.tensor([2] + [2, 3499, 392, 441, 14, 5232, 7788, 3]).long()"
      ],
      "execution_count": 40,
      "outputs": [
        {
          "output_type": "execute_result",
          "data": {
            "text/plain": [
              "tensor([   2,    2, 3499,  392,  441,   14, 5232, 7788,    3])"
            ]
          },
          "metadata": {
            "tags": []
          },
          "execution_count": 40
        }
      ]
    },
    {
      "cell_type": "code",
      "metadata": {
        "id": "rBdxi6f-wsGT"
      },
      "source": [
        "# sent = tokenizer.encode('аа памагити пожалст', bos=True, eos=True)\n",
        "# x = sent[:max_len]\n",
        "\n",
        "# pads_x = [pad_index] * (max_len - len(x))\n",
        "# x = torch.tensor([x + pads_x]).long()\n",
        "# x = x.to(device)\n",
        "# x\n",
        "# with torch.no_grad():\n",
        "#   pred = model(x)\n",
        "# pred"
      ],
      "execution_count": 41,
      "outputs": []
    },
    {
      "cell_type": "code",
      "metadata": {
        "id": "YjOOOtBAV-9b",
        "colab": {
          "base_uri": "https://localhost:8080/"
        },
        "outputId": "c414ca92-501a-46c0-b44a-9d0cf1a7f416"
      },
      "source": [
        "train_dataset = LanguageModelData(data=my_train, max_len=max_len, \n",
        "                                  pad_index=pad_index, eos_index=eos_index)\n",
        "validation_dataset = LanguageModelData(data=my_test, max_len=max_len,\n",
        "                                       pad_index=pad_index, eos_index=eos_index)\n",
        "\n",
        "len(train_dataset), len(validation_dataset)"
      ],
      "execution_count": 42,
      "outputs": [
        {
          "output_type": "execute_result",
          "data": {
            "text/plain": [
              "(1119610, 746406)"
            ]
          },
          "metadata": {
            "tags": []
          },
          "execution_count": 42
        }
      ]
    },
    {
      "cell_type": "code",
      "metadata": {
        "id": "zswVvXWZV_Fq"
      },
      "source": [
        "train_loader = torch.utils.data.DataLoader(train_dataset, batch_size=batch_size)\n",
        "validation_loader = torch.utils.data.DataLoader(validation_dataset, batch_size=batch_size)"
      ],
      "execution_count": 43,
      "outputs": []
    },
    {
      "cell_type": "code",
      "metadata": {
        "id": "JgM0ck_nV_DU"
      },
      "source": [
        "for x, y in train_loader:\n",
        "    break"
      ],
      "execution_count": 44,
      "outputs": []
    },
    {
      "cell_type": "code",
      "metadata": {
        "id": "jVxdgj1-DJho",
        "colab": {
          "base_uri": "https://localhost:8080/"
        },
        "outputId": "156f3f44-1384-4b06-e62c-d186e522afd8"
      },
      "source": [
        "len(validation_loader.dataset)"
      ],
      "execution_count": 45,
      "outputs": [
        {
          "output_type": "execute_result",
          "data": {
            "text/plain": [
              "746406"
            ]
          },
          "metadata": {
            "tags": []
          },
          "execution_count": 45
        }
      ]
    },
    {
      "cell_type": "code",
      "metadata": {
        "id": "E6H_c1AXEBTQ",
        "colab": {
          "base_uri": "https://localhost:8080/"
        },
        "outputId": "9671e196-fb16-49a4-f35b-3a87010b79ad"
      },
      "source": [
        "x"
      ],
      "execution_count": 46,
      "outputs": [
        {
          "output_type": "execute_result",
          "data": {
            "text/plain": [
              "tensor([[ 1678,   389,  5459,  ...,     0,     0,     0],\n",
              "        [  424,   389, 16450,  ...,     0,     0,     0],\n",
              "        [  361,   584,   464,  ...,     0,     0,     0],\n",
              "        ...,\n",
              "        [  826,  2191, 21124,  ...,     0,     0,     0],\n",
              "        [  826,  2191, 21124,  ...,     0,     0,     0],\n",
              "        [  826,  2191, 21124,  ...,     0,     0,     0]])"
            ]
          },
          "metadata": {
            "tags": []
          },
          "execution_count": 46
        }
      ]
    },
    {
      "cell_type": "code",
      "metadata": {
        "id": "xzIMZu6JK6OR",
        "colab": {
          "base_uri": "https://localhost:8080/"
        },
        "outputId": "b2691dae-5a0d-49ba-e381-907b2bd1d8e5"
      },
      "source": [
        "y"
      ],
      "execution_count": 47,
      "outputs": [
        {
          "output_type": "execute_result",
          "data": {
            "text/plain": [
              "tensor([[ 3499,   392,   441,  ...,     0,     0,     0],\n",
              "        [  424,   342,  4823,  ...,     0,     0,     0],\n",
              "        [ 7534,   336, 19442,  ...,     0,     0,     0],\n",
              "        ...,\n",
              "        [  363,  1853,  3011,  ...,     0,     0,     0],\n",
              "        [24624, 17689,   363,  ...,     0,     0,     0],\n",
              "        [21124,  5742,  3011,  ...,     0,     0,     0]])"
            ]
          },
          "metadata": {
            "tags": []
          },
          "execution_count": 47
        }
      ]
    },
    {
      "cell_type": "code",
      "metadata": {
        "id": "9HOh_8jWOXjH"
      },
      "source": [
        "try:\n",
        "  for instance in list(tqdm._instances):\n",
        "    tqdm._decr_instances(instance)\n",
        "except Exception as e:\n",
        "  pass"
      ],
      "execution_count": 51,
      "outputs": []
    },
    {
      "cell_type": "code",
      "metadata": {
        "id": "0T4QP0ucEfvX",
        "colab": {
          "base_uri": "https://localhost:8080/"
        },
        "outputId": "a0143bac-19aa-455f-90e7-359c65147833"
      },
      "source": [
        "progress_bar = tqdm(total=len(validation_loader.dataset), desc='Testing')\n",
        "\n",
        "for x, y in validation_loader:\n",
        "    progress_bar.update(x.size(0))\n",
        "progress_bar.close()"
      ],
      "execution_count": 52,
      "outputs": [
        {
          "output_type": "stream",
          "text": [
            "Testing: 100%|██████████| 746406/746406 [00:10<00:00, 68558.65it/s]\n"
          ],
          "name": "stderr"
        }
      ]
    },
    {
      "cell_type": "code",
      "metadata": {
        "id": "r4zX-hPQrZGM"
      },
      "source": [
        "class LanguageModel(torch.nn.Module):\n",
        "    \n",
        "    def __init__(self, vocab_size, embedding_dim, model_dim, num_layers,\n",
        "                 padding_idx, dropout=0.35, weight_tying=True):\n",
        "        \n",
        "        super().__init__()\n",
        "        \n",
        "        self.embedding_layer = torch.nn.Embedding(num_embeddings=vocab_size,\n",
        "                                                  embedding_dim=embedding_dim, padding_idx=padding_idx)\n",
        "        \n",
        "        self.embedding_dropout = SpatialDropout(p=dropout)\n",
        "        \n",
        "        self.lstm = torch.nn.LSTM(input_size=embedding_dim, hidden_size=model_dim, \n",
        "                                  num_layers=num_layers, dropout=dropout, batch_first=True)\n",
        "        \n",
        "        self.language_model_head = torch.nn.Linear(in_features=model_dim, out_features=vocab_size, bias=False)\n",
        "        \n",
        "        # как раз здесь задаем, чтобы веса входящего и выходящего слоя эмбеддингов шарились\n",
        "        if weight_tying and embedding_dim == model_dim:\n",
        "            self.language_model_head.weight = self.embedding_layer.weight\n",
        "        \n",
        "    def forward(self, x):\n",
        "        \n",
        "        x = self.embedding_layer(x)\n",
        "        \n",
        "        x = self.embedding_dropout(x)\n",
        "        \n",
        "        x, _ = self.lstm(x)\n",
        "        \n",
        "        x = self.language_model_head(x)\n",
        "        \n",
        "        return x"
      ],
      "execution_count": 53,
      "outputs": []
    },
    {
      "cell_type": "code",
      "metadata": {
        "id": "tLGCx38QrZRz"
      },
      "source": [
        "embedding_dim = 128\n",
        "model_dim = 128\n",
        "num_layers = 2\n",
        "dropout = 0.35"
      ],
      "execution_count": 54,
      "outputs": []
    },
    {
      "cell_type": "code",
      "metadata": {
        "id": "Q-7-ZJAErZAl"
      },
      "source": [
        "class SpatialDropout(torch.nn.Dropout2d):\n",
        "    \n",
        "    def __init__(self, p=0.5):\n",
        "        super().__init__()\n",
        "        self.p = p\n",
        "    \n",
        "    def forward(self, x):\n",
        "        x = x.to(device)\n",
        "        x = x.unsqueeze(2)    # (N, T, 1, K)\n",
        "        x = x.permute(0, 3, 2, 1)  # (N, K, 1, T)\n",
        "        x = super(SpatialDropout, self).forward(x)  # (N, K, 1, T)\n",
        "        x = x.permute(0, 3, 2, 1)  # (N, T, 1, K)\n",
        "        x = x.squeeze(2)  # (N, T, K)\n",
        "        return x"
      ],
      "execution_count": 57,
      "outputs": []
    },
    {
      "cell_type": "code",
      "metadata": {
        "id": "SNOUA4RirZgp",
        "colab": {
          "base_uri": "https://localhost:8080/"
        },
        "outputId": "af5c962c-8574-4e58-aceb-d37ce5aee100"
      },
      "source": [
        "model = LanguageModel(vocab_size=vocab_size, embedding_dim=embedding_dim,\n",
        "                      model_dim=model_dim, num_layers=num_layers,\n",
        "                      dropout=dropout, padding_idx=pad_index)\n",
        "model.to(device)"
      ],
      "execution_count": 58,
      "outputs": [
        {
          "output_type": "execute_result",
          "data": {
            "text/plain": [
              "LanguageModel(\n",
              "  (embedding_layer): Embedding(30000, 128, padding_idx=0)\n",
              "  (embedding_dropout): SpatialDropout(p=0.35, inplace=False)\n",
              "  (lstm): LSTM(128, 128, num_layers=2, batch_first=True, dropout=0.35)\n",
              "  (language_model_head): Linear(in_features=128, out_features=30000, bias=False)\n",
              ")"
            ]
          },
          "metadata": {
            "tags": []
          },
          "execution_count": 58
        }
      ]
    },
    {
      "cell_type": "code",
      "metadata": {
        "id": "dKlwwNMOrZmQ"
      },
      "source": [
        "\n",
        "# у нас есть тег eos (end of sentence), который есть в каждом тренировочном примере\n",
        "# мы не будем считать лосс для падов\n",
        "# вместо этого будем останавливать генерирование моделью в момент, когда она сгенерирует тег eos\n",
        "# \n",
        "criterion = torch.nn.CrossEntropyLoss(ignore_index=pad_index)\n",
        "optimizer = torch.optim.Adam(params=model.parameters())"
      ],
      "execution_count": 59,
      "outputs": []
    },
    {
      "cell_type": "code",
      "metadata": {
        "id": "0fK2mmj-rZjy"
      },
      "source": [
        "\n",
        "# функция для обучения одной эпохи\n",
        "# почти все как всегда\n",
        "\n",
        "def train(model, loader, criterion, optimizer, last_n_losses=500, verbose=True):\n",
        "    \n",
        "    losses = []\n",
        "\n",
        "    progress_bar = tqdm(total=len(loader), disable=not verbose, desc='Train')\n",
        "\n",
        "    model.train()\n",
        "\n",
        "    for x, y in loader:\n",
        "\n",
        "        x = x.to(device)\n",
        "        y = y.to(device)\n",
        "\n",
        "        pred = model(x)\n",
        "\n",
        "        loss = criterion(pred.view(-1, pred.size(-1)), y.view(-1))\n",
        "\n",
        "        optimizer.zero_grad()\n",
        "        loss.backward()\n",
        "        optimizer.step()\n",
        "\n",
        "        losses.append(loss.item())\n",
        "\n",
        "        progress_bar.set_postfix(loss=np.mean(losses[-last_n_losses:]),\n",
        "                                 perplexity=np.exp(np.mean(losses[-last_n_losses:])))\n",
        "\n",
        "        progress_bar.update()\n",
        "\n",
        "    progress_bar.close()\n",
        "    \n",
        "    return losses"
      ],
      "execution_count": 60,
      "outputs": []
    },
    {
      "cell_type": "code",
      "metadata": {
        "id": "2MciaRQurZPF",
        "colab": {
          "base_uri": "https://localhost:8080/"
        },
        "outputId": "38e5889d-b950-4195-e34e-be74c9684bc2"
      },
      "source": [
        "epoch_losses = train(model, validation_loader, criterion, optimizer)"
      ],
      "execution_count": 61,
      "outputs": [
        {
          "output_type": "stream",
          "text": [
            "Train: 100%|██████████| 11663/11663 [05:39<00:00, 34.40it/s, loss=7.76, perplexity=2.33e+3]\n"
          ],
          "name": "stderr"
        }
      ]
    },
    {
      "cell_type": "code",
      "metadata": {
        "id": "D1VxuH5VrZMc",
        "colab": {
          "base_uri": "https://localhost:8080/",
          "height": 857
        },
        "outputId": "30352e79-dd23-48d9-f696-6647473ae24f"
      },
      "source": [
        "\n",
        "plt.figure(figsize=(14, 14))\n",
        "plt.xlabel('Номер батча')\n",
        "plt.ylabel('Значение функции потерь')\n",
        "plt.title('Процесс обучения')\n",
        "plt.plot(epoch_losses)"
      ],
      "execution_count": 62,
      "outputs": [
        {
          "output_type": "execute_result",
          "data": {
            "text/plain": [
              "[<matplotlib.lines.Line2D at 0x7fb7814bb518>]"
            ]
          },
          "metadata": {
            "tags": []
          },
          "execution_count": 62
        },
        {
          "output_type": "display_data",
          "data": {
            "image/png": "[encoded data removed]",
            "text/plain": [
              "<Figure size 1008x1008 with 1 Axes>"
            ]
          },
          "metadata": {
            "tags": [],
            "needs_background": "light"
          }
        }
      ]
    },
    {
      "cell_type": "code",
      "metadata": {
        "id": "nti29PFSrZKq"
      },
      "source": [
        "def evaluate(model, loader, criterion, last_n_losses=500, verbose=True):\n",
        "    \n",
        "    losses = []\n",
        "\n",
        "    progress_bar = tqdm(total=len(loader), disable=not verbose, desc='Evaluate')\n",
        "\n",
        "    model.eval()\n",
        "\n",
        "    for x, y in loader:\n",
        "\n",
        "        x = x.to(device)\n",
        "        y = y.to(device)\n",
        "\n",
        "        with torch.no_grad():\n",
        "            pred = model(x)\n",
        "\n",
        "        loss = criterion(pred.view(-1, pred.size(-1)), y.view(-1))\n",
        "\n",
        "        losses.append(loss.item())\n",
        "\n",
        "        progress_bar.set_postfix(loss=np.mean(losses[-last_n_losses:]),\n",
        "                                 perplexity=np.exp(np.mean(losses[-last_n_losses:])))\n",
        "\n",
        "        progress_bar.update()\n",
        "\n",
        "    progress_bar.close()\n",
        "    \n",
        "    return losses"
      ],
      "execution_count": 63,
      "outputs": []
    },
    {
      "cell_type": "code",
      "metadata": {
        "id": "y2Z9xyRirZDe",
        "colab": {
          "base_uri": "https://localhost:8080/",
          "height": 54
        },
        "outputId": "1c78bc7d-b045-41d3-9309-2440a1738788"
      },
      "source": [
        "\n",
        "val_losses = evaluate(model, validation_loader, criterion)\n",
        "f'Val loss - {np.mean(val_losses):.3f} perplexity - {np.exp(np.mean(val_losses)):.3f}'"
      ],
      "execution_count": 64,
      "outputs": [
        {
          "output_type": "stream",
          "text": [
            "Evaluate: 100%|██████████| 11663/11663 [02:27<00:00, 79.07it/s, loss=7.72, perplexity=2.25e+3]\n"
          ],
          "name": "stderr"
        },
        {
          "output_type": "execute_result",
          "data": {
            "application/vnd.google.colaboratory.intrinsic+json": {
              "type": "string"
            },
            "text/plain": [
              "'Val loss - 7.743 perplexity - 2305.947'"
            ]
          },
          "metadata": {
            "tags": []
          },
          "execution_count": 64
        }
      ]
    },
    {
      "cell_type": "code",
      "metadata": {
        "id": "j2w0Hr2CwibG"
      },
      "source": [
        ""
      ],
      "execution_count": 64,
      "outputs": []
    },
    {
      "cell_type": "code",
      "metadata": {
        "id": "Mc4K9RB9wiYo"
      },
      "source": [
        ""
      ],
      "execution_count": 64,
      "outputs": []
    },
    {
      "cell_type": "code",
      "metadata": {
        "id": "nr84KChawgaU"
      },
      "source": [
        "spatial_dropout = SpatialDropout()\n",
        "common_dropout = torch.nn.Dropout()"
      ],
      "execution_count": 65,
      "outputs": []
    },
    {
      "cell_type": "code",
      "metadata": {
        "id": "RFNZo_dQwggD"
      },
      "source": [
        "class LanguageModel(torch.nn.Module):\n",
        "    \n",
        "    def __init__(self, vocab_size, embedding_dim, model_dim, num_layers,\n",
        "                 padding_idx, dropout=0.35, weight_tying=True):\n",
        "        \n",
        "        super().__init__()\n",
        "        \n",
        "        self.embedding_layer = torch.nn.Embedding(num_embeddings=vocab_size,\n",
        "                                                  embedding_dim=embedding_dim, padding_idx=padding_idx)\n",
        "        \n",
        "        self.embedding_dropout = SpatialDropout(p=dropout)\n",
        "        \n",
        "        self.lstm = torch.nn.LSTM(input_size=embedding_dim, hidden_size=model_dim, \n",
        "                                  num_layers=num_layers, dropout=dropout, batch_first=True)\n",
        "        \n",
        "        self.language_model_head = torch.nn.Linear(in_features=model_dim, out_features=vocab_size, bias=False)\n",
        "        \n",
        "        # как раз здесь задаем, чтобы веса входящего и выходящего слоя эмбеддингов шарились\n",
        "        if weight_tying and embedding_dim == model_dim:\n",
        "            self.language_model_head.weight = self.embedding_layer.weight\n",
        "        \n",
        "    def forward(self, x):\n",
        "\n",
        "        x = self.embedding_layer(x)\n",
        "        \n",
        "        x = self.embedding_dropout(x)\n",
        "        \n",
        "        x, _ = self.lstm(x)\n",
        "        \n",
        "        x = self.language_model_head(x)\n",
        "        \n",
        "        return x"
      ],
      "execution_count": 66,
      "outputs": []
    },
    {
      "cell_type": "code",
      "metadata": {
        "id": "7ZENU87kwgmW"
      },
      "source": [
        "model = LanguageModel(vocab_size=vocab_size, embedding_dim=embedding_dim, model_dim=model_dim, \n",
        "                      num_layers=num_layers, dropout=dropout, padding_idx=pad_index, weight_tying=True)"
      ],
      "execution_count": 67,
      "outputs": []
    },
    {
      "cell_type": "code",
      "metadata": {
        "id": "S3Qw-UZgwgkP"
      },
      "source": [
        "model.to(device)\n",
        "optimizer = torch.optim.Adam(params=model.parameters())"
      ],
      "execution_count": 68,
      "outputs": []
    },
    {
      "cell_type": "code",
      "metadata": {
        "id": "QV8IlkjXwgd_",
        "colab": {
          "base_uri": "https://localhost:8080/"
        },
        "outputId": "202aecdd-e51b-4564-bd62-7c987b4bfa3a"
      },
      "source": [
        "epoch_losses = train(model, validation_loader, criterion, optimizer)"
      ],
      "execution_count": 69,
      "outputs": [
        {
          "output_type": "stream",
          "text": [
            "Train: 100%|██████████| 11663/11663 [05:40<00:00, 34.23it/s, loss=7.76, perplexity=2.34e+3]\n"
          ],
          "name": "stderr"
        }
      ]
    },
    {
      "cell_type": "code",
      "metadata": {
        "id": "VmsRCeWLwgXl"
      },
      "source": [
        "\n",
        "model.eval()\n",
        "\n",
        "with torch.no_grad():\n",
        "\n",
        "    x = x.to(device)\n",
        "    \n",
        "    pred = []\n",
        "    \n",
        "    zeros = torch.zeros(num_layers, x.size(0), model_dim, dtype=torch.float32, device=x.device)\n",
        "    hx = (zeros, zeros)\n",
        "    \n",
        "    # семплируем начальный токен bos для каждого предложения\n",
        "    current_token = x[:, 0].unsqueeze(1)\n",
        "    \n",
        "    for timestamp in range(x.size(1)):\n",
        "        \n",
        "        # пока все то же самое\n",
        "        emb = model.embedding_layer(current_token)\n",
        "        \n",
        "\n",
        "        emb = model.embedding_dropout(emb)\n",
        "\n",
        "        lstm_out, hx = model.lstm(emb, hx)\n",
        "\n",
        "        next_token_prediction = model.language_model_head(lstm_out)\n",
        "        \n",
        "        pred.append(next_token_prediction)\n",
        "        \n",
        "        # но вот здесь мы семплируем предсказания сети и передадим это как текущий токен для следующего таймстемпа\n",
        "        current_token = next_token_prediction.argmax(dim=2)\n",
        "        \n",
        "    pred = torch.cat(pred, dim=1)\n",
        "    \n",
        "model.train()\n",
        "    \n",
        "tokens = pred.argmax(dim=-1).detach().cpu().numpy()"
      ],
      "execution_count": 70,
      "outputs": []
    },
    {
      "cell_type": "code",
      "metadata": {
        "id": "Nu3cRjnZ5cG1",
        "colab": {
          "base_uri": "https://localhost:8080/"
        },
        "outputId": "46c60bf6-01c0-42bd-dbb7-f358dd34105f"
      },
      "source": [
        "tokens"
      ],
      "execution_count": 71,
      "outputs": [
        {
          "output_type": "execute_result",
          "data": {
            "text/plain": [
              "array([[364, 363, 363, ...,   3,   3,   3],\n",
              "       [438, 363, 363, ...,   3,   3,   3],\n",
              "       [438, 363, 363, ...,   3,   3,   3],\n",
              "       ...,\n",
              "       [364, 363, 363, ...,   3,   3,   3],\n",
              "       [364, 363, 363, ...,   3,   3,   3],\n",
              "       [364, 363, 363, ...,   3,   3,   3]])"
            ]
          },
          "metadata": {
            "tags": []
          },
          "execution_count": 71
        }
      ]
    },
    {
      "cell_type": "code",
      "metadata": {
        "id": "a6yWP7ie5cK0",
        "colab": {
          "base_uri": "https://localhost:8080/"
        },
        "outputId": "623988bb-3dbb-4905-8b7a-a08fc9e22323"
      },
      "source": [
        "predicted_texts = tokenizer.decode(tokens.tolist())\n",
        "predicted_texts"
      ],
      "execution_count": 72,
      "outputs": [
        {
          "output_type": "execute_result",
          "data": {
            "text/plain": [
              "['а не не не<EOS><EOS><EOS><EOS><EOS><EOS><EOS><EOS><EOS><EOS><EOS><EOS><EOS><EOS><EOS><EOS><EOS><EOS><EOS><EOS><EOS><EOS><EOS><EOS><EOS><EOS><EOS><EOS>',\n",
              " 'я не не не<EOS><EOS><EOS><EOS><EOS><EOS><EOS><EOS><EOS><EOS><EOS><EOS><EOS><EOS><EOS><EOS><EOS><EOS><EOS><EOS><EOS><EOS><EOS><EOS><EOS><EOS><EOS><EOS>',\n",
              " 'я не не не<EOS><EOS><EOS><EOS><EOS><EOS><EOS><EOS><EOS><EOS><EOS><EOS><EOS><EOS><EOS><EOS><EOS><EOS><EOS><EOS><EOS><EOS><EOS><EOS><EOS><EOS><EOS><EOS>',\n",
              " 'я не не не<EOS><EOS><EOS><EOS><EOS><EOS><EOS><EOS><EOS><EOS><EOS><EOS><EOS><EOS><EOS><EOS><EOS><EOS><EOS><EOS><EOS><EOS><EOS><EOS><EOS><EOS><EOS><EOS>',\n",
              " 'я не не не<EOS><EOS><EOS><EOS><EOS><EOS><EOS><EOS><EOS><EOS><EOS><EOS><EOS><EOS><EOS><EOS><EOS><EOS><EOS><EOS><EOS><EOS><EOS><EOS><EOS><EOS><EOS><EOS>',\n",
              " 'а не не не<EOS><EOS><EOS><EOS><EOS><EOS><EOS><EOS><EOS><EOS><EOS><EOS><EOS><EOS><EOS><EOS><EOS><EOS><EOS><EOS><EOS><EOS><EOS><EOS><EOS><EOS><EOS><EOS>',\n",
              " 'а не не не<EOS><EOS><EOS><EOS><EOS><EOS><EOS><EOS><EOS><EOS><EOS><EOS><EOS><EOS><EOS><EOS><EOS><EOS><EOS><EOS><EOS><EOS><EOS><EOS><EOS><EOS><EOS><EOS>',\n",
              " 'а не не не<EOS><EOS><EOS><EOS><EOS><EOS><EOS><EOS><EOS><EOS><EOS><EOS><EOS><EOS><EOS><EOS><EOS><EOS><EOS><EOS><EOS><EOS><EOS><EOS><EOS><EOS><EOS><EOS>',\n",
              " 'а не не не<EOS><EOS><EOS><EOS><EOS><EOS><EOS><EOS><EOS><EOS><EOS><EOS><EOS><EOS><EOS><EOS><EOS><EOS><EOS><EOS><EOS><EOS><EOS><EOS><EOS><EOS><EOS><EOS>',\n",
              " 'а не не не<EOS><EOS><EOS><EOS><EOS><EOS><EOS><EOS><EOS><EOS><EOS><EOS><EOS><EOS><EOS><EOS><EOS><EOS><EOS><EOS><EOS><EOS><EOS><EOS><EOS><EOS><EOS><EOS>',\n",
              " 'а не не не<EOS><EOS><EOS><EOS><EOS><EOS><EOS><EOS><EOS><EOS><EOS><EOS><EOS><EOS><EOS><EOS><EOS><EOS><EOS><EOS><EOS><EOS><EOS><EOS><EOS><EOS><EOS><EOS>',\n",
              " 'а не не не<EOS><EOS><EOS><EOS><EOS><EOS><EOS><EOS><EOS><EOS><EOS><EOS><EOS><EOS><EOS><EOS><EOS><EOS><EOS><EOS><EOS><EOS><EOS><EOS><EOS><EOS><EOS><EOS>',\n",
              " 'а не не не<EOS><EOS><EOS><EOS><EOS><EOS><EOS><EOS><EOS><EOS><EOS><EOS><EOS><EOS><EOS><EOS><EOS><EOS><EOS><EOS><EOS><EOS><EOS><EOS><EOS><EOS><EOS><EOS>',\n",
              " 'а не не не<EOS><EOS><EOS><EOS><EOS><EOS><EOS><EOS><EOS><EOS><EOS><EOS><EOS><EOS><EOS><EOS><EOS><EOS><EOS><EOS><EOS><EOS><EOS><EOS><EOS><EOS><EOS><EOS>',\n",
              " 'а не не не<EOS><EOS><EOS><EOS><EOS><EOS><EOS><EOS><EOS><EOS><EOS><EOS><EOS><EOS><EOS><EOS><EOS><EOS><EOS><EOS><EOS><EOS><EOS><EOS><EOS><EOS><EOS><EOS>',\n",
              " 'а не не не<EOS><EOS><EOS><EOS><EOS><EOS><EOS><EOS><EOS><EOS><EOS><EOS><EOS><EOS><EOS><EOS><EOS><EOS><EOS><EOS><EOS><EOS><EOS><EOS><EOS><EOS><EOS><EOS>',\n",
              " 'а не не не<EOS><EOS><EOS><EOS><EOS><EOS><EOS><EOS><EOS><EOS><EOS><EOS><EOS><EOS><EOS><EOS><EOS><EOS><EOS><EOS><EOS><EOS><EOS><EOS><EOS><EOS><EOS><EOS>',\n",
              " 'с не не<EOS><EOS><EOS><EOS><EOS><EOS><EOS><EOS><EOS><EOS><EOS><EOS><EOS><EOS><EOS><EOS><EOS><EOS><EOS><EOS><EOS><EOS><EOS><EOS><EOS><EOS><EOS><EOS><EOS>',\n",
              " 'с не не<EOS><EOS><EOS><EOS><EOS><EOS><EOS><EOS><EOS><EOS><EOS><EOS><EOS><EOS><EOS><EOS><EOS><EOS><EOS><EOS><EOS><EOS><EOS><EOS><EOS><EOS><EOS><EOS><EOS>',\n",
              " 'с не не<EOS><EOS><EOS><EOS><EOS><EOS><EOS><EOS><EOS><EOS><EOS><EOS><EOS><EOS><EOS><EOS><EOS><EOS><EOS><EOS><EOS><EOS><EOS><EOS><EOS><EOS><EOS><EOS><EOS>',\n",
              " 'с не не<EOS><EOS><EOS><EOS><EOS><EOS><EOS><EOS><EOS><EOS><EOS><EOS><EOS><EOS><EOS><EOS><EOS><EOS><EOS><EOS><EOS><EOS><EOS><EOS><EOS><EOS><EOS><EOS><EOS>',\n",
              " 'потому что не не<EOS><EOS><EOS><EOS><EOS><EOS><EOS><EOS><EOS><EOS><EOS><EOS><EOS><EOS><EOS><EOS><EOS><EOS><EOS><EOS><EOS><EOS><EOS><EOS><EOS><EOS><EOS><EOS>',\n",
              " 'потому что не не<EOS><EOS><EOS><EOS><EOS><EOS><EOS><EOS><EOS><EOS><EOS><EOS><EOS><EOS><EOS><EOS><EOS><EOS><EOS><EOS><EOS><EOS><EOS><EOS><EOS><EOS><EOS><EOS>',\n",
              " 'потому что не не<EOS><EOS><EOS><EOS><EOS><EOS><EOS><EOS><EOS><EOS><EOS><EOS><EOS><EOS><EOS><EOS><EOS><EOS><EOS><EOS><EOS><EOS><EOS><EOS><EOS><EOS><EOS><EOS>',\n",
              " 'а не не не<EOS><EOS><EOS><EOS><EOS><EOS><EOS><EOS><EOS><EOS><EOS><EOS><EOS><EOS><EOS><EOS><EOS><EOS><EOS><EOS><EOS><EOS><EOS><EOS><EOS><EOS><EOS><EOS>',\n",
              " 'а не не не<EOS><EOS><EOS><EOS><EOS><EOS><EOS><EOS><EOS><EOS><EOS><EOS><EOS><EOS><EOS><EOS><EOS><EOS><EOS><EOS><EOS><EOS><EOS><EOS><EOS><EOS><EOS><EOS>',\n",
              " 'можно в в в<EOS><EOS><EOS><EOS><EOS><EOS><EOS><EOS><EOS><EOS><EOS><EOS><EOS><EOS><EOS><EOS><EOS><EOS><EOS><EOS><EOS><EOS><EOS><EOS><EOS><EOS><EOS><EOS>',\n",
              " 'можно в в в<EOS><EOS><EOS><EOS><EOS><EOS><EOS><EOS><EOS><EOS><EOS><EOS><EOS><EOS><EOS><EOS><EOS><EOS><EOS><EOS><EOS><EOS><EOS><EOS><EOS><EOS><EOS><EOS>',\n",
              " 'в в в в<EOS><EOS><EOS><EOS><EOS><EOS><EOS><EOS><EOS><EOS><EOS><EOS><EOS><EOS><EOS><EOS><EOS><EOS><EOS><EOS><EOS><EOS><EOS><EOS><EOS><EOS><EOS><EOS>',\n",
              " 'в в в в<EOS><EOS><EOS><EOS><EOS><EOS><EOS><EOS><EOS><EOS><EOS><EOS><EOS><EOS><EOS><EOS><EOS><EOS><EOS><EOS><EOS><EOS><EOS><EOS><EOS><EOS><EOS><EOS>',\n",
              " 'в в в в<EOS><EOS><EOS><EOS><EOS><EOS><EOS><EOS><EOS><EOS><EOS><EOS><EOS><EOS><EOS><EOS><EOS><EOS><EOS><EOS><EOS><EOS><EOS><EOS><EOS><EOS><EOS><EOS>',\n",
              " 'в в в в<EOS><EOS><EOS><EOS><EOS><EOS><EOS><EOS><EOS><EOS><EOS><EOS><EOS><EOS><EOS><EOS><EOS><EOS><EOS><EOS><EOS><EOS><EOS><EOS><EOS><EOS><EOS><EOS>',\n",
              " 'в в в в<EOS><EOS><EOS><EOS><EOS><EOS><EOS><EOS><EOS><EOS><EOS><EOS><EOS><EOS><EOS><EOS><EOS><EOS><EOS><EOS><EOS><EOS><EOS><EOS><EOS><EOS><EOS><EOS>',\n",
              " 'я не не не<EOS><EOS><EOS><EOS><EOS><EOS><EOS><EOS><EOS><EOS><EOS><EOS><EOS><EOS><EOS><EOS><EOS><EOS><EOS><EOS><EOS><EOS><EOS><EOS><EOS><EOS><EOS><EOS>',\n",
              " 'а не не<EOS><EOS><EOS><EOS><EOS><EOS><EOS><EOS><EOS><EOS><EOS><EOS><EOS><EOS><EOS><EOS><EOS><EOS><EOS><EOS><EOS><EOS><EOS><EOS><EOS><EOS><EOS><EOS><EOS>',\n",
              " 'а не не<EOS><EOS><EOS><EOS><EOS><EOS><EOS><EOS><EOS><EOS><EOS><EOS><EOS><EOS><EOS><EOS><EOS><EOS><EOS><EOS><EOS><EOS><EOS><EOS><EOS><EOS><EOS><EOS><EOS>',\n",
              " 'а не не<EOS><EOS><EOS><EOS><EOS><EOS><EOS><EOS><EOS><EOS><EOS><EOS><EOS><EOS><EOS><EOS><EOS><EOS><EOS><EOS><EOS><EOS><EOS><EOS><EOS><EOS><EOS><EOS><EOS>',\n",
              " 'а не не<EOS><EOS><EOS><EOS><EOS><EOS><EOS><EOS><EOS><EOS><EOS><EOS><EOS><EOS><EOS><EOS><EOS><EOS><EOS><EOS><EOS><EOS><EOS><EOS><EOS><EOS><EOS><EOS><EOS>']"
            ]
          },
          "metadata": {
            "tags": []
          },
          "execution_count": 72
        }
      ]
    },
    {
      "cell_type": "code",
      "metadata": {
        "id": "yDvguo_y5cBB",
        "colab": {
          "base_uri": "https://localhost:8080/",
          "height": 35
        },
        "outputId": "8374193c-818b-4d9c-a6dc-1e69cfb092d1"
      },
      "source": [
        "'SequenceBucketingData'"
      ],
      "execution_count": 73,
      "outputs": [
        {
          "output_type": "execute_result",
          "data": {
            "application/vnd.google.colaboratory.intrinsic+json": {
              "type": "string"
            },
            "text/plain": [
              "'SequenceBucketingData'"
            ]
          },
          "metadata": {
            "tags": []
          },
          "execution_count": 73
        }
      ]
    },
    {
      "cell_type": "code",
      "metadata": {
        "id": "VLvmiKRbAFd-"
      },
      "source": [
        "# сделаем батч побольше\n",
        "batch_size = 256\n",
        "\n",
        "batches = []\n",
        "\n",
        "for i_batch in range(math.ceil(len(tok_pairs) / batch_size)):\n",
        "    \n",
        "    batches.append(tok_pairs[i_batch*batch_size:(i_batch+1)*batch_size])"
      ],
      "execution_count": 155,
      "outputs": []
    },
    {
      "cell_type": "code",
      "metadata": {
        "id": "Rse1RLtBU8zB"
      },
      "source": [
        "class SequenceBucketingData(torch.utils.data.Dataset):\n",
        "    \n",
        "    def __init__(self,  data, max_len, pad_index, eos_index):\n",
        "        \n",
        "        self.data = data\n",
        "        self.max_len = max_len\n",
        "        \n",
        "        self.pad_index = pad_index\n",
        "        self.eos_index = eos_index\n",
        "        \n",
        "    def __len__(self):\n",
        "        return len(self.data)\n",
        "    \n",
        "    def prepare_sample(self, sequence, max_len):\n",
        "           \n",
        "      x = sequence[:max_len]\n",
        "      pads = [self.pad_index] * (self.max_len - len(x))\n",
        "      # x = torch.tensor(x + pads_x).long()  \n",
        "      # pads = [self.pad_index] * (max_len - len(x))      \n",
        "      x += pads        \n",
        "      return x\n",
        "\n",
        "    def prepare_target(self, sequence, max_len):\n",
        "      \n",
        "      y = sequence[:max_len]        \n",
        "      pads  = [self.pad_index] * (self.max_len - len(y))\n",
        "      # y = torch.tensor(y + pads_y).long()  \n",
        "      # pads = [self.pad_index] * (max_len - len(y))      \n",
        "      y += pads        \n",
        "      return y\n",
        "    \n",
        "    def __getitem__(self, index):\n",
        "\n",
        "      batch = self.data[index]\n",
        "      \n",
        "      max_len = min([self.max_len, max([len(sample[0]) for sample in batch])])\n",
        "      max_len2 = min([self.max_len, max([len(sample[1]) for sample in batch])])\n",
        "      max_len = max_len2 if max_len2 > max_len else max_len\n",
        "      \n",
        "      batch_x = []\n",
        "      batch_y = []\n",
        "      \n",
        "      for sample in batch:\n",
        "\n",
        "          x = self.prepare_sample(sample[0], max_len)\n",
        "          batch_x.append(x)\n",
        "\n",
        "          y = self.prepare_target(sample[1], max_len)\n",
        "          batch_y.append(y)\n",
        "          \n",
        "      \n",
        "      batch_x = torch.tensor(batch_x).long()\n",
        "      batch_y = torch.tensor(batch_y).long()\n",
        "      \n",
        "      return batch_x, batch_y"
      ],
      "execution_count": 156,
      "outputs": []
    },
    {
      "cell_type": "code",
      "metadata": {
        "id": "5MHXV2wVU8wp"
      },
      "source": [
        "validation_start_index = int(len(batches) * 0.05)"
      ],
      "execution_count": 157,
      "outputs": []
    },
    {
      "cell_type": "code",
      "metadata": {
        "id": "tw6YZbDOEucl",
        "colab": {
          "base_uri": "https://localhost:8080/"
        },
        "outputId": "88a88f07-7a0f-4115-b690-ffa56e777b7c"
      },
      "source": [
        "print(len(batches))\n",
        "batch_train_border = math.ceil(len(batches)*0.9)\n",
        "batch_valid_border = math.ceil(len(batches)*0.2)\n",
        "print(batch_valid_border)\n",
        "batch_train_border\n",
        "# train_df = pd.DataFrame(qa_data[:train_border])\n",
        "# test_df = pd.DataFrame(qa_data[train_border:test_border])\n",
        "# validation_df = pd.DataFrame(qa_data[test_border: ])"
      ],
      "execution_count": 158,
      "outputs": [
        {
          "output_type": "stream",
          "text": [
            "7290\n",
            "1458\n"
          ],
          "name": "stdout"
        },
        {
          "output_type": "execute_result",
          "data": {
            "text/plain": [
              "6561"
            ]
          },
          "metadata": {
            "tags": []
          },
          "execution_count": 158
        }
      ]
    },
    {
      "cell_type": "code",
      "metadata": {
        "id": "T1IiCd25AH6y"
      },
      "source": [
        "train_dataset = SequenceBucketingData(batches[:batch_train_border], max_len, pad_index, eos_index)\n",
        "validation_dataset = SequenceBucketingData(batches[batch_train_border:], max_len, pad_index, eos_index)"
      ],
      "execution_count": 159,
      "outputs": []
    },
    {
      "cell_type": "code",
      "metadata": {
        "id": "aKxE6-zSugsj"
      },
      "source": [
        "def collate_fn(x):\n",
        "    \n",
        "    x, y = x[0]\n",
        "\n",
        "    return x, y"
      ],
      "execution_count": 160,
      "outputs": []
    },
    {
      "cell_type": "code",
      "metadata": {
        "id": "ACGK5eW1uj_w"
      },
      "source": [
        "# ставим batch_size=1 потому что датасет уже отдает батч\n",
        "# добавим shuffle=True\n",
        "# за счет этого флага каждую эпоху датасет перемешивается\n",
        "\n",
        "# collate_fn это функция, с помощью которой можно задать свою логику сборки батча\n",
        "\n",
        "train_loader = torch.utils.data.DataLoader(train_dataset, \n",
        "                                           batch_size=1,\n",
        "                                           collate_fn=collate_fn,\n",
        "                                           shuffle=True)\n",
        "\n",
        "validation_loader = torch.utils.data.DataLoader(validation_dataset,\n",
        "                                                batch_size=1,\n",
        "                                                collate_fn=collate_fn, \n",
        "                                                shuffle=True)"
      ],
      "execution_count": 161,
      "outputs": []
    },
    {
      "cell_type": "code",
      "metadata": {
        "id": "tauSL9DWuocv"
      },
      "source": [
        "\n",
        "# пробежимся по итератору, чтобы убедиться что ничего не падает и он работает достаточно быстро\n",
        "\n",
        "# progress_bar = tqdm(total=len(validation_loader))\n",
        "\n",
        "# for x, y in validation_loader:\n",
        "#   progress_bar.update()\n",
        "    \n",
        "# progress_bar.close()"
      ],
      "execution_count": 162,
      "outputs": []
    },
    {
      "cell_type": "code",
      "metadata": {
        "id": "zdq3WixrurGI"
      },
      "source": [
        "# n=0\n",
        "# for x, y in validation_loader:\n",
        "\n",
        "#   while n<10:\n",
        "#     print(x)\n",
        "#     n+=1"
      ],
      "execution_count": 163,
      "outputs": []
    },
    {
      "cell_type": "code",
      "metadata": {
        "id": "OwDQn_odIetF"
      },
      "source": [
        "def train(model, loader, criterion, optimizer, clip=3., last_n_losses=500, verbose=True):\n",
        "    \n",
        "    losses = []\n",
        "\n",
        "    # progress_bar = tqdm(total=len(loader.dataset), disable=not verbose, desc='Train')\n",
        "\n",
        "    model.train()\n",
        "\n",
        "    for x, y in loader:\n",
        "        \n",
        "        x = x.to(device)\n",
        "        y = y.to(device)\n",
        "        \n",
        "        pred = model(x)\n",
        "\n",
        "        loss = criterion(pred.view(-1, pred.size(-1)), y.view(-1))\n",
        "\n",
        "        optimizer.zero_grad()\n",
        "        loss.backward()\n",
        "        # рассчитали градиенты и клипаем их\n",
        "        torch.nn.utils.clip_grad_norm_(model.parameters(), clip)\n",
        "        optimizer.step()\n",
        "\n",
        "        losses.append(loss.item())\n",
        "\n",
        "        # progress_bar.set_postfix(loss=np.mean(losses[-last_n_losses:]),\n",
        "                                 # perplexity=np.exp(np.mean(losses[-last_n_losses:])))\n",
        "\n",
        "        # progress_bar.update()\n",
        "\n",
        "    # progress_bar.close()\n",
        "    \n",
        "    return losses"
      ],
      "execution_count": 164,
      "outputs": []
    },
    {
      "cell_type": "code",
      "metadata": {
        "id": "k_xqjSFIIywS"
      },
      "source": [
        "model = LanguageModel(vocab_size=vocab_size, embedding_dim=embedding_dim, model_dim=model_dim, \n",
        "                      num_layers=num_layers, padding_idx=pad_index, weight_tying=True)\n",
        "\n",
        "model.to(device)\n",
        "optimizer = torch.optim.Adam(params=model.parameters())"
      ],
      "execution_count": 165,
      "outputs": []
    },
    {
      "cell_type": "code",
      "metadata": {
        "id": "IZRjLFHjI0rp"
      },
      "source": [
        "epoch_losses = train(model, validation_loader, criterion, optimizer)"
      ],
      "execution_count": null,
      "outputs": []
    },
    {
      "cell_type": "markdown",
      "metadata": {
        "id": "VqQsa2wkJ8K0"
      },
      "source": [
        "## Сильно ускорились\n",
        "**Все готово для того, чтобы начать обучение =)))**\n"
      ]
    },
    {
      "cell_type": "code",
      "metadata": {
        "id": "C8fA5-xvI2j2"
      },
      "source": [
        "embedding_dim = 512\n",
        "model_dim = 512\n",
        "num_layers = 3"
      ],
      "execution_count": null,
      "outputs": []
    },
    {
      "cell_type": "code",
      "metadata": {
        "id": "tNju6jnZTwFS"
      },
      "source": [
        "vocab_size = 30_000\n",
        "pad_index = 0"
      ],
      "execution_count": null,
      "outputs": []
    },
    {
      "cell_type": "code",
      "metadata": {
        "id": "5pJMfKH_UBST"
      },
      "source": [
        "model = LanguageModel(vocab_size=vocab_size, embedding_dim=embedding_dim, model_dim=model_dim, \n",
        "                      num_layers=num_layers, padding_idx=pad_index, weight_tying=True)\n",
        "\n",
        "model.to(device)\n",
        "optimizer = torch.optim.Adam(params=model.parameters())"
      ],
      "execution_count": null,
      "outputs": []
    },
    {
      "cell_type": "code",
      "metadata": {
        "id": "4v3RddzOUP11"
      },
      "source": [
        "print(f'Количество обучаемых параметров в сети: {count_parameters(model):,}')"
      ],
      "execution_count": null,
      "outputs": []
    },
    {
      "cell_type": "code",
      "metadata": {
        "id": "jw3Bp3GeUTWX"
      },
      "source": [
        "\n",
        "# задайте сколько вам комфортно обучать модель по времени\n",
        "# в идеале пару часов\n",
        "epochs = 1\n",
        "\n",
        "train_losses = []\n",
        "validation_losses = []\n",
        "\n",
        "train_perplexities = []\n",
        "validation_perplexities = []\n",
        "\n",
        "best_validation_loss = 1e+6\n",
        "\n",
        "for n_epoch in range(1, epochs + 1):\n",
        "    \n",
        "    epoch_train_losses = train(model, train_loader, criterion, optimizer)\n",
        "    epoch_validation_losses = evaluate(model, validation_loader, criterion)\n",
        "    \n",
        "    mean_train_loss = np.mean(epoch_train_losses)\n",
        "    mean_validation_loss = np.mean(epoch_validation_losses)\n",
        "    \n",
        "    train_losses.append(epoch_train_losses)\n",
        "    train_perplexities.append(np.exp(mean_train_loss))\n",
        "    \n",
        "    validation_losses.append(epoch_validation_losses)\n",
        "    validation_perplexities.append(np.exp(mean_validation_loss))\n",
        "    \n",
        "    message = f'Epoch: {n_epoch}\\n'\n",
        "    message += f'Train: loss - {mean_train_loss:.4f} | perplexity - {train_perplexities[-1]:.3f}\\n'\n",
        "    message += f'Validation: loss - {mean_validation_loss:.4f} | perplexity - {validation_perplexities[-1]:.3f}'\n",
        "    \n",
        "    print(message)\n",
        "    \n",
        "    if mean_validation_loss < best_validation_loss:\n",
        "        \n",
        "        best_validation_loss = mean_validation_loss\n",
        "        \n",
        "        torch.save(model.state_dict(), f'best_language_model_state_dict.pth')\n",
        "        torch.save(optimizer.state_dict(), 'best_optimizer_state_dict.pth')\n",
        "        \n",
        "    else:\n",
        "        break\n",
        "        \n",
        "    torch.save(model.state_dict(), f'last_language_model_state_dict.pth')\n",
        "    torch.save(optimizer.state_dict(), 'last_optimizer_state_dict.pth')\n",
        "\n",
        "    with open(f'info_{n_epoch}.json', 'w') as file_object:\n",
        "\n",
        "        info = {\n",
        "            'message': message,\n",
        "            'train_losses': train_losses,\n",
        "            'validation_losses': validation_losses,\n",
        "            'train_perplexities': train_perplexities,\n",
        "            'validation_perplexities': validation_perplexities\n",
        "        }\n",
        "\n",
        "        file_object.write(json.dumps(info, indent=2))"
      ],
      "execution_count": null,
      "outputs": []
    },
    {
      "cell_type": "code",
      "metadata": {
        "id": "zVB5rJ0sUYLm"
      },
      "source": [
        "# подгружаем свою лучшую обученную модель\n",
        "model.load_state_dict(torch.load('best_language_model_state_dict.pth'))"
      ],
      "execution_count": null,
      "outputs": []
    },
    {
      "cell_type": "code",
      "metadata": {
        "id": "J5GUeQ9RUacI"
      },
      "source": [
        "\n",
        "def generate(seed_text, bos_index=2, eos_index=3, max_sequence=512):\n",
        "    \n",
        "    # мы используем какой-нибудь seed text для того, по нему предсказать продолжение\n",
        "    tokenized = tokenizer.encode([seed_text])\n",
        "    \n",
        "    # добавляем тег начала предложения\n",
        "    tokenized[0].insert(0, bos_index)\n",
        "    x = torch.tensor(tokenized).long().to(device)\n",
        "    \n",
        "    model.eval()\n",
        "\n",
        "    with torch.no_grad():\n",
        "\n",
        "        # получим представления модели от нашего сид текста\n",
        "        emb = model.embedding_layer(x)\n",
        "\n",
        "        emb = model.embedding_dropout(emb)\n",
        "\n",
        "        lstm_out, mem = model.lstm(emb)\n",
        "\n",
        "        token_pred = model.language_model_head(lstm_out)\n",
        "\n",
        "        # семлируем последнее слово, что подать его на вход генератору\n",
        "        current_token = x[:, -1].unsqueeze(0)\n",
        "        \n",
        "        pred = []\n",
        "\n",
        "        # начинаем генерацию\n",
        "        # у нас есть текущий токен и mem от того, что мы уже предсказали\n",
        "        for timestamp in range(max_sequence):\n",
        "\n",
        "            emb = model.embedding_layer(current_token)\n",
        "\n",
        "            lstm_out, mem = model.lstm(emb, mem)\n",
        "\n",
        "            next_token_prediction = model.language_model_head(lstm_out)\n",
        "\n",
        "            pred.append(next_token_prediction)\n",
        "\n",
        "            current_token = next_token_prediction.argmax(dim=2)\n",
        "\n",
        "            # останавливаем генерировать текст, когда встретили токен конца предложения\n",
        "            if current_token == eos_index:\n",
        "                break\n",
        "\n",
        "        pred = torch.cat(pred, dim=1)\n",
        "\n",
        "    tokens = pred.argmax(dim=-1).detach().cpu().numpy()\n",
        "    predicted_text = tokenizer.decode(tokens.tolist())[0]\n",
        "    \n",
        "    return seed_text + ' ' + predicted_text[:predicted_text.index('<EOS>')]"
      ],
      "execution_count": null,
      "outputs": []
    },
    {
      "cell_type": "code",
      "metadata": {
        "id": "7FtVqbrQUdTN"
      },
      "source": [
        "# здесь мы задаем для нашей модели некоторое состояние, то есть некоторые первые слова\n",
        "# и модель должна продолжить сказанное\n",
        "\n",
        "# изначально здесь продолжения текстов, нагенерированные моделью, которая училась несколько часов\n",
        "# лосс в районе 4, перплексия примерно 55 и на чуть других данных\n",
        "# вы можете учить меньше\n",
        "seed_texts = [\n",
        "    'привет!',\n",
        "    'как дела?',\n",
        "    'твоя мать шлюха',\n",
        "    'у меня болит ебало',\n",
        "    'у меня деменция',\n",
        "    'откуда',\n",
        "    'я понимаю что вопрос странный но',\n",
        "    'какие бывают',\n",
        "    'стоит ли',\n",
        "    'нормально ли',\n",
        "    'что это',\n",
        "    'почему меня',\n",
        "    'кто',\n",
        "    'кто такой',\n",
        "    'что лучше',\n",
        "    'что могут сделать за',\n",
        "    'перечислите чем лучше',\n",
        "    'кто автор',\n",
        "    'как сделать',\n",
        "    'кто убил',\n",
        "    'накидайте',\n",
        "    'порекомендуйте',\n",
        "    'как правильно',\n",
        "    'что вы',\n",
        "    'что ты',\n",
        "    'зачем ты',\n",
        "    'почему ты',\n",
        "    'за что',\n",
        "    'с чем',\n",
        "    'с кем',\n",
        "    'почему она',\n",
        "    'почему он',\n",
        "    'я хочу',\n",
        "    'я хочу чтобы девушка',\n",
        "    'я хочу чтобы моя',\n",
        "    'я хочу чтобы моя девушка',\n",
        "    'мне нравится',\n",
        "    'почему она',\n",
        "]\n",
        "\n",
        "for text in seed_texts:\n",
        "    print(f'Оригинальный текст: {text}')\n",
        "    print(f'Сгенерированное продолжение: {generate(text)}')\n",
        "    print()"
      ],
      "execution_count": null,
      "outputs": []
    },
    {
      "cell_type": "code",
      "metadata": {
        "id": "lMTfH-ngUySa"
      },
      "source": [
        ""
      ],
      "execution_count": null,
      "outputs": []
    }
  ]
}