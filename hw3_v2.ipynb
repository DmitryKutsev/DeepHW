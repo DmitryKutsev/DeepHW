{
  "nbformat": 4,
  "nbformat_minor": 0,
  "metadata": {
    "colab": {
      "name": "Untitled44.ipynb",
      "provenance": [],
      "authorship_tag": "ABX9TyOc2Yn91nZprJQi5l6XqO8Z",
      "include_colab_link": true
    },
    "kernelspec": {
      "name": "python3",
      "display_name": "Python 3"
    },
    "accelerator": "GPU"
  },
  "cells": [
    {
      "cell_type": "markdown",
      "metadata": {
        "id": "view-in-github",
        "colab_type": "text"
      },
      "source": [
        "<a href=\"https://colab.research.google.com/github/DmitryKutsev/DeepHW/blob/master/hw3_v2.ipynb\" target=\"_parent\"><img src=\"https://colab.research.google.com/assets/colab-badge.svg\" alt=\"Open In Colab\"/></a>"
      ]
    },
    {
      "cell_type": "code",
      "metadata": {
        "id": "V2CFSkzkOu4D",
        "colab": {
          "base_uri": "https://localhost:8080/"
        },
        "outputId": "37aa02f1-9b25-400c-b0d0-53dbc235f6e5"
      },
      "source": [
        "!pip install youtokentome"
      ],
      "execution_count": 2,
      "outputs": [
        {
          "output_type": "stream",
          "text": [
            "Requirement already satisfied: youtokentome in /usr/local/lib/python3.6/dist-packages (1.0.6)\n",
            "Requirement already satisfied: Click>=7.0 in /usr/local/lib/python3.6/dist-packages (from youtokentome) (7.1.2)\n"
          ],
          "name": "stdout"
        }
      ]
    },
    {
      "cell_type": "code",
      "metadata": {
        "id": "gwqHJV1-Epko",
        "outputId": "3b247d33-1226-4f74-f7c0-9cd928f5b134",
        "colab": {
          "base_uri": "https://localhost:8080/"
        }
      },
      "source": [
        "!pip install alive-progress"
      ],
      "execution_count": 3,
      "outputs": [
        {
          "output_type": "stream",
          "text": [
            "Requirement already satisfied: alive-progress in /usr/local/lib/python3.6/dist-packages (1.6.1)\n"
          ],
          "name": "stdout"
        }
      ]
    },
    {
      "cell_type": "code",
      "metadata": {
        "id": "5rg43AAFBh7e"
      },
      "source": [
        "# !wget https://developer.nvidia.com/compute/cuda/9.2/Prod/local_installers/cuda-repo-ubuntu1604-9-2-local_9.2.88-1_amd64 -O cuda-repo-ubuntu1604-9-2-local_9.2.88-1_amd64.deb\n",
        "# !dpkg -i cuda-repo-ubuntu1604-9-2-local_9.2.88-1_amd64.deb\n",
        "# !apt-key add /var/cuda-repo-9-2-local/7fa2af80.pub\n",
        "# !apt-get update\n",
        "# !apt-get install cuda"
      ],
      "execution_count": 2,
      "outputs": []
    },
    {
      "cell_type": "code",
      "metadata": {
        "id": "QIA1x7RzBq9D"
      },
      "source": [
        "# !pip install mxnet-cu92"
      ],
      "execution_count": 3,
      "outputs": []
    },
    {
      "cell_type": "code",
      "metadata": {
        "id": "FmrVqnzMMxMr"
      },
      "source": [
        "import math\n",
        "import numpy as np\n",
        "import pandas as pd\n",
        "\n",
        "import random\n",
        "import json\n",
        "import torch\n",
        "from torch.utils.data import Dataset, DataLoader\n",
        "\n",
        "from tqdm import tqdm\n",
        "\n",
        "from matplotlib import pyplot as plt\n",
        "\n",
        "import youtokentome as yttm"
      ],
      "execution_count": 4,
      "outputs": []
    },
    {
      "cell_type": "code",
      "metadata": {
        "id": "9WsCrjTDDG0-",
        "colab": {
          "base_uri": "https://localhost:8080/"
        },
        "outputId": "39b380af-2d75-45ac-d89e-dee0dfea666b"
      },
      "source": [
        "print(torch.cuda.device_count())"
      ],
      "execution_count": 5,
      "outputs": [
        {
          "output_type": "stream",
          "text": [
            "1\n"
          ],
          "name": "stdout"
        }
      ]
    },
    {
      "cell_type": "code",
      "metadata": {
        "id": "CQkrv7tBDa1g",
        "colab": {
          "base_uri": "https://localhost:8080/"
        },
        "outputId": "9471589c-3fc4-452f-be5e-9dc41d6aa3b3"
      },
      "source": [
        "print(torch.cuda.get_device_name(0))"
      ],
      "execution_count": 6,
      "outputs": [
        {
          "output_type": "stream",
          "text": [
            "Tesla T4\n"
          ],
          "name": "stdout"
        }
      ]
    },
    {
      "cell_type": "code",
      "metadata": {
        "id": "xbq8KBUcDsMc"
      },
      "source": [
        "device = torch.device('cuda:0')"
      ],
      "execution_count": 7,
      "outputs": []
    },
    {
      "cell_type": "code",
      "metadata": {
        "id": "AB1OFN7RB-8w"
      },
      "source": [
        "# !pip install --upgrade --force-reinstall -q http://download.pytorch.org/whl/{accelerator}/torch-0.4.0-{platform}-linux_x86_64.whl torchvision"
      ],
      "execution_count": 8,
      "outputs": []
    },
    {
      "cell_type": "code",
      "metadata": {
        "id": "kQsaa759SujQ",
        "colab": {
          "base_uri": "https://localhost:8080/"
        },
        "outputId": "4170dbfe-c5e4-46d8-90b1-51a63ea04cc6"
      },
      "source": [
        "from google.colab import drive\n",
        "drive.mount('/content/drive')"
      ],
      "execution_count": 9,
      "outputs": [
        {
          "output_type": "stream",
          "text": [
            "Mounted at /content/drive\n"
          ],
          "name": "stdout"
        }
      ]
    },
    {
      "cell_type": "code",
      "metadata": {
        "id": "fsUhzBGgT8R-"
      },
      "source": [
        "# !unzip '/content/drive/My Drive/unsupervised.csv.zip'"
      ],
      "execution_count": null,
      "outputs": []
    },
    {
      "cell_type": "code",
      "metadata": {
        "id": "Xqzqdz21Vh39",
        "colab": {
          "base_uri": "https://localhost:8080/"
        },
        "outputId": "a814767a-0784-4861-a4c8-7d01a268a809"
      },
      "source": [
        "!unzip '/content/drive/My Drive/qa_data.jsonl.zip'"
      ],
      "execution_count": 8,
      "outputs": [
        {
          "output_type": "stream",
          "text": [
            "Archive:  /content/drive/My Drive/qa_data.jsonl.zip\n",
            "replace qa_data.jsonl? [y]es, [n]o, [A]ll, [N]one, [r]ename: N\n"
          ],
          "name": "stdout"
        }
      ]
    },
    {
      "cell_type": "code",
      "metadata": {
        "id": "hpw5KDsGOrTT"
      },
      "source": [
        "# questions = pd.read_csv('unsupervised.csv')\n",
        "# questions.question = questions.question.map(lambda x: x.lower())\n",
        "\n",
        "qa_data = list()\n",
        "\n",
        "with open('qa_data.jsonl') as file_object:\n",
        "    for line in file_object:\n",
        "        qa_data.append(json.loads(line.strip()))\n",
        "file_object.close()\n",
        "qa_data = qa_data[:math.ceil(len(qa_data)*0.4)]#!!!!"
      ],
      "execution_count": 9,
      "outputs": []
    },
    {
      "cell_type": "code",
      "metadata": {
        "id": "ns8YADUtVxQT"
      },
      "source": [
        "with open('for_bpe.txt', 'w', encoding='utf-8') as f:\n",
        "    for que in qa_data:\n",
        "        f.write(que['question'] + '\\n')\n",
        "f.close()\n",
        "\n",
        "vocab_size = 30_000\n",
        "model_path = 'pretrained_bpe_lm.model'"
      ],
      "execution_count": 10,
      "outputs": []
    },
    {
      "cell_type": "code",
      "metadata": {
        "id": "Fy6lmKpjW8ed",
        "colab": {
          "base_uri": "https://localhost:8080/"
        },
        "outputId": "4c46693a-add7-46fb-971a-c9e17d8caffe"
      },
      "source": [
        "%%time\n",
        "# обучаем\n",
        "# раскомментируйте этот код, чтобы обучить bpe\n",
        "yttm.BPE.train(data='for_bpe.txt', vocab_size=vocab_size, model=model_path)"
      ],
      "execution_count": 11,
      "outputs": [
        {
          "output_type": "stream",
          "text": [
            "CPU times: user 10.2 s, sys: 1.08 s, total: 11.2 s\n",
            "Wall time: 6.88 s\n"
          ],
          "name": "stdout"
        },
        {
          "output_type": "execute_result",
          "data": {
            "text/plain": [
              "<youtokentome.youtokentome.BPE at 0x7f4df038b3c8>"
            ]
          },
          "metadata": {
            "tags": []
          },
          "execution_count": 11
        }
      ]
    },
    {
      "cell_type": "code",
      "metadata": {
        "id": "I6Pyz-GbXmEQ"
      },
      "source": [
        "# загружаем токенизатор\n",
        "tokenizer = yttm.BPE(model=model_path)"
      ],
      "execution_count": 12,
      "outputs": []
    },
    {
      "cell_type": "code",
      "metadata": {
        "id": "TQPHpsjkSXEW"
      },
      "source": [
        "qa_data = qa_data[:math.ceil(len(qa_data)*0.6)]"
      ],
      "execution_count": 13,
      "outputs": []
    },
    {
      "cell_type": "code",
      "metadata": {
        "id": "HBIho8jAixIJ"
      },
      "source": [
        "tok_pairs = []\n",
        "max_length = 32\n",
        "for i in qa_data:\n",
        "  \n",
        "  tok_quest = tokenizer.encode(i['question'], bos=True, eos=True)\n",
        "  for resp in i['responses']:\n",
        "    pair = (tok_quest, tokenizer.encode(resp, eos=True))\n",
        "    # pair.append(tok_quest, tokenizer.encode(resp, bos=True, eos=True))\n",
        "    tok_pairs.append(pair)\n"
      ],
      "execution_count": 57,
      "outputs": []
    },
    {
      "cell_type": "code",
      "metadata": {
        "id": "IwfAQQGao5jK",
        "colab": {
          "base_uri": "https://localhost:8080/"
        },
        "outputId": "4f2f7ea1-5c07-406b-92e0-d9a0dc3292ed"
      },
      "source": [
        "tok_pairs[9]"
      ],
      "execution_count": 58,
      "outputs": [
        {
          "output_type": "execute_result",
          "data": {
            "text/plain": [
              "([2, 572, 13653, 14803, 402, 3978, 392, 10868, 13775, 3],\n",
              " [364, 363, 2368, 4915, 434, 364, 438, 425, 15921, 506, 4118, 11565, 3])"
            ]
          },
          "metadata": {
            "tags": []
          },
          "execution_count": 58
        }
      ]
    },
    {
      "cell_type": "code",
      "metadata": {
        "id": "Mfb2Vx3-S1-y",
        "colab": {
          "base_uri": "https://localhost:8080/"
        },
        "outputId": "fc36d391-a8f3-454b-e483-7dc09728c933"
      },
      "source": [
        "qa_data[9]"
      ],
      "execution_count": 59,
      "outputs": [
        {
          "output_type": "execute_result",
          "data": {
            "text/plain": [
              "{'category': 'Стиль, Мода, Звезды',\n",
              " 'question': 'ну что за мода? не успел глотнуть кофе, уже потянулся за сигаретой!',\n",
              " 'responses': ['не знаю милый, что за кайф! я сама мало курю, но когда напиюся тогда держись!;)))',\n",
              "  'переходи на чай.',\n",
              "  'я такой моды не знаю, потому что не курю',\n",
              "  'а я вообще не курю и никогда не курила, но все равно не терплю, когда курят во время еды и в помещениях! фу!!!!',\n",
              "  'скажу одно: курень вред. да и коффе неочень полезно']}"
            ]
          },
          "metadata": {
            "tags": []
          },
          "execution_count": 59
        }
      ]
    },
    {
      "cell_type": "code",
      "metadata": {
        "id": "lT2ykmymVttb"
      },
      "source": [
        "train_border = math.ceil(len(tok_pairs)*0.6)\n",
        "test_border = math.ceil(len(qa_data)*0.8)"
      ],
      "execution_count": 60,
      "outputs": []
    },
    {
      "cell_type": "code",
      "metadata": {
        "id": "cSwG260UB8Rl"
      },
      "source": [
        "my_train = tok_pairs[:train_border]\n",
        "my_test = tok_pairs[train_border:]"
      ],
      "execution_count": 120,
      "outputs": []
    },
    {
      "cell_type": "code",
      "metadata": {
        "id": "LaB8jxb-VtwO"
      },
      "source": [
        "# train_df = pd.DataFrame(qa_data[:train_border])\n",
        "# test_df = pd.DataFrame(qa_data[train_border:test_border])\n",
        "# validation_df = pd.DataFrame(qa_data[test_border: ])"
      ],
      "execution_count": 121,
      "outputs": []
    },
    {
      "cell_type": "code",
      "metadata": {
        "id": "HcHhlLMVVxVv"
      },
      "source": [
        ""
      ],
      "execution_count": 121,
      "outputs": []
    },
    {
      "cell_type": "code",
      "metadata": {
        "id": "ki2PI2AhV-qF",
        "colab": {
          "base_uri": "https://localhost:8080/"
        },
        "outputId": "1264d9a3-cd19-4cb6-84b9-e2b3e1e4b093"
      },
      "source": [
        "tokenizer.encode('аа памагити пожалст', bos=True, eos=True, output_type=yttm.OutputType.SUBWORD)"
      ],
      "execution_count": 122,
      "outputs": [
        {
          "output_type": "execute_result",
          "data": {
            "text/plain": [
              "['<BOS>', '▁аа', '▁па', 'ма', 'ги', 'ти', '▁пожал', 'ст', '<EOS>']"
            ]
          },
          "metadata": {
            "tags": []
          },
          "execution_count": 122
        }
      ]
    },
    {
      "cell_type": "code",
      "metadata": {
        "id": "9xX_P_oKV-3r"
      },
      "source": [
        "\n",
        "batch_size = 64\n",
        "\n",
        "max_len = 32 # это типа с запасом?\n",
        "\n",
        "pad_index = 0\n",
        "eos_index = 3"
      ],
      "execution_count": 123,
      "outputs": []
    },
    {
      "cell_type": "code",
      "metadata": {
        "id": "15UJnunpV-tE"
      },
      "source": [
        "class LanguageModelData(torch.utils.data.Dataset):\n",
        "    \n",
        "    def __init__(self, data, max_len, pad_index, eos_index):\n",
        "        \n",
        "        self.data = data\n",
        "        \n",
        "        self.max_len = max_len\n",
        "        \n",
        "        self.pad_index = pad_index\n",
        "        self.eos_index = eos_index\n",
        "        \n",
        "    def __len__(self):\n",
        "        return len(self.data)\n",
        "    \n",
        "    def __getitem__(self, index):\n",
        "        \n",
        "        x = self.data[index][0][:self.max_len]\n",
        "        y = self.data[index][1][:self.max_len]\n",
        "        \n",
        "        pads_x = [self.pad_index] * (self.max_len - len(x))\n",
        "        pads_y = [self.pad_index] * (self.max_len - len(y))\n",
        "\n",
        "        x = torch.tensor(x + pads_x).long()\n",
        "        y = torch.tensor(y + pads_y).long()\n",
        "        \n",
        "        return x, y"
      ],
      "execution_count": 124,
      "outputs": []
    },
    {
      "cell_type": "code",
      "metadata": {
        "id": "0Xt1uMx2rCN6",
        "colab": {
          "base_uri": "https://localhost:8080/"
        },
        "outputId": "2d7d2487-0892-4a3c-f9f6-1b91df2d0802"
      },
      "source": [
        "\n",
        "torch.tensor([2] + [2, 3499, 392, 441, 14, 5232, 7788, 3]).long()"
      ],
      "execution_count": 125,
      "outputs": [
        {
          "output_type": "execute_result",
          "data": {
            "text/plain": [
              "tensor([   2,    2, 3499,  392,  441,   14, 5232, 7788,    3])"
            ]
          },
          "metadata": {
            "tags": []
          },
          "execution_count": 125
        }
      ]
    },
    {
      "cell_type": "code",
      "metadata": {
        "id": "rBdxi6f-wsGT"
      },
      "source": [
        "# sent = tokenizer.encode('аа памагити пожалст', bos=True, eos=True)\n",
        "# x = sent[:max_len]\n",
        "\n",
        "# pads_x = [pad_index] * (max_len - len(x))\n",
        "# x = torch.tensor([x + pads_x]).long()\n",
        "# x = x.to(device)\n",
        "# x\n",
        "# with torch.no_grad():\n",
        "#   pred = model(x)\n",
        "# pred"
      ],
      "execution_count": 126,
      "outputs": []
    },
    {
      "cell_type": "code",
      "metadata": {
        "id": "YjOOOtBAV-9b",
        "colab": {
          "base_uri": "https://localhost:8080/"
        },
        "outputId": "60a02f96-ecb2-4dd5-ef80-79d6e8230531"
      },
      "source": [
        "train_dataset = LanguageModelData(data=train, max_len=max_len, \n",
        "                                  pad_index=pad_index, eos_index=eos_index)\n",
        "validation_dataset = LanguageModelData(data=test, max_len=max_len,\n",
        "                                       pad_index=pad_index, eos_index=eos_index)\n",
        "\n",
        "len(train_dataset), len(validation_dataset)"
      ],
      "execution_count": 127,
      "outputs": [
        {
          "output_type": "execute_result",
          "data": {
            "text/plain": [
              "(1119610, 746406)"
            ]
          },
          "metadata": {
            "tags": []
          },
          "execution_count": 127
        }
      ]
    },
    {
      "cell_type": "code",
      "metadata": {
        "id": "zswVvXWZV_Fq"
      },
      "source": [
        "train_loader = torch.utils.data.DataLoader(train_dataset, batch_size=batch_size)\n",
        "validation_loader = torch.utils.data.DataLoader(validation_dataset, batch_size=batch_size)"
      ],
      "execution_count": 128,
      "outputs": []
    },
    {
      "cell_type": "code",
      "metadata": {
        "id": "JgM0ck_nV_DU"
      },
      "source": [
        "for x, y in train_loader:\n",
        "    break"
      ],
      "execution_count": 129,
      "outputs": []
    },
    {
      "cell_type": "code",
      "metadata": {
        "id": "jVxdgj1-DJho",
        "outputId": "c65818a6-a2fb-4e1d-8c94-26505651a844",
        "colab": {
          "base_uri": "https://localhost:8080/"
        }
      },
      "source": [
        "len(validation_loader.dataset)"
      ],
      "execution_count": 130,
      "outputs": [
        {
          "output_type": "execute_result",
          "data": {
            "text/plain": [
              "746406"
            ]
          },
          "metadata": {
            "tags": []
          },
          "execution_count": 130
        }
      ]
    },
    {
      "cell_type": "code",
      "metadata": {
        "id": "E6H_c1AXEBTQ",
        "outputId": "c9ec8f82-3b6c-4f64-c6a0-8f2381d93754",
        "colab": {
          "base_uri": "https://localhost:8080/"
        }
      },
      "source": [
        "x"
      ],
      "execution_count": 131,
      "outputs": [
        {
          "output_type": "execute_result",
          "data": {
            "text/plain": [
              "tensor([[   2, 1678,  389,  ...,    0,    0,    0],\n",
              "        [   2,  424,  389,  ...,    0,    0,    0],\n",
              "        [   2,  361,  584,  ...,    0,    0,    0],\n",
              "        ...,\n",
              "        [   2,  826, 2191,  ...,    0,    0,    0],\n",
              "        [   2,  826, 2191,  ...,    0,    0,    0],\n",
              "        [   2,  826, 2191,  ...,    0,    0,    0]])"
            ]
          },
          "metadata": {
            "tags": []
          },
          "execution_count": 131
        }
      ]
    },
    {
      "cell_type": "code",
      "metadata": {
        "id": "xzIMZu6JK6OR",
        "outputId": "a83b5a7a-64c7-4a7e-9532-59e77173c70f",
        "colab": {
          "base_uri": "https://localhost:8080/"
        }
      },
      "source": [
        "y"
      ],
      "execution_count": 132,
      "outputs": [
        {
          "output_type": "execute_result",
          "data": {
            "text/plain": [
              "tensor([[ 3499,   392,   441,  ...,     0,     0,     0],\n",
              "        [  424,   342,  4823,  ...,     0,     0,     0],\n",
              "        [ 7534,   336, 19442,  ...,     0,     0,     0],\n",
              "        ...,\n",
              "        [  363,  1853,  3011,  ...,     0,     0,     0],\n",
              "        [24624, 17689,   363,  ...,     0,     0,     0],\n",
              "        [21124,  5742,  3011,  ...,     0,     0,     0]])"
            ]
          },
          "metadata": {
            "tags": []
          },
          "execution_count": 132
        }
      ]
    },
    {
      "cell_type": "code",
      "metadata": {
        "id": "9HOh_8jWOXjH"
      },
      "source": [
        "for instance in list(tqdm._instances):\n",
        "    tqdm._decr_instances(instance)"
      ],
      "execution_count": 134,
      "outputs": []
    },
    {
      "cell_type": "code",
      "metadata": {
        "id": "0T4QP0ucEfvX",
        "outputId": "d6145d4b-17c1-4944-9e16-3ee7c930175e",
        "colab": {
          "base_uri": "https://localhost:8080/"
        }
      },
      "source": [
        "progress_bar = tqdm(total=len(validation_loader.dataset), desc='Testing')\n",
        "\n",
        "for x, y in validation_loader:\n",
        "    progress_bar.update(x.size(0))\n",
        "progress_bar.close()"
      ],
      "execution_count": 135,
      "outputs": [
        {
          "output_type": "stream",
          "text": [
            "Testing: 100%|██████████| 746406/746406 [00:09<00:00, 74771.46it/s]\n"
          ],
          "name": "stderr"
        }
      ]
    },
    {
      "cell_type": "code",
      "metadata": {
        "id": "r4zX-hPQrZGM"
      },
      "source": [
        "class LanguageModel(torch.nn.Module):\n",
        "    \n",
        "    def __init__(self, vocab_size, embedding_dim, model_dim, num_layers,\n",
        "                 padding_idx, dropout=0.35, weight_tying=True):\n",
        "        \n",
        "        super().__init__()\n",
        "        \n",
        "        self.embedding_layer = torch.nn.Embedding(num_embeddings=vocab_size,\n",
        "                                                  embedding_dim=embedding_dim, padding_idx=padding_idx)\n",
        "        \n",
        "        self.embedding_dropout = SpatialDropout(p=dropout)\n",
        "        \n",
        "        self.lstm = torch.nn.LSTM(input_size=embedding_dim, hidden_size=model_dim, \n",
        "                                  num_layers=num_layers, dropout=dropout, batch_first=True)\n",
        "        \n",
        "        self.language_model_head = torch.nn.Linear(in_features=model_dim, out_features=vocab_size, bias=False)\n",
        "        \n",
        "        # как раз здесь задаем, чтобы веса входящего и выходящего слоя эмбеддингов шарились\n",
        "        if weight_tying and embedding_dim == model_dim:\n",
        "            self.language_model_head.weight = self.embedding_layer.weight\n",
        "        \n",
        "    def forward(self, x):\n",
        "        \n",
        "        x = self.embedding_layer(x)\n",
        "        \n",
        "        x = self.embedding_dropout(x)\n",
        "        \n",
        "        x, _ = self.lstm(x)\n",
        "        \n",
        "        x = self.language_model_head(x)\n",
        "        \n",
        "        return x"
      ],
      "execution_count": 136,
      "outputs": []
    },
    {
      "cell_type": "code",
      "metadata": {
        "id": "tLGCx38QrZRz"
      },
      "source": [
        "embedding_dim = 128\n",
        "model_dim = 128\n",
        "num_layers = 2\n",
        "dropout = 0.35"
      ],
      "execution_count": 137,
      "outputs": []
    },
    {
      "cell_type": "code",
      "metadata": {
        "id": "SNOUA4RirZgp",
        "colab": {
          "base_uri": "https://localhost:8080/"
        },
        "outputId": "6298eeed-63fd-44db-cc12-3b2a304eb94b"
      },
      "source": [
        "model = LanguageModel(vocab_size=vocab_size, embedding_dim=embedding_dim,\n",
        "                      model_dim=model_dim, num_layers=num_layers,\n",
        "                      dropout=dropout, padding_idx=pad_index)\n",
        "model.to(device)"
      ],
      "execution_count": 138,
      "outputs": [
        {
          "output_type": "execute_result",
          "data": {
            "text/plain": [
              "LanguageModel(\n",
              "  (embedding_layer): Embedding(30000, 128, padding_idx=0)\n",
              "  (embedding_dropout): SpatialDropout(p=0.35, inplace=False)\n",
              "  (lstm): LSTM(128, 128, num_layers=2, batch_first=True, dropout=0.35)\n",
              "  (language_model_head): Linear(in_features=128, out_features=30000, bias=False)\n",
              ")"
            ]
          },
          "metadata": {
            "tags": []
          },
          "execution_count": 138
        }
      ]
    },
    {
      "cell_type": "code",
      "metadata": {
        "id": "dKlwwNMOrZmQ"
      },
      "source": [
        "\n",
        "# у нас есть тег eos (end of sentence), который есть в каждом тренировочном примере\n",
        "# мы не будем считать лосс для падов\n",
        "# вместо этого будем останавливать генерирование моделью в момент, когда она сгенерирует тег eos\n",
        "# \n",
        "criterion = torch.nn.CrossEntropyLoss(ignore_index=pad_index)\n",
        "optimizer = torch.optim.Adam(params=model.parameters())"
      ],
      "execution_count": 139,
      "outputs": []
    },
    {
      "cell_type": "code",
      "metadata": {
        "id": "0fK2mmj-rZjy"
      },
      "source": [
        "\n",
        "# функция для обучения одной эпохи\n",
        "# почти все как всегда\n",
        "\n",
        "def train(model, loader, criterion, optimizer, last_n_losses=500, verbose=True):\n",
        "    \n",
        "    losses = []\n",
        "\n",
        "    progress_bar = tqdm(total=len(loader), disable=not verbose, desc='Train')\n",
        "\n",
        "    model.train()\n",
        "\n",
        "    for x, y in loader:\n",
        "\n",
        "        x = x.to(device)\n",
        "        y = y.to(device)\n",
        "\n",
        "        pred = model(x)\n",
        "\n",
        "        loss = criterion(pred.view(-1, pred.size(-1)), y.view(-1))\n",
        "\n",
        "        optimizer.zero_grad()\n",
        "        loss.backward()\n",
        "        optimizer.step()\n",
        "\n",
        "        losses.append(loss.item())\n",
        "\n",
        "        progress_bar.set_postfix(loss=np.mean(losses[-last_n_losses:]),\n",
        "                                 perplexity=np.exp(np.mean(losses[-last_n_losses:])))\n",
        "\n",
        "        progress_bar.update()\n",
        "\n",
        "    progress_bar.close()\n",
        "    \n",
        "    return losses"
      ],
      "execution_count": 140,
      "outputs": []
    },
    {
      "cell_type": "code",
      "metadata": {
        "id": "2MciaRQurZPF",
        "colab": {
          "base_uri": "https://localhost:8080/"
        },
        "outputId": "8c5ba330-04ce-4c3f-9e0b-111fb3c5fddc"
      },
      "source": [
        "epoch_losses = train(model, validation_loader, criterion, optimizer)"
      ],
      "execution_count": 141,
      "outputs": [
        {
          "output_type": "stream",
          "text": [
            "Train: 100%|██████████| 11663/11663 [05:39<00:00, 34.33it/s, loss=7.76, perplexity=2.35e+3]\n"
          ],
          "name": "stderr"
        }
      ]
    },
    {
      "cell_type": "code",
      "metadata": {
        "id": "D1VxuH5VrZMc",
        "colab": {
          "base_uri": "https://localhost:8080/",
          "height": 857
        },
        "outputId": "38d03af2-3cec-4413-9339-abab1d5c64ff"
      },
      "source": [
        "\n",
        "plt.figure(figsize=(14, 14))\n",
        "plt.xlabel('Номер батча')\n",
        "plt.ylabel('Значение функции потерь')\n",
        "plt.title('Процесс обучения')\n",
        "plt.plot(epoch_losses)"
      ],
      "execution_count": 142,
      "outputs": [
        {
          "output_type": "execute_result",
          "data": {
            "text/plain": [
              "[<matplotlib.lines.Line2D at 0x7f4dfe21cf98>]"
            ]
          },
          "metadata": {
            "tags": []
          },
          "execution_count": 142
        },
        {
          "output_type": "display_data",
          "data": {
            "image/png": "[encoded data removed]",
            "text/plain": [
              "<Figure size 1008x1008 with 1 Axes>"
            ]
          },
          "metadata": {
            "tags": [],
            "needs_background": "light"
          }
        }
      ]
    },
    {
      "cell_type": "code",
      "metadata": {
        "id": "nti29PFSrZKq"
      },
      "source": [
        "def evaluate(model, loader, criterion, last_n_losses=500, verbose=True):\n",
        "    \n",
        "    losses = []\n",
        "\n",
        "    progress_bar = tqdm(total=len(loader), disable=not verbose, desc='Evaluate')\n",
        "\n",
        "    model.eval()\n",
        "\n",
        "    for x, y in loader:\n",
        "\n",
        "        x = x.to(device)\n",
        "        y = y.to(device)\n",
        "\n",
        "        with torch.no_grad():\n",
        "            pred = model(x)\n",
        "\n",
        "        loss = criterion(pred.view(-1, pred.size(-1)), y.view(-1))\n",
        "\n",
        "        losses.append(loss.item())\n",
        "\n",
        "        progress_bar.set_postfix(loss=np.mean(losses[-last_n_losses:]),\n",
        "                                 perplexity=np.exp(np.mean(losses[-last_n_losses:])))\n",
        "\n",
        "        progress_bar.update()\n",
        "\n",
        "    progress_bar.close()\n",
        "    \n",
        "    return losses"
      ],
      "execution_count": 143,
      "outputs": []
    },
    {
      "cell_type": "code",
      "metadata": {
        "id": "y2Z9xyRirZDe",
        "colab": {
          "base_uri": "https://localhost:8080/",
          "height": 54
        },
        "outputId": "d42b8c2c-1ce1-4d37-ffd2-0a4172fd59bc"
      },
      "source": [
        "\n",
        "val_losses = evaluate(model, validation_loader, criterion)\n",
        "f'Val loss - {np.mean(val_losses):.3f} perplexity - {np.exp(np.mean(val_losses)):.3f}'"
      ],
      "execution_count": 144,
      "outputs": [
        {
          "output_type": "stream",
          "text": [
            "Evaluate: 100%|██████████| 11663/11663 [02:29<00:00, 78.26it/s, loss=7.72, perplexity=2.26e+3]\n"
          ],
          "name": "stderr"
        },
        {
          "output_type": "execute_result",
          "data": {
            "application/vnd.google.colaboratory.intrinsic+json": {
              "type": "string"
            },
            "text/plain": [
              "'Val loss - 7.749 perplexity - 2320.179'"
            ]
          },
          "metadata": {
            "tags": []
          },
          "execution_count": 144
        }
      ]
    },
    {
      "cell_type": "code",
      "metadata": {
        "id": "j2w0Hr2CwibG"
      },
      "source": [
        ""
      ],
      "execution_count": 144,
      "outputs": []
    },
    {
      "cell_type": "code",
      "metadata": {
        "id": "Mc4K9RB9wiYo"
      },
      "source": [
        ""
      ],
      "execution_count": null,
      "outputs": []
    },
    {
      "cell_type": "code",
      "metadata": {
        "id": "Q-7-ZJAErZAl"
      },
      "source": [
        "class SpatialDropout(torch.nn.Dropout2d):\n",
        "    \n",
        "    def __init__(self, p=0.5):\n",
        "        super().__init__()\n",
        "        self.p = p\n",
        "    \n",
        "    def forward(self, x):\n",
        "        x = x.to(device)\n",
        "        x = x.unsqueeze(2)    # (N, T, 1, K)\n",
        "        x = x.permute(0, 3, 2, 1)  # (N, K, 1, T)\n",
        "        x = super(SpatialDropout, self).forward(x)  # (N, K, 1, T)\n",
        "        x = x.permute(0, 3, 2, 1)  # (N, T, 1, K)\n",
        "        x = x.squeeze(2)  # (N, T, K)\n",
        "        return x"
      ],
      "execution_count": 48,
      "outputs": []
    },
    {
      "cell_type": "code",
      "metadata": {
        "id": "nr84KChawgaU"
      },
      "source": [
        "spatial_dropout = SpatialDropout()\n",
        "common_dropout = torch.nn.Dropout()"
      ],
      "execution_count": 49,
      "outputs": []
    },
    {
      "cell_type": "code",
      "metadata": {
        "id": "RFNZo_dQwggD"
      },
      "source": [
        "class LanguageModel(torch.nn.Module):\n",
        "    \n",
        "    def __init__(self, vocab_size, embedding_dim, model_dim, num_layers,\n",
        "                 padding_idx, dropout=0.35, weight_tying=True):\n",
        "        \n",
        "        super().__init__()\n",
        "        \n",
        "        self.embedding_layer = torch.nn.Embedding(num_embeddings=vocab_size,\n",
        "                                                  embedding_dim=embedding_dim, padding_idx=padding_idx)\n",
        "        \n",
        "        self.embedding_dropout = SpatialDropout(p=dropout)\n",
        "        \n",
        "        self.lstm = torch.nn.LSTM(input_size=embedding_dim, hidden_size=model_dim, \n",
        "                                  num_layers=num_layers, dropout=dropout, batch_first=True)\n",
        "        \n",
        "        self.language_model_head = torch.nn.Linear(in_features=model_dim, out_features=vocab_size, bias=False)\n",
        "        \n",
        "        # как раз здесь задаем, чтобы веса входящего и выходящего слоя эмбеддингов шарились\n",
        "        if weight_tying and embedding_dim == model_dim:\n",
        "            self.language_model_head.weight = self.embedding_layer.weight\n",
        "        \n",
        "    def forward(self, x):\n",
        "\n",
        "        x = self.embedding_layer(x)\n",
        "        \n",
        "        x = self.embedding_dropout(x)\n",
        "        \n",
        "        x, _ = self.lstm(x)\n",
        "        \n",
        "        x = self.language_model_head(x)\n",
        "        \n",
        "        return x"
      ],
      "execution_count": 145,
      "outputs": []
    },
    {
      "cell_type": "code",
      "metadata": {
        "id": "7ZENU87kwgmW"
      },
      "source": [
        "model = LanguageModel(vocab_size=vocab_size, embedding_dim=embedding_dim, model_dim=model_dim, \n",
        "                      num_layers=num_layers, dropout=dropout, padding_idx=pad_index, weight_tying=True)"
      ],
      "execution_count": 146,
      "outputs": []
    },
    {
      "cell_type": "code",
      "metadata": {
        "id": "S3Qw-UZgwgkP"
      },
      "source": [
        "model.to(device)\n",
        "optimizer = torch.optim.Adam(params=model.parameters())"
      ],
      "execution_count": 147,
      "outputs": []
    },
    {
      "cell_type": "code",
      "metadata": {
        "id": "QV8IlkjXwgd_",
        "colab": {
          "base_uri": "https://localhost:8080/"
        },
        "outputId": "a4276804-d799-4ee4-aa35-2aa739933e32"
      },
      "source": [
        "epoch_losses = train(model, validation_loader, criterion, optimizer)"
      ],
      "execution_count": 148,
      "outputs": [
        {
          "output_type": "stream",
          "text": [
            "Train: 100%|██████████| 11663/11663 [05:41<00:00, 34.19it/s, loss=7.76, perplexity=2.34e+3]\n"
          ],
          "name": "stderr"
        }
      ]
    },
    {
      "cell_type": "code",
      "metadata": {
        "id": "VmsRCeWLwgXl"
      },
      "source": [
        "\n",
        "model.eval()\n",
        "\n",
        "with torch.no_grad():\n",
        "\n",
        "    x = x.to(device)\n",
        "    \n",
        "    pred = []\n",
        "    \n",
        "    zeros = torch.zeros(num_layers, x.size(0), model_dim, dtype=torch.float32, device=x.device)\n",
        "    hx = (zeros, zeros)\n",
        "    \n",
        "    # семплируем начальный токен bos для каждого предложения\n",
        "    current_token = x[:, 0].unsqueeze(1)\n",
        "    \n",
        "    for timestamp in range(x.size(1)):\n",
        "        \n",
        "        # пока все то же самое\n",
        "        emb = model.embedding_layer(current_token)\n",
        "        \n",
        "\n",
        "        emb = model.embedding_dropout(emb)\n",
        "\n",
        "        lstm_out, hx = model.lstm(emb, hx)\n",
        "\n",
        "        next_token_prediction = model.language_model_head(lstm_out)\n",
        "        \n",
        "        pred.append(next_token_prediction)\n",
        "        \n",
        "        # но вот здесь мы семплируем предсказания сети и передадим это как текущий токен для следующего таймстемпа\n",
        "        current_token = next_token_prediction.argmax(dim=2)\n",
        "        \n",
        "    pred = torch.cat(pred, dim=1)\n",
        "    \n",
        "model.train()\n",
        "    \n",
        "tokens = pred.argmax(dim=-1).detach().cpu().numpy()"
      ],
      "execution_count": 149,
      "outputs": []
    },
    {
      "cell_type": "code",
      "metadata": {
        "id": "Nu3cRjnZ5cG1",
        "colab": {
          "base_uri": "https://localhost:8080/"
        },
        "outputId": "6539b2e8-22b0-40ff-d4a9-fa66dce0ec2d"
      },
      "source": [
        "tokens"
      ],
      "execution_count": 150,
      "outputs": [
        {
          "output_type": "execute_result",
          "data": {
            "text/plain": [
              "array([[364, 363, 363, ...,   3,   3,   3],\n",
              "       [364, 363, 363, ...,   3,   3,   3],\n",
              "       [364, 363, 363, ...,   3,   3,   3],\n",
              "       ...,\n",
              "       [364, 363, 363, ...,   3,   3,   3],\n",
              "       [364, 363, 363, ...,   3,   3,   3],\n",
              "       [364, 363, 363, ...,   3,   3,   3]])"
            ]
          },
          "metadata": {
            "tags": []
          },
          "execution_count": 150
        }
      ]
    },
    {
      "cell_type": "code",
      "metadata": {
        "id": "a6yWP7ie5cK0",
        "colab": {
          "base_uri": "https://localhost:8080/"
        },
        "outputId": "1725a4ca-3faa-468a-83c3-4a1022ba079d"
      },
      "source": [
        "predicted_texts = tokenizer.decode(tokens.tolist())\n",
        "predicted_texts"
      ],
      "execution_count": 151,
      "outputs": [
        {
          "output_type": "execute_result",
          "data": {
            "text/plain": [
              "['а не не не<EOS><EOS><EOS><EOS><EOS><EOS><EOS><EOS><EOS><EOS><EOS><EOS><EOS><EOS><EOS><EOS><EOS><EOS><EOS><EOS><EOS><EOS><EOS><EOS><EOS><EOS><EOS><EOS>',\n",
              " 'а не не не<EOS><EOS><EOS><EOS><EOS><EOS><EOS><EOS><EOS><EOS><EOS><EOS><EOS><EOS><EOS><EOS><EOS><EOS><EOS><EOS><EOS><EOS><EOS><EOS><EOS><EOS><EOS><EOS>',\n",
              " 'а не не не<EOS><EOS><EOS><EOS><EOS><EOS><EOS><EOS><EOS><EOS><EOS><EOS><EOS><EOS><EOS><EOS><EOS><EOS><EOS><EOS><EOS><EOS><EOS><EOS><EOS><EOS><EOS><EOS>',\n",
              " 'а не не не<EOS><EOS><EOS><EOS><EOS><EOS><EOS><EOS><EOS><EOS><EOS><EOS><EOS><EOS><EOS><EOS><EOS><EOS><EOS><EOS><EOS><EOS><EOS><EOS><EOS><EOS><EOS><EOS>',\n",
              " 'а не не не<EOS><EOS><EOS><EOS><EOS><EOS><EOS><EOS><EOS><EOS><EOS><EOS><EOS><EOS><EOS><EOS><EOS><EOS><EOS><EOS><EOS><EOS><EOS><EOS><EOS><EOS><EOS><EOS>',\n",
              " 'а не не не<EOS><EOS><EOS><EOS><EOS><EOS><EOS><EOS><EOS><EOS><EOS><EOS><EOS><EOS><EOS><EOS><EOS><EOS><EOS><EOS><EOS><EOS><EOS><EOS><EOS><EOS><EOS><EOS>',\n",
              " 'а не не не<EOS><EOS><EOS><EOS><EOS><EOS><EOS><EOS><EOS><EOS><EOS><EOS><EOS><EOS><EOS><EOS><EOS><EOS><EOS><EOS><EOS><EOS><EOS><EOS><EOS><EOS><EOS><EOS>',\n",
              " 'а не не не<EOS><EOS><EOS><EOS><EOS><EOS><EOS><EOS><EOS><EOS><EOS><EOS><EOS><EOS><EOS><EOS><EOS><EOS><EOS><EOS><EOS><EOS><EOS><EOS><EOS><EOS><EOS><EOS>',\n",
              " 'а не не не<EOS><EOS><EOS><EOS><EOS><EOS><EOS><EOS><EOS><EOS><EOS><EOS><EOS><EOS><EOS><EOS><EOS><EOS><EOS><EOS><EOS><EOS><EOS><EOS><EOS><EOS><EOS><EOS>',\n",
              " 'а не не не<EOS><EOS><EOS><EOS><EOS><EOS><EOS><EOS><EOS><EOS><EOS><EOS><EOS><EOS><EOS><EOS><EOS><EOS><EOS><EOS><EOS><EOS><EOS><EOS><EOS><EOS><EOS><EOS>',\n",
              " 'а не не не<EOS><EOS><EOS><EOS><EOS><EOS><EOS><EOS><EOS><EOS><EOS><EOS><EOS><EOS><EOS><EOS><EOS><EOS><EOS><EOS><EOS><EOS><EOS><EOS><EOS><EOS><EOS><EOS>',\n",
              " 'а не не не<EOS><EOS><EOS><EOS><EOS><EOS><EOS><EOS><EOS><EOS><EOS><EOS><EOS><EOS><EOS><EOS><EOS><EOS><EOS><EOS><EOS><EOS><EOS><EOS><EOS><EOS><EOS><EOS>',\n",
              " 'а не не не<EOS><EOS><EOS><EOS><EOS><EOS><EOS><EOS><EOS><EOS><EOS><EOS><EOS><EOS><EOS><EOS><EOS><EOS><EOS><EOS><EOS><EOS><EOS><EOS><EOS><EOS><EOS><EOS>',\n",
              " 'а не не не<EOS><EOS><EOS><EOS><EOS><EOS><EOS><EOS><EOS><EOS><EOS><EOS><EOS><EOS><EOS><EOS><EOS><EOS><EOS><EOS><EOS><EOS><EOS><EOS><EOS><EOS><EOS><EOS>',\n",
              " 'а не не не<EOS><EOS><EOS><EOS><EOS><EOS><EOS><EOS><EOS><EOS><EOS><EOS><EOS><EOS><EOS><EOS><EOS><EOS><EOS><EOS><EOS><EOS><EOS><EOS><EOS><EOS><EOS><EOS>',\n",
              " 'а не не не<EOS><EOS><EOS><EOS><EOS><EOS><EOS><EOS><EOS><EOS><EOS><EOS><EOS><EOS><EOS><EOS><EOS><EOS><EOS><EOS><EOS><EOS><EOS><EOS><EOS><EOS><EOS><EOS>',\n",
              " 'а не не не<EOS><EOS><EOS><EOS><EOS><EOS><EOS><EOS><EOS><EOS><EOS><EOS><EOS><EOS><EOS><EOS><EOS><EOS><EOS><EOS><EOS><EOS><EOS><EOS><EOS><EOS><EOS><EOS>',\n",
              " 'а не не не<EOS><EOS><EOS><EOS><EOS><EOS><EOS><EOS><EOS><EOS><EOS><EOS><EOS><EOS><EOS><EOS><EOS><EOS><EOS><EOS><EOS><EOS><EOS><EOS><EOS><EOS><EOS><EOS>',\n",
              " 'а не не не<EOS><EOS><EOS><EOS><EOS><EOS><EOS><EOS><EOS><EOS><EOS><EOS><EOS><EOS><EOS><EOS><EOS><EOS><EOS><EOS><EOS><EOS><EOS><EOS><EOS><EOS><EOS><EOS>',\n",
              " 'а не не не<EOS><EOS><EOS><EOS><EOS><EOS><EOS><EOS><EOS><EOS><EOS><EOS><EOS><EOS><EOS><EOS><EOS><EOS><EOS><EOS><EOS><EOS><EOS><EOS><EOS><EOS><EOS><EOS>',\n",
              " 'а не не не<EOS><EOS><EOS><EOS><EOS><EOS><EOS><EOS><EOS><EOS><EOS><EOS><EOS><EOS><EOS><EOS><EOS><EOS><EOS><EOS><EOS><EOS><EOS><EOS><EOS><EOS><EOS><EOS>',\n",
              " 'а не не не<EOS><EOS><EOS><EOS><EOS><EOS><EOS><EOS><EOS><EOS><EOS><EOS><EOS><EOS><EOS><EOS><EOS><EOS><EOS><EOS><EOS><EOS><EOS><EOS><EOS><EOS><EOS><EOS>',\n",
              " 'а не не не<EOS><EOS><EOS><EOS><EOS><EOS><EOS><EOS><EOS><EOS><EOS><EOS><EOS><EOS><EOS><EOS><EOS><EOS><EOS><EOS><EOS><EOS><EOS><EOS><EOS><EOS><EOS><EOS>',\n",
              " 'а не не не<EOS><EOS><EOS><EOS><EOS><EOS><EOS><EOS><EOS><EOS><EOS><EOS><EOS><EOS><EOS><EOS><EOS><EOS><EOS><EOS><EOS><EOS><EOS><EOS><EOS><EOS><EOS><EOS>',\n",
              " 'а не не не<EOS><EOS><EOS><EOS><EOS><EOS><EOS><EOS><EOS><EOS><EOS><EOS><EOS><EOS><EOS><EOS><EOS><EOS><EOS><EOS><EOS><EOS><EOS><EOS><EOS><EOS><EOS><EOS>',\n",
              " 'а не не не<EOS><EOS><EOS><EOS><EOS><EOS><EOS><EOS><EOS><EOS><EOS><EOS><EOS><EOS><EOS><EOS><EOS><EOS><EOS><EOS><EOS><EOS><EOS><EOS><EOS><EOS><EOS><EOS>',\n",
              " 'а не не не<EOS><EOS><EOS><EOS><EOS><EOS><EOS><EOS><EOS><EOS><EOS><EOS><EOS><EOS><EOS><EOS><EOS><EOS><EOS><EOS><EOS><EOS><EOS><EOS><EOS><EOS><EOS><EOS>',\n",
              " 'а не не не<EOS><EOS><EOS><EOS><EOS><EOS><EOS><EOS><EOS><EOS><EOS><EOS><EOS><EOS><EOS><EOS><EOS><EOS><EOS><EOS><EOS><EOS><EOS><EOS><EOS><EOS><EOS><EOS>',\n",
              " 'а не не не<EOS><EOS><EOS><EOS><EOS><EOS><EOS><EOS><EOS><EOS><EOS><EOS><EOS><EOS><EOS><EOS><EOS><EOS><EOS><EOS><EOS><EOS><EOS><EOS><EOS><EOS><EOS><EOS>',\n",
              " 'а не не не<EOS><EOS><EOS><EOS><EOS><EOS><EOS><EOS><EOS><EOS><EOS><EOS><EOS><EOS><EOS><EOS><EOS><EOS><EOS><EOS><EOS><EOS><EOS><EOS><EOS><EOS><EOS><EOS>',\n",
              " 'а не не не<EOS><EOS><EOS><EOS><EOS><EOS><EOS><EOS><EOS><EOS><EOS><EOS><EOS><EOS><EOS><EOS><EOS><EOS><EOS><EOS><EOS><EOS><EOS><EOS><EOS><EOS><EOS><EOS>',\n",
              " 'а не не не<EOS><EOS><EOS><EOS><EOS><EOS><EOS><EOS><EOS><EOS><EOS><EOS><EOS><EOS><EOS><EOS><EOS><EOS><EOS><EOS><EOS><EOS><EOS><EOS><EOS><EOS><EOS><EOS>',\n",
              " 'а не не не<EOS><EOS><EOS><EOS><EOS><EOS><EOS><EOS><EOS><EOS><EOS><EOS><EOS><EOS><EOS><EOS><EOS><EOS><EOS><EOS><EOS><EOS><EOS><EOS><EOS><EOS><EOS><EOS>',\n",
              " 'а не не не<EOS><EOS><EOS><EOS><EOS><EOS><EOS><EOS><EOS><EOS><EOS><EOS><EOS><EOS><EOS><EOS><EOS><EOS><EOS><EOS><EOS><EOS><EOS><EOS><EOS><EOS><EOS><EOS>',\n",
              " 'а не не не<EOS><EOS><EOS><EOS><EOS><EOS><EOS><EOS><EOS><EOS><EOS><EOS><EOS><EOS><EOS><EOS><EOS><EOS><EOS><EOS><EOS><EOS><EOS><EOS><EOS><EOS><EOS><EOS>',\n",
              " 'а не не не<EOS><EOS><EOS><EOS><EOS><EOS><EOS><EOS><EOS><EOS><EOS><EOS><EOS><EOS><EOS><EOS><EOS><EOS><EOS><EOS><EOS><EOS><EOS><EOS><EOS><EOS><EOS><EOS>',\n",
              " 'а не не не<EOS><EOS><EOS><EOS><EOS><EOS><EOS><EOS><EOS><EOS><EOS><EOS><EOS><EOS><EOS><EOS><EOS><EOS><EOS><EOS><EOS><EOS><EOS><EOS><EOS><EOS><EOS><EOS>',\n",
              " 'а не не не<EOS><EOS><EOS><EOS><EOS><EOS><EOS><EOS><EOS><EOS><EOS><EOS><EOS><EOS><EOS><EOS><EOS><EOS><EOS><EOS><EOS><EOS><EOS><EOS><EOS><EOS><EOS><EOS>']"
            ]
          },
          "metadata": {
            "tags": []
          },
          "execution_count": 151
        }
      ]
    },
    {
      "cell_type": "code",
      "metadata": {
        "id": "yDvguo_y5cBB",
        "colab": {
          "base_uri": "https://localhost:8080/",
          "height": 35
        },
        "outputId": "3899d5a9-bbf3-4699-ae0e-324a962b44b6"
      },
      "source": [
        "'SequenceBucketingData'"
      ],
      "execution_count": null,
      "outputs": [
        {
          "output_type": "execute_result",
          "data": {
            "application/vnd.google.colaboratory.intrinsic+json": {
              "type": "string"
            },
            "text/plain": [
              "'SequenceBucketingData'"
            ]
          },
          "metadata": {
            "tags": []
          },
          "execution_count": 52
        }
      ]
    },
    {
      "cell_type": "code",
      "metadata": {
        "id": "VLvmiKRbAFd-"
      },
      "source": [
        "# сделаем батч побольше\n",
        "batch_size = 256\n",
        "\n",
        "batches = []\n",
        "\n",
        "for i_batch in range(math.ceil(len(qa_data) / batch_size)):\n",
        "    \n",
        "    batches.append(qa_data[i_batch*batch_size:(i_batch+1)*batch_size])"
      ],
      "execution_count": null,
      "outputs": []
    },
    {
      "cell_type": "code",
      "metadata": {
        "id": "8M6tFqoGU8td",
        "colab": {
          "base_uri": "https://localhost:8080/"
        },
        "outputId": "c2af9fb3-b571-4779-ed76-d612434ef15d"
      },
      "source": [
        "qa_data[0]"
      ],
      "execution_count": null,
      "outputs": [
        {
          "output_type": "execute_result",
          "data": {
            "text/plain": [
              "{'category': 'Бизнес, Финансы',\n",
              " 'question': 'долго ли идут деньги с яндексденег на карту visa?',\n",
              " 'responses': ['нет. прорыв 35 ;)'],\n",
              " 'tok_answ': [2, 3499, 392, 441, 14, 5232, 7788, 3],\n",
              " 'tok_quest': [2,\n",
              "  1678,\n",
              "  389,\n",
              "  5459,\n",
              "  1030,\n",
              "  325,\n",
              "  8439,\n",
              "  23525,\n",
              "  26,\n",
              "  342,\n",
              "  3111,\n",
              "  7417,\n",
              "  5752,\n",
              "  3]}"
            ]
          },
          "metadata": {
            "tags": []
          },
          "execution_count": 101
        }
      ]
    },
    {
      "cell_type": "code",
      "metadata": {
        "id": "Rse1RLtBU8zB"
      },
      "source": [
        "class SequenceBucketingData(torch.utils.data.Dataset):\n",
        "    \n",
        "    def __init__(self,  data, max_len, pad_index, eos_index):\n",
        "        \n",
        "        self.data = data\n",
        "        self.max_len = max_len\n",
        "        \n",
        "        self.pad_index = pad_index\n",
        "        self.eos_index = eos_index\n",
        "        \n",
        "    def __len__(self):\n",
        "        return len(self.data)\n",
        "    \n",
        "    def prepare_sample(self, sequence, max_len):\n",
        "           \n",
        "      x = sequence[:max_len]\n",
        "      pads = [self.pad_index] * (self.max_len - len(x))\n",
        "      # x = torch.tensor(x + pads_x).long()  \n",
        "      # pads = [self.pad_index] * (max_len - len(x))      \n",
        "      x += pads        \n",
        "      return x\n",
        "\n",
        "    def prepare_target(self, sequence, max_len):\n",
        "      \n",
        "      y = sequence[:max_len]        \n",
        "      pads  = [self.pad_index] * (self.max_len - len(y))\n",
        "      # y = torch.tensor(y + pads_y).long()  \n",
        "      # pads = [self.pad_index] * (max_len - len(y))      \n",
        "      y += pads        \n",
        "      return y\n",
        "    \n",
        "    def __getitem__(self, index):\n",
        "\n",
        "      batch = self.data[index]\n",
        "      \n",
        "      max_len = min([self.max_len, max([len(sample['tok_quest']) for sample in batch])])\n",
        "      \n",
        "      batch_x = []\n",
        "      batch_y = []\n",
        "      \n",
        "      for sample in batch:\n",
        "\n",
        "          x = self.prepare_sample(sample['tok_quest'], max_len)\n",
        "          batch_x.append(x)\n",
        "\n",
        "          y = self.prepare_target(sample['tok_answ'], max_len)\n",
        "          batch_y.append(y)\n",
        "          \n",
        "      \n",
        "      batch_x = torch.tensor(batch_x).long()\n",
        "      batch_y = torch.tensor(batch_y).long()\n",
        "      \n",
        "      return batch_x, batch_y"
      ],
      "execution_count": null,
      "outputs": []
    },
    {
      "cell_type": "code",
      "metadata": {
        "id": "5MHXV2wVU8wp"
      },
      "source": [
        "validation_start_index = int(len(batches) * 0.05)"
      ],
      "execution_count": null,
      "outputs": []
    },
    {
      "cell_type": "code",
      "metadata": {
        "id": "tw6YZbDOEucl",
        "colab": {
          "base_uri": "https://localhost:8080/"
        },
        "outputId": "3d34a12b-76e4-4954-e474-d00433356a3b"
      },
      "source": [
        "print(len(batches))\n",
        "batch_train_border = math.ceil(len(batches)*0.9)\n",
        "batch_valid_border = math.ceil(len(batches)*0.2)\n",
        "print(batch_valid_border)\n",
        "batch_train_border\n",
        "# train_df = pd.DataFrame(qa_data[:train_border])\n",
        "# test_df = pd.DataFrame(qa_data[train_border:test_border])\n",
        "# validation_df = pd.DataFrame(qa_data[test_border: ])"
      ],
      "execution_count": null,
      "outputs": [
        {
          "output_type": "stream",
          "text": [
            "4389\n",
            "878\n"
          ],
          "name": "stdout"
        },
        {
          "output_type": "execute_result",
          "data": {
            "text/plain": [
              "3951"
            ]
          },
          "metadata": {
            "tags": []
          },
          "execution_count": 146
        }
      ]
    },
    {
      "cell_type": "code",
      "metadata": {
        "id": "T1IiCd25AH6y"
      },
      "source": [
        "train_dataset = SequenceBucketingData(batches[:batch_train_border], max_len, pad_index, eos_index)\n",
        "validation_dataset = SequenceBucketingData(batches[batch_train_border:], max_len, pad_index, eos_index)"
      ],
      "execution_count": null,
      "outputs": []
    },
    {
      "cell_type": "code",
      "metadata": {
        "id": "aKxE6-zSugsj"
      },
      "source": [
        "def collate_fn(x):\n",
        "    \n",
        "    x, y = x[0]\n",
        "\n",
        "    return x, y"
      ],
      "execution_count": null,
      "outputs": []
    },
    {
      "cell_type": "code",
      "metadata": {
        "id": "ACGK5eW1uj_w"
      },
      "source": [
        "# ставим batch_size=1 потому что датасет уже отдает батч\n",
        "# добавим shuffle=True\n",
        "# за счет этого флага каждую эпоху датасет перемешивается\n",
        "\n",
        "# collate_fn это функция, с помощью которой можно задать свою логику сборки батча\n",
        "\n",
        "train_loader = torch.utils.data.DataLoader(train_dataset, \n",
        "                                           batch_size=1,\n",
        "                                           collate_fn=collate_fn,\n",
        "                                           shuffle=True)\n",
        "\n",
        "validation_loader = torch.utils.data.DataLoader(validation_dataset,\n",
        "                                                batch_size=1,\n",
        "                                                collate_fn=collate_fn, \n",
        "                                                shuffle=True)"
      ],
      "execution_count": null,
      "outputs": []
    },
    {
      "cell_type": "code",
      "metadata": {
        "id": "tauSL9DWuocv"
      },
      "source": [
        "\n",
        "# пробежимся по итератору, чтобы убедиться что ничего не падает и он работает достаточно быстро\n",
        "\n",
        "# progress_bar = tqdm(total=len(validation_loader))\n",
        "\n",
        "# for x, y in validation_loader:\n",
        "#   progress_bar.update()\n",
        "    \n",
        "# progress_bar.close()"
      ],
      "execution_count": null,
      "outputs": []
    },
    {
      "cell_type": "code",
      "metadata": {
        "id": "zdq3WixrurGI"
      },
      "source": [
        "# n=0\n",
        "# for x, y in validation_loader:\n",
        "\n",
        "#   while n<10:\n",
        "#     print(x)\n",
        "#     n+=1"
      ],
      "execution_count": null,
      "outputs": []
    },
    {
      "cell_type": "code",
      "metadata": {
        "id": "OwDQn_odIetF"
      },
      "source": [
        "def train(model, loader, criterion, optimizer, clip=3., last_n_losses=500, verbose=True):\n",
        "    \n",
        "    losses = []\n",
        "\n",
        "    # progress_bar = tqdm(total=len(loader.dataset), disable=not verbose, desc='Train')\n",
        "\n",
        "    model.train()\n",
        "\n",
        "    for x, y in loader:\n",
        "        \n",
        "        x = x.to(device)\n",
        "        y = y.to(device)\n",
        "        \n",
        "        pred = model(x)\n",
        "\n",
        "        loss = criterion(pred.view(-1, pred.size(-1)), y.view(-1))\n",
        "\n",
        "        optimizer.zero_grad()\n",
        "        loss.backward()\n",
        "        # рассчитали градиенты и клипаем их\n",
        "        torch.nn.utils.clip_grad_norm_(model.parameters(), clip)\n",
        "        optimizer.step()\n",
        "\n",
        "        losses.append(loss.item())\n",
        "\n",
        "        # progress_bar.set_postfix(loss=np.mean(losses[-last_n_losses:]),\n",
        "                                 # perplexity=np.exp(np.mean(losses[-last_n_losses:])))\n",
        "\n",
        "        # progress_bar.update()\n",
        "\n",
        "    # progress_bar.close()\n",
        "    \n",
        "    return losses"
      ],
      "execution_count": null,
      "outputs": []
    },
    {
      "cell_type": "code",
      "metadata": {
        "id": "k_xqjSFIIywS"
      },
      "source": [
        "model = LanguageModel(vocab_size=vocab_size, embedding_dim=embedding_dim, model_dim=model_dim, \n",
        "                      num_layers=num_layers, padding_idx=pad_index, weight_tying=True)\n",
        "\n",
        "model.to(device)\n",
        "optimizer = torch.optim.Adam(params=model.parameters())"
      ],
      "execution_count": null,
      "outputs": []
    },
    {
      "cell_type": "code",
      "metadata": {
        "id": "IZRjLFHjI0rp"
      },
      "source": [
        "epoch_losses = train(model, validation_loader, criterion, optimizer)"
      ],
      "execution_count": null,
      "outputs": []
    },
    {
      "cell_type": "markdown",
      "metadata": {
        "id": "VqQsa2wkJ8K0"
      },
      "source": [
        "## Сильно ускорились\n",
        "**Все готово для того, чтобы начать обучение =)))**\n"
      ]
    },
    {
      "cell_type": "code",
      "metadata": {
        "id": "C8fA5-xvI2j2"
      },
      "source": [
        ""
      ],
      "execution_count": null,
      "outputs": []
    }
  ]
}