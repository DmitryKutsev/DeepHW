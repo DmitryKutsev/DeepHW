{
  "nbformat": 4,
  "nbformat_minor": 0,
  "metadata": {
    "colab": {
      "name": "Untitled43.ipynb",
      "provenance": [],
      "authorship_tag": "ABX9TyNEh7pV5S1vsrMG2wvML6vW",
      "include_colab_link": true
    },
    "kernelspec": {
      "name": "python3",
      "display_name": "Python 3"
    }
  },
  "cells": [
    {
      "cell_type": "markdown",
      "metadata": {
        "id": "view-in-github",
        "colab_type": "text"
      },
      "source": [
        "<a href=\"https://colab.research.google.com/github/DmitryKutsev/DeepHW/blob/master/Dmitry_Kutsev_hw2.ipynb\" target=\"_parent\"><img src=\"https://colab.research.google.com/assets/colab-badge.svg\" alt=\"Open In Colab\"/></a>"
      ]
    },
    {
      "cell_type": "code",
      "metadata": {
        "id": "hkCUQ7QX3CF5",
        "outputId": "c70fefc0-0f92-4b55-98c4-5efceb7f050c",
        "colab": {
          "base_uri": "https://localhost:8080/",
          "height": 217
        }
      },
      "source": [
        "!wget https://dl.fbaipublicfiles.com/fasttext/vectors-english/wiki-news-300d-1M.vec.zip"
      ],
      "execution_count": 1,
      "outputs": [
        {
          "output_type": "stream",
          "text": [
            "--2020-10-23 19:16:14--  https://dl.fbaipublicfiles.com/fasttext/vectors-english/wiki-news-300d-1M.vec.zip\n",
            "Resolving dl.fbaipublicfiles.com (dl.fbaipublicfiles.com)... 104.22.74.142, 172.67.9.4, 104.22.75.142, ...\n",
            "Connecting to dl.fbaipublicfiles.com (dl.fbaipublicfiles.com)|104.22.74.142|:443... connected.\n",
            "HTTP request sent, awaiting response... 200 OK\n",
            "Length: 681808098 (650M) [application/zip]\n",
            "Saving to: ‘wiki-news-300d-1M.vec.zip’\n",
            "\n",
            "wiki-news-300d-1M.v 100%[===================>] 650.22M  28.4MB/s    in 23s     \n",
            "\n",
            "2020-10-23 19:16:38 (28.1 MB/s) - ‘wiki-news-300d-1M.vec.zip’ saved [681808098/681808098]\n",
            "\n"
          ],
          "name": "stdout"
        }
      ]
    },
    {
      "cell_type": "code",
      "metadata": {
        "id": "38TD-0q43J7G",
        "outputId": "5d12bda5-dd5f-4021-d2eb-35f6c71baf04",
        "colab": {
          "base_uri": "https://localhost:8080/",
          "height": 217
        }
      },
      "source": [
        "!wget https://raw.githubusercontent.com/BobaZooba/HSE-Deep-Learning-in-NLP-Course/master/Week%203/data.py"
      ],
      "execution_count": 2,
      "outputs": [
        {
          "output_type": "stream",
          "text": [
            "--2020-10-23 19:16:38--  https://raw.githubusercontent.com/BobaZooba/HSE-Deep-Learning-in-NLP-Course/master/Week%203/data.py\n",
            "Resolving raw.githubusercontent.com (raw.githubusercontent.com)... 151.101.0.133, 151.101.64.133, 151.101.128.133, ...\n",
            "Connecting to raw.githubusercontent.com (raw.githubusercontent.com)|151.101.0.133|:443... connected.\n",
            "HTTP request sent, awaiting response... 200 OK\n",
            "Length: 10563 (10K) [text/plain]\n",
            "Saving to: ‘data.py’\n",
            "\n",
            "data.py             100%[===================>]  10.32K  --.-KB/s    in 0s      \n",
            "\n",
            "2020-10-23 19:16:38 (93.4 MB/s) - ‘data.py’ saved [10563/10563]\n",
            "\n"
          ],
          "name": "stdout"
        }
      ]
    },
    {
      "cell_type": "code",
      "metadata": {
        "id": "tJ4O-_ZN3QZo"
      },
      "source": [
        "!mv data.py mydata.py"
      ],
      "execution_count": 3,
      "outputs": []
    },
    {
      "cell_type": "code",
      "metadata": {
        "id": "_jr1Wb2V3L9u"
      },
      "source": [
        "import math\n",
        "from tqdm import trange\n",
        "import pandas as pd\n",
        "import numpy as np\n",
        "from nltk.tokenize import word_tokenize, wordpunct_tokenize\n",
        "from tqdm import tqdm\n",
        "from torch import nn\n",
        "import torch\n",
        "from torch.utils.data import Dataset, DataLoader\n",
        "import zipfile\n",
        "from torch import nn\n",
        "import seaborn as sns\n",
        "from mydata import Downloader, Parser\n",
        "import matplotlib.pyplot as plt"
      ],
      "execution_count": 4,
      "outputs": []
    },
    {
      "cell_type": "markdown",
      "metadata": {
        "id": "01Lso6k7NV3Z"
      },
      "source": [
        "### **DATA**\n"
      ]
    },
    {
      "cell_type": "code",
      "metadata": {
        "id": "pwtFMLs23WBV"
      },
      "source": [
        "data_path = './mydata/'"
      ],
      "execution_count": 5,
      "outputs": []
    },
    {
      "cell_type": "code",
      "metadata": {
        "id": "nbQoym7CI3xF",
        "outputId": "2f3a822f-52de-4505-fbee-f4b3b79fa2a9",
        "colab": {
          "base_uri": "https://localhost:8080/",
          "height": 35
        }
      },
      "source": [
        "\n",
        "from google.colab import drive\n",
        "drive.mount('/content/drive')\n"
      ],
      "execution_count": 6,
      "outputs": [
        {
          "output_type": "stream",
          "text": [
            "Mounted at /content/drive\n"
          ],
          "name": "stdout"
        }
      ]
    },
    {
      "cell_type": "code",
      "metadata": {
        "id": "KOHVWR-aJdPS"
      },
      "source": [
        "train = pd.read_csv('/content/drive/My Drive/dialogs_train.csv') \n",
        "valid = pd.read_csv('/content/drive/My Drive//dialogs_valid.csv') "
      ],
      "execution_count": 7,
      "outputs": []
    },
    {
      "cell_type": "code",
      "metadata": {
        "id": "VGWYk_aZOmTN"
      },
      "source": [
        "unique_categories = set(train.category.unique().tolist() + valid.category.unique().tolist())\n",
        "category2index = {category: index for index, category in enumerate(unique_categories)}"
      ],
      "execution_count": 8,
      "outputs": []
    },
    {
      "cell_type": "code",
      "metadata": {
        "id": "eEf1B96XOcYN"
      },
      "source": [
        "train['target'] = train.category.map(category2index)\n",
        "valid['target'] = valid.category.map(category2index)"
      ],
      "execution_count": 9,
      "outputs": []
    },
    {
      "cell_type": "code",
      "metadata": {
        "id": "TVmXIIhiOlmw",
        "outputId": "08a8ae26-5b17-47b5-82c3-a32159a6d791",
        "colab": {
          "base_uri": "https://localhost:8080/",
          "height": 90
        }
      },
      "source": [
        "valid['target'][:3]"
      ],
      "execution_count": 10,
      "outputs": [
        {
          "output_type": "execute_result",
          "data": {
            "text/plain": [
              "0    7\n",
              "1    3\n",
              "2    7\n",
              "Name: target, dtype: int64"
            ]
          },
          "metadata": {
            "tags": []
          },
          "execution_count": 10
        }
      ]
    },
    {
      "cell_type": "code",
      "metadata": {
        "id": "VhxrwsA83ilr"
      },
      "source": [
        "class TextClassificationDataset(Dataset):\n",
        "    \n",
        "    def __init__(self, texts, targets, vocab, pad_index=0, max_length=32):\n",
        "        super().__init__()\n",
        "        \n",
        "        self.texts = texts\n",
        "        self.targets = targets\n",
        "        self.vocab = vocab\n",
        "        \n",
        "        self.pad_index = pad_index\n",
        "        self.max_length = max_length\n",
        "        \n",
        "    def __len__(self):\n",
        "        return len(self.texts)\n",
        "    \n",
        "    def tokenization(self, text):\n",
        "        \n",
        "        tokens = wordpunct_tokenize(text)\n",
        "        \n",
        "        token_indices = [self.vocab[tok] for tok in tokens if tok in self.vocab]\n",
        "        \n",
        "        return token_indices\n",
        "    \n",
        "    def padding(self, tokenized_text):\n",
        "        \n",
        "        tokenized_text = tokenized_text[:self.max_length]\n",
        "        \n",
        "        tokenized_text += [self.pad_index] * (self.max_length - len(tokenized_text))\n",
        "        \n",
        "        return tokenized_text\n",
        "    \n",
        "    def __getitem__(self, index):\n",
        "        \n",
        "        text = self.texts[index]        \n",
        "        target = self.targets[index]\n",
        "        \n",
        "        tokenized_text = self.tokenization(text)\n",
        "        tokenized_text = self.padding(tokenized_text)\n",
        "        \n",
        "        tokenized_text = torch.tensor(tokenized_text)\n",
        "        \n",
        "        return tokenized_text, target"
      ],
      "execution_count": 11,
      "outputs": []
    },
    {
      "cell_type": "code",
      "metadata": {
        "id": "IGbmX9-UNZuB"
      },
      "source": [
        "train_x = list(train.question)\n",
        "train_y = list(train.target)\n",
        "\n",
        "valid_x = list(valid.question)\n",
        "valid_y = list(valid.target)"
      ],
      "execution_count": 12,
      "outputs": []
    },
    {
      "cell_type": "code",
      "metadata": {
        "id": "Blf5KOf9NZy5"
      },
      "source": [
        ""
      ],
      "execution_count": 12,
      "outputs": []
    },
    {
      "cell_type": "code",
      "metadata": {
        "id": "0mFhzvvtPI7q"
      },
      "source": [
        ""
      ],
      "execution_count": 12,
      "outputs": []
    },
    {
      "cell_type": "code",
      "metadata": {
        "id": "Hnw0RV3jPI-l"
      },
      "source": [
        ""
      ],
      "execution_count": 12,
      "outputs": []
    },
    {
      "cell_type": "code",
      "metadata": {
        "id": "4zbcfOHjPJBy"
      },
      "source": [
        ""
      ],
      "execution_count": 12,
      "outputs": []
    },
    {
      "cell_type": "markdown",
      "metadata": {
        "id": "pP49pfe2PbWY"
      },
      "source": [
        "### **Embeddings**"
      ]
    },
    {
      "cell_type": "code",
      "metadata": {
        "id": "mno04x_ALDGE"
      },
      "source": [
        "def load_embeddings(zip_path, filename, pad_token='PAD', max_words=100_000, verbose=True):\n",
        "    \n",
        "    vocab = dict()\n",
        "    embeddings = list()\n",
        "\n",
        "    with zipfile.ZipFile(zip_path) as zipped_file:\n",
        "        with zipped_file.open(filename) as file_object:\n",
        "\n",
        "            vocab_size, embedding_dim = file_object.readline().decode('utf-8').strip().split()\n",
        "\n",
        "            vocab_size = int(vocab_size)\n",
        "            embedding_dim = int(embedding_dim)\n",
        "            \n",
        "            max_words = vocab_size if max_words <= 0 else max_words\n",
        "            \n",
        "            vocab[pad_token] = len(vocab)\n",
        "            embeddings.append(np.zeros(embedding_dim))\n",
        "\n",
        "            progress_bar = tqdm(total=max_words, disable=not verbose)\n",
        "\n",
        "            for line in file_object:\n",
        "                parts = line.decode('utf-8').strip().split()\n",
        "\n",
        "                token = ' '.join(parts[:-embedding_dim]).lower()\n",
        "                \n",
        "                if token in vocab:\n",
        "                    continue\n",
        "                \n",
        "                word_vector = np.array(list(map(float, parts[-embedding_dim:])))\n",
        "\n",
        "                vocab[token] = len(vocab)\n",
        "                embeddings.append(word_vector)\n",
        "\n",
        "                progress_bar.update()\n",
        "                \n",
        "                if len(vocab) == max_words:\n",
        "                    break\n",
        "\n",
        "            progress_bar.close()\n",
        "\n",
        "    embeddings = np.stack(embeddings)\n",
        "    \n",
        "    return vocab, embeddings"
      ],
      "execution_count": 13,
      "outputs": []
    },
    {
      "cell_type": "code",
      "metadata": {
        "id": "kMmmebKSLDIz",
        "outputId": "67be76aa-ae1d-435c-9b87-1d75aae8cc01",
        "colab": {
          "base_uri": "https://localhost:8080/",
          "height": 35
        }
      },
      "source": [
        "vocab, embeddings = load_embeddings('./wiki-news-300d-1M.vec.zip', 'wiki-news-300d-1M.vec', max_words=100_000)"
      ],
      "execution_count": 14,
      "outputs": [
        {
          "output_type": "stream",
          "text": [
            "100%|█████████▉| 99999/100000 [00:18<00:00, 5433.44it/s]\n"
          ],
          "name": "stderr"
        }
      ]
    },
    {
      "cell_type": "code",
      "metadata": {
        "id": "L-eAlPDLLfhv"
      },
      "source": [
        "index2token = {index: token for token, index in vocab.items()}"
      ],
      "execution_count": 15,
      "outputs": []
    },
    {
      "cell_type": "code",
      "metadata": {
        "id": "pTWCVaU7Lfko"
      },
      "source": [
        "emb_norms = np.linalg.norm(embeddings, axis=1)"
      ],
      "execution_count": 16,
      "outputs": []
    },
    {
      "cell_type": "code",
      "metadata": {
        "id": "_oqA8o9-NZw7"
      },
      "source": [
        "train_dataset = TextClassificationDataset(texts=train_x, targets=train_y, vocab=vocab)\n",
        "x, y = train_dataset[0]"
      ],
      "execution_count": 17,
      "outputs": []
    },
    {
      "cell_type": "code",
      "metadata": {
        "id": "aPPEdPKuLfvm"
      },
      "source": [
        "embeddings = torch.tensor(embeddings).float()\n",
        "embedding_layer = nn.Embedding.from_pretrained(embeddings, padding_idx=0)\n",
        "x_embed = embedding_layer(x)"
      ],
      "execution_count": 18,
      "outputs": []
    },
    {
      "cell_type": "code",
      "metadata": {
        "id": "-R-El2RNLDDC"
      },
      "source": [
        "train_dataset = TextClassificationDataset(texts=train_x, targets=train_y, vocab=vocab)\n",
        "valid_dataset = TextClassificationDataset(texts=valid_x, targets=valid_y, vocab=vocab)\n",
        "\n",
        "train_loader = DataLoader(train_dataset, batch_size=128)\n",
        "valid_loader = DataLoader(valid_dataset, batch_size=128)"
      ],
      "execution_count": 19,
      "outputs": []
    },
    {
      "cell_type": "code",
      "metadata": {
        "id": "1hD7D0jhQgml"
      },
      "source": [
        ""
      ],
      "execution_count": null,
      "outputs": []
    },
    {
      "cell_type": "code",
      "metadata": {
        "id": "fLmg8VjKLfyh"
      },
      "source": [
        ""
      ],
      "execution_count": null,
      "outputs": []
    },
    {
      "cell_type": "markdown",
      "metadata": {
        "id": "rREyIpOlQhQP"
      },
      "source": [
        "### **AVERAGE MODEL**"
      ]
    },
    {
      "cell_type": "code",
      "metadata": {
        "id": "hKg6xfn_GkLg"
      },
      "source": [
        "class DeepAverageNetwork(nn.Module):\n",
        "    \n",
        "    def __init__(self, embeddings, linear_1_size, linear_2_size, n_classes):\n",
        "        super().__init__()\n",
        "        \n",
        "        self.embedding_layer = nn.Embedding.from_pretrained(embeddings, padding_idx=0)\n",
        "        \n",
        "        self.batch_norm = nn.BatchNorm1d(num_features=embeddings.shape[-1])\n",
        "        \n",
        "        self.linear_1 = nn.Linear(in_features=embeddings.shape[-1], out_features=linear_1_size)\n",
        "        self.linear_2 = nn.Linear(in_features=linear_1_size, out_features=linear_2_size)\n",
        "        self.linear_3 = nn.Linear(in_features=linear_2_size, out_features=n_classes)\n",
        "        \n",
        "    def forward(self, x):\n",
        "        \n",
        "\n",
        "        x = self.embedding_layer(x)\n",
        "        x = x.sum(dim=1)\n",
        "        x = self.batch_norm(x)\n",
        "        x = self.linear_1(x)\n",
        "        x = torch.relu(x)\n",
        "        x = self.linear_2(x)\n",
        "        x = torch.relu(x)\n",
        "        \n",
        "        x = self.linear_3(x)\n",
        "        \n",
        "        x = torch.softmax(x, dim=-1)\n",
        "        return x"
      ],
      "execution_count": null,
      "outputs": []
    },
    {
      "cell_type": "code",
      "metadata": {
        "id": "xf8Lbe_AHOML"
      },
      "source": [
        "\n",
        "model = DeepAverageNetwork(embeddings=embeddings,\n",
        "                           linear_1_size=256, \n",
        "                           linear_2_size=128, \n",
        "                           n_classes=len(category2index))"
      ],
      "execution_count": null,
      "outputs": []
    },
    {
      "cell_type": "code",
      "metadata": {
        "id": "UVBeT2CpHTZg"
      },
      "source": [
        "criterion = nn.CrossEntropyLoss()\n",
        "optimizer = torch.optim.Adam(params=model.parameters(), lr=0.0001)\n",
        "scheduler = torch.optim.lr_scheduler.StepLR(optimizer, 1, gamma=0.9)"
      ],
      "execution_count": null,
      "outputs": []
    },
    {
      "cell_type": "code",
      "metadata": {
        "id": "kiOeGl71YxH6",
        "outputId": "2c764de4-0ba6-40e5-90a3-b4e1d1eaba8a",
        "colab": {
          "base_uri": "https://localhost:8080/",
          "height": 145
        }
      },
      "source": [
        "\n",
        "epochs = 6\n",
        "train_losses = []\n",
        "test_losses = []\n",
        "train_acc = 0\n",
        "acc_list = []\n",
        "train_iter_losses = []\n",
        "\n",
        "for epoch in trange(epochs):\n",
        "  counter = 0\n",
        "  for x, y in train_loader:\n",
        "\n",
        "    y_pred = model.forward(x)\n",
        "    train_loss = criterion(y_pred, y)\n",
        "    train_acc += (y_pred.argmax(1) == y).sum().item()\n",
        "    train_iter_losses.append(train_loss)\n",
        "    \n",
        "    \n",
        "\n",
        "    optimizer.zero_grad()\n",
        "    train_loss.backward()\n",
        "    optimizer.step()\n",
        "  \n",
        "  train_losses.append(train_loss)\n",
        "  scheduler.step()\n",
        "\n",
        "  for x, y in valid_loader:        \n",
        "      with torch.no_grad():\n",
        "          \n",
        "          x_forw = model.forward(x)\n",
        "          y_pred = torch.softmax(x_forw, dim=-1)\n",
        "          optimizer.zero_grad()\n",
        "          test_loss = criterion(y_pred, y)\n",
        "          test_acc = (y_pred.argmax(1) == y).sum().item()\n",
        "          acc_list.append(test_acc)\n",
        "          optimizer.step()\n",
        "          optimizer.zero_grad()\n",
        "          optimizer.step()\n",
        "\n",
        "  test_losses.append(test_loss)\n",
        "\n",
        "  print(f\"epoch {epoch} test loss {test_loss}, train loss {train_loss}\")"
      ],
      "execution_count": null,
      "outputs": [
        {
          "output_type": "stream",
          "text": [
            " 17%|█▋        | 1/6 [00:24<02:01, 24.30s/it]"
          ],
          "name": "stderr"
        },
        {
          "output_type": "stream",
          "text": [
            "epoch 0 test loss 1.9873653650283813, train loss 1.415579915046692\n"
          ],
          "name": "stdout"
        },
        {
          "output_type": "stream",
          "text": [
            "\r 33%|███▎      | 2/6 [00:49<01:38, 24.55s/it]"
          ],
          "name": "stderr"
        },
        {
          "output_type": "stream",
          "text": [
            "epoch 1 test loss 1.985883116722107, train loss 1.4118012189865112\n"
          ],
          "name": "stdout"
        },
        {
          "output_type": "stream",
          "text": [
            "\r 50%|█████     | 3/6 [01:14<01:13, 24.56s/it]"
          ],
          "name": "stderr"
        },
        {
          "output_type": "stream",
          "text": [
            "epoch 2 test loss 1.987344741821289, train loss 1.411537766456604\n"
          ],
          "name": "stdout"
        },
        {
          "output_type": "stream",
          "text": [
            "\r 67%|██████▋   | 4/6 [01:38<00:48, 24.44s/it]"
          ],
          "name": "stderr"
        },
        {
          "output_type": "stream",
          "text": [
            "epoch 3 test loss 1.98789381980896, train loss 1.4108545780181885\n"
          ],
          "name": "stdout"
        },
        {
          "output_type": "stream",
          "text": [
            "\r 83%|████████▎ | 5/6 [02:02<00:24, 24.47s/it]"
          ],
          "name": "stderr"
        },
        {
          "output_type": "stream",
          "text": [
            "epoch 4 test loss 1.9880822896957397, train loss 1.4094654321670532\n"
          ],
          "name": "stdout"
        },
        {
          "output_type": "stream",
          "text": [
            "100%|██████████| 6/6 [02:27<00:00, 24.54s/it]"
          ],
          "name": "stderr"
        },
        {
          "output_type": "stream",
          "text": [
            "epoch 5 test loss 1.9881165027618408, train loss 1.4084891080856323\n"
          ],
          "name": "stdout"
        },
        {
          "output_type": "stream",
          "text": [
            "\n"
          ],
          "name": "stderr"
        }
      ]
    },
    {
      "cell_type": "code",
      "metadata": {
        "id": "tLWtJBMSnnAD",
        "outputId": "ff8f3972-580e-49e4-c60d-b87228c7e5e5",
        "colab": {
          "base_uri": "https://localhost:8080/",
          "height": 700
        }
      },
      "source": [
        "plt.figure(figsize=(14, 12))\n",
        "plt.plot(range(epochs), train_losses)\n",
        "plt.grid()"
      ],
      "execution_count": null,
      "outputs": [
        {
          "output_type": "display_data",
          "data": {
            "image/png": "[encoded data removed]",
            "text/plain": [
              "<Figure size 1008x864 with 1 Axes>"
            ]
          },
          "metadata": {
            "tags": [],
            "needs_background": "light"
          }
        }
      ]
    },
    {
      "cell_type": "markdown",
      "metadata": {
        "id": "oNW__KzuwlTo"
      },
      "source": [
        "### **CNN**"
      ]
    },
    {
      "cell_type": "code",
      "metadata": {
        "id": "a_nxX02Q5UEa"
      },
      "source": [
        "class MyCNN(nn.Module):\n",
        "\n",
        "  def __init__(self, embeddings, c1_in, c2_in, c2_out, l1_out, l2_out, n_classes):\n",
        "\n",
        "    super().__init__()\n",
        "\n",
        "    self.embedding_layer = nn.Embedding.from_pretrained(embeddings, padding_idx=0)\n",
        "\n",
        "    self.batch_norm = nn.BatchNorm1d(num_features=embeddings.shape[-1])\n",
        "    self.conv1 = nn.Conv1d(in_channels=32, out_channels=64, kernel_size=2, stride=1, padding=1)\n",
        "    self.relu = nn.ReLU()\n",
        "    self.conv2 = nn.Conv1d(in_channels=64, out_channels=32, kernel_size=2, stride=1, padding=1)\n",
        "\n",
        "    self.batch_norm = nn.BatchNorm1d(num_features=embeddings.shape[-1])\n",
        "    self.dropout = nn.Dropout(p=0.5)\n",
        "    \n",
        "    self.linear_1 = nn.Linear(in_features=101, out_features=32)\n",
        "    self.linear_2 = nn.Linear(in_features=32, out_features=16)\n",
        "    self.linear_3 = nn.Linear(in_features=16, out_features=n_classes)\n",
        "\n",
        "\n",
        "  def forward(self, x):\n",
        "    residual = x\n",
        "    x = self.embedding_layer(x)\n",
        "    x = self.conv1(x)\n",
        "    x = torch.max_pool1d(x, kernel_size=3)\n",
        "    x = self.relu(x)\n",
        "    x = self.conv2(x)\n",
        "    x = x.sum(dim=1)\n",
        "    x = self.linear_1(x)\n",
        "    x = torch.relu(x)\n",
        "    x += residual\n",
        "    x = self.linear_2(x)\n",
        "    x = self.dropout(x)\n",
        "    x = torch.relu(x)\n",
        "    x = self.linear_3(x)\n",
        "    x = torch.softmax(x, dim=-1)\n",
        " \n",
        "\n",
        "    return x\n"
      ],
      "execution_count": null,
      "outputs": []
    },
    {
      "cell_type": "code",
      "metadata": {
        "id": "BU8d3M6VGrur"
      },
      "source": [
        "model = MyCNN(embeddings=embeddings,\n",
        "                          c1_in=32, \n",
        "                          c2_in=64, \n",
        "                          c2_out=101,\n",
        "                          l1_out=32, \n",
        "                          l2_out=16,\n",
        "                           n_classes=len(category2index))\n"
      ],
      "execution_count": null,
      "outputs": []
    },
    {
      "cell_type": "code",
      "metadata": {
        "id": "5Okd04VYM8qV"
      },
      "source": [
        "CUDA = torch.cuda.is_available()\n",
        "if CUDA:\n",
        "  model = model.CUDA()"
      ],
      "execution_count": null,
      "outputs": []
    },
    {
      "cell_type": "code",
      "metadata": {
        "id": "3GwluIIQGXL7"
      },
      "source": [
        "criterion = nn.CrossEntropyLoss()\n",
        "optimizer = torch.optim.Adam(params=model.parameters(), lr=0.0001)\n",
        "scheduler = torch.optim.lr_scheduler.StepLR(optimizer, 1, gamma=0.9)\n"
      ],
      "execution_count": null,
      "outputs": []
    },
    {
      "cell_type": "code",
      "metadata": {
        "id": "gaRqH4VJ9g5x",
        "outputId": "aee1d038-eafe-4ee5-ca60-b8cbb0da6fb7",
        "colab": {
          "base_uri": "https://localhost:8080/",
          "height": 272
        }
      },
      "source": [
        "epochs = 6\n",
        "train_losses = []\n",
        "train_iter_losses = []\n",
        "test_losses = []\n",
        "train_acc = 0\n",
        "acc_list = []\n",
        "\n",
        "for i in trange(epochs):\n",
        "  for x, y in train_loader:\n",
        "    if CUDA:\n",
        "      x = x.CUDA()\n",
        "      y = y.CUDA()\n",
        "\n",
        "  for x, y in train_loader:\n",
        "\n",
        "    y_pred = model.forward(x)\n",
        "    train_loss = criterion(y_pred, y)\n",
        "    train_acc += (y_pred.argmax(1) == y).sum().item()\n",
        "    train_iter_losses.append(train_loss)\n",
        "    \n",
        "\n",
        "    optimizer.zero_grad()\n",
        "    train_loss.backward()\n",
        "    optimizer.step()\n",
        "\n",
        "  \n",
        "  train_losses.append(train_loss)\n",
        "  scheduler.step()\n",
        "\n",
        "  for x, y in valid_loader:        \n",
        "      with torch.no_grad():\n",
        "          \n",
        "          x_forw = model.forward(x)\n",
        "          y_pred = torch.softmax(x_forw, dim=-1)\n",
        "          optimizer.zero_grad()\n",
        "          test_loss = criterion(y_pred, y)\n",
        "          test_acc = (y_pred.argmax(1) == y).sum().item()\n",
        "          acc_list.append(test_acc)\n",
        "          optimizer.step()\n",
        "          optimizer.zero_grad()\n",
        "          optimizer.step()\n",
        "\n",
        "  test_losses.append(test_loss)\n",
        "\n",
        "  print(f\"epoch { i } test loss {test_loss}, train loss {train_loss}\")"
      ],
      "execution_count": null,
      "outputs": [
        {
          "output_type": "stream",
          "text": [
            "\n",
            "  0%|          | 0/6 [00:00<?, ?it/s]\u001b[A\n",
            " 17%|█▋        | 1/6 [03:18<16:30, 198.06s/it]\u001b[A"
          ],
          "name": "stderr"
        },
        {
          "output_type": "stream",
          "text": [
            "epoch 0 test loss 2.0793299674987793, train loss 2.085638999938965\n"
          ],
          "name": "stdout"
        },
        {
          "output_type": "stream",
          "text": [
            "\n",
            " 33%|███▎      | 2/6 [06:30<13:05, 196.26s/it]\u001b[A"
          ],
          "name": "stderr"
        },
        {
          "output_type": "stream",
          "text": [
            "epoch 1 test loss 2.0627036094665527, train loss 2.0240092277526855\n"
          ],
          "name": "stdout"
        },
        {
          "output_type": "stream",
          "text": [
            "\n",
            " 50%|█████     | 3/6 [09:35<09:38, 192.94s/it]\u001b[A"
          ],
          "name": "stderr"
        },
        {
          "output_type": "stream",
          "text": [
            "epoch 2 test loss 2.068904399871826, train loss 2.1490092277526855\n"
          ],
          "name": "stdout"
        },
        {
          "output_type": "stream",
          "text": [
            "\n",
            " 67%|██████▋   | 4/6 [12:33<06:17, 188.61s/it]\u001b[A"
          ],
          "name": "stderr"
        },
        {
          "output_type": "stream",
          "text": [
            "epoch 3 test loss 2.066404104232788, train loss 2.0240092277526855\n"
          ],
          "name": "stdout"
        },
        {
          "output_type": "stream",
          "text": [
            "\n",
            " 83%|████████▎ | 5/6 [15:25<03:03, 183.51s/it]\u001b[A"
          ],
          "name": "stderr"
        },
        {
          "output_type": "stream",
          "text": [
            "epoch 4 test loss 2.0628466606140137, train loss 2.0240092277526855\n"
          ],
          "name": "stdout"
        },
        {
          "output_type": "stream",
          "text": [
            "\n",
            "100%|██████████| 6/6 [18:11<00:00, 181.95s/it]"
          ],
          "name": "stderr"
        },
        {
          "output_type": "stream",
          "text": [
            "epoch 5 test loss 2.0628907680511475, train loss 1.9615092277526855\n"
          ],
          "name": "stdout"
        },
        {
          "output_type": "stream",
          "text": [
            "\n"
          ],
          "name": "stderr"
        }
      ]
    },
    {
      "cell_type": "code",
      "metadata": {
        "id": "4iT-k56eY9UI",
        "outputId": "7fa574e0-bda1-497e-c683-67ce74cac7a1",
        "colab": {
          "base_uri": "https://localhost:8080/",
          "height": 700
        }
      },
      "source": [
        "plt.figure(figsize=(14, 12))\n",
        "plt.plot(range(epochs), train_losses)\n",
        "plt.grid()"
      ],
      "execution_count": null,
      "outputs": [
        {
          "output_type": "display_data",
          "data": {
            "image/png": "[encoded data removed]",
            "text/plain": [
              "<Figure size 1008x864 with 1 Axes>"
            ]
          },
          "metadata": {
            "tags": [],
            "needs_background": "light"
          }
        }
      ]
    },
    {
      "cell_type": "code",
      "metadata": {
        "id": "FFWMVmYZZXIy"
      },
      "source": [
        ""
      ],
      "execution_count": null,
      "outputs": []
    },
    {
      "cell_type": "markdown",
      "metadata": {
        "id": "dGLMSBPOfjjl"
      },
      "source": [
        "### **PARALLEL CNN**"
      ]
    },
    {
      "cell_type": "code",
      "metadata": {
        "id": "M5Rvj-GKcoeP"
      },
      "source": [
        "class MyParallelCNN(nn.Module):\n",
        "\n",
        "  def __init__(self, embeddings, c1_in, c2_in, c2_out, l1_out, l2_out, n_classes):\n",
        "\n",
        "    super().__init__()\n",
        "\n",
        "    self.embedding_layer = nn.Embedding.from_pretrained(embeddings, padding_idx=0)\n",
        "\n",
        "    self.batch_norm = nn.BatchNorm1d(num_features=embeddings.shape[-1])\n",
        "    self.conv1 = nn.Conv1d(in_channels=32, out_channels=64, kernel_size=2, stride=1, padding=1)\n",
        "\n",
        "    self.relu = nn.ReLU()\n",
        "    self.conv2 = nn.Conv1d(in_channels=32, out_channels=32, kernel_size=2, stride=1, padding=1)\n",
        "\n",
        "    self.batch_norm = nn.BatchNorm1d(num_features=embeddings.shape[-1])\n",
        "    self.dropout = nn.Dropout(p=0.5)\n",
        "    \n",
        "    self.linear_1 = nn.Linear(in_features=101, out_features=32)\n",
        "    self.linear_2 = nn.Linear(in_features=32, out_features=16)\n",
        "    self.linear_3 = nn.Linear(in_features=16, out_features=n_classes)\n",
        "\n",
        "\n",
        "  def forward(self, x):\n",
        "\n",
        "    x = self.embedding_layer(x)\n",
        "    x1 = self.conv1(x)\n",
        "    x1 = torch.max_pool1d(x1,padding=1, kernel_size=3)\n",
        "\n",
        "    x2 = self.conv2(x)\n",
        "    x2 = torch.avg_pool1d(x2, padding=1, kernel_size=3)\n",
        "    x = torch.cat([x1, x2], dim=1)\n",
        "    x = self.relu(x)\n",
        "    x = self.linear_1(x)\n",
        "    x = x.sum(dim=1)\n",
        "    x = torch.relu(x)\n",
        "    x = self.linear_2(x)\n",
        "    x = self.dropout(x)\n",
        "    x = torch.relu(x)\n",
        "    x = self.linear_3(x)\n",
        " \n",
        "\n",
        "    return x\n",
        " \n",
        "\n"
      ],
      "execution_count": 32,
      "outputs": []
    },
    {
      "cell_type": "code",
      "metadata": {
        "id": "tEN0IwcUfPwn"
      },
      "source": [
        "model = MyParallelCNN(embeddings=embeddings,\n",
        "                          c1_in=32, \n",
        "                          c2_in=64, \n",
        "                          c2_out=101,\n",
        "                          l1_out=32, \n",
        "                          l2_out=16,\n",
        "                           n_classes=len(category2index))"
      ],
      "execution_count": 33,
      "outputs": []
    },
    {
      "cell_type": "code",
      "metadata": {
        "id": "QJ1SLxa3fVjO"
      },
      "source": [
        "CUDA = torch.cuda.is_available()\n",
        "if CUDA:\n",
        "  model = model.CUDA()"
      ],
      "execution_count": 34,
      "outputs": []
    },
    {
      "cell_type": "code",
      "metadata": {
        "id": "wTPkcHKQfIGG"
      },
      "source": [
        "criterion = nn.CrossEntropyLoss()\n",
        "optimizer = torch.optim.Adam(params=model.parameters(), lr=0.0001)\n",
        "scheduler = torch.optim.lr_scheduler.StepLR(optimizer, 1, gamma=0.9)"
      ],
      "execution_count": 35,
      "outputs": []
    },
    {
      "cell_type": "code",
      "metadata": {
        "id": "eM76b_ZJ6GvG",
        "outputId": "507c8bd7-9584-45d1-a411-80a213b80d58",
        "colab": {
          "base_uri": "https://localhost:8080/",
          "height": 54
        }
      },
      "source": [
        "epochs = 6\n",
        "train_losses = []\n",
        "test_losses = []\n",
        "train_acc = 0\n",
        "acc_list = []\n",
        "\n",
        "for i in trange(epochs):\n",
        "  for x, y in train_loader:\n",
        "    if CUDA:\n",
        "      x = x.CUDA()\n",
        "      y = y.CUDA()\n",
        "\n",
        "  for x, y in train_loader:\n",
        "\n",
        "    y_pred = model.forward(x)\n",
        "    train_loss = criterion(y_pred, y)\n",
        "    train_acc += (y_pred.argmax(1) == y).sum().item()\n",
        "    \n",
        "\n",
        "    optimizer.zero_grad()\n",
        "    train_loss.backward()\n",
        "    optimizer.step()\n",
        "  \n",
        "  train_losses.append(train_loss)\n",
        "  scheduler.step()\n",
        "\n",
        "  for x, y in valid_loader:        \n",
        "      with torch.no_grad():\n",
        "          \n",
        "          x_forw = model.forward(x)\n",
        "          y_pred = torch.softmax(x_forw, dim=-1)\n",
        "          optimizer.zero_grad()\n",
        "          test_loss = criterion(y_pred, y)\n",
        "          test_acc = (y_pred.argmax(1) == y).sum().item()\n",
        "          acc_list.append(test_acc)\n",
        "          optimizer.step()\n",
        "          optimizer.zero_grad()\n",
        "          optimizer.step()\n",
        "\n",
        "  test_losses.append(test_loss)\n",
        "\n",
        "  print(f\"epoch {i} test loss {test_loss}, train loss {train_loss}\")"
      ],
      "execution_count": null,
      "outputs": [
        {
          "output_type": "stream",
          "text": [
            "\n",
            "  0%|          | 0/6 [00:00<?, ?it/s]\u001b[A"
          ],
          "name": "stderr"
        }
      ]
    },
    {
      "cell_type": "code",
      "metadata": {
        "id": "n3DKZgq1uB63",
        "outputId": "c27c6d3f-acd7-4a63-c5e1-9dbb85eccadc",
        "colab": {
          "base_uri": "https://localhost:8080/",
          "height": 399
        }
      },
      "source": [
        "epochs = 6\n",
        "train_losses = []\n",
        "test_losses = []\n",
        "train_acc = 0\n",
        "acc_list = []\n",
        "\n",
        "for i in trange(epochs):\n",
        "  for x, y in train_loader:\n",
        "    if CUDA:\n",
        "      x = x.CUDA()\n",
        "      y = y.CUDA()\n",
        "\n",
        "  for x, y in train_loader:\n",
        "\n",
        "    y_pred = model.forward(x)\n",
        "    train_loss = criterion(y_pred, y)\n",
        "    train_acc += (y_pred.argmax(1) == y).sum().item()\n",
        "    \n",
        "\n",
        "    optimizer.zero_grad()\n",
        "    train_loss.backward()\n",
        "    optimizer.step()\n",
        "  \n",
        "  train_losses.append(train_loss)\n",
        "  scheduler.step()\n",
        "\n",
        "  for x, y in valid_loader:        \n",
        "      with torch.no_grad():\n",
        "          \n",
        "          x_forw = model.forward(x)\n",
        "          y_pred = torch.softmax(x_forw, dim=-1)\n",
        "          optimizer.zero_grad()\n",
        "          test_loss = criterion(y_pred, y)\n",
        "          test_acc = (y_pred.argmax(1) == y).sum().item()\n",
        "          acc_list.append(test_acc)\n",
        "          optimizer.step()\n",
        "          optimizer.zero_grad()\n",
        "          optimizer.step()\n",
        "\n",
        "  test_losses.append(test_loss)\n",
        "\n",
        "  print(f\"epoch {epoch} test loss {test_loss}, train loss {train_loss}\")"
      ],
      "execution_count": null,
      "outputs": [
        {
          "output_type": "stream",
          "text": [
            "\n",
            "\n",
            "  0%|          | 0/6 [00:00<?, ?it/s]\u001b[A\u001b[A\n",
            "\n",
            " 17%|█▋        | 1/6 [03:24<17:00, 204.13s/it]\u001b[A\u001b[A"
          ],
          "name": "stderr"
        },
        {
          "output_type": "stream",
          "text": [
            "epoch 5 test loss 2.06768536567688, train loss 2.022841453552246\n"
          ],
          "name": "stdout"
        },
        {
          "output_type": "stream",
          "text": [
            "\n",
            "\n",
            " 33%|███▎      | 2/6 [06:48<13:36, 204.19s/it]\u001b[A\u001b[A"
          ],
          "name": "stderr"
        },
        {
          "output_type": "stream",
          "text": [
            "epoch 5 test loss 2.0626349449157715, train loss 2.0073325634002686\n"
          ],
          "name": "stdout"
        },
        {
          "output_type": "stream",
          "text": [
            "\n",
            "\n",
            " 50%|█████     | 3/6 [10:11<10:11, 203.97s/it]\u001b[A\u001b[A"
          ],
          "name": "stderr"
        },
        {
          "output_type": "stream",
          "text": [
            "epoch 5 test loss 2.0507915019989014, train loss 2.0209686756134033\n"
          ],
          "name": "stdout"
        },
        {
          "output_type": "stream",
          "text": [
            "\n",
            "\n",
            " 67%|██████▋   | 4/6 [13:33<06:46, 203.38s/it]\u001b[A\u001b[A"
          ],
          "name": "stderr"
        },
        {
          "output_type": "stream",
          "text": [
            "epoch 5 test loss 2.0471911430358887, train loss 1.9537488222122192\n"
          ],
          "name": "stdout"
        },
        {
          "output_type": "stream",
          "text": [
            "\n",
            "\n",
            " 83%|████████▎ | 5/6 [16:56<03:23, 203.22s/it]\u001b[A\u001b[A"
          ],
          "name": "stderr"
        },
        {
          "output_type": "stream",
          "text": [
            "epoch 5 test loss 2.0413196086883545, train loss 1.9647749662399292\n"
          ],
          "name": "stdout"
        },
        {
          "output_type": "stream",
          "text": [
            "\n",
            "\n",
            "100%|██████████| 6/6 [20:19<00:00, 203.22s/it]"
          ],
          "name": "stderr"
        },
        {
          "output_type": "stream",
          "text": [
            "epoch 5 test loss 2.0301313400268555, train loss 1.950714349746704\n"
          ],
          "name": "stdout"
        },
        {
          "output_type": "stream",
          "text": [
            "\n"
          ],
          "name": "stderr"
        }
      ]
    },
    {
      "cell_type": "code",
      "metadata": {
        "id": "HXpJGbrjfdp2",
        "outputId": "53b56607-6710-4b8a-96a0-d44e00564601",
        "colab": {
          "base_uri": "https://localhost:8080/",
          "height": 700
        }
      },
      "source": [
        "plt.figure(figsize=(14, 12))\n",
        "plt.plot(range(epochs), train_losses)\n",
        "plt.grid()"
      ],
      "execution_count": null,
      "outputs": [
        {
          "output_type": "display_data",
          "data": {
            "image/png": "[encoded data removed]",
            "text/plain": [
              "<Figure size 1008x864 with 1 Axes>"
            ]
          },
          "metadata": {
            "tags": [],
            "needs_background": "light"
          }
        }
      ]
    },
    {
      "cell_type": "code",
      "metadata": {
        "id": "_OJ708B3f2YY"
      },
      "source": [
        ""
      ],
      "execution_count": null,
      "outputs": []
    },
    {
      "cell_type": "code",
      "metadata": {
        "id": "I6zK_tnLf_rH"
      },
      "source": [
        ""
      ],
      "execution_count": null,
      "outputs": []
    },
    {
      "cell_type": "code",
      "metadata": {
        "id": "YVTGBqfzf_og"
      },
      "source": [
        ""
      ],
      "execution_count": null,
      "outputs": []
    },
    {
      "cell_type": "markdown",
      "metadata": {
        "id": "2N5RPEuzgAOi"
      },
      "source": [
        "### **LSTM**"
      ]
    },
    {
      "cell_type": "code",
      "metadata": {
        "id": "W_IVAYuFoMuV"
      },
      "source": [
        "class LSTM(nn.Module):\n",
        "    \n",
        "    def __init__(self, embeddings, hidden_size, linear_1_size, linear_2_size, n_classes):\n",
        "        super().__init__()\n",
        "        \n",
        "        self.embedding_layer = nn.Embedding.from_pretrained(embeddings, padding_idx=0)\n",
        "        \n",
        "        self.batch_norm = nn.BatchNorm1d(num_features=embeddings.shape[-1])\n",
        "\n",
        "        self.lstm = nn.LSTM(input_size=300, hidden_size=128, num_layers=2, batch_first=True, dropout=0.3, bidirectional=True)\n",
        "\n",
        "        \n",
        "        self.linear_1 = nn.Linear(in_features=256, out_features=32)\n",
        "\n",
        "        self.linear_2 = nn.Linear(in_features=32, out_features=16)\n",
        "        self.linear_3 = nn.Linear(in_features=16, out_features=128)\n",
        "        \n",
        "    def forward(self, x):\n",
        "\n",
        "        x = self.embedding_layer(x)\n",
        "        x, _ = self.lstm(x)\n",
        "        x = x.mean(dim=1)\n",
        "        x = self.linear_1(x)\n",
        "        x = torch.relu(x)\n",
        "        x = self.linear_2(x)\n",
        "        x = torch.relu(x)\n",
        "        \n",
        "        x = self.linear_3(x)\n",
        "        \n",
        "        \n",
        "        return x"
      ],
      "execution_count": null,
      "outputs": []
    },
    {
      "cell_type": "code",
      "metadata": {
        "id": "_C1m6sFpqusd"
      },
      "source": [
        "model = LSTM(embeddings=embeddings,\n",
        "                           linear_1_size=256, \n",
        "                           linear_2_size=128,\n",
        "                            hidden_size = 64,\n",
        "                           n_classes=len(category2index))"
      ],
      "execution_count": null,
      "outputs": []
    },
    {
      "cell_type": "code",
      "metadata": {
        "id": "isXWZA195Oho"
      },
      "source": [
        "CUDA = torch.cuda.is_available()\n",
        "if CUDA:\n",
        "  model = model.CUDA()"
      ],
      "execution_count": null,
      "outputs": []
    },
    {
      "cell_type": "code",
      "metadata": {
        "id": "0FuWm16yuQfZ"
      },
      "source": [
        "criterion = nn.CrossEntropyLoss()\n",
        "optimizer = torch.optim.Adam(params=model.parameters(), lr=0.0001)\n",
        "scheduler = torch.optim.lr_scheduler.StepLR(optimizer, 1, gamma=0.9)"
      ],
      "execution_count": null,
      "outputs": []
    },
    {
      "cell_type": "code",
      "metadata": {
        "id": "11qR6F15vKPC",
        "outputId": "b59b1196-000d-4932-af89-41af792bf003",
        "colab": {
          "base_uri": "https://localhost:8080/",
          "height": 399
        }
      },
      "source": [
        "epochs = 6\n",
        "train_losses = []\n",
        "test_losses = []\n",
        "train_acc = 0\n",
        "acc_list = []\n",
        "\n",
        "for i in trange(epochs):\n",
        "  for x, y in train_loader:\n",
        "    if CUDA:\n",
        "      x = x.CUDA()\n",
        "      y = y.CUDA()\n",
        "\n",
        "  for x, y in train_loader:\n",
        "\n",
        "    y_pred = model.forward(x)\n",
        "    train_loss = criterion(y_pred, y)\n",
        "    train_acc += (y_pred.argmax(1) == y).sum().item()\n",
        "    \n",
        "\n",
        "    optimizer.zero_grad()\n",
        "    train_loss.backward()\n",
        "    optimizer.step()\n",
        "  \n",
        "  train_losses.append(train_loss)\n",
        "  scheduler.step()\n",
        "\n",
        "  for x, y in valid_loader:        \n",
        "      with torch.no_grad():\n",
        "          \n",
        "          x_forw = model.forward(x)\n",
        "          y_pred = torch.softmax(x_forw, dim=-1)\n",
        "          optimizer.zero_grad()\n",
        "          test_loss = criterion(y_pred, y)\n",
        "          test_acc = (y_pred.argmax(1) == y).sum().item()\n",
        "          acc_list.append(test_acc)\n",
        "          optimizer.step()\n",
        "          optimizer.zero_grad()\n",
        "          optimizer.step()\n",
        "\n",
        "  test_losses.append(test_loss)\n",
        "\n",
        "  print(f\"epoch {epoch} test loss {test_loss}, train loss {train_loss}\")"
      ],
      "execution_count": null,
      "outputs": [
        {
          "output_type": "stream",
          "text": [
            "\n",
            "\n",
            "  0%|          | 0/6 [00:00<?, ?it/s]\u001b[A\u001b[A\n",
            "\n",
            " 17%|█▋        | 1/6 [16:07<1:20:36, 967.35s/it]\u001b[A\u001b[A"
          ],
          "name": "stderr"
        },
        {
          "output_type": "stream",
          "text": [
            "epoch 5 test loss 4.6941447257995605, train loss 2.1845030784606934\n"
          ],
          "name": "stdout"
        },
        {
          "output_type": "stream",
          "text": [
            "\n",
            "\n",
            " 33%|███▎      | 2/6 [32:13<1:04:28, 967.11s/it]\u001b[A\u001b[A"
          ],
          "name": "stderr"
        },
        {
          "output_type": "stream",
          "text": [
            "epoch 5 test loss 4.6647443771362305, train loss 1.7579470872879028\n"
          ],
          "name": "stdout"
        },
        {
          "output_type": "stream",
          "text": [
            "\n",
            "\n",
            " 50%|█████     | 3/6 [48:19<48:20, 966.77s/it]  \u001b[A\u001b[A"
          ],
          "name": "stderr"
        },
        {
          "output_type": "stream",
          "text": [
            "epoch 5 test loss 4.530211925506592, train loss 1.3703759908676147\n"
          ],
          "name": "stdout"
        },
        {
          "output_type": "stream",
          "text": [
            "\n",
            "\n",
            " 67%|██████▋   | 4/6 [1:04:27<32:13, 966.99s/it]\u001b[A\u001b[A"
          ],
          "name": "stderr"
        },
        {
          "output_type": "stream",
          "text": [
            "epoch 5 test loss 4.467827796936035, train loss 1.2999860048294067\n"
          ],
          "name": "stdout"
        },
        {
          "output_type": "stream",
          "text": [
            "\n",
            "\n",
            " 83%|████████▎ | 5/6 [1:20:34<16:07, 967.03s/it]\u001b[A\u001b[A"
          ],
          "name": "stderr"
        },
        {
          "output_type": "stream",
          "text": [
            "epoch 5 test loss 4.4262471199035645, train loss 0.9905573129653931\n"
          ],
          "name": "stdout"
        },
        {
          "output_type": "stream",
          "text": [
            "\n",
            "\n",
            "100%|██████████| 6/6 [1:36:41<00:00, 966.94s/it]"
          ],
          "name": "stderr"
        },
        {
          "output_type": "stream",
          "text": [
            "epoch 5 test loss 4.390498161315918, train loss 0.9315201640129089\n"
          ],
          "name": "stdout"
        },
        {
          "output_type": "stream",
          "text": [
            "\n"
          ],
          "name": "stderr"
        }
      ]
    },
    {
      "cell_type": "code",
      "metadata": {
        "id": "DkkAMvch5x7l",
        "outputId": "126fd0c1-0976-4f78-c955-905d5f009269",
        "colab": {
          "base_uri": "https://localhost:8080/",
          "height": 700
        }
      },
      "source": [
        "plt.figure(figsize=(14, 12))\n",
        "plt.plot(range(epochs), train_losses)\n",
        "plt.grid()"
      ],
      "execution_count": null,
      "outputs": [
        {
          "output_type": "display_data",
          "data": {
            "image/png": "[encoded data removed]",
            "text/plain": [
              "<Figure size 1008x864 with 1 Axes>"
            ]
          },
          "metadata": {
            "tags": [],
            "needs_background": "light"
          }
        }
      ]
    },
    {
      "cell_type": "code",
      "metadata": {
        "id": "t9mdRRye53Ko"
      },
      "source": [
        ""
      ],
      "execution_count": null,
      "outputs": []
    }
  ]
}