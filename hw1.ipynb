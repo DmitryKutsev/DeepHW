{
  "nbformat": 4,
  "nbformat_minor": 0,
  "metadata": {
    "colab": {
      "name": "Untitled39.ipynb",
      "provenance": [],
      "collapsed_sections": [],
      "authorship_tag": "ABX9TyOgRRVg8cehE0SLBlua1hDD",
      "include_colab_link": true
    },
    "kernelspec": {
      "name": "python3",
      "display_name": "Python 3"
    }
  },
  "cells": [
    {
      "cell_type": "markdown",
      "metadata": {
        "id": "view-in-github",
        "colab_type": "text"
      },
      "source": [
        "<a href=\"https://colab.research.google.com/github/DmitryKutsev/DeepHW/blob/master/hw1.ipynb\" target=\"_parent\"><img src=\"https://colab.research.google.com/assets/colab-badge.svg\" alt=\"Open In Colab\"/></a>"
      ]
    },
    {
      "cell_type": "code",
      "metadata": {
        "id": "WPcrFxjcqfCb",
        "colab_type": "code",
        "colab": {}
      },
      "source": [
        "import numpy as np\n",
        "from math import e\n",
        "from sklearn.metrics import classification_report\n",
        "\n",
        "import torch\n",
        "from torch.utils.data import DataLoader\n",
        "from torchvision.datasets import MNIST\n",
        "from torchvision import transforms\n",
        "\n",
        "import matplotlib.pyplot as plt\n",
        "\n",
        "from tqdm import tqdm\n",
        "\n",
        "from sklearn.metrics import accuracy_score\n",
        "\n",
        "import time"
      ],
      "execution_count": 1,
      "outputs": []
    },
    {
      "cell_type": "code",
      "metadata": {
        "id": "naE_7g2-rKxw",
        "colab_type": "code",
        "colab": {}
      },
      "source": [
        "\n",
        "transform = transforms.Compose([\n",
        "    transforms.ToTensor(),\n",
        "    transforms.Normalize((0.1307,), (0.3081,))\n",
        "])"
      ],
      "execution_count": 81,
      "outputs": []
    },
    {
      "cell_type": "code",
      "metadata": {
        "id": "2Z_847ZDr2F-",
        "colab_type": "code",
        "colab": {}
      },
      "source": [
        "\n",
        "train_dataset = MNIST('.', train=True, download=True, transform=transform)\n",
        "test_dataset = MNIST('.', train=False, transform=transform)"
      ],
      "execution_count": 82,
      "outputs": []
    },
    {
      "cell_type": "code",
      "metadata": {
        "id": "2AHf1BHHr4N-",
        "colab_type": "code",
        "colab": {}
      },
      "source": [
        "train_dataset.data = train_dataset.data[(train_dataset.targets == 3) | (train_dataset.targets == 7)]\n",
        "train_dataset.targets = train_dataset.targets[(train_dataset.targets == 3) | (train_dataset.targets == 7)]\n",
        "\n",
        "test_dataset.data = test_dataset.data[(test_dataset.targets == 3) | (test_dataset.targets == 7)]\n",
        "test_dataset.targets = test_dataset.targets[(test_dataset.targets == 3) | (test_dataset.targets == 7)]\n",
        "\n",
        "train_dataset.targets = (train_dataset.targets == 7).long()\n",
        "test_dataset.targets = (test_dataset.targets == 7).long()\n",
        "#what is .long()?"
      ],
      "execution_count": 83,
      "outputs": []
    },
    {
      "cell_type": "code",
      "metadata": {
        "id": "O_NDrJ3-r9WT",
        "colab_type": "code",
        "colab": {}
      },
      "source": [
        "train_loader = DataLoader(train_dataset, batch_size=128, shuffle=True)\n",
        "test_loader = DataLoader(test_dataset, batch_size=128, shuffle=False)"
      ],
      "execution_count": 84,
      "outputs": []
    },
    {
      "cell_type": "code",
      "metadata": {
        "id": "eTMAii9ksACH",
        "colab_type": "code",
        "colab": {}
      },
      "source": [
        "X, y = next(iter(train_loader))\n",
        "X = X.numpy()\n",
        "y = y.numpy()\n",
        "\n",
        "plt.figure(figsize=(6, 7))\n",
        "for i in range(25):\n",
        "    plt.subplot(5, 5, i+1)\n",
        "    plt.imshow(X[i].reshape(28, 28), cmap=plt.cm.Greys_r)\n",
        "    plt.title(y[i])\n",
        "    plt.axis('off')"
      ],
      "execution_count": null,
      "outputs": []
    },
    {
      "cell_type": "code",
      "metadata": {
        "id": "cdkcLf80sGnp",
        "colab_type": "code",
        "colab": {}
      },
      "source": [
        "for x, y in train_loader:\n",
        "    break"
      ],
      "execution_count": 7,
      "outputs": []
    },
    {
      "cell_type": "code",
      "metadata": {
        "id": "SAwWzNv3sJ8m",
        "colab_type": "code",
        "colab": {
          "base_uri": "https://localhost:8080/",
          "height": 34
        },
        "outputId": "b0524591-685a-4a52-b58c-d0112350e074"
      },
      "source": [
        "x.shape"
      ],
      "execution_count": 8,
      "outputs": [
        {
          "output_type": "execute_result",
          "data": {
            "text/plain": [
              "torch.Size([128, 1, 28, 28])"
            ]
          },
          "metadata": {
            "tags": []
          },
          "execution_count": 8
        }
      ]
    },
    {
      "cell_type": "code",
      "metadata": {
        "id": "j11cctso7EGJ",
        "colab_type": "code",
        "colab": {
          "base_uri": "https://localhost:8080/",
          "height": 34
        },
        "outputId": "e09e5837-e6c0-405c-d3a3-8dccc75cbd55"
      },
      "source": [
        "x.view(x.shape[0], -1).numpy().shape"
      ],
      "execution_count": 9,
      "outputs": [
        {
          "output_type": "execute_result",
          "data": {
            "text/plain": [
              "(128, 784)"
            ]
          },
          "metadata": {
            "tags": []
          },
          "execution_count": 9
        }
      ]
    },
    {
      "cell_type": "code",
      "metadata": {
        "id": "Jm1uGHEABmdn",
        "colab_type": "code",
        "colab": {}
      },
      "source": [
        "\n",
        "for x, y in train_loader:\n",
        "    x = x.view(x.shape[0], -1).numpy()\n",
        "    y = y.numpy()\n",
        "    break"
      ],
      "execution_count": 10,
      "outputs": []
    },
    {
      "cell_type": "code",
      "metadata": {
        "id": "YuTrt-4aBwMX",
        "colab_type": "code",
        "colab": {
          "base_uri": "https://localhost:8080/",
          "height": 68
        },
        "outputId": "28d757f0-884d-4d55-c7ce-767195d66539"
      },
      "source": [
        "\n",
        "# количество эпох - полных проходов по датасету\n",
        "epochs = 3\n",
        "\n",
        "for n_epoch in range(epochs):\n",
        "    \n",
        "    dataset_passed_samples = 0\n",
        "    \n",
        "    for x, y in train_loader:\n",
        "        \n",
        "        # вот здесь мы могли бы как-то манипулировать с данными\n",
        "        # например, учить, но пока этого делать не будет\n",
        "        # только демонстрация\n",
        "        \n",
        "        time.sleep(0.05)\n",
        "        \n",
        "        dataset_passed_samples += x.shape[0]\n",
        "        \n",
        "        dataset_passed_percent = dataset_passed_samples * 100 / train_loader.dataset.data.shape[0]\n",
        "        \n",
        "        print(f'Эпоха - {n_epoch + 1}, прошли - {dataset_passed_percent:.2f} % датасета', end='\\r')\n",
        "        \n",
        "    print('\\r')"
      ],
      "execution_count": 11,
      "outputs": [
        {
          "output_type": "stream",
          "text": [
            "Эпоха - 1, прошли - 100.00 % датасета\n",
            "Эпоха - 2, прошли - 100.00 % датасета\n",
            "Эпоха - 3, прошли - 100.00 % датасета\n"
          ],
          "name": "stdout"
        }
      ]
    },
    {
      "cell_type": "code",
      "metadata": {
        "id": "CfyviuypB2nI",
        "colab_type": "code",
        "colab": {
          "base_uri": "https://localhost:8080/",
          "height": 238
        },
        "outputId": "2af3e591-4e57-4f08-8328-3b69ec4d6623"
      },
      "source": [
        "# таким образом мы создаем матрицу 64 на 512 с рандомными значениями\n",
        "x = np.random.rand(64, 512)\n",
        "x"
      ],
      "execution_count": 12,
      "outputs": [
        {
          "output_type": "execute_result",
          "data": {
            "text/plain": [
              "array([[0.02985523, 0.49481437, 0.09555917, ..., 0.76585943, 0.01128554,\n",
              "        0.23499294],\n",
              "       [0.90019537, 0.0091655 , 0.24465949, ..., 0.37382022, 0.09811704,\n",
              "        0.00714866],\n",
              "       [0.86572842, 0.55911628, 0.02091923, ..., 0.29595122, 0.34516211,\n",
              "        0.65041541],\n",
              "       ...,\n",
              "       [0.29693344, 0.27898124, 0.90633774, ..., 0.69239156, 0.643818  ,\n",
              "        0.61531992],\n",
              "       [0.72245298, 0.05079982, 0.81575928, ..., 0.35930994, 0.89627771,\n",
              "        0.26190604],\n",
              "       [0.19054639, 0.64617109, 0.54463863, ..., 0.84981714, 0.85533502,\n",
              "        0.58372335]])"
            ]
          },
          "metadata": {
            "tags": []
          },
          "execution_count": 12
        }
      ]
    },
    {
      "cell_type": "code",
      "metadata": {
        "id": "8Wns37MuFZrc",
        "colab_type": "code",
        "colab": {
          "base_uri": "https://localhost:8080/",
          "height": 238
        },
        "outputId": "8478b8d9-0027-42d4-a11b-0f14917353cf"
      },
      "source": [
        "# большинство функций применяются к каждому элементу массива\n",
        "# здесь мы каждый элемент массива возвели в квадрат и прибавили к получившемуся значению логарифм элемента матрицы \n",
        "x ** 2 + np.log(x)"
      ],
      "execution_count": 13,
      "outputs": [
        {
          "output_type": "execute_result",
          "data": {
            "text/plain": [
              "array([[-3.51050383, -0.45873134, -2.33887808, ...,  0.31978404,\n",
              "        -4.48410555, -1.39297812],\n",
              "       [ 0.70520823, -4.69222476, -1.34802959, ..., -0.84423874,\n",
              "        -2.31196722, -4.94077916],\n",
              "       [ 0.60530168, -0.26878679, -3.86664903, ..., -1.1299735 ,\n",
              "        -0.9446042 , -0.00710382],\n",
              "       ...,\n",
              "       [-1.1260778 , -1.19878021,  0.72310483, ...,  0.11180244,\n",
              "        -0.02583757, -0.10699435],\n",
              "       [ 0.19683538, -2.97728176,  0.46182723, ..., -0.89446629,\n",
              "         0.69380877, -1.27117469],\n",
              "       [-1.62155169, -0.01915388, -0.31100154, ...,  0.55945508,\n",
              "         0.57533594, -0.19759517]])"
            ]
          },
          "metadata": {
            "tags": []
          },
          "execution_count": 13
        }
      ]
    },
    {
      "cell_type": "code",
      "metadata": {
        "id": "7qvLebhJFgOr",
        "colab_type": "code",
        "colab": {}
      },
      "source": [
        "y = np.random.rand(512, 1024)\n",
        "# скалярное произведение\n",
        "res = np.dot(x, y)"
      ],
      "execution_count": 14,
      "outputs": []
    },
    {
      "cell_type": "code",
      "metadata": {
        "id": "lVDU54LNFlNa",
        "colab_type": "code",
        "colab": {
          "base_uri": "https://localhost:8080/",
          "height": 34
        },
        "outputId": "c3412088-200a-4210-9cdb-8764f221f832"
      },
      "source": [
        "res.shape == (x.shape[0], y.shape[1])"
      ],
      "execution_count": 15,
      "outputs": [
        {
          "output_type": "execute_result",
          "data": {
            "text/plain": [
              "True"
            ]
          },
          "metadata": {
            "tags": []
          },
          "execution_count": 15
        }
      ]
    },
    {
      "cell_type": "code",
      "metadata": {
        "id": "DVUpKZj-FqRG",
        "colab_type": "code",
        "colab": {
          "base_uri": "https://localhost:8080/",
          "height": 34
        },
        "outputId": "2082f59f-ac06-40ed-d6a6-c58e36390d01"
      },
      "source": [
        "x.shape"
      ],
      "execution_count": 16,
      "outputs": [
        {
          "output_type": "execute_result",
          "data": {
            "text/plain": [
              "(64, 512)"
            ]
          },
          "metadata": {
            "tags": []
          },
          "execution_count": 16
        }
      ]
    },
    {
      "cell_type": "code",
      "metadata": {
        "id": "NKBF3EFnFtjJ",
        "colab_type": "code",
        "colab": {
          "base_uri": "https://localhost:8080/",
          "height": 34
        },
        "outputId": "84e2c650-6f3f-4a9b-f81b-63239216c269"
      },
      "source": [
        "res.shape"
      ],
      "execution_count": 17,
      "outputs": [
        {
          "output_type": "execute_result",
          "data": {
            "text/plain": [
              "(64, 1024)"
            ]
          },
          "metadata": {
            "tags": []
          },
          "execution_count": 17
        }
      ]
    },
    {
      "cell_type": "code",
      "metadata": {
        "id": "HdKlTj8hBel8",
        "colab_type": "code",
        "colab": {}
      },
      "source": [
        "# x = np.random.rand(64, 512)\n",
        "# y = np.random.rand(512, 1024)"
      ],
      "execution_count": 18,
      "outputs": []
    },
    {
      "cell_type": "code",
      "metadata": {
        "id": "TuC5WYDrB8LE",
        "colab_type": "code",
        "colab": {}
      },
      "source": [
        "\n",
        "# res.shape == (x.shape[0], y.shape[1])"
      ],
      "execution_count": 19,
      "outputs": []
    },
    {
      "cell_type": "code",
      "metadata": {
        "id": "mcOJ193DHAQN",
        "colab_type": "code",
        "colab": {}
      },
      "source": [
        "# x = np.random.rand(64, 512)\n",
        "# y = np.random.rand(512, 1024)\n",
        "\n",
        "\n",
        "# for x, y in train_loader:\n",
        "#     x = x.view(x.shape[0], -1).numpy()\n",
        "#     y = y.numpy()\n",
        "#     break\n"
      ],
      "execution_count": 20,
      "outputs": []
    },
    {
      "cell_type": "code",
      "metadata": {
        "id": "XtoXKwRLFvSI",
        "colab_type": "code",
        "colab": {
          "base_uri": "https://localhost:8080/",
          "height": 68
        },
        "outputId": "148f84e0-eb03-45f3-ddde-25d5959eaa40"
      },
      "source": [
        "# y = np.random.rand(512, 1024)\n",
        "# x = np.random.rand(64, 512)\n",
        "\n",
        "learning_rate = 0.01\n",
        "epochs = 3\n",
        "\n",
        "w1 = 0.5\n",
        "b1 = 0.01\n",
        "w2 = 0.7\n",
        "b2 = 0.001\n",
        "\n",
        "loss_func = 0\n",
        "\n",
        "losses = []\n",
        "\n",
        "for n_epoch in range(epochs):\n",
        "    \n",
        "    print(f'Epoch: {n_epoch + 1}')\n",
        "    \n",
        "    for x, y in train_loader:\n",
        "        \n",
        "        x = x.view(x.shape[0], -1).numpy()\n",
        "        y = np.expand_dims(y.numpy(), 1)\n",
        "\n",
        "\n",
        "        func1 = x*w1 + b1\n",
        "        func1 = np.tanh(func1)\n",
        "\n",
        "        func2 = func1*w2 + b2\n",
        "        func2 = np.tanh(func2)\n",
        "                \n",
        "        # forward\n",
        "        \n",
        "        # рассчет bce\n",
        "        # не забудьте добавить это значение в массив losses\n",
        "\n",
        "        my_y = 1/(1 + np.exp(-func2))\n",
        "        #loss = -np.summ(y*np.log(func2) + (1-y)*np.log(1-func2))/len(train_loader)\n",
        "        loss = -np.mean(y*np.log(my_y) + (1-y)*np.log(1-my_y))\n",
        "        losses.append(loss)\n",
        "          \n",
        "        # backward\n",
        "\n",
        "        \n",
        "        # gradient descent"
      ],
      "execution_count": 86,
      "outputs": [
        {
          "output_type": "stream",
          "text": [
            "Epoch: 1\n",
            "Epoch: 2\n",
            "Epoch: 3\n"
          ],
          "name": "stdout"
        }
      ]
    },
    {
      "cell_type": "code",
      "metadata": {
        "id": "XiPSxlYjqLPa",
        "colab_type": "code",
        "colab": {}
      },
      "source": [
        "#losses"
      ],
      "execution_count": 88,
      "outputs": []
    },
    {
      "cell_type": "code",
      "metadata": {
        "id": "nRphhr-xyRJl",
        "colab_type": "code",
        "colab": {}
      },
      "source": [
        ""
      ],
      "execution_count": 48,
      "outputs": []
    },
    {
      "cell_type": "code",
      "metadata": {
        "id": "ZMCy-w2DyeUg",
        "colab_type": "code",
        "colab": {}
      },
      "source": [
        ""
      ],
      "execution_count": null,
      "outputs": []
    }
  ]
}