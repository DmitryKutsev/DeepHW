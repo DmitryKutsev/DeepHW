{
  "nbformat": 4,
  "nbformat_minor": 0,
  "metadata": {
    "colab": {
      "name": "Untitled43.ipynb",
      "provenance": [],
      "authorship_tag": "ABX9TyOzAQlW8EvzDudKdfoaJjJF",
      "include_colab_link": true
    },
    "kernelspec": {
      "name": "python3",
      "display_name": "Python 3"
    }
  },
  "cells": [
    {
      "cell_type": "markdown",
      "metadata": {
        "id": "view-in-github",
        "colab_type": "text"
      },
      "source": [
        "<a href=\"https://colab.research.google.com/github/DmitryKutsev/DeepHW/blob/master/hw2.ipynb\" target=\"_parent\"><img src=\"https://colab.research.google.com/assets/colab-badge.svg\" alt=\"Open In Colab\"/></a>"
      ]
    },
    {
      "cell_type": "code",
      "metadata": {
        "id": "hkCUQ7QX3CF5",
        "outputId": "0f814196-7897-4a74-9a61-33e0f0624e5b",
        "colab": {
          "base_uri": "https://localhost:8080/",
          "height": 204
        }
      },
      "source": [
        "!wget https://dl.fbaipublicfiles.com/fasttext/vectors-english/wiki-news-300d-1M.vec.zip"
      ],
      "execution_count": 1,
      "outputs": [
        {
          "output_type": "stream",
          "text": [
            "--2020-10-19 13:34:44--  https://dl.fbaipublicfiles.com/fasttext/vectors-english/wiki-news-300d-1M.vec.zip\n",
            "Resolving dl.fbaipublicfiles.com (dl.fbaipublicfiles.com)... 172.67.9.4, 104.22.75.142, 104.22.74.142, ...\n",
            "Connecting to dl.fbaipublicfiles.com (dl.fbaipublicfiles.com)|172.67.9.4|:443... connected.\n",
            "HTTP request sent, awaiting response... 200 OK\n",
            "Length: 681808098 (650M) [application/zip]\n",
            "Saving to: ‘wiki-news-300d-1M.vec.zip’\n",
            "\n",
            "wiki-news-300d-1M.v 100%[===================>] 650.22M  16.7MB/s    in 40s     \n",
            "\n",
            "2020-10-19 13:35:25 (16.2 MB/s) - ‘wiki-news-300d-1M.vec.zip’ saved [681808098/681808098]\n",
            "\n"
          ],
          "name": "stdout"
        }
      ]
    },
    {
      "cell_type": "code",
      "metadata": {
        "id": "38TD-0q43J7G",
        "outputId": "010aebcf-c429-4b3d-eefc-e8edcf711fb9",
        "colab": {
          "base_uri": "https://localhost:8080/",
          "height": 217
        }
      },
      "source": [
        "!wget https://raw.githubusercontent.com/BobaZooba/HSE-Deep-Learning-in-NLP-Course/master/Week%203/data.py"
      ],
      "execution_count": 2,
      "outputs": [
        {
          "output_type": "stream",
          "text": [
            "--2020-10-19 13:35:25--  https://raw.githubusercontent.com/BobaZooba/HSE-Deep-Learning-in-NLP-Course/master/Week%203/data.py\n",
            "Resolving raw.githubusercontent.com (raw.githubusercontent.com)... 151.101.0.133, 151.101.64.133, 151.101.128.133, ...\n",
            "Connecting to raw.githubusercontent.com (raw.githubusercontent.com)|151.101.0.133|:443... connected.\n",
            "HTTP request sent, awaiting response... 200 OK\n",
            "Length: 10563 (10K) [text/plain]\n",
            "Saving to: ‘data.py’\n",
            "\n",
            "data.py             100%[===================>]  10.32K  --.-KB/s    in 0s      \n",
            "\n",
            "2020-10-19 13:35:26 (91.9 MB/s) - ‘data.py’ saved [10563/10563]\n",
            "\n"
          ],
          "name": "stdout"
        }
      ]
    },
    {
      "cell_type": "code",
      "metadata": {
        "id": "tJ4O-_ZN3QZo"
      },
      "source": [
        "!mv data.py mydata.py"
      ],
      "execution_count": 3,
      "outputs": []
    },
    {
      "cell_type": "code",
      "metadata": {
        "id": "_jr1Wb2V3L9u"
      },
      "source": [
        "from tqdm import trange\n",
        "import math\n",
        "import pandas as pd\n",
        "import numpy as np\n",
        "from nltk.tokenize import word_tokenize, wordpunct_tokenize\n",
        "from tqdm import tqdm\n",
        "from torch import nn\n",
        "import torch\n",
        "from torch.utils.data import Dataset, DataLoader\n",
        "import zipfile\n",
        "from torch import nn\n",
        "import seaborn as sns\n",
        "from mydata import Downloader, Parser\n",
        "import matplotlib.pyplot as plt"
      ],
      "execution_count": 25,
      "outputs": []
    },
    {
      "cell_type": "code",
      "metadata": {
        "id": "qVlAsNjhxJxL",
        "outputId": "3a4203dc-73e9-4531-d7b9-b6214e2ec28e",
        "colab": {
          "base_uri": "https://localhost:8080/",
          "height": 35
        }
      },
      "source": [
        "torch.__version__"
      ],
      "execution_count": 5,
      "outputs": [
        {
          "output_type": "execute_result",
          "data": {
            "application/vnd.google.colaboratory.intrinsic+json": {
              "type": "string"
            },
            "text/plain": [
              "'1.6.0+cu101'"
            ]
          },
          "metadata": {
            "tags": []
          },
          "execution_count": 5
        }
      ]
    },
    {
      "cell_type": "markdown",
      "metadata": {
        "id": "01Lso6k7NV3Z"
      },
      "source": [
        "### **DATA**\n"
      ]
    },
    {
      "cell_type": "code",
      "metadata": {
        "id": "pwtFMLs23WBV"
      },
      "source": [
        "data_path = './mydata/'"
      ],
      "execution_count": 6,
      "outputs": []
    },
    {
      "cell_type": "code",
      "metadata": {
        "id": "nbQoym7CI3xF",
        "outputId": "d2ed9e03-1034-440a-f9a8-583f0d253340",
        "colab": {
          "base_uri": "https://localhost:8080/",
          "height": 34
        }
      },
      "source": [
        "\n",
        "from google.colab import drive\n",
        "drive.mount('/content/drive')\n"
      ],
      "execution_count": 7,
      "outputs": [
        {
          "output_type": "stream",
          "text": [
            "Mounted at /content/drive\n"
          ],
          "name": "stdout"
        }
      ]
    },
    {
      "cell_type": "code",
      "metadata": {
        "id": "KOHVWR-aJdPS"
      },
      "source": [
        "train = pd.read_csv('/content/drive/My Drive/dialogs_train.csv') \n",
        "valid = pd.read_csv('/content/drive/My Drive//dialogs_valid.csv') "
      ],
      "execution_count": 8,
      "outputs": []
    },
    {
      "cell_type": "code",
      "metadata": {
        "id": "VGWYk_aZOmTN"
      },
      "source": [
        "unique_categories = set(train.category.unique().tolist() + valid.category.unique().tolist())\n",
        "\n",
        "category2index = {category: index for index, category in enumerate(unique_categories)}"
      ],
      "execution_count": 9,
      "outputs": []
    },
    {
      "cell_type": "code",
      "metadata": {
        "id": "eEf1B96XOcYN"
      },
      "source": [
        "train['target'] = train.category.map(category2index)\n",
        "valid['target'] = valid.category.map(category2index)"
      ],
      "execution_count": 10,
      "outputs": []
    },
    {
      "cell_type": "code",
      "metadata": {
        "id": "TVmXIIhiOlmw",
        "outputId": "7f9aa236-79c7-4c5a-fe84-0a589d56999d",
        "colab": {
          "base_uri": "https://localhost:8080/",
          "height": 85
        }
      },
      "source": [
        "valid['target'][:3]"
      ],
      "execution_count": 11,
      "outputs": [
        {
          "output_type": "execute_result",
          "data": {
            "text/plain": [
              "0    5\n",
              "1    4\n",
              "2    5\n",
              "Name: target, dtype: int64"
            ]
          },
          "metadata": {
            "tags": []
          },
          "execution_count": 11
        }
      ]
    },
    {
      "cell_type": "code",
      "metadata": {
        "id": "VhxrwsA83ilr"
      },
      "source": [
        "class TextClassificationDataset(Dataset):\n",
        "    \n",
        "    def __init__(self, texts, targets, vocab, pad_index=0, max_length=32):\n",
        "        super().__init__()\n",
        "        \n",
        "        self.texts = texts\n",
        "        self.targets = targets\n",
        "        self.vocab = vocab\n",
        "        \n",
        "        self.pad_index = pad_index\n",
        "        self.max_length = max_length\n",
        "        \n",
        "    def __len__(self):\n",
        "        return len(self.texts)\n",
        "    \n",
        "    def tokenization(self, text):\n",
        "        \n",
        "        tokens = wordpunct_tokenize(text)\n",
        "        \n",
        "        token_indices = [self.vocab[tok] for tok in tokens if tok in self.vocab]\n",
        "        \n",
        "        return token_indices\n",
        "    \n",
        "    def padding(self, tokenized_text):\n",
        "        \n",
        "        tokenized_text = tokenized_text[:self.max_length]\n",
        "        \n",
        "        tokenized_text += [self.pad_index] * (self.max_length - len(tokenized_text))\n",
        "        \n",
        "        return tokenized_text\n",
        "    \n",
        "    def __getitem__(self, index):\n",
        "        \n",
        "        text = self.texts[index]        \n",
        "        target = self.targets[index]\n",
        "        \n",
        "        tokenized_text = self.tokenization(text)\n",
        "        tokenized_text = self.padding(tokenized_text)\n",
        "        \n",
        "        tokenized_text = torch.tensor(tokenized_text)\n",
        "        \n",
        "        return tokenized_text, target"
      ],
      "execution_count": 12,
      "outputs": []
    },
    {
      "cell_type": "code",
      "metadata": {
        "id": "IGbmX9-UNZuB"
      },
      "source": [
        "train_x = list(train.question)\n",
        "train_y = list(train.target)\n",
        "\n",
        "valid_x = list(valid.question)\n",
        "valid_y = list(valid.target)"
      ],
      "execution_count": 13,
      "outputs": []
    },
    {
      "cell_type": "code",
      "metadata": {
        "id": "Blf5KOf9NZy5"
      },
      "source": [
        ""
      ],
      "execution_count": 13,
      "outputs": []
    },
    {
      "cell_type": "code",
      "metadata": {
        "id": "0mFhzvvtPI7q"
      },
      "source": [
        ""
      ],
      "execution_count": 13,
      "outputs": []
    },
    {
      "cell_type": "code",
      "metadata": {
        "id": "Hnw0RV3jPI-l"
      },
      "source": [
        ""
      ],
      "execution_count": 13,
      "outputs": []
    },
    {
      "cell_type": "code",
      "metadata": {
        "id": "4zbcfOHjPJBy"
      },
      "source": [
        ""
      ],
      "execution_count": 13,
      "outputs": []
    },
    {
      "cell_type": "markdown",
      "metadata": {
        "id": "pP49pfe2PbWY"
      },
      "source": [
        "### **Embeddings**"
      ]
    },
    {
      "cell_type": "code",
      "metadata": {
        "id": "mno04x_ALDGE"
      },
      "source": [
        "def load_embeddings(zip_path, filename, pad_token='PAD', max_words=100_000, verbose=True):\n",
        "    \n",
        "    vocab = dict()\n",
        "    embeddings = list()\n",
        "\n",
        "    with zipfile.ZipFile(zip_path) as zipped_file:\n",
        "        with zipped_file.open(filename) as file_object:\n",
        "\n",
        "            vocab_size, embedding_dim = file_object.readline().decode('utf-8').strip().split()\n",
        "\n",
        "            vocab_size = int(vocab_size)\n",
        "            embedding_dim = int(embedding_dim)\n",
        "            \n",
        "            max_words = vocab_size if max_words <= 0 else max_words\n",
        "            \n",
        "            vocab[pad_token] = len(vocab)\n",
        "            embeddings.append(np.zeros(embedding_dim))\n",
        "\n",
        "            progress_bar = tqdm(total=max_words, disable=not verbose)\n",
        "\n",
        "            for line in file_object:\n",
        "                parts = line.decode('utf-8').strip().split()\n",
        "\n",
        "                token = ' '.join(parts[:-embedding_dim]).lower()\n",
        "                \n",
        "                if token in vocab:\n",
        "                    continue\n",
        "                \n",
        "                word_vector = np.array(list(map(float, parts[-embedding_dim:])))\n",
        "\n",
        "                vocab[token] = len(vocab)\n",
        "                embeddings.append(word_vector)\n",
        "\n",
        "                progress_bar.update()\n",
        "                \n",
        "                if len(vocab) == max_words:\n",
        "                    break\n",
        "\n",
        "            progress_bar.close()\n",
        "\n",
        "    embeddings = np.stack(embeddings)\n",
        "    \n",
        "    return vocab, embeddings"
      ],
      "execution_count": 14,
      "outputs": []
    },
    {
      "cell_type": "code",
      "metadata": {
        "id": "kMmmebKSLDIz",
        "outputId": "9e816b3a-73f3-4cee-f6f8-0e4f7d621b0a",
        "colab": {
          "base_uri": "https://localhost:8080/",
          "height": 34
        }
      },
      "source": [
        "vocab, embeddings = load_embeddings('./wiki-news-300d-1M.vec.zip', 'wiki-news-300d-1M.vec', max_words=100_000)"
      ],
      "execution_count": 15,
      "outputs": [
        {
          "output_type": "stream",
          "text": [
            "100%|█████████▉| 99999/100000 [00:12<00:00, 7776.38it/s]\n"
          ],
          "name": "stderr"
        }
      ]
    },
    {
      "cell_type": "code",
      "metadata": {
        "id": "L-eAlPDLLfhv"
      },
      "source": [
        "index2token = {index: token for token, index in vocab.items()}"
      ],
      "execution_count": 16,
      "outputs": []
    },
    {
      "cell_type": "code",
      "metadata": {
        "id": "pTWCVaU7Lfko"
      },
      "source": [
        "emb_norms = np.linalg.norm(embeddings, axis=1)"
      ],
      "execution_count": 17,
      "outputs": []
    },
    {
      "cell_type": "code",
      "metadata": {
        "id": "_oqA8o9-NZw7"
      },
      "source": [
        "train_dataset = TextClassificationDataset(texts=train_x, targets=train_y, vocab=vocab)\n",
        "x, y = train_dataset[0]"
      ],
      "execution_count": 18,
      "outputs": []
    },
    {
      "cell_type": "code",
      "metadata": {
        "id": "aPPEdPKuLfvm"
      },
      "source": [
        "embeddings = torch.tensor(embeddings).float()\n",
        "embedding_layer = nn.Embedding.from_pretrained(embeddings, padding_idx=0)\n",
        "x_embed = embedding_layer(x)"
      ],
      "execution_count": 19,
      "outputs": []
    },
    {
      "cell_type": "code",
      "metadata": {
        "id": "-R-El2RNLDDC"
      },
      "source": [
        "train_dataset = TextClassificationDataset(texts=train_x, targets=train_y, vocab=vocab)\n",
        "valid_dataset = TextClassificationDataset(texts=valid_x, targets=valid_y, vocab=vocab)\n",
        "\n",
        "train_loader = DataLoader(train_dataset, batch_size=128)\n",
        "valid_loader = DataLoader(valid_dataset, batch_size=128)"
      ],
      "execution_count": 20,
      "outputs": []
    },
    {
      "cell_type": "code",
      "metadata": {
        "id": "I3vHSMvFQgo4",
        "outputId": "9c2ffe9f-048c-479f-c115-c4032a81ff88",
        "colab": {
          "base_uri": "https://localhost:8080/",
          "height": 54
        }
      },
      "source": [
        "for x, y in train_loader:\n",
        "  print(x.size())\n",
        "  print(y.size())\n",
        "  break"
      ],
      "execution_count": 21,
      "outputs": [
        {
          "output_type": "stream",
          "text": [
            "torch.Size([128, 32])\n",
            "torch.Size([128])\n"
          ],
          "name": "stdout"
        }
      ]
    },
    {
      "cell_type": "code",
      "metadata": {
        "id": "ElhEXQwRT-xY",
        "outputId": "69e3f6b0-d957-4f7c-b134-7a7beece5c0b",
        "colab": {
          "base_uri": "https://localhost:8080/",
          "height": 35
        }
      },
      "source": [
        "valid_x[0]"
      ],
      "execution_count": 130,
      "outputs": [
        {
          "output_type": "execute_result",
          "data": {
            "application/vnd.google.colaboratory.intrinsic+json": {
              "type": "string"
            },
            "text/plain": [
              "'can i activate this phone with boost mobile'"
            ]
          },
          "metadata": {
            "tags": []
          },
          "execution_count": 130
        }
      ]
    },
    {
      "cell_type": "code",
      "metadata": {
        "id": "1hD7D0jhQgml",
        "outputId": "39ba73a2-3aae-449e-b3b1-634b5d01ebd2",
        "colab": {
          "base_uri": "https://localhost:8080/",
          "height": 254
        }
      },
      "source": [
        "  for x, y in valid_loader:\n",
        "    print(x)\n",
        "    print(y)\n",
        "    \n",
        "    y_pred = model.forward(x)\n",
        "    loss = criterion(y_pred, y)\n",
        "    break"
      ],
      "execution_count": 132,
      "outputs": [
        {
          "output_type": "stream",
          "text": [
            "tensor([[   82,    28, 15122,  ...,     0,     0,     0],\n",
            "        [   28,    36,     8,  ...,    57,     1,    28],\n",
            "        [   82,     2,  4236,  ...,     0,     0,     0],\n",
            "        ...,\n",
            "        [   74,    41,  1101,  ...,     0,     0,     0],\n",
            "        [  218,    20,   264,  ...,     0,     0,     0],\n",
            "        [   14,    20,  5822,  ...,     0,     0,     0]])\n",
            "tensor([5, 4, 5, 1, 4, 4, 6, 3, 0, 4, 0, 3, 5, 6, 3, 5, 6, 4, 3, 1, 5, 0, 5, 3,\n",
            "        1, 0, 4, 7, 7, 5, 6, 5, 5, 2, 4, 2, 4, 6, 7, 5, 5, 4, 5, 6, 0, 4, 6, 5,\n",
            "        6, 4, 3, 1, 6, 6, 0, 1, 0, 0, 4, 1, 5, 2, 5, 6, 6, 2, 4, 3, 6, 0, 2, 6,\n",
            "        6, 6, 5, 1, 6, 4, 6, 4, 5, 6, 5, 5, 5, 6, 0, 6, 4, 3, 6, 5, 3, 7, 3, 4,\n",
            "        6, 3, 6, 4, 4, 4, 0, 5, 6, 5, 4, 2, 4, 3, 1, 2, 6, 4, 7, 6, 5, 4, 0, 0,\n",
            "        2, 5, 6, 6, 4, 0, 4, 4])\n"
          ],
          "name": "stdout"
        }
      ]
    },
    {
      "cell_type": "code",
      "metadata": {
        "id": "fLmg8VjKLfyh"
      },
      "source": [
        ""
      ],
      "execution_count": 21,
      "outputs": []
    },
    {
      "cell_type": "markdown",
      "metadata": {
        "id": "rREyIpOlQhQP"
      },
      "source": [
        "### **AVERAGE MODEL**"
      ]
    },
    {
      "cell_type": "code",
      "metadata": {
        "id": "hKg6xfn_GkLg"
      },
      "source": [
        "class DeepAverageNetwork(nn.Module):\n",
        "    \n",
        "    def __init__(self, embeddings, linear_1_size, linear_2_size, n_classes):\n",
        "        super().__init__()\n",
        "        \n",
        "        self.embedding_layer = nn.Embedding.from_pretrained(embeddings, padding_idx=0)\n",
        "        \n",
        "        self.batch_norm = nn.BatchNorm1d(num_features=embeddings.shape[-1])\n",
        "        \n",
        "        self.linear_1 = nn.Linear(in_features=embeddings.shape[-1], out_features=linear_1_size)\n",
        "        self.linear_2 = nn.Linear(in_features=linear_1_size, out_features=linear_2_size)\n",
        "        self.linear_3 = nn.Linear(in_features=linear_2_size, out_features=n_classes)\n",
        "        \n",
        "    def forward(self, x):\n",
        "        \n",
        "\n",
        "        x = self.embedding_layer(x)\n",
        "        x = x.sum(dim=1)\n",
        "        x = self.batch_norm(x)\n",
        "        x = self.linear_1(x)\n",
        "        x = torch.relu(x)\n",
        "        x = self.linear_2(x)\n",
        "        x = torch.relu(x)\n",
        "        \n",
        "        x = self.linear_3(x)\n",
        "        \n",
        "        x = torch.softmax(x, dim=-1)\n",
        "        \n",
        "        \n",
        "        return x"
      ],
      "execution_count": 158,
      "outputs": []
    },
    {
      "cell_type": "code",
      "metadata": {
        "id": "xf8Lbe_AHOML"
      },
      "source": [
        "\n",
        "model = DeepAverageNetwork(embeddings=embeddings,\n",
        "                           linear_1_size=256, \n",
        "                           linear_2_size=128, \n",
        "                           n_classes=len(category2index))"
      ],
      "execution_count": 159,
      "outputs": []
    },
    {
      "cell_type": "code",
      "metadata": {
        "id": "UVBeT2CpHTZg"
      },
      "source": [
        "criterion = nn.CrossEntropyLoss()\n",
        "optimizer = torch.optim.Adam(params=model.parameters(), lr=0.0001)\n",
        "scheduler = torch.optim.lr_scheduler.StepLR(optimizer, 1, gamma=0.9)\n"
      ],
      "execution_count": 160,
      "outputs": []
    },
    {
      "cell_type": "code",
      "metadata": {
        "id": "1LG5uVzAbRS-"
      },
      "source": [
        "train_losses = []\n",
        "train_acc = 0"
      ],
      "execution_count": 141,
      "outputs": []
    },
    {
      "cell_type": "code",
      "metadata": {
        "id": "Xy9ujcPWbITB",
        "outputId": "ce667ac5-d0f0-47bb-9df0-f7cd8a964389",
        "colab": {
          "base_uri": "https://localhost:8080/",
          "height": 407
        }
      },
      "source": [
        "\n",
        "for x, y in train_loader:\n",
        "  progress_bar = tqdm(total=len(train_loader))\n",
        "  y_pred = model.forward(x)\n",
        "  loss = criterion(y_pred, y)\n",
        "  train_acc += (y_pred.argmax(1) == cls).sum().item()\n",
        "  \n",
        "\n",
        "  optimizer.zero_grad()\n",
        "  loss.backward()\n",
        "  optimizer.step()\n",
        "  progress_bar.update()\n",
        "  losses.append(loss)\n",
        "scheduler.step()\n",
        "print(f\"epoch {i}, train loss {loss}\")\n",
        "progress_bar.close()\n",
        "\n",
        "for x, y in valid_loader:        \n",
        "    with torch.no_grad():\n",
        "        \n",
        "        x_forw = model.forward(x)\n",
        "        y_pred = torch.softmax(x_forw, dim=-1)\n",
        "        optimizer.zero_grad()\n",
        "        # print(y_pred.argmax(1))\n",
        "        # print(y)\n",
        "        acc = (y_pred.argmax(1) == y).sum().item()\n",
        "        acc_list.append(acc)\n",
        "        optimizer.step()\n",
        "        losses.append(loss)\n",
        "        optimizer.zero_grad()\n",
        "        optimizer.step()\n",
        "        losses.append(loss)\n",
        "        break\n",
        "print(f\"test loss {loss}\")\n",
        "break"
      ],
      "execution_count": 142,
      "outputs": [
        {
          "output_type": "stream",
          "text": [
            "\n",
            "\n",
            "\n",
            "\n",
            "\n",
            "\n",
            "\n",
            "\n",
            "  0%|          | 0/1954 [00:00<?, ?it/s]\u001b[A\u001b[A\u001b[A\u001b[A\u001b[A\u001b[A\u001b[A\u001b[A"
          ],
          "name": "stderr"
        },
        {
          "output_type": "error",
          "ename": "NameError",
          "evalue": "ignored",
          "traceback": [
            "\u001b[0;31m---------------------------------------------------------------------------\u001b[0m",
            "\u001b[0;31mNameError\u001b[0m                                 Traceback (most recent call last)",
            "\u001b[0;32m<ipython-input-142-ddc1da28800f>\u001b[0m in \u001b[0;36m<module>\u001b[0;34m()\u001b[0m\n\u001b[1;32m      4\u001b[0m   \u001b[0my_pred\u001b[0m \u001b[0;34m=\u001b[0m \u001b[0mmodel\u001b[0m\u001b[0;34m.\u001b[0m\u001b[0mforward\u001b[0m\u001b[0;34m(\u001b[0m\u001b[0mx\u001b[0m\u001b[0;34m)\u001b[0m\u001b[0;34m\u001b[0m\u001b[0;34m\u001b[0m\u001b[0m\n\u001b[1;32m      5\u001b[0m   \u001b[0mloss\u001b[0m \u001b[0;34m=\u001b[0m \u001b[0mcriterion\u001b[0m\u001b[0;34m(\u001b[0m\u001b[0my_pred\u001b[0m\u001b[0;34m,\u001b[0m \u001b[0my\u001b[0m\u001b[0;34m)\u001b[0m\u001b[0;34m\u001b[0m\u001b[0;34m\u001b[0m\u001b[0m\n\u001b[0;32m----> 6\u001b[0;31m   \u001b[0mtrain_acc\u001b[0m \u001b[0;34m+=\u001b[0m \u001b[0;34m(\u001b[0m\u001b[0my_pred\u001b[0m\u001b[0;34m.\u001b[0m\u001b[0margmax\u001b[0m\u001b[0;34m(\u001b[0m\u001b[0;36m1\u001b[0m\u001b[0;34m)\u001b[0m \u001b[0;34m==\u001b[0m \u001b[0mcls\u001b[0m\u001b[0;34m)\u001b[0m\u001b[0;34m.\u001b[0m\u001b[0msum\u001b[0m\u001b[0;34m(\u001b[0m\u001b[0;34m)\u001b[0m\u001b[0;34m.\u001b[0m\u001b[0mitem\u001b[0m\u001b[0;34m(\u001b[0m\u001b[0;34m)\u001b[0m\u001b[0;34m\u001b[0m\u001b[0;34m\u001b[0m\u001b[0m\n\u001b[0m\u001b[1;32m      7\u001b[0m \u001b[0;34m\u001b[0m\u001b[0m\n\u001b[1;32m      8\u001b[0m \u001b[0;34m\u001b[0m\u001b[0m\n",
            "\u001b[0;31mNameError\u001b[0m: name 'cls' is not defined"
          ]
        }
      ]
    },
    {
      "cell_type": "code",
      "metadata": {
        "id": "BngkOfcbbIQt"
      },
      "source": [
        ""
      ],
      "execution_count": null,
      "outputs": []
    },
    {
      "cell_type": "code",
      "metadata": {
        "id": "f5iWs0CIbIM_"
      },
      "source": [
        ""
      ],
      "execution_count": null,
      "outputs": []
    },
    {
      "cell_type": "code",
      "metadata": {
        "id": "uHF1yvHUOadI"
      },
      "source": [
        "import matplotlib.pyplot as plt\n",
        "from sklearn.metrics import confusion_matrix"
      ],
      "execution_count": 139,
      "outputs": []
    },
    {
      "cell_type": "code",
      "metadata": {
        "id": "kiOeGl71YxH6",
        "outputId": "1a016119-4abc-4d4c-9343-cb3ad3137418",
        "colab": {
          "base_uri": "https://localhost:8080/"
        }
      },
      "source": [
        "\n",
        "epochs = 2\n",
        "train_losses = []\n",
        "test_losses = []\n",
        "train_acc = 0\n",
        "\n",
        "for epoch in range(epochs):\n",
        "  counter = 0\n",
        "  for x, y in train_loader:\n",
        "\n",
        "    y_pred = model.forward(x)\n",
        "    train_loss = criterion(y_pred, y)\n",
        "    train_acc += (y_pred.argmax(1) == y).sum().item()\n",
        "    \n",
        "\n",
        "    optimizer.zero_grad()\n",
        "    train_loss.backward()\n",
        "    optimizer.step()\n",
        "    progress_bar.update()\n",
        "    losses.append(loss)\n",
        "    counter +=1\n",
        "\n",
        "    if counter%500 == 0:\n",
        "      print(f\"epoch {epoch} train loss {train_loss }\")\n",
        "  scheduler.step()\n",
        "\n",
        "  for x, y in valid_loader:        \n",
        "      with torch.no_grad():\n",
        "          \n",
        "          x_forw = model.forward(x)\n",
        "          y_pred = torch.softmax(x_forw, dim=-1)\n",
        "          optimizer.zero_grad()\n",
        "          # print(y_pred.argmax(1))\n",
        "          # print(y)\n",
        "          test_loss = criterion(y_pred, y)\n",
        "          test_acc = (y_pred.argmax(1) == y).sum().item()\n",
        "          acc_list.append(test_acc)\n",
        "          optimizer.step()\n",
        "          test_losses.append(test_loss)\n",
        "          optimizer.zero_grad()\n",
        "          optimizer.step()\n",
        "          test_losses.append(loss)\n",
        "          counter +=1\n",
        "\n",
        "          # if counter%500 == 0:\n",
        "            # print(f\"epoch {epoch} test loss {loss}, train loss {loss}\")\n",
        "  print(f\"epoch {epoch} test loss {test_loss}, train loss {train_loss}\")\n",
        "\n"
      ],
      "execution_count": 2,
      "outputs": [
        {
          "output_type": "error",
          "ename": "NameError",
          "evalue": "ignored",
          "traceback": [
            "\u001b[0;31m---------------------------------------------------------------------------\u001b[0m",
            "\u001b[0;31mNameError\u001b[0m                                 Traceback (most recent call last)",
            "\u001b[0;32m<ipython-input-2-a43871658a76>\u001b[0m in \u001b[0;36m<module>\u001b[0;34m()\u001b[0m\n\u001b[1;32m      7\u001b[0m \u001b[0;32mfor\u001b[0m \u001b[0mepoch\u001b[0m \u001b[0;32min\u001b[0m \u001b[0mrange\u001b[0m\u001b[0;34m(\u001b[0m\u001b[0mepochs\u001b[0m\u001b[0;34m)\u001b[0m\u001b[0;34m:\u001b[0m\u001b[0;34m\u001b[0m\u001b[0;34m\u001b[0m\u001b[0m\n\u001b[1;32m      8\u001b[0m   \u001b[0mcounter\u001b[0m \u001b[0;34m=\u001b[0m \u001b[0;36m0\u001b[0m\u001b[0;34m\u001b[0m\u001b[0;34m\u001b[0m\u001b[0m\n\u001b[0;32m----> 9\u001b[0;31m   \u001b[0;32mfor\u001b[0m \u001b[0mx\u001b[0m\u001b[0;34m,\u001b[0m \u001b[0my\u001b[0m \u001b[0;32min\u001b[0m \u001b[0mtrain_loader\u001b[0m\u001b[0;34m:\u001b[0m\u001b[0;34m\u001b[0m\u001b[0;34m\u001b[0m\u001b[0m\n\u001b[0m\u001b[1;32m     10\u001b[0m \u001b[0;34m\u001b[0m\u001b[0m\n\u001b[1;32m     11\u001b[0m     \u001b[0my_pred\u001b[0m \u001b[0;34m=\u001b[0m \u001b[0mmodel\u001b[0m\u001b[0;34m.\u001b[0m\u001b[0mforward\u001b[0m\u001b[0;34m(\u001b[0m\u001b[0mx\u001b[0m\u001b[0;34m)\u001b[0m\u001b[0;34m\u001b[0m\u001b[0;34m\u001b[0m\u001b[0m\n",
            "\u001b[0;31mNameError\u001b[0m: name 'train_loader' is not defined"
          ]
        }
      ]
    },
    {
      "cell_type": "code",
      "metadata": {
        "id": "HkaZcPj2aiEz"
      },
      "source": [
        ""
      ],
      "execution_count": null,
      "outputs": []
    },
    {
      "cell_type": "code",
      "metadata": {
        "id": "oVFJ2V20wXyu"
      },
      "source": [
        "    print('Losses: train - {:.3f}, test = {:.3f}'.format(np.mean(train_losses), np.mean(test_losses)))\n",
        "    \n",
        "    test_preds = np.concatenate(test_preds)\n",
        "    # Применяем сигмоиду\n",
        "    test_preds = sigmoid(test_preds.squeeze())\n",
        "    test_targets = np.concatenate(test_targets).squeeze()\n",
        "    \n",
        "    test_preds[test_preds > 0.5] = 1\n",
        "    test_preds[test_preds <= 0.5] = 0\n",
        "    \n",
        "    accurary = accuracy_score(test_targets, test_preds)\n",
        "\n",
        "    print('Test: accuracy - {:.3f}'.format(accurary))\n",
        "        \n",
        "    if np.mean(test_losses) < best_test_loss:\n",
        "        best_test_loss = np.mean(test_losses)\n",
        "    else:\n",
        "        print('Early stopping')\n",
        "        break"
      ],
      "execution_count": null,
      "outputs": []
    },
    {
      "cell_type": "code",
      "metadata": {
        "id": "NaYjpCmNUtwF"
      },
      "source": [
        "def test():\n",
        "  test_losses = list()\n",
        "  preds = list()\n",
        "  test_acc_list = list()\n",
        "\n",
        "  # заметьте, что мы поменяли наш лоадер на валидационный\n",
        "  #losses = []\n",
        "\n",
        "  for i in trange(epochs):\n",
        "    count = 0\n",
        "    for x, y in valid_loader:\n",
        "        \n",
        "        with torch.no_grad():\n",
        "            \n",
        "            x_forw = model.forward(x)\n",
        "            y_pred = torch.softmax(x_forw, dim=-1)\n",
        "            optimizer.zero_grad()\n",
        "            # print(y_pred.argmax(1))\n",
        "            # print(y)\n",
        "            acc = (y_pred.argmax(1) == y).sum().item()\n",
        "            acc_list.append(acc)\n",
        "            optimizer.step()\n",
        "            losses.append(loss)\n",
        "            optimizer.zero_grad()\n",
        "            optimizer.step()\n",
        "            losses.append(loss)\n",
        "            break\n",
        "    print(f\"test loss {loss}\")"
      ],
      "execution_count": 68,
      "outputs": []
    },
    {
      "cell_type": "code",
      "metadata": {
        "id": "M0vTnAp4nZyd",
        "outputId": "352f4b81-7000-4829-c85a-a8c9e1e05aef",
        "colab": {
          "base_uri": "https://localhost:8080/",
          "height": 700
        }
      },
      "source": [
        "plt.figure(figsize=(14, 12))\n",
        "plt.plot(range(epochs), losses)\n",
        "plt.grid()"
      ],
      "execution_count": 69,
      "outputs": [
        {
          "output_type": "display_data",
          "data": {
            "image/png": "[encoded data removed]",
            "text/plain": [
              "<Figure size 1008x864 with 1 Axes>"
            ]
          },
          "metadata": {
            "tags": [],
            "needs_background": "light"
          }
        }
      ]
    },
    {
      "cell_type": "code",
      "metadata": {
        "id": "BxNgDvcz13An"
      },
      "source": [
        "from torch.nn import Sigmoid\n",
        "sigmoid = Sigmoid()\n",
        "from sklearn.metrics import accuracy_score"
      ],
      "execution_count": 96,
      "outputs": []
    },
    {
      "cell_type": "code",
      "metadata": {
        "id": "unUr8bTanZwO"
      },
      "source": [
        ""
      ],
      "execution_count": 96,
      "outputs": []
    },
    {
      "cell_type": "code",
      "metadata": {
        "id": "xiGi1RrldsHu",
        "outputId": "1f9d6bf5-c5dc-4610-996c-930b50082702",
        "colab": {
          "base_uri": "https://localhost:8080/",
          "height": 654
        }
      },
      "source": [
        "\n",
        "def test():\n",
        "  losses = list()\n",
        "  preds = list()\n",
        "  acc_list = list()\n",
        "\n",
        "  # заметьте, что мы поменяли наш лоадер на валидационный\n",
        "  #losses = []\n",
        "\n",
        "  for i in trange(epochs):\n",
        "    count = 0\n",
        "    for x, y in valid_loader:\n",
        "        \n",
        "        with torch.no_grad():\n",
        "            \n",
        "            x_forw = model.forward(x)\n",
        "            y_pred = torch.softmax(x_forw, dim=-1)\n",
        "            optimizer.zero_grad()\n",
        "            # print(y_pred.argmax(1))\n",
        "            # print(y)\n",
        "            acc = (y_pred.argmax(1) == y).sum().item()\n",
        "            acc_list.append(acc)\n",
        "            optimizer.step()\n",
        "            losses.append(loss)\n",
        "            optimizer.zero_grad()\n",
        "            optimizer.step()\n",
        "            losses.append(loss)\n",
        "            break\n",
        "    print(f\"epoch {i}, loss {loss}\")\n",
        "    "
      ],
      "execution_count": 137,
      "outputs": [
        {
          "output_type": "stream",
          "text": [
            "\n",
            "\n",
            "\n",
            "\n",
            "\n",
            "\n",
            "\n",
            "  0%|          | 0/10 [00:00<?, ?it/s]\u001b[A\u001b[A\u001b[A\u001b[A\u001b[A\u001b[A\u001b[A\n",
            "\n",
            "\n",
            "\n",
            "\n",
            "\n",
            "\n",
            "100%|██████████| 10/10 [00:00<00:00, 72.16it/s]"
          ],
          "name": "stderr"
        },
        {
          "output_type": "stream",
          "text": [
            "82\n",
            "epoch 0, loss 1.0179855823516846\n",
            "82\n",
            "epoch 1, loss 1.0179855823516846\n",
            "82\n",
            "epoch 2, loss 1.0179855823516846\n",
            "82\n",
            "epoch 3, loss 1.0179855823516846\n",
            "82\n",
            "epoch 4, loss 1.0179855823516846\n",
            "82\n",
            "epoch 5, loss 1.0179855823516846\n",
            "82\n",
            "epoch 6, loss 1.0179855823516846\n",
            "82\n",
            "epoch 7, loss 1.0179855823516846\n",
            "82\n",
            "epoch 8, loss 1.0179855823516846\n",
            "82\n",
            "epoch 9, loss 1.0179855823516846\n"
          ],
          "name": "stdout"
        },
        {
          "output_type": "stream",
          "text": [
            "\n"
          ],
          "name": "stderr"
        }
      ]
    },
    {
      "cell_type": "code",
      "metadata": {
        "id": "1lrT6Q4d-aVB",
        "outputId": "671f70fd-428c-4ae8-9d97-15c79a896762",
        "colab": {
          "base_uri": "https://localhost:8080/",
          "height": 254
        }
      },
      "source": [
        "for x, y in valid_loader:\n",
        "  print(x)\n",
        "  print(y)\n",
        "  break"
      ],
      "execution_count": 125,
      "outputs": [
        {
          "output_type": "stream",
          "text": [
            "tensor([[   82,    28, 15122,  ...,     0,     0,     0],\n",
            "        [   28,    36,     8,  ...,    57,     1,    28],\n",
            "        [   82,     2,  4236,  ...,     0,     0,     0],\n",
            "        ...,\n",
            "        [   74,    41,  1101,  ...,     0,     0,     0],\n",
            "        [  218,    20,   264,  ...,     0,     0,     0],\n",
            "        [   14,    20,  5822,  ...,     0,     0,     0]])\n",
            "tensor([5, 4, 5, 1, 4, 4, 6, 3, 0, 4, 0, 3, 5, 6, 3, 5, 6, 4, 3, 1, 5, 0, 5, 3,\n",
            "        1, 0, 4, 7, 7, 5, 6, 5, 5, 2, 4, 2, 4, 6, 7, 5, 5, 4, 5, 6, 0, 4, 6, 5,\n",
            "        6, 4, 3, 1, 6, 6, 0, 1, 0, 0, 4, 1, 5, 2, 5, 6, 6, 2, 4, 3, 6, 0, 2, 6,\n",
            "        6, 6, 5, 1, 6, 4, 6, 4, 5, 6, 5, 5, 5, 6, 0, 6, 4, 3, 6, 5, 3, 7, 3, 4,\n",
            "        6, 3, 6, 4, 4, 4, 0, 5, 6, 5, 4, 2, 4, 3, 1, 2, 6, 4, 7, 6, 5, 4, 0, 0,\n",
            "        2, 5, 6, 6, 4, 0, 4, 4])\n"
          ],
          "name": "stdout"
        }
      ]
    },
    {
      "cell_type": "markdown",
      "metadata": {
        "id": "oNW__KzuwlTo"
      },
      "source": [
        "### **CNN**"
      ]
    },
    {
      "cell_type": "code",
      "metadata": {
        "id": "a_nxX02Q5UEa"
      },
      "source": [
        "class MyCNN(nn.Module):\n",
        "\n",
        "  def __init__(self, embeddings, c1_in, c2_in, c2_out, l1_out, l2_out, n_classes):\n",
        "\n",
        "    super().__init__()\n",
        "\n",
        "    self.embedding_layer = nn.Embedding.from_pretrained(embeddings, padding_idx=0)\n",
        "\n",
        "    self.batch_norm = nn.BatchNorm1d(num_features=embeddings.shape[-1])\n",
        "    self.conv1 = nn.Conv1d(in_channels=32, out_channels=64, kernel_size=2, stride=1, padding=1)\n",
        "    self.relu = nn.ReLU()\n",
        "    self.conv2 = nn.Conv1d(in_channels=64, out_channels=32, kernel_size=2, stride=1, padding=1)\n",
        "\n",
        "    self.batch_norm = nn.BatchNorm1d(num_features=embeddings.shape[-1])\n",
        "    self.dropout = nn.Dropout(p=0.5)\n",
        "    \n",
        "    self.linear_1 = nn.Linear(in_features=101, out_features=32)\n",
        "    self.linear_2 = nn.Linear(in_features=32, out_features=16)\n",
        "    self.linear_3 = nn.Linear(in_features=16, out_features=n_classes)\n",
        "\n",
        "\n",
        "  def forward(self, x):\n",
        "    residual = x\n",
        "    x = self.embedding_layer(x)\n",
        "    x = self.conv1(x)\n",
        "    x = torch.max_pool1d(x, kernel_size=3)\n",
        "    x = self.relu(x)\n",
        "    x = self.conv2(x)\n",
        "    x = x.sum(dim=1)\n",
        "    x = self.linear_1(x)\n",
        "    x = torch.relu(x)\n",
        "    x += residual\n",
        "    x = self.linear_2(x)  \n",
        "    x = self.dropout(x)\n",
        "    x = torch.relu(x)   \n",
        "    x = self.linear_3(x)\n",
        " \n",
        "\n",
        "    return x\n"
      ],
      "execution_count": 44,
      "outputs": []
    },
    {
      "cell_type": "code",
      "metadata": {
        "id": "BU8d3M6VGrur"
      },
      "source": [
        "model = MyCNN(embeddings=embeddings,\n",
        "                          c1_in=32, \n",
        "                          c2_in=64, \n",
        "                          c2_out=101,\n",
        "                          l1_out=32, \n",
        "                          l2_out=16,\n",
        "                           n_classes=len(category2index))\n"
      ],
      "execution_count": 45,
      "outputs": []
    },
    {
      "cell_type": "code",
      "metadata": {
        "id": "5Okd04VYM8qV"
      },
      "source": [
        "CUDA = torch.cuda.is_available()\n",
        "if CUDA:\n",
        "  model = model.CUDA()"
      ],
      "execution_count": 46,
      "outputs": []
    },
    {
      "cell_type": "code",
      "metadata": {
        "id": "3GwluIIQGXL7",
        "outputId": "1cc4f36f-e1bd-4730-eca8-08f6e1849e80",
        "colab": {
          "base_uri": "https://localhost:8080/",
          "height": 136
        }
      },
      "source": [
        "criterion = nn.CrossEntropyLoss()\n",
        "optimizer = torch.optim.Adam(params=model.parameters(), lr=0.0001)\n",
        "\n",
        "epochs = 6\n",
        "losses = []\n",
        "for i in trange(epochs):\n",
        "  for x, y in train_loader:\n",
        "    if CUDA:\n",
        "      x = x.CUDA()\n",
        "      y = y.CUDA()\n",
        "\n",
        "    y_pred = model.forward(x)\n",
        "    loss = criterion(y_pred, y)\n",
        "    \n",
        "     \n",
        "\n",
        "    optimizer.zero_grad()\n",
        "    loss.backward()\n",
        "    optimizer.step()\n",
        "  losses.append(loss)\n",
        "  print(f\"epoch {i}, loss {loss}\")"
      ],
      "execution_count": 47,
      "outputs": [
        {
          "output_type": "stream",
          "text": [
            " 17%|█▋        | 1/6 [02:33<12:48, 153.66s/it]"
          ],
          "name": "stderr"
        },
        {
          "output_type": "stream",
          "text": [
            "epoch 0, loss 58.409385681152344\n"
          ],
          "name": "stdout"
        },
        {
          "output_type": "stream",
          "text": [
            "\r 33%|███▎      | 2/6 [04:57<10:03, 150.86s/it]"
          ],
          "name": "stderr"
        },
        {
          "output_type": "stream",
          "text": [
            "epoch 1, loss 2.057128667831421\n"
          ],
          "name": "stdout"
        },
        {
          "output_type": "stream",
          "text": [
            "\r 50%|█████     | 3/6 [07:21<07:26, 148.77s/it]"
          ],
          "name": "stderr"
        },
        {
          "output_type": "stream",
          "text": [
            "epoch 2, loss 2.065150260925293\n"
          ],
          "name": "stdout"
        },
        {
          "output_type": "stream",
          "text": [
            "\r 67%|██████▋   | 4/6 [09:45<04:54, 147.29s/it]"
          ],
          "name": "stderr"
        },
        {
          "output_type": "stream",
          "text": [
            "epoch 3, loss 2.0877952575683594\n",
            "epoch 4, loss 2.1173624992370605\n"
          ],
          "name": "stdout"
        },
        {
          "output_type": "stream",
          "text": [
            "100%|██████████| 6/6 [14:31<00:00, 145.29s/it]"
          ],
          "name": "stderr"
        },
        {
          "output_type": "stream",
          "text": [
            "epoch 5, loss 2.147245407104492\n"
          ],
          "name": "stdout"
        },
        {
          "output_type": "stream",
          "text": [
            "\n"
          ],
          "name": "stderr"
        }
      ]
    },
    {
      "cell_type": "code",
      "metadata": {
        "id": "4iT-k56eY9UI",
        "outputId": "a874e228-6815-4af5-cf2f-0782fafdc421",
        "colab": {
          "base_uri": "https://localhost:8080/",
          "height": 700
        }
      },
      "source": [
        "plt.figure(figsize=(14, 12))\n",
        "plt.plot(range(epochs), losses)\n",
        "plt.grid()"
      ],
      "execution_count": 48,
      "outputs": [
        {
          "output_type": "display_data",
          "data": {
            "image/png": "[encoded data removed]",
            "text/plain": [
              "<Figure size 1008x864 with 1 Axes>"
            ]
          },
          "metadata": {
            "tags": [],
            "needs_background": "light"
          }
        }
      ]
    },
    {
      "cell_type": "code",
      "metadata": {
        "id": "rArZE9cR8UG3",
        "outputId": "dadbaa0a-e359-4110-a9ea-8c3e92a27ae3",
        "colab": {
          "base_uri": "https://localhost:8080/",
          "height": 136
        }
      },
      "source": [
        "losses = list()\n",
        "preds = list()\n",
        "acc_list = list()\n",
        "\n",
        "# заметьте, что мы поменяли наш лоадер на валидационный\n",
        "losses = []\n",
        "\n",
        "for i in range(epochs):\n",
        "  count = 0\n",
        "  for x, y in valid_loader:\n",
        "      \n",
        "      with torch.no_grad():\n",
        "          \n",
        "          x_forw = model.forward(x)\n",
        "          y_pred = torch.softmax(x_forw, dim=-1)\n",
        "          optimizer.zero_grad()\n",
        "\n",
        "          optimizer.step()\n",
        "          losses.append(loss)\n",
        "          optimizer.zero_grad()\n",
        "          optimizer.step()\n",
        "          losses.append(loss)\n",
        "  print(f\"epoch {i}, loss {loss}\")"
      ],
      "execution_count": 49,
      "outputs": [
        {
          "output_type": "stream",
          "text": [
            " 17%|█▋        | 1/6 [00:15<01:18, 15.65s/it]"
          ],
          "name": "stderr"
        },
        {
          "output_type": "stream",
          "text": [
            "epoch 0, loss 2.147245407104492\n"
          ],
          "name": "stdout"
        },
        {
          "output_type": "stream",
          "text": [
            "\r 33%|███▎      | 2/6 [00:31<01:02, 15.63s/it]"
          ],
          "name": "stderr"
        },
        {
          "output_type": "stream",
          "text": [
            "epoch 1, loss 2.147245407104492\n"
          ],
          "name": "stdout"
        },
        {
          "output_type": "stream",
          "text": [
            "\r 50%|█████     | 3/6 [00:46<00:46, 15.57s/it]"
          ],
          "name": "stderr"
        },
        {
          "output_type": "stream",
          "text": [
            "epoch 2, loss 2.147245407104492\n"
          ],
          "name": "stdout"
        },
        {
          "output_type": "stream",
          "text": [
            "\r 67%|██████▋   | 4/6 [01:02<00:31, 15.57s/it]"
          ],
          "name": "stderr"
        },
        {
          "output_type": "stream",
          "text": [
            "epoch 3, loss 2.147245407104492\n"
          ],
          "name": "stdout"
        },
        {
          "output_type": "stream",
          "text": [
            "\r 83%|████████▎ | 5/6 [01:17<00:15, 15.57s/it]"
          ],
          "name": "stderr"
        },
        {
          "output_type": "stream",
          "text": [
            "epoch 4, loss 2.147245407104492\n"
          ],
          "name": "stdout"
        },
        {
          "output_type": "stream",
          "text": [
            "100%|██████████| 6/6 [01:33<00:00, 15.56s/it]"
          ],
          "name": "stderr"
        },
        {
          "output_type": "stream",
          "text": [
            "epoch 5, loss 2.147245407104492\n"
          ],
          "name": "stdout"
        },
        {
          "output_type": "stream",
          "text": [
            "\n"
          ],
          "name": "stderr"
        }
      ]
    },
    {
      "cell_type": "code",
      "metadata": {
        "id": "FFWMVmYZZXIy"
      },
      "source": [
        ""
      ],
      "execution_count": 49,
      "outputs": []
    },
    {
      "cell_type": "code",
      "metadata": {
        "id": "is20oDiPcgwN"
      },
      "source": [
        "# out1 = cnn1(inp)\n",
        "# out2 = cnn2(inp)\n",
        "# full_out = torch.cat([out1, ou2], dim=1) # dim=1 is the channel dimension for 2D images\n",
        "# full_out = full_out.view(full_out.size(0), -1) # Linearize for the FC"
      ],
      "execution_count": 50,
      "outputs": []
    },
    {
      "cell_type": "markdown",
      "metadata": {
        "id": "dGLMSBPOfjjl"
      },
      "source": [
        "### **PARALLEL CNN**"
      ]
    },
    {
      "cell_type": "code",
      "metadata": {
        "id": "M5Rvj-GKcoeP"
      },
      "source": [
        "class MyParallelCNN(nn.Module):\n",
        "# c1_in=32, c2_in=64, c2_out=101, l1_out=16384, l2_out=64\n",
        "  def __init__(self, embeddings, c1_in, c2_in, c2_out, l1_out, l2_out, n_classes):\n",
        "\n",
        "    super().__init__()\n",
        "\n",
        "    self.embedding_layer = nn.Embedding.from_pretrained(embeddings, padding_idx=0)\n",
        "\n",
        "    self.batch_norm = nn.BatchNorm1d(num_features=embeddings.shape[-1])\n",
        "    self.conv1 = nn.Conv1d(in_channels=32, out_channels=64, kernel_size=2, stride=1, padding=1)\n",
        "\n",
        "    self.relu = nn.ReLU()\n",
        "    self.conv2 = nn.Conv1d(in_channels=32, out_channels=32, kernel_size=2, stride=1, padding=1)\n",
        "\n",
        "    self.batch_norm = nn.BatchNorm1d(num_features=embeddings.shape[-1])\n",
        "    self.dropout = nn.Dropout(p=0.5)\n",
        "    \n",
        "    self.linear_1 = nn.Linear(in_features=101, out_features=32)\n",
        "    self.linear_2 = nn.Linear(in_features=32, out_features=16)\n",
        "    self.linear_3 = nn.Linear(in_features=16, out_features=n_classes)\n",
        "\n",
        "\n",
        "  def forward(self, x):\n",
        "\n",
        "    x = self.embedding_layer(x)\n",
        "    x1 = self.conv1(x)\n",
        "    x1 = torch.max_pool1d(x1,padding=1, kernel_size=3)\n",
        "    x2 = self.conv2(x)\n",
        "    x2 = torch.avg_pool1d(x2, padding=1, kernel_size=3)\n",
        "    x = torch.cat([x1, x2], dim=1)\n",
        "    x = self.relu(x)\n",
        "    x = self.linear_1(x)\n",
        "    x = x.sum(dim=1)\n",
        "    x = torch.relu(x)\n",
        "    x = self.linear_2(x)\n",
        "    x = self.dropout(x)\n",
        "    x = torch.relu(x)\n",
        "    x = self.linear_3(x)\n",
        " \n",
        "\n",
        "    return x"
      ],
      "execution_count": 51,
      "outputs": []
    },
    {
      "cell_type": "code",
      "metadata": {
        "id": "tEN0IwcUfPwn"
      },
      "source": [
        "model = MyParallelCNN(embeddings=embeddings,\n",
        "                          c1_in=32, \n",
        "                          c2_in=64, \n",
        "                          c2_out=101,\n",
        "                          l1_out=32, \n",
        "                          l2_out=16,\n",
        "                           n_classes=len(category2index))"
      ],
      "execution_count": 52,
      "outputs": []
    },
    {
      "cell_type": "code",
      "metadata": {
        "id": "QJ1SLxa3fVjO"
      },
      "source": [
        "CUDA = torch.cuda.is_available()\n",
        "if CUDA:\n",
        "  model = model.CUDA()"
      ],
      "execution_count": 53,
      "outputs": []
    },
    {
      "cell_type": "code",
      "metadata": {
        "id": "khHtsU_-Gam5"
      },
      "source": [
        "import matplotlib.pyplot as plt\n",
        "\n",
        "from sklearn.metrics import confusion_matrix"
      ],
      "execution_count": 54,
      "outputs": []
    },
    {
      "cell_type": "code",
      "metadata": {
        "id": "wTPkcHKQfIGG",
        "outputId": "6f51722f-ab23-489a-cec7-f545577788bd",
        "colab": {
          "base_uri": "https://localhost:8080/",
          "height": 136
        }
      },
      "source": [
        "criterion = nn.CrossEntropyLoss()\n",
        "optimizer = torch.optim.Adam(params=model.parameters(), lr=0.0001)\n",
        "\n",
        "epochs = 6\n",
        "losses = []\n",
        "for i in  trange(epochs):\n",
        "  for x, y in train_loader:\n",
        "    if CUDA:\n",
        "      x = x.CUDA()\n",
        "      y = y.CUDA()\n",
        "\n",
        "    y_pred = model.forward(x)\n",
        "    loss = criterion(y_pred, y)\n",
        "    \n",
        "     \n",
        "\n",
        "    optimizer.zero_grad()\n",
        "    loss.backward()\n",
        "    optimizer.step()\n",
        "  losses.append(loss)\n",
        "  print(f\"epoch {i}, loss {loss}\")"
      ],
      "execution_count": 55,
      "outputs": [
        {
          "output_type": "stream",
          "text": [
            " 17%|█▋        | 1/6 [03:18<16:31, 198.40s/it]"
          ],
          "name": "stderr"
        },
        {
          "output_type": "stream",
          "text": [
            "epoch 0, loss 2.0787596702575684\n"
          ],
          "name": "stdout"
        },
        {
          "output_type": "stream",
          "text": [
            "\r 33%|███▎      | 2/6 [06:37<13:14, 198.59s/it]"
          ],
          "name": "stderr"
        },
        {
          "output_type": "stream",
          "text": [
            "epoch 1, loss 1.937432050704956\n"
          ],
          "name": "stdout"
        },
        {
          "output_type": "stream",
          "text": [
            "\r 50%|█████     | 3/6 [09:55<09:54, 198.32s/it]"
          ],
          "name": "stderr"
        },
        {
          "output_type": "stream",
          "text": [
            "epoch 2, loss 1.8413945436477661\n"
          ],
          "name": "stdout"
        },
        {
          "output_type": "stream",
          "text": [
            "\r 67%|██████▋   | 4/6 [13:12<06:35, 197.95s/it]"
          ],
          "name": "stderr"
        },
        {
          "output_type": "stream",
          "text": [
            "epoch 3, loss 1.8236525058746338\n"
          ],
          "name": "stdout"
        },
        {
          "output_type": "stream",
          "text": [
            "\r 83%|████████▎ | 5/6 [16:29<03:17, 197.79s/it]"
          ],
          "name": "stderr"
        },
        {
          "output_type": "stream",
          "text": [
            "epoch 4, loss 1.8599425554275513\n"
          ],
          "name": "stdout"
        },
        {
          "output_type": "stream",
          "text": [
            "100%|██████████| 6/6 [19:47<00:00, 197.83s/it]"
          ],
          "name": "stderr"
        },
        {
          "output_type": "stream",
          "text": [
            "epoch 5, loss 1.7188743352890015\n"
          ],
          "name": "stdout"
        },
        {
          "output_type": "stream",
          "text": [
            "\n"
          ],
          "name": "stderr"
        }
      ]
    },
    {
      "cell_type": "code",
      "metadata": {
        "id": "HXpJGbrjfdp2",
        "outputId": "71853ccd-8064-4331-aa9a-1d368c5227dd",
        "colab": {
          "base_uri": "https://localhost:8080/",
          "height": 700
        }
      },
      "source": [
        "plt.figure(figsize=(14, 12))\n",
        "plt.plot(range(epochs), losses)\n",
        "plt.grid()"
      ],
      "execution_count": 56,
      "outputs": [
        {
          "output_type": "display_data",
          "data": {
            "image/png": "[encoded data removed]",
            "text/plain": [
              "<Figure size 1008x864 with 1 Axes>"
            ]
          },
          "metadata": {
            "tags": [],
            "needs_background": "light"
          }
        }
      ]
    },
    {
      "cell_type": "code",
      "metadata": {
        "id": "KMixexylfy8o",
        "outputId": "e6e6104e-4449-411f-c4b5-c6727c438f4d",
        "colab": {
          "base_uri": "https://localhost:8080/",
          "height": 136
        }
      },
      "source": [
        "losses = list()\n",
        "preds = list()\n",
        "acc_list = list()\n",
        "\n",
        "# заметьте, что мы поменяли наш лоадер на валидационный\n",
        "losses = []\n",
        "\n",
        "for i in trange(epochs):\n",
        "  count = 0\n",
        "  for x, y in valid_loader:\n",
        "      \n",
        "      with torch.no_grad():\n",
        "          \n",
        "          x_forw = model.forward(x)\n",
        "          y_pred = torch.softmax(x_forw, dim=-1)\n",
        "          optimizer.zero_grad()\n",
        "\n",
        "          optimizer.step()\n",
        "          losses.append(loss)\n",
        "          optimizer.zero_grad()\n",
        "          optimizer.step()\n",
        "          losses.append(loss)\n",
        "  print(f\"epoch {i}, loss {loss}\")"
      ],
      "execution_count": 57,
      "outputs": [
        {
          "output_type": "stream",
          "text": [
            " 17%|█▋        | 1/6 [00:20<01:43, 20.68s/it]"
          ],
          "name": "stderr"
        },
        {
          "output_type": "stream",
          "text": [
            "epoch 0, loss 1.7188743352890015\n"
          ],
          "name": "stdout"
        },
        {
          "output_type": "stream",
          "text": [
            "\r 33%|███▎      | 2/6 [00:41<01:22, 20.67s/it]"
          ],
          "name": "stderr"
        },
        {
          "output_type": "stream",
          "text": [
            "epoch 1, loss 1.7188743352890015\n"
          ],
          "name": "stdout"
        },
        {
          "output_type": "stream",
          "text": [
            "\r 50%|█████     | 3/6 [01:02<01:02, 20.68s/it]"
          ],
          "name": "stderr"
        },
        {
          "output_type": "stream",
          "text": [
            "epoch 2, loss 1.7188743352890015\n"
          ],
          "name": "stdout"
        },
        {
          "output_type": "stream",
          "text": [
            "\r 67%|██████▋   | 4/6 [01:22<00:41, 20.64s/it]"
          ],
          "name": "stderr"
        },
        {
          "output_type": "stream",
          "text": [
            "epoch 3, loss 1.7188743352890015\n"
          ],
          "name": "stdout"
        },
        {
          "output_type": "stream",
          "text": [
            "\r 83%|████████▎ | 5/6 [01:43<00:20, 20.62s/it]"
          ],
          "name": "stderr"
        },
        {
          "output_type": "stream",
          "text": [
            "epoch 4, loss 1.7188743352890015\n"
          ],
          "name": "stdout"
        },
        {
          "output_type": "stream",
          "text": [
            "100%|██████████| 6/6 [02:03<00:00, 20.61s/it]"
          ],
          "name": "stderr"
        },
        {
          "output_type": "stream",
          "text": [
            "epoch 5, loss 1.7188743352890015\n"
          ],
          "name": "stdout"
        },
        {
          "output_type": "stream",
          "text": [
            "\n"
          ],
          "name": "stderr"
        }
      ]
    },
    {
      "cell_type": "code",
      "metadata": {
        "id": "_OJ708B3f2YY"
      },
      "source": [
        ""
      ],
      "execution_count": 57,
      "outputs": []
    },
    {
      "cell_type": "code",
      "metadata": {
        "id": "I6zK_tnLf_rH"
      },
      "source": [
        ""
      ],
      "execution_count": 57,
      "outputs": []
    },
    {
      "cell_type": "code",
      "metadata": {
        "id": "YVTGBqfzf_og"
      },
      "source": [
        ""
      ],
      "execution_count": 57,
      "outputs": []
    },
    {
      "cell_type": "markdown",
      "metadata": {
        "id": "2N5RPEuzgAOi"
      },
      "source": [
        "### **LSTM**"
      ]
    },
    {
      "cell_type": "code",
      "metadata": {
        "id": "W_IVAYuFoMuV"
      },
      "source": [
        "# vocab\n",
        "class LSTM(nn.Module):\n",
        "    \n",
        "    def __init__(self, embeddings, hidden_size, linear_1_size, linear_2_size, n_classes):\n",
        "        super().__init__()\n",
        "        \n",
        "        self.embedding_layer = nn.Embedding.from_pretrained(embeddings, padding_idx=0)\n",
        "        \n",
        "        self.batch_norm = nn.BatchNorm1d(num_features=embeddings.shape[-1])\n",
        "\n",
        "        self.lstm = nn.LSTM(input_size=300, hidden_size=128, num_layers=2, batch_first=True, dropout=0.3, bidirectional=True)\n",
        "        # self.hidden = (torch.zeros(1, 1,hidden_size), torch.zeros(1,1,hidden_size))\n",
        "        \n",
        "        self.linear_1 = nn.Linear(in_features=256, out_features=32)\n",
        "\n",
        "        self.linear_2 = nn.Linear(in_features=32, out_features=16)\n",
        "        self.linear_3 = nn.Linear(in_features=16, out_features=128)\n",
        "        \n",
        "    def forward(self, x):\n",
        "        #print(x.size())\n",
        "        x = self.embedding_layer(x)\n",
        "        #print(x.size())\n",
        "\n",
        "        #print(x.size())\n",
        "\n",
        "        # x = self.lstm(view(len(seq), 1, -1), self.hidden)\n",
        "        #print(x.size())\n",
        "        # x = x.sum(dim=1)\n",
        "        # x = self.batch_norm(x)\n",
        "        x, _ = self.lstm(x)\n",
        "        x = x.mean(dim=1)\n",
        "        x = self.linear_1(x)\n",
        "        x = torch.relu(x)\n",
        "        x = self.linear_2(x)\n",
        "        x = torch.relu(x)\n",
        "        \n",
        "        x = self.linear_3(x)\n",
        "        \n",
        "        \n",
        "        return x"
      ],
      "execution_count": 58,
      "outputs": []
    },
    {
      "cell_type": "code",
      "metadata": {
        "id": "_C1m6sFpqusd"
      },
      "source": [
        "model = LSTM(embeddings=embeddings,\n",
        "                           linear_1_size=256, \n",
        "                           linear_2_size=128,\n",
        "                            hidden_size = 64,\n",
        "                           n_classes=len(category2index))"
      ],
      "execution_count": 59,
      "outputs": []
    },
    {
      "cell_type": "code",
      "metadata": {
        "id": "isXWZA195Oho"
      },
      "source": [
        "CUDA = torch.cuda.is_available()\n",
        "if CUDA:\n",
        "  model = model.CUDA()"
      ],
      "execution_count": 60,
      "outputs": []
    },
    {
      "cell_type": "code",
      "metadata": {
        "id": "11qR6F15vKPC",
        "outputId": "8853d1fa-a385-4971-b598-16d5a96ee5f8",
        "colab": {
          "base_uri": "https://localhost:8080/",
          "height": 85
        }
      },
      "source": [
        "# criterion = nn.MSELoss()\n",
        "# optimizer = torch.optim.SGD(params=model.parameters(), lr=0.0001)\n",
        "\n",
        "criterion = nn.CrossEntropyLoss()\n",
        "optimizer = torch.optim.Adam(params=model.parameters(), lr=0.0001)\n",
        "\n",
        "epochs = 6\n",
        "losses = []\n",
        "for i in trange(epochs):\n",
        "  for x, y in train_loader:\n",
        "    if CUDA:\n",
        "      x = x.CUDA()\n",
        "      y = y.CUDA()\n",
        "\n",
        "    y_pred = model.forward(x)\n",
        "    loss = criterion(y_pred, y)\n",
        "    \n",
        "     \n",
        "\n",
        "    optimizer.zero_grad()\n",
        "    loss.backward()\n",
        "    optimizer.step()\n",
        "  losses.append(loss)\n",
        "  print(f\"epoch {i}, loss {loss}\")"
      ],
      "execution_count": 61,
      "outputs": [
        {
          "output_type": "stream",
          "text": [
            " 33%|███▎      | 1/3 [15:42<31:24, 942.26s/it]"
          ],
          "name": "stderr"
        },
        {
          "output_type": "stream",
          "text": [
            "epoch 0, loss 2.197453737258911\n"
          ],
          "name": "stdout"
        },
        {
          "output_type": "stream",
          "text": [
            "\r 67%|██████▋   | 2/3 [31:28<15:43, 943.58s/it]"
          ],
          "name": "stderr"
        },
        {
          "output_type": "stream",
          "text": [
            "epoch 1, loss 2.012697458267212\n"
          ],
          "name": "stdout"
        },
        {
          "output_type": "stream",
          "text": [
            "100%|██████████| 3/3 [47:15<00:00, 945.16s/it]"
          ],
          "name": "stderr"
        },
        {
          "output_type": "stream",
          "text": [
            "epoch 2, loss 1.4055880308151245\n"
          ],
          "name": "stdout"
        },
        {
          "output_type": "stream",
          "text": [
            "\n"
          ],
          "name": "stderr"
        }
      ]
    },
    {
      "cell_type": "code",
      "metadata": {
        "id": "DkkAMvch5x7l",
        "outputId": "02acadcf-ed64-4c44-cfa0-d6a498a88496",
        "colab": {
          "base_uri": "https://localhost:8080/",
          "height": 700
        }
      },
      "source": [
        "plt.figure(figsize=(14, 12))\n",
        "plt.plot(range(epochs), losses)\n",
        "plt.grid()"
      ],
      "execution_count": 62,
      "outputs": [
        {
          "output_type": "display_data",
          "data": {
            "image/png": "[encoded data removed]",
            "text/plain": [
              "<Figure size 1008x864 with 1 Axes>"
            ]
          },
          "metadata": {
            "tags": [],
            "needs_background": "light"
          }
        }
      ]
    },
    {
      "cell_type": "code",
      "metadata": {
        "id": "-tuBAtgvw8JS",
        "outputId": "4828e028-e0ee-4603-d00d-dcb01ffffe58",
        "colab": {
          "base_uri": "https://localhost:8080/",
          "height": 408
        }
      },
      "source": [
        "losses = list()\n",
        "preds = list()\n",
        "acc_list = list()\n",
        "\n",
        "# заметьте, что мы поменяли наш лоадер на валидационный\n",
        "losses = []\n",
        "\n",
        "for i in trange(epochs):\n",
        "  count = 0\n",
        "  for x, y in valid_loader:\n",
        "      \n",
        "      with torch.no_grad():\n",
        "          \n",
        "          x_forw = model.forward(x)\n",
        "          y_pred = torch.softmax(x_forw, dim=-1)\n",
        "          optimizer.zero_grad()\n",
        "\n",
        "          optimizer.step()\n",
        "          losses.append(loss)\n",
        "          optimizer.zero_grad()\n",
        "          optimizer.step()\n",
        "          losses.append(loss)\n",
        "  print(f\"epoch {i}, loss {loss}\")"
      ],
      "execution_count": 63,
      "outputs": [
        {
          "output_type": "stream",
          "text": [
            " 33%|███▎      | 1/3 [01:17<02:34, 77.36s/it]"
          ],
          "name": "stderr"
        },
        {
          "output_type": "stream",
          "text": [
            "epoch 0, loss 1.4055880308151245\n"
          ],
          "name": "stdout"
        },
        {
          "output_type": "stream",
          "text": [
            "\r 67%|██████▋   | 2/3 [02:41<01:19, 79.53s/it]"
          ],
          "name": "stderr"
        },
        {
          "output_type": "stream",
          "text": [
            "epoch 1, loss 1.4055880308151245\n"
          ],
          "name": "stdout"
        },
        {
          "output_type": "error",
          "ename": "KeyboardInterrupt",
          "evalue": "ignored",
          "traceback": [
            "\u001b[0;31m---------------------------------------------------------------------------\u001b[0m",
            "\u001b[0;31mKeyboardInterrupt\u001b[0m                         Traceback (most recent call last)",
            "\u001b[0;32m<ipython-input-63-371e8a75afa1>\u001b[0m in \u001b[0;36m<module>\u001b[0;34m()\u001b[0m\n\u001b[1;32m     12\u001b[0m       \u001b[0;32mwith\u001b[0m \u001b[0mtorch\u001b[0m\u001b[0;34m.\u001b[0m\u001b[0mno_grad\u001b[0m\u001b[0;34m(\u001b[0m\u001b[0;34m)\u001b[0m\u001b[0;34m:\u001b[0m\u001b[0;34m\u001b[0m\u001b[0;34m\u001b[0m\u001b[0m\n\u001b[1;32m     13\u001b[0m \u001b[0;34m\u001b[0m\u001b[0m\n\u001b[0;32m---> 14\u001b[0;31m           \u001b[0mx_forw\u001b[0m \u001b[0;34m=\u001b[0m \u001b[0mmodel\u001b[0m\u001b[0;34m.\u001b[0m\u001b[0mforward\u001b[0m\u001b[0;34m(\u001b[0m\u001b[0mx\u001b[0m\u001b[0;34m)\u001b[0m\u001b[0;34m\u001b[0m\u001b[0;34m\u001b[0m\u001b[0m\n\u001b[0m\u001b[1;32m     15\u001b[0m           \u001b[0my_pred\u001b[0m \u001b[0;34m=\u001b[0m \u001b[0mtorch\u001b[0m\u001b[0;34m.\u001b[0m\u001b[0msoftmax\u001b[0m\u001b[0;34m(\u001b[0m\u001b[0mx_forw\u001b[0m\u001b[0;34m,\u001b[0m \u001b[0mdim\u001b[0m\u001b[0;34m=\u001b[0m\u001b[0;34m-\u001b[0m\u001b[0;36m1\u001b[0m\u001b[0;34m)\u001b[0m\u001b[0;34m\u001b[0m\u001b[0;34m\u001b[0m\u001b[0m\n\u001b[1;32m     16\u001b[0m           \u001b[0moptimizer\u001b[0m\u001b[0;34m.\u001b[0m\u001b[0mzero_grad\u001b[0m\u001b[0;34m(\u001b[0m\u001b[0;34m)\u001b[0m\u001b[0;34m\u001b[0m\u001b[0;34m\u001b[0m\u001b[0m\n",
            "\u001b[0;32m<ipython-input-58-dccd08ed612a>\u001b[0m in \u001b[0;36mforward\u001b[0;34m(self, x)\u001b[0m\n\u001b[1;32m     28\u001b[0m         \u001b[0;31m# x = x.sum(dim=1)\u001b[0m\u001b[0;34m\u001b[0m\u001b[0;34m\u001b[0m\u001b[0;34m\u001b[0m\u001b[0m\n\u001b[1;32m     29\u001b[0m         \u001b[0;31m# x = self.batch_norm(x)\u001b[0m\u001b[0;34m\u001b[0m\u001b[0;34m\u001b[0m\u001b[0;34m\u001b[0m\u001b[0m\n\u001b[0;32m---> 30\u001b[0;31m         \u001b[0mx\u001b[0m\u001b[0;34m,\u001b[0m \u001b[0m_\u001b[0m \u001b[0;34m=\u001b[0m \u001b[0mself\u001b[0m\u001b[0;34m.\u001b[0m\u001b[0mlstm\u001b[0m\u001b[0;34m(\u001b[0m\u001b[0mx\u001b[0m\u001b[0;34m)\u001b[0m\u001b[0;34m\u001b[0m\u001b[0;34m\u001b[0m\u001b[0m\n\u001b[0m\u001b[1;32m     31\u001b[0m         \u001b[0mx\u001b[0m \u001b[0;34m=\u001b[0m \u001b[0mx\u001b[0m\u001b[0;34m.\u001b[0m\u001b[0mmean\u001b[0m\u001b[0;34m(\u001b[0m\u001b[0mdim\u001b[0m\u001b[0;34m=\u001b[0m\u001b[0;36m1\u001b[0m\u001b[0;34m)\u001b[0m\u001b[0;34m\u001b[0m\u001b[0;34m\u001b[0m\u001b[0m\n\u001b[1;32m     32\u001b[0m         \u001b[0mx\u001b[0m \u001b[0;34m=\u001b[0m \u001b[0mself\u001b[0m\u001b[0;34m.\u001b[0m\u001b[0mlinear_1\u001b[0m\u001b[0;34m(\u001b[0m\u001b[0mx\u001b[0m\u001b[0;34m)\u001b[0m\u001b[0;34m\u001b[0m\u001b[0;34m\u001b[0m\u001b[0m\n",
            "\u001b[0;32m/usr/local/lib/python3.6/dist-packages/torch/nn/modules/module.py\u001b[0m in \u001b[0;36m_call_impl\u001b[0;34m(self, *input, **kwargs)\u001b[0m\n\u001b[1;32m    720\u001b[0m             \u001b[0mresult\u001b[0m \u001b[0;34m=\u001b[0m \u001b[0mself\u001b[0m\u001b[0;34m.\u001b[0m\u001b[0m_slow_forward\u001b[0m\u001b[0;34m(\u001b[0m\u001b[0;34m*\u001b[0m\u001b[0minput\u001b[0m\u001b[0;34m,\u001b[0m \u001b[0;34m**\u001b[0m\u001b[0mkwargs\u001b[0m\u001b[0;34m)\u001b[0m\u001b[0;34m\u001b[0m\u001b[0;34m\u001b[0m\u001b[0m\n\u001b[1;32m    721\u001b[0m         \u001b[0;32melse\u001b[0m\u001b[0;34m:\u001b[0m\u001b[0;34m\u001b[0m\u001b[0;34m\u001b[0m\u001b[0m\n\u001b[0;32m--> 722\u001b[0;31m             \u001b[0mresult\u001b[0m \u001b[0;34m=\u001b[0m \u001b[0mself\u001b[0m\u001b[0;34m.\u001b[0m\u001b[0mforward\u001b[0m\u001b[0;34m(\u001b[0m\u001b[0;34m*\u001b[0m\u001b[0minput\u001b[0m\u001b[0;34m,\u001b[0m \u001b[0;34m**\u001b[0m\u001b[0mkwargs\u001b[0m\u001b[0;34m)\u001b[0m\u001b[0;34m\u001b[0m\u001b[0;34m\u001b[0m\u001b[0m\n\u001b[0m\u001b[1;32m    723\u001b[0m         for hook in itertools.chain(\n\u001b[1;32m    724\u001b[0m                 \u001b[0m_global_forward_hooks\u001b[0m\u001b[0;34m.\u001b[0m\u001b[0mvalues\u001b[0m\u001b[0;34m(\u001b[0m\u001b[0;34m)\u001b[0m\u001b[0;34m,\u001b[0m\u001b[0;34m\u001b[0m\u001b[0;34m\u001b[0m\u001b[0m\n",
            "\u001b[0;32m/usr/local/lib/python3.6/dist-packages/torch/nn/modules/rnn.py\u001b[0m in \u001b[0;36mforward\u001b[0;34m(self, input, hx)\u001b[0m\n\u001b[1;32m    575\u001b[0m         \u001b[0;32mif\u001b[0m \u001b[0mbatch_sizes\u001b[0m \u001b[0;32mis\u001b[0m \u001b[0;32mNone\u001b[0m\u001b[0;34m:\u001b[0m\u001b[0;34m\u001b[0m\u001b[0;34m\u001b[0m\u001b[0m\n\u001b[1;32m    576\u001b[0m             result = _VF.lstm(input, hx, self._flat_weights, self.bias, self.num_layers,\n\u001b[0;32m--> 577\u001b[0;31m                               self.dropout, self.training, self.bidirectional, self.batch_first)\n\u001b[0m\u001b[1;32m    578\u001b[0m         \u001b[0;32melse\u001b[0m\u001b[0;34m:\u001b[0m\u001b[0;34m\u001b[0m\u001b[0;34m\u001b[0m\u001b[0m\n\u001b[1;32m    579\u001b[0m             result = _VF.lstm(input, batch_sizes, hx, self._flat_weights, self.bias,\n",
            "\u001b[0;31mKeyboardInterrupt\u001b[0m: "
          ]
        }
      ]
    },
    {
      "cell_type": "code",
      "metadata": {
        "id": "t9mdRRye53Ko"
      },
      "source": [
        ""
      ],
      "execution_count": null,
      "outputs": []
    }
  ]
}