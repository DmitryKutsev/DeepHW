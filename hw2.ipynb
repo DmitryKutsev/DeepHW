{
  "nbformat": 4,
  "nbformat_minor": 0,
  "metadata": {
    "colab": {
      "name": "Untitled41.ipynb",
      "provenance": [],
      "authorship_tag": "ABX9TyMS4gcoPD0rBNaaS/TT8bhi",
      "include_colab_link": true
    },
    "kernelspec": {
      "name": "python3",
      "display_name": "Python 3"
    }
  },
  "cells": [
    {
      "cell_type": "markdown",
      "metadata": {
        "id": "view-in-github",
        "colab_type": "text"
      },
      "source": [
        "<a href=\"https://colab.research.google.com/github/DmitryKutsev/DeepHW/blob/master/hw2.ipynb\" target=\"_parent\"><img src=\"https://colab.research.google.com/assets/colab-badge.svg\" alt=\"Open In Colab\"/></a>"
      ]
    },
    {
      "cell_type": "code",
      "metadata": {
        "id": "BVa_ArZt0p6i",
        "outputId": "1f044f93-703e-488d-da20-eeb8c10ac8d8",
        "colab": {
          "base_uri": "https://localhost:8080/"
        }
      },
      "source": [
        "!wget https://dl.fbaipublicfiles.com/fasttext/vectors-english/wiki-news-300d-1M.vec.zip"
      ],
      "execution_count": 1,
      "outputs": [
        {
          "output_type": "stream",
          "text": [
            "--2020-10-07 16:25:38--  https://dl.fbaipublicfiles.com/fasttext/vectors-english/wiki-news-300d-1M.vec.zip\n",
            "Resolving dl.fbaipublicfiles.com (dl.fbaipublicfiles.com)... 172.67.9.4, 104.22.74.142, 104.22.75.142, ...\n",
            "Connecting to dl.fbaipublicfiles.com (dl.fbaipublicfiles.com)|172.67.9.4|:443... connected.\n",
            "HTTP request sent, awaiting response... 200 OK\n",
            "Length: 681808098 (650M) [application/zip]\n",
            "Saving to: ‘wiki-news-300d-1M.vec.zip’\n",
            "\n",
            "wiki-news-300d-1M.v 100%[===================>] 650.22M  11.1MB/s    in 64s     \n",
            "\n",
            "2020-10-07 16:26:43 (10.2 MB/s) - ‘wiki-news-300d-1M.vec.zip’ saved [681808098/681808098]\n",
            "\n"
          ],
          "name": "stdout"
        }
      ]
    },
    {
      "cell_type": "code",
      "metadata": {
        "id": "cLYwlK1H0TJA"
      },
      "source": [
        "import math\n",
        "import numpy as np\n",
        "\n",
        "from tqdm import tqdm\n",
        "\n",
        "import torch\n",
        "\n",
        "import zipfile\n",
        "\n",
        "import seaborn as sns\n"
      ],
      "execution_count": 2,
      "outputs": []
    },
    {
      "cell_type": "code",
      "metadata": {
        "id": "DerMPE7f5Mm3",
        "outputId": "5506942c-6084-4a58-a45e-4661244987fd",
        "colab": {
          "base_uri": "https://localhost:8080/"
        }
      },
      "source": [
        "!wget https://raw.githubusercontent.com/BobaZooba/HSE-Deep-Learning-in-NLP-Course/master/Week%203/data.py"
      ],
      "execution_count": 12,
      "outputs": [
        {
          "output_type": "stream",
          "text": [
            "--2020-10-07 17:03:10--  https://raw.githubusercontent.com/BobaZooba/HSE-Deep-Learning-in-NLP-Course/master/Week%203/data.py\n",
            "Resolving raw.githubusercontent.com (raw.githubusercontent.com)... 151.101.0.133, 151.101.64.133, 151.101.128.133, ...\n",
            "Connecting to raw.githubusercontent.com (raw.githubusercontent.com)|151.101.0.133|:443... connected.\n",
            "HTTP request sent, awaiting response... 200 OK\n",
            "Length: 10563 (10K) [text/plain]\n",
            "Saving to: ‘data.py’\n",
            "\n",
            "data.py             100%[===================>]  10.32K  --.-KB/s    in 0s      \n",
            "\n",
            "2020-10-07 17:03:10 (86.0 MB/s) - ‘data.py’ saved [10563/10563]\n",
            "\n"
          ],
          "name": "stdout"
        }
      ]
    },
    {
      "cell_type": "code",
      "metadata": {
        "id": "tcPKBhcDCVU2"
      },
      "source": [
        "!mv data.py mydata.py"
      ],
      "execution_count": 22,
      "outputs": []
    },
    {
      "cell_type": "code",
      "metadata": {
        "id": "-ykI-3h55GQM"
      },
      "source": [
        "from mydata import Downloader, Parser"
      ],
      "execution_count": 23,
      "outputs": []
    },
    {
      "cell_type": "code",
      "metadata": {
        "id": "edch24Dm1Lz_"
      },
      "source": [
        "data_path = './data/'"
      ],
      "execution_count": 24,
      "outputs": []
    },
    {
      "cell_type": "code",
      "metadata": {
        "id": "EFhRTbEZ0vNw"
      },
      "source": [
        "downloader = Downloader(data_path=data_path)"
      ],
      "execution_count": 25,
      "outputs": []
    },
    {
      "cell_type": "code",
      "metadata": {
        "id": "tvSwaNCn0Wbi",
        "outputId": "321dbb3d-3388-415b-c6fb-e29926172dd5",
        "colab": {
          "base_uri": "https://localhost:8080/"
        }
      },
      "source": [
        "downloader.run()"
      ],
      "execution_count": 26,
      "outputs": [
        {
          "output_type": "stream",
          "text": [
            "single: 100%|██████████| 21/21 [00:35<00:00,  1.69s/it]\n",
            "multiple: 100%|██████████| 17/17 [01:57<00:00,  6.93s/it]\n"
          ],
          "name": "stderr"
        }
      ]
    },
    {
      "cell_type": "code",
      "metadata": {
        "id": "oIsZUJJi09CY"
      },
      "source": [
        "parser = Parser(data_path=data_path)"
      ],
      "execution_count": 27,
      "outputs": []
    },
    {
      "cell_type": "code",
      "metadata": {
        "id": "cP0mJb-bDnTA",
        "outputId": "6af3532d-51f1-47de-f192-9a356341b594",
        "colab": {
          "base_uri": "https://localhost:8080/"
        }
      },
      "source": [
        "unlabeled, train, valid = parser.run()"
      ],
      "execution_count": 28,
      "outputs": [
        {
          "output_type": "stream",
          "text": [
            "Reading: 100%|██████████| 38/38 [02:33<00:00,  4.03s/it]\n"
          ],
          "name": "stderr"
        }
      ]
    },
    {
      "cell_type": "code",
      "metadata": {
        "id": "kcnwS_eFFc77",
        "outputId": "9cd9374b-bae5-4867-bc8c-b88c2fa302ec",
        "colab": {
          "base_uri": "https://localhost:8080/",
          "height": 419
        }
      },
      "source": [
        "unlabeled"
      ],
      "execution_count": 31,
      "outputs": [
        {
          "output_type": "execute_result",
          "data": {
            "text/html": [
              "<div>\n",
              "<style scoped>\n",
              "    .dataframe tbody tr th:only-of-type {\n",
              "        vertical-align: middle;\n",
              "    }\n",
              "\n",
              "    .dataframe tbody tr th {\n",
              "        vertical-align: top;\n",
              "    }\n",
              "\n",
              "    .dataframe thead th {\n",
              "        text-align: right;\n",
              "    }\n",
              "</style>\n",
              "<table border=\"1\" class=\"dataframe\">\n",
              "  <thead>\n",
              "    <tr style=\"text-align: right;\">\n",
              "      <th></th>\n",
              "      <th>question</th>\n",
              "      <th>response</th>\n",
              "    </tr>\n",
              "  </thead>\n",
              "  <tbody>\n",
              "    <tr>\n",
              "      <th>0</th>\n",
              "      <td>will this fit on ruger 22-45 it has the thread...</td>\n",
              "      <td>yes, that's how it attaches.</td>\n",
              "    </tr>\n",
              "    <tr>\n",
              "      <th>1</th>\n",
              "      <td>not stated anywhere on here nor in any reviews...</td>\n",
              "      <td>blade thickness: 4.5 mm (0.18\"), tapered. http...</td>\n",
              "    </tr>\n",
              "    <tr>\n",
              "      <th>2</th>\n",
              "      <td>is there a 2\" square hole in the back that cou...</td>\n",
              "      <td>there is a hole. but it is the inside of the 2...</td>\n",
              "    </tr>\n",
              "    <tr>\n",
              "      <th>3</th>\n",
              "      <td>is this a spray or a powder?  if powder, is it...</td>\n",
              "      <td>it is a powder and it's a canister, about the ...</td>\n",
              "    </tr>\n",
              "    <tr>\n",
              "      <th>4</th>\n",
              "      <td>celljoy or kaleidio?</td>\n",
              "      <td>celljoy</td>\n",
              "    </tr>\n",
              "    <tr>\n",
              "      <th>...</th>\n",
              "      <td>...</td>\n",
              "      <td>...</td>\n",
              "    </tr>\n",
              "    <tr>\n",
              "      <th>137275</th>\n",
              "      <td>i did not get any batteries</td>\n",
              "      <td>states it comes with batteries but when i orde...</td>\n",
              "    </tr>\n",
              "    <tr>\n",
              "      <th>137276</th>\n",
              "      <td>does this product have corn syrup in it?</td>\n",
              "      <td>not that i know of. when the study sent sample...</td>\n",
              "    </tr>\n",
              "    <tr>\n",
              "      <th>137277</th>\n",
              "      <td>does the brother 1230 ribbon fit the brother g...</td>\n",
              "      <td>when i bought my typewriter  brother had no ri...</td>\n",
              "    </tr>\n",
              "    <tr>\n",
              "      <th>137278</th>\n",
              "      <td>what is the print yield on these cartridges?</td>\n",
              "      <td>black up to 1,600 standard pages, color up to ...</td>\n",
              "    </tr>\n",
              "    <tr>\n",
              "      <th>137279</th>\n",
              "      <td>is the price of one mat or a pkg with two mats?</td>\n",
              "      <td>one mat but it flips so the you use it till th...</td>\n",
              "    </tr>\n",
              "  </tbody>\n",
              "</table>\n",
              "<p>137280 rows × 2 columns</p>\n",
              "</div>"
            ],
            "text/plain": [
              "                                                 question                                           response\n",
              "0       will this fit on ruger 22-45 it has the thread...                       yes, that's how it attaches.\n",
              "1       not stated anywhere on here nor in any reviews...  blade thickness: 4.5 mm (0.18\"), tapered. http...\n",
              "2       is there a 2\" square hole in the back that cou...  there is a hole. but it is the inside of the 2...\n",
              "3       is this a spray or a powder?  if powder, is it...  it is a powder and it's a canister, about the ...\n",
              "4                                    celljoy or kaleidio?                                            celljoy\n",
              "...                                                   ...                                                ...\n",
              "137275                        i did not get any batteries  states it comes with batteries but when i orde...\n",
              "137276           does this product have corn syrup in it?  not that i know of. when the study sent sample...\n",
              "137277  does the brother 1230 ribbon fit the brother g...  when i bought my typewriter  brother had no ri...\n",
              "137278       what is the print yield on these cartridges?  black up to 1,600 standard pages, color up to ...\n",
              "137279    is the price of one mat or a pkg with two mats?  one mat but it flips so the you use it till th...\n",
              "\n",
              "[137280 rows x 2 columns]"
            ]
          },
          "metadata": {
            "tags": []
          },
          "execution_count": 31
        }
      ]
    },
    {
      "cell_type": "code",
      "metadata": {
        "id": "q-Zdg1ePFc-h",
        "outputId": "863adaa9-4aa0-4c0c-9abc-4777ec4910ee",
        "colab": {
          "base_uri": "https://localhost:8080/",
          "height": 419
        }
      },
      "source": [
        "train"
      ],
      "execution_count": 32,
      "outputs": [
        {
          "output_type": "execute_result",
          "data": {
            "text/html": [
              "<div>\n",
              "<style scoped>\n",
              "    .dataframe tbody tr th:only-of-type {\n",
              "        vertical-align: middle;\n",
              "    }\n",
              "\n",
              "    .dataframe tbody tr th {\n",
              "        vertical-align: top;\n",
              "    }\n",
              "\n",
              "    .dataframe thead th {\n",
              "        text-align: right;\n",
              "    }\n",
              "</style>\n",
              "<table border=\"1\" class=\"dataframe\">\n",
              "  <thead>\n",
              "    <tr style=\"text-align: right;\">\n",
              "      <th></th>\n",
              "      <th>question</th>\n",
              "      <th>response</th>\n",
              "      <th>category</th>\n",
              "    </tr>\n",
              "  </thead>\n",
              "  <tbody>\n",
              "    <tr>\n",
              "      <th>0</th>\n",
              "      <td>would this watch be good for someone in their ...</td>\n",
              "      <td>its fairly large, as far as steps, i drive a o...</td>\n",
              "      <td>sports and outdoors</td>\n",
              "    </tr>\n",
              "    <tr>\n",
              "      <th>1</th>\n",
              "      <td>does this require a spanner to install or does...</td>\n",
              "      <td>these pedals have a 6mm insert on the spindle ...</td>\n",
              "      <td>sports and outdoors</td>\n",
              "    </tr>\n",
              "    <tr>\n",
              "      <th>2</th>\n",
              "      <td>if nuts are always in the washer with the laun...</td>\n",
              "      <td>good question. all i can tell you is there is ...</td>\n",
              "      <td>beauty</td>\n",
              "    </tr>\n",
              "    <tr>\n",
              "      <th>3</th>\n",
              "      <td>does carrier come with infant insert attached ...</td>\n",
              "      <td>it doesn't have an infant insert, but it has l...</td>\n",
              "      <td>baby</td>\n",
              "    </tr>\n",
              "    <tr>\n",
              "      <th>4</th>\n",
              "      <td>does it fit with the spygen neo hybrid case on?</td>\n",
              "      <td>can't say for sure about the neo hybrid case, ...</td>\n",
              "      <td>cell phones and accessories</td>\n",
              "    </tr>\n",
              "    <tr>\n",
              "      <th>...</th>\n",
              "      <td>...</td>\n",
              "      <td>...</td>\n",
              "      <td>...</td>\n",
              "    </tr>\n",
              "    <tr>\n",
              "      <th>249995</th>\n",
              "      <td>what is the length, width and height with the ...</td>\n",
              "      <td>the height is 21 3/4 \" the length is 14\" and w...</td>\n",
              "      <td>pet supplies</td>\n",
              "    </tr>\n",
              "    <tr>\n",
              "      <th>249996</th>\n",
              "      <td>does this (cedar ridge rimrock) model come wit...</td>\n",
              "      <td>yes it does</td>\n",
              "      <td>sports and outdoors</td>\n",
              "    </tr>\n",
              "    <tr>\n",
              "      <th>249997</th>\n",
              "      <td>do bulbs come with this lamp?</td>\n",
              "      <td>yes bulbs come with it,</td>\n",
              "      <td>beauty</td>\n",
              "    </tr>\n",
              "    <tr>\n",
              "      <th>249998</th>\n",
              "      <td>will this fit a 20575r15 tire. if not do you h...</td>\n",
              "      <td>i have 2001 chevy tracker and it fits find</td>\n",
              "      <td>automotive</td>\n",
              "    </tr>\n",
              "    <tr>\n",
              "      <th>249999</th>\n",
              "      <td>what are the actual dimensions of the mirror i...</td>\n",
              "      <td>actual mirror surface is 8 x 5 inches. hope th...</td>\n",
              "      <td>automotive</td>\n",
              "    </tr>\n",
              "  </tbody>\n",
              "</table>\n",
              "<p>250000 rows × 3 columns</p>\n",
              "</div>"
            ],
            "text/plain": [
              "                                                 question  ...                     category\n",
              "0       would this watch be good for someone in their ...  ...          sports and outdoors\n",
              "1       does this require a spanner to install or does...  ...          sports and outdoors\n",
              "2       if nuts are always in the washer with the laun...  ...                       beauty\n",
              "3       does carrier come with infant insert attached ...  ...                         baby\n",
              "4         does it fit with the spygen neo hybrid case on?  ...  cell phones and accessories\n",
              "...                                                   ...  ...                          ...\n",
              "249995  what is the length, width and height with the ...  ...                 pet supplies\n",
              "249996  does this (cedar ridge rimrock) model come wit...  ...          sports and outdoors\n",
              "249997                      do bulbs come with this lamp?  ...                       beauty\n",
              "249998  will this fit a 20575r15 tire. if not do you h...  ...                   automotive\n",
              "249999  what are the actual dimensions of the mirror i...  ...                   automotive\n",
              "\n",
              "[250000 rows x 3 columns]"
            ]
          },
          "metadata": {
            "tags": []
          },
          "execution_count": 32
        }
      ]
    },
    {
      "cell_type": "code",
      "metadata": {
        "id": "fiJ4PLwfFdCA",
        "outputId": "c2db7dcb-015e-4b66-e666-12f4e9b564ba",
        "colab": {
          "base_uri": "https://localhost:8080/",
          "height": 419
        }
      },
      "source": [
        "valid"
      ],
      "execution_count": 33,
      "outputs": [
        {
          "output_type": "execute_result",
          "data": {
            "text/html": [
              "<div>\n",
              "<style scoped>\n",
              "    .dataframe tbody tr th:only-of-type {\n",
              "        vertical-align: middle;\n",
              "    }\n",
              "\n",
              "    .dataframe tbody tr th {\n",
              "        vertical-align: top;\n",
              "    }\n",
              "\n",
              "    .dataframe thead th {\n",
              "        text-align: right;\n",
              "    }\n",
              "</style>\n",
              "<table border=\"1\" class=\"dataframe\">\n",
              "  <thead>\n",
              "    <tr style=\"text-align: right;\">\n",
              "      <th></th>\n",
              "      <th>question</th>\n",
              "      <th>response</th>\n",
              "      <th>category</th>\n",
              "    </tr>\n",
              "  </thead>\n",
              "  <tbody>\n",
              "    <tr>\n",
              "      <th>0</th>\n",
              "      <td>does the back support adjust as in going forwa...</td>\n",
              "      <td>no it does not adjust. it has a pin to pull ou...</td>\n",
              "      <td>sports and outdoors</td>\n",
              "    </tr>\n",
              "    <tr>\n",
              "      <th>1</th>\n",
              "      <td>can you add weights to increase resistance? i ...</td>\n",
              "      <td>no you cannot....</td>\n",
              "      <td>sports and outdoors</td>\n",
              "    </tr>\n",
              "    <tr>\n",
              "      <th>2</th>\n",
              "      <td>are these galvanized?</td>\n",
              "      <td>i'm not sure, i live in oregon we have rain, s...</td>\n",
              "      <td>sports and outdoors</td>\n",
              "    </tr>\n",
              "    <tr>\n",
              "      <th>3</th>\n",
              "      <td>does it work for a razor?</td>\n",
              "      <td>yes, that what i have......</td>\n",
              "      <td>cell phones and accessories</td>\n",
              "    </tr>\n",
              "    <tr>\n",
              "      <th>4</th>\n",
              "      <td>what size is the frame?</td>\n",
              "      <td>the bike comes in multiple frame sizes. ask th...</td>\n",
              "      <td>sports and outdoors</td>\n",
              "    </tr>\n",
              "    <tr>\n",
              "      <th>...</th>\n",
              "      <td>...</td>\n",
              "      <td>...</td>\n",
              "      <td>...</td>\n",
              "    </tr>\n",
              "    <tr>\n",
              "      <th>49995</th>\n",
              "      <td>does this come with the clip for the phone?</td>\n",
              "      <td>yes, it does come with a clip.</td>\n",
              "      <td>cell phones and accessories</td>\n",
              "    </tr>\n",
              "    <tr>\n",
              "      <th>49996</th>\n",
              "      <td>are there built in adjusting screws for the ai...</td>\n",
              "      <td>you're damn right there are</td>\n",
              "      <td>automotive</td>\n",
              "    </tr>\n",
              "    <tr>\n",
              "      <th>49997</th>\n",
              "      <td>can they be worn in the shower &amp; then take you...</td>\n",
              "      <td>no it does have a fabric material to it so the...</td>\n",
              "      <td>beauty</td>\n",
              "    </tr>\n",
              "    <tr>\n",
              "      <th>49998</th>\n",
              "      <td>why will this company not ship to texas?! very...</td>\n",
              "      <td>i am sorry, but that is a glitch on amazon tha...</td>\n",
              "      <td>grocery and gourmet food</td>\n",
              "    </tr>\n",
              "    <tr>\n",
              "      <th>49999</th>\n",
              "      <td>what is the thickness of the 8'x6' mat?</td>\n",
              "      <td>the cardio max mat is 3mm (1/8\") thick. thank ...</td>\n",
              "      <td>sports and outdoors</td>\n",
              "    </tr>\n",
              "  </tbody>\n",
              "</table>\n",
              "<p>50000 rows × 3 columns</p>\n",
              "</div>"
            ],
            "text/plain": [
              "                                                question  ...                     category\n",
              "0      does the back support adjust as in going forwa...  ...          sports and outdoors\n",
              "1      can you add weights to increase resistance? i ...  ...          sports and outdoors\n",
              "2                                  are these galvanized?  ...          sports and outdoors\n",
              "3                              does it work for a razor?  ...  cell phones and accessories\n",
              "4                                what size is the frame?  ...          sports and outdoors\n",
              "...                                                  ...  ...                          ...\n",
              "49995        does this come with the clip for the phone?  ...  cell phones and accessories\n",
              "49996  are there built in adjusting screws for the ai...  ...                   automotive\n",
              "49997  can they be worn in the shower & then take you...  ...                       beauty\n",
              "49998  why will this company not ship to texas?! very...  ...     grocery and gourmet food\n",
              "49999            what is the thickness of the 8'x6' mat?  ...          sports and outdoors\n",
              "\n",
              "[50000 rows x 3 columns]"
            ]
          },
          "metadata": {
            "tags": []
          },
          "execution_count": 33
        }
      ]
    },
    {
      "cell_type": "code",
      "metadata": {
        "id": "xV5meMEUDpGn",
        "outputId": "37c2287e-f679-478a-adac-9e68444c3481",
        "colab": {
          "base_uri": "https://localhost:8080/"
        }
      },
      "source": [
        "# проверим, что в трейне и валидации одинаковые категории\n",
        "set(train.category.unique().tolist()) == set(valid.category.unique().tolist())"
      ],
      "execution_count": 29,
      "outputs": [
        {
          "output_type": "execute_result",
          "data": {
            "text/plain": [
              "True"
            ]
          },
          "metadata": {
            "tags": []
          },
          "execution_count": 29
        }
      ]
    },
    {
      "cell_type": "code",
      "metadata": {
        "id": "8eQK8kIxFPwi",
        "outputId": "943ae1b8-595d-4178-a2bb-180d29f32f9c",
        "colab": {
          "base_uri": "https://localhost:8080/"
        }
      },
      "source": [
        "train.category.unique()"
      ],
      "execution_count": 30,
      "outputs": [
        {
          "output_type": "execute_result",
          "data": {
            "text/plain": [
              "array(['sports and outdoors', 'beauty', 'baby',\n",
              "       'cell phones and accessories', 'automotive', 'office products',\n",
              "       'pet supplies', 'grocery and gourmet food'], dtype=object)"
            ]
          },
          "metadata": {
            "tags": []
          },
          "execution_count": 30
        }
      ]
    },
    {
      "cell_type": "code",
      "metadata": {
        "id": "ZooQ3GPrFSyC"
      },
      "source": [
        "unique_categories = set(train.category.unique().tolist() + valid.category.unique().tolist())"
      ],
      "execution_count": 34,
      "outputs": []
    },
    {
      "cell_type": "code",
      "metadata": {
        "id": "cwpJxzo7GQRW"
      },
      "source": [
        "category2index = {category: index for index, category in enumerate(unique_categories)}"
      ],
      "execution_count": 35,
      "outputs": []
    },
    {
      "cell_type": "code",
      "metadata": {
        "id": "1X7NcoIKGSLP",
        "outputId": "abf0ccfe-0e69-4cdd-febd-442826389b26",
        "colab": {
          "base_uri": "https://localhost:8080/"
        }
      },
      "source": [
        "category2index"
      ],
      "execution_count": 36,
      "outputs": [
        {
          "output_type": "execute_result",
          "data": {
            "text/plain": [
              "{'automotive': 6,\n",
              " 'baby': 7,\n",
              " 'beauty': 5,\n",
              " 'cell phones and accessories': 4,\n",
              " 'grocery and gourmet food': 0,\n",
              " 'office products': 2,\n",
              " 'pet supplies': 1,\n",
              " 'sports and outdoors': 3}"
            ]
          },
          "metadata": {
            "tags": []
          },
          "execution_count": 36
        }
      ]
    },
    {
      "cell_type": "code",
      "metadata": {
        "id": "-UlYn4_WGUkj"
      },
      "source": [
        "train['target'] = train.category.map(category2index)\n",
        "valid['target'] = valid.category.map(category2index)"
      ],
      "execution_count": 37,
      "outputs": []
    },
    {
      "cell_type": "code",
      "metadata": {
        "id": "fesvuXoTH2ig"
      },
      "source": [
        "from torch.utils.data import Dataset, DataLoader"
      ],
      "execution_count": 39,
      "outputs": []
    },
    {
      "cell_type": "code",
      "metadata": {
        "id": "ANqNmiwnH44r"
      },
      "source": [
        "# игрушечный датасет\n",
        "# 121535 примера, 4 фичи, 3 класса\n",
        "some_data_x = np.random.rand(121535, 4)\n",
        "some_data_y = np.random.randint(3, size=(121535,))"
      ],
      "execution_count": 40,
      "outputs": []
    },
    {
      "cell_type": "code",
      "metadata": {
        "id": "hMXFfh9lI3Ky",
        "outputId": "e9610f3a-8d83-4b54-b0bd-6f632f746adf",
        "colab": {
          "base_uri": "https://localhost:8080/"
        }
      },
      "source": [
        "\n",
        "# просто рандомные цифры\n",
        "some_data_x[:10]"
      ],
      "execution_count": 41,
      "outputs": [
        {
          "output_type": "execute_result",
          "data": {
            "text/plain": [
              "array([[0.68414403, 0.83222526, 0.9783629 , 0.56801603],\n",
              "       [0.31279536, 0.13508384, 0.22428122, 0.63455277],\n",
              "       [0.81433872, 0.01006118, 0.9533542 , 0.66111576],\n",
              "       [0.14798642, 0.43873834, 0.37409874, 0.06996924],\n",
              "       [0.9768016 , 0.73345217, 0.69669065, 0.69219786],\n",
              "       [0.8901985 , 0.42117255, 0.03653708, 0.79091627],\n",
              "       [0.46302592, 0.67427983, 0.81917518, 0.55045393],\n",
              "       [0.63085536, 0.86645414, 0.95930549, 0.09467927],\n",
              "       [0.64216652, 0.16270902, 0.89968019, 0.41679377],\n",
              "       [0.22823859, 0.04596975, 0.14072624, 0.43849377]])"
            ]
          },
          "metadata": {
            "tags": []
          },
          "execution_count": 41
        }
      ]
    },
    {
      "cell_type": "code",
      "metadata": {
        "id": "5wVluH7IKF__",
        "outputId": "5f19ab0a-a167-4388-cd77-31740f0c086e",
        "colab": {
          "base_uri": "https://localhost:8080/"
        }
      },
      "source": [
        "some_data_y"
      ],
      "execution_count": 42,
      "outputs": [
        {
          "output_type": "execute_result",
          "data": {
            "text/plain": [
              "array([2, 0, 0, ..., 2, 2, 2])"
            ]
          },
          "metadata": {
            "tags": []
          },
          "execution_count": 42
        }
      ]
    },
    {
      "cell_type": "code",
      "metadata": {
        "id": "EHC9j0ecKLi7"
      },
      "source": [
        "batch_size = 16\n",
        "\n",
        "for i_batch in range(math.ceil(some_data_x.shape[0] / batch_size)):\n",
        "    \n",
        "    x_batch = some_data_x[i_batch * batch_size:(i_batch + 1) * batch_size]\n",
        "    y_batch = some_data_y[i_batch * batch_size:(i_batch + 1) * batch_size]\n",
        "    \n",
        "    x_batch = torch.tensor(x_batch)\n",
        "    y_batch = torch.tensor(y_batch)\n",
        "    \n",
        "    break"
      ],
      "execution_count": 43,
      "outputs": []
    },
    {
      "cell_type": "code",
      "metadata": {
        "id": "NFUbych6KTzD",
        "outputId": "9ec3aaad-9209-47a6-dd83-b35edef86142",
        "colab": {
          "base_uri": "https://localhost:8080/"
        }
      },
      "source": [
        "x_batch"
      ],
      "execution_count": 44,
      "outputs": [
        {
          "output_type": "execute_result",
          "data": {
            "text/plain": [
              "tensor([[0.6841, 0.8322, 0.9784, 0.5680],\n",
              "        [0.3128, 0.1351, 0.2243, 0.6346],\n",
              "        [0.8143, 0.0101, 0.9534, 0.6611],\n",
              "        [0.1480, 0.4387, 0.3741, 0.0700],\n",
              "        [0.9768, 0.7335, 0.6967, 0.6922],\n",
              "        [0.8902, 0.4212, 0.0365, 0.7909],\n",
              "        [0.4630, 0.6743, 0.8192, 0.5505],\n",
              "        [0.6309, 0.8665, 0.9593, 0.0947],\n",
              "        [0.6422, 0.1627, 0.8997, 0.4168],\n",
              "        [0.2282, 0.0460, 0.1407, 0.4385],\n",
              "        [0.0156, 0.9409, 0.3726, 0.4079],\n",
              "        [0.5552, 0.9908, 0.1841, 0.3710],\n",
              "        [0.4304, 0.7264, 0.4705, 0.4469],\n",
              "        [0.3289, 0.0797, 0.6491, 0.8888],\n",
              "        [0.6395, 0.1386, 0.6293, 0.8807],\n",
              "        [0.3954, 0.6375, 0.2258, 0.0162]], dtype=torch.float64)"
            ]
          },
          "metadata": {
            "tags": []
          },
          "execution_count": 44
        }
      ]
    },
    {
      "cell_type": "code",
      "metadata": {
        "id": "4UnWnWn_KWf0",
        "outputId": "7fa8c496-a8e0-4767-f15a-f620346960ae",
        "colab": {
          "base_uri": "https://localhost:8080/"
        }
      },
      "source": [
        "x_batch.shape, y_batch.shape"
      ],
      "execution_count": 45,
      "outputs": [
        {
          "output_type": "execute_result",
          "data": {
            "text/plain": [
              "(torch.Size([16, 4]), torch.Size([16]))"
            ]
          },
          "metadata": {
            "tags": []
          },
          "execution_count": 45
        }
      ]
    },
    {
      "cell_type": "code",
      "metadata": {
        "id": "EU_qiEgSKYDC"
      },
      "source": [
        ""
      ],
      "execution_count": null,
      "outputs": []
    }
  ]
}