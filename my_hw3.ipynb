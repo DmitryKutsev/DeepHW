{
  "nbformat": 4,
  "nbformat_minor": 0,
  "metadata": {
    "colab": {
      "name": "Untitled45.ipynb",
      "provenance": [],
      "authorship_tag": "ABX9TyOz63yXmFMjRk8ylmEJfA9u",
      "include_colab_link": true
    },
    "kernelspec": {
      "name": "python3",
      "display_name": "Python 3"
    }
  },
  "cells": [
    {
      "cell_type": "markdown",
      "metadata": {
        "id": "view-in-github",
        "colab_type": "text"
      },
      "source": [
        "<a href=\"https://colab.research.google.com/github/DmitryKutsev/DeepHW/blob/master/my_hw3.ipynb\" target=\"_parent\"><img src=\"https://colab.research.google.com/assets/colab-badge.svg\" alt=\"Open In Colab\"/></a>"
      ]
    },
    {
      "cell_type": "code",
      "metadata": {
        "id": "cRpKt9HQ_Cxm",
        "outputId": "7b5287b4-ed0f-41d1-aa8d-44397c2fd85f",
        "colab": {
          "base_uri": "https://localhost:8080/"
        }
      },
      "source": [
        "!pip install youtokentome"
      ],
      "execution_count": 5,
      "outputs": [
        {
          "output_type": "stream",
          "text": [
            "Requirement already satisfied: youtokentome in /usr/local/lib/python3.6/dist-packages (1.0.6)\n",
            "Requirement already satisfied: Click>=7.0 in /usr/local/lib/python3.6/dist-packages (from youtokentome) (7.1.2)\n"
          ],
          "name": "stdout"
        }
      ]
    },
    {
      "cell_type": "code",
      "metadata": {
        "id": "572tpApQ_XZR"
      },
      "source": [
        "import math\n",
        "import numpy as np\n",
        "import pandas as pd\n",
        "import json\n",
        "import random\n",
        "import json\n",
        "import torch\n",
        "from torch.utils.data import Dataset, DataLoader\n",
        "\n",
        "from tqdm import tqdm\n",
        "\n",
        "from matplotlib import pyplot as plt\n",
        "\n",
        "import youtokentome as yttm"
      ],
      "execution_count": 11,
      "outputs": []
    },
    {
      "cell_type": "code",
      "metadata": {
        "id": "wCZuiIVa_bLu"
      },
      "source": [
        "device = torch.device('cuda:0')"
      ],
      "execution_count": 6,
      "outputs": []
    },
    {
      "cell_type": "code",
      "metadata": {
        "id": "tA0HPUBq_eVc",
        "outputId": "16eb114a-5b66-4a39-fe47-ef2eff6d6dab",
        "colab": {
          "base_uri": "https://localhost:8080/"
        }
      },
      "source": [
        "\n",
        "from google.colab import drive\n",
        "drive.mount('/content/drive', force_remount=True)"
      ],
      "execution_count": 15,
      "outputs": [
        {
          "output_type": "stream",
          "text": [
            "Mounted at /content/drive\n"
          ],
          "name": "stdout"
        }
      ]
    },
    {
      "cell_type": "code",
      "metadata": {
        "id": "H3ly4yuT_nQU",
        "outputId": "1ee08333-1b93-4489-f9be-192890cee11b",
        "colab": {
          "base_uri": "https://localhost:8080/"
        }
      },
      "source": [
        "!unzip '/content/drive/My Drive/unsupervised.csv.zip' "
      ],
      "execution_count": 17,
      "outputs": [
        {
          "output_type": "stream",
          "text": [
            "Archive:  /content/drive/My Drive/unsupervised.csv.zip\n",
            "caution: filename not matched:  /content/drive/qa_data.jsonl.zip\n"
          ],
          "name": "stdout"
        }
      ]
    },
    {
      "cell_type": "code",
      "metadata": {
        "id": "IS8amS4NFQZx",
        "outputId": "e7585131-92f5-4bc6-c7d3-a9d22273f4c5",
        "colab": {
          "base_uri": "https://localhost:8080/"
        }
      },
      "source": [
        "!unzip '/content/drive/My Drive/qa_data.jsonl.zip'"
      ],
      "execution_count": 19,
      "outputs": [
        {
          "output_type": "stream",
          "text": [
            "Archive:  /content/drive/My Drive/qa_data.jsonl.zip\n",
            "  inflating: qa_data.jsonl           \n",
            "  inflating: __MACOSX/._qa_data.jsonl  \n"
          ],
          "name": "stdout"
        }
      ]
    },
    {
      "cell_type": "code",
      "metadata": {
        "id": "vCeNvtFZHPQu"
      },
      "source": [
        "# чтобы прочитать весь файл\n",
        "\n",
        "qa_data = list()\n",
        "\n",
        "with open('qa_data.jsonl') as file_object:\n",
        "    for line in file_object:\n",
        "        qa_data.append(json.loads(line.strip()))\n",
        "file_object.close()"
      ],
      "execution_count": 8,
      "outputs": []
    },
    {
      "cell_type": "code",
      "metadata": {
        "id": "6bvIHaEMGQeY",
        "outputId": "1a8bb36c-7161-405c-d1b4-f7e8c675388a",
        "colab": {
          "base_uri": "https://localhost:8080/"
        }
      },
      "source": [
        "qa_data[:3]"
      ],
      "execution_count": 9,
      "outputs": [
        {
          "output_type": "execute_result",
          "data": {
            "text/plain": [
              "[{'category': 'Бизнес, Финансы',\n",
              "  'question': 'долго ли идут деньги с яндексденег на карту visa?',\n",
              "  'responses': ['нет. прорыв 35 ;)']},\n",
              " {'category': 'Авто, Мото',\n",
              "  'question': 'можно ли зарегистрировать авто в другом регионе',\n",
              "  'responses': ['можно на родственника из того региона.. .  а потом ездить по доверке']},\n",
              " {'category': 'Красота и Здоровье',\n",
              "  'question': 'что делать если у меня очень тонкие ногти а хочется их отрастить?',\n",
              "  'responses': ['витамины и умная эмаль (каждый день)',\n",
              "   'ванночки с морской солью. с вечера мажь ногти сверху йодом. не бойся, до утра все впитается.',\n",
              "   'умная эмаль, витамины, йод, и поменьше крась лаком ',\n",
              "   'лаки фирмы trind производство usa + кальций']}]"
            ]
          },
          "metadata": {
            "tags": []
          },
          "execution_count": 9
        }
      ]
    },
    {
      "cell_type": "code",
      "metadata": {
        "id": "GI7dMWOlFijS",
        "outputId": "8314d80f-c4e4-4c05-f390-852afde232bf",
        "colab": {
          "base_uri": "https://localhost:8080/",
          "height": 407
        }
      },
      "source": [
        "my_df = pd.DataFrame(qa_data)\n",
        "my_df"
      ],
      "execution_count": 19,
      "outputs": [
        {
          "output_type": "execute_result",
          "data": {
            "text/html": [
              "<div>\n",
              "<style scoped>\n",
              "    .dataframe tbody tr th:only-of-type {\n",
              "        vertical-align: middle;\n",
              "    }\n",
              "\n",
              "    .dataframe tbody tr th {\n",
              "        vertical-align: top;\n",
              "    }\n",
              "\n",
              "    .dataframe thead th {\n",
              "        text-align: right;\n",
              "    }\n",
              "</style>\n",
              "<table border=\"1\" class=\"dataframe\">\n",
              "  <thead>\n",
              "    <tr style=\"text-align: right;\">\n",
              "      <th></th>\n",
              "      <th>question</th>\n",
              "      <th>category</th>\n",
              "      <th>responses</th>\n",
              "    </tr>\n",
              "  </thead>\n",
              "  <tbody>\n",
              "    <tr>\n",
              "      <th>0</th>\n",
              "      <td>долго ли идут деньги с яндексденег на карту visa?</td>\n",
              "      <td>Бизнес, Финансы</td>\n",
              "      <td>[нет. прорыв 35 ;)]</td>\n",
              "    </tr>\n",
              "    <tr>\n",
              "      <th>1</th>\n",
              "      <td>можно ли зарегистрировать авто в другом регионе</td>\n",
              "      <td>Авто, Мото</td>\n",
              "      <td>[можно на родственника из того региона.. .  а ...</td>\n",
              "    </tr>\n",
              "    <tr>\n",
              "      <th>2</th>\n",
              "      <td>что делать если у меня очень тонкие ногти а хо...</td>\n",
              "      <td>Красота и Здоровье</td>\n",
              "      <td>[витамины и умная эмаль (каждый день), ванночк...</td>\n",
              "    </tr>\n",
              "    <tr>\n",
              "      <th>3</th>\n",
              "      <td>в чем отличие медитации от йоги?</td>\n",
              "      <td>Спорт</td>\n",
              "      <td>[букв в йоге меньше, в медитации ты просто сид...</td>\n",
              "    </tr>\n",
              "    <tr>\n",
              "      <th>4</th>\n",
              "      <td>когда начнут линейку фильмов про лигу чемпионов?</td>\n",
              "      <td>Спорт</td>\n",
              "      <td>[а не фильм? жалко... а я то думал - хорошая к...</td>\n",
              "    </tr>\n",
              "    <tr>\n",
              "      <th>...</th>\n",
              "      <td>...</td>\n",
              "      <td>...</td>\n",
              "      <td>...</td>\n",
              "    </tr>\n",
              "    <tr>\n",
              "      <th>2808806</th>\n",
              "      <td>какой у вас обхват запястья в сантиметрах? в о...</td>\n",
              "      <td>Красота и Здоровье</td>\n",
              "      <td>[19 см м 92 20 лет]</td>\n",
              "    </tr>\n",
              "    <tr>\n",
              "      <th>2808807</th>\n",
              "      <td>завидуете ли вы удачам и достижениям знакомых ...</td>\n",
              "      <td>Знакомства, Любовь, Отношения</td>\n",
              "      <td>[я очень рада за них., нет никогда! в основном...</td>\n",
              "    </tr>\n",
              "    <tr>\n",
              "      <th>2808808</th>\n",
              "      <td>есть ли такая машина land rover range rover sp...</td>\n",
              "      <td>Авто, Мото</td>\n",
              "      <td>[это две разные машины.]</td>\n",
              "    </tr>\n",
              "    <tr>\n",
              "      <th>2808809</th>\n",
              "      <td>во что инвестировать, с чем работать, идеи?</td>\n",
              "      <td>Бизнес, Финансы</td>\n",
              "      <td>[вешенки можно выращивать на пнях. нормальная ...</td>\n",
              "    </tr>\n",
              "    <tr>\n",
              "      <th>2808810</th>\n",
              "      <td>какой вам начальник больше подойдёт?глупый - н...</td>\n",
              "      <td>Работа, Карьера</td>\n",
              "      <td>[лучше с умным потерять, чем с дураком найти. ...</td>\n",
              "    </tr>\n",
              "  </tbody>\n",
              "</table>\n",
              "<p>2808811 rows × 3 columns</p>\n",
              "</div>"
            ],
            "text/plain": [
              "                                                  question  ...                                          responses\n",
              "0        долго ли идут деньги с яндексденег на карту visa?  ...                                [нет. прорыв 35 ;)]\n",
              "1          можно ли зарегистрировать авто в другом регионе  ...  [можно на родственника из того региона.. .  а ...\n",
              "2        что делать если у меня очень тонкие ногти а хо...  ...  [витамины и умная эмаль (каждый день), ванночк...\n",
              "3                         в чем отличие медитации от йоги?  ...  [букв в йоге меньше, в медитации ты просто сид...\n",
              "4         когда начнут линейку фильмов про лигу чемпионов?  ...  [а не фильм? жалко... а я то думал - хорошая к...\n",
              "...                                                    ...  ...                                                ...\n",
              "2808806  какой у вас обхват запястья в сантиметрах? в о...  ...                                [19 см м 92 20 лет]\n",
              "2808807  завидуете ли вы удачам и достижениям знакомых ...  ...  [я очень рада за них., нет никогда! в основном...\n",
              "2808808  есть ли такая машина land rover range rover sp...  ...                           [это две разные машины.]\n",
              "2808809        во что инвестировать, с чем работать, идеи?  ...  [вешенки можно выращивать на пнях. нормальная ...\n",
              "2808810  какой вам начальник больше подойдёт?глупый - н...  ...  [лучше с умным потерять, чем с дураком найти. ...\n",
              "\n",
              "[2808811 rows x 3 columns]"
            ]
          },
          "metadata": {
            "tags": []
          },
          "execution_count": 19
        }
      ]
    },
    {
      "cell_type": "code",
      "metadata": {
        "id": "eJu0jQu2NDIV"
      },
      "source": [
        "with open('for_bpe.txt', 'w', encoding='utf-8') as f:\n",
        "    for que in my_df['question']:\n",
        "        f.write(que + '\\n')\n",
        "f.close()\n",
        "\n",
        "vocab_size = 30_000\n",
        "model_path = 'pretrained_bpe_lm.model'"
      ],
      "execution_count": 21,
      "outputs": []
    },
    {
      "cell_type": "code",
      "metadata": {
        "id": "GtHIJd3U_yz2",
        "outputId": "e36e092f-9efd-46f2-ca65-7fa9da915ab8",
        "colab": {
          "base_uri": "https://localhost:8080/"
        }
      },
      "source": [
        "%%time\n",
        "# обучаем\n",
        "# раскомментируйте этот код, чтобы обучить bpe\n",
        "yttm.BPE.train(data='for_bpe.txt', vocab_size=vocab_size, model=model_path)"
      ],
      "execution_count": 22,
      "outputs": [
        {
          "output_type": "stream",
          "text": [
            "CPU times: user 22.7 s, sys: 2.01 s, total: 24.7 s\n",
            "Wall time: 14.7 s\n"
          ],
          "name": "stdout"
        },
        {
          "output_type": "execute_result",
          "data": {
            "text/plain": [
              "<youtokentome.youtokentome.BPE at 0x7fadde320fd0>"
            ]
          },
          "metadata": {
            "tags": []
          },
          "execution_count": 22
        }
      ]
    },
    {
      "cell_type": "code",
      "metadata": {
        "id": "XBrHi-PQNyH5"
      },
      "source": [
        "tokenizer = yttm.BPE(model=model_path)"
      ],
      "execution_count": 23,
      "outputs": []
    },
    {
      "cell_type": "code",
      "metadata": {
        "id": "WHfh54km_1ZT"
      },
      "source": [
        "SEED = 1234\n",
        "random.seed(SEED)\n",
        "torch.manual_seed(SEED)\n",
        "torch.backends.cudnn.deterministic = True"
      ],
      "execution_count": 7,
      "outputs": []
    },
    {
      "cell_type": "code",
      "metadata": {
        "id": "9KM5hO1cA3_M",
        "outputId": "df5019db-e90b-4b51-9d96-322b48d69256",
        "colab": {
          "base_uri": "https://localhost:8080/",
          "height": 407
        }
      },
      "source": [
        "questions"
      ],
      "execution_count": 10,
      "outputs": [
        {
          "output_type": "execute_result",
          "data": {
            "text/html": [
              "<div>\n",
              "<style scoped>\n",
              "    .dataframe tbody tr th:only-of-type {\n",
              "        vertical-align: middle;\n",
              "    }\n",
              "\n",
              "    .dataframe tbody tr th {\n",
              "        vertical-align: top;\n",
              "    }\n",
              "\n",
              "    .dataframe thead th {\n",
              "        text-align: right;\n",
              "    }\n",
              "</style>\n",
              "<table border=\"1\" class=\"dataframe\">\n",
              "  <thead>\n",
              "    <tr style=\"text-align: right;\">\n",
              "      <th></th>\n",
              "      <th>question</th>\n",
              "    </tr>\n",
              "  </thead>\n",
              "  <tbody>\n",
              "    <tr>\n",
              "      <th>0</th>\n",
              "      <td>положено ли пособие опекаемому ребенку, обучаю...</td>\n",
              "    </tr>\n",
              "    <tr>\n",
              "      <th>1</th>\n",
              "      <td>где скачать прогу для записи видео онлайн. зар...</td>\n",
              "    </tr>\n",
              "    <tr>\n",
              "      <th>2</th>\n",
              "      <td>физика амперы метрология помогите</td>\n",
              "    </tr>\n",
              "    <tr>\n",
              "      <th>3</th>\n",
              "      <td>имеет ли многодетная семья \"скидку\" на услуги ...</td>\n",
              "    </tr>\n",
              "    <tr>\n",
              "      <th>4</th>\n",
              "      <td>пенсия по инвалидности и старости...</td>\n",
              "    </tr>\n",
              "    <tr>\n",
              "      <th>...</th>\n",
              "      <td>...</td>\n",
              "    </tr>\n",
              "    <tr>\n",
              "      <th>2535438</th>\n",
              "      <td>подскажите серию мультфильма - кураж трусливый...</td>\n",
              "    </tr>\n",
              "    <tr>\n",
              "      <th>2535439</th>\n",
              "      <td>что делать если без опыта берут только на рабс...</td>\n",
              "    </tr>\n",
              "    <tr>\n",
              "      <th>2535440</th>\n",
              "      <td>как определить жанр книги?</td>\n",
              "    </tr>\n",
              "    <tr>\n",
              "      <th>2535441</th>\n",
              "      <td>шрифт see regular что-то имитирует? или просто...</td>\n",
              "    </tr>\n",
              "    <tr>\n",
              "      <th>2535442</th>\n",
              "      <td>кто сталкивался с nikon d40 неполадки пишет по...</td>\n",
              "    </tr>\n",
              "  </tbody>\n",
              "</table>\n",
              "<p>2535443 rows × 1 columns</p>\n",
              "</div>"
            ],
            "text/plain": [
              "                                                  question\n",
              "0        положено ли пособие опекаемому ребенку, обучаю...\n",
              "1        где скачать прогу для записи видео онлайн. зар...\n",
              "2                        физика амперы метрология помогите\n",
              "3        имеет ли многодетная семья \"скидку\" на услуги ...\n",
              "4                     пенсия по инвалидности и старости...\n",
              "...                                                    ...\n",
              "2535438  подскажите серию мультфильма - кураж трусливый...\n",
              "2535439  что делать если без опыта берут только на рабс...\n",
              "2535440                         как определить жанр книги?\n",
              "2535441  шрифт see regular что-то имитирует? или просто...\n",
              "2535442  кто сталкивался с nikon d40 неполадки пишет по...\n",
              "\n",
              "[2535443 rows x 1 columns]"
            ]
          },
          "metadata": {
            "tags": []
          },
          "execution_count": 10
        }
      ]
    },
    {
      "cell_type": "code",
      "metadata": {
        "id": "i70iHSLVBDeC"
      },
      "source": [
        ""
      ],
      "execution_count": null,
      "outputs": []
    }
  ]
}